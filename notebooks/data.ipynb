{
 "cells": [
  {
   "cell_type": "code",
   "execution_count": 1,
   "id": "46c19615-1640-423b-9d35-b4756345cb33",
   "metadata": {},
   "outputs": [],
   "source": [
    "import os"
   ]
  },
  {
   "cell_type": "markdown",
   "id": "0fdb1a12-b7de-46dc-b1ae-3931ba692159",
   "metadata": {},
   "source": [
    "# Soccerdata"
   ]
  },
  {
   "cell_type": "code",
   "execution_count": 2,
   "id": "c4b49616-3da5-4999-8445-fed731a4c952",
   "metadata": {},
   "outputs": [],
   "source": [
    "os.environ[\"SOCCERDATA_DIR\"] = \"../soccerdata\""
   ]
  },
  {
   "cell_type": "code",
   "execution_count": 3,
   "id": "043bbdb8",
   "metadata": {},
   "outputs": [
    {
     "data": {
      "text/html": [
       "<pre style=\"white-space:pre;overflow-x:auto;line-height:normal;font-family:Menlo,'DejaVu Sans Mono',consolas,'Courier New',monospace\"><span style=\"color: #7fbfbf; text-decoration-color: #7fbfbf\">[01/04/24 19:09:11] </span><span style=\"color: #000080; text-decoration-color: #000080\">INFO    </span> No custom team name replacements found. You can configure these in       <a href=\"file:///Users/okariuk/Shakhtar-Donetsk/.venv/lib/python3.11/site-packages/soccerdata/_config.py\" target=\"_blank\"><span style=\"color: #7f7f7f; text-decoration-color: #7f7f7f\">_config.py</span></a><span style=\"color: #7f7f7f; text-decoration-color: #7f7f7f\">:</span><a href=\"file:///Users/okariuk/Shakhtar-Donetsk/.venv/lib/python3.11/site-packages/soccerdata/_config.py#87\" target=\"_blank\"><span style=\"color: #7f7f7f; text-decoration-color: #7f7f7f\">87</span></a>\n",
       "<span style=\"color: #7fbfbf; text-decoration-color: #7fbfbf\">                    </span>         ..<span style=\"color: #800080; text-decoration-color: #800080\">/soccerdata/config/</span><span style=\"color: #ff00ff; text-decoration-color: #ff00ff\">teamname_replacements.json.</span>                         <span style=\"color: #7f7f7f; text-decoration-color: #7f7f7f\">             </span>\n",
       "</pre>\n"
      ],
      "text/plain": [
       "\u001b[2;36m[01/04/24 19:09:11]\u001b[0m\u001b[2;36m \u001b[0m\u001b[34mINFO    \u001b[0m No custom team name replacements found. You can configure these in       \u001b]8;id=937562;file:///Users/okariuk/Shakhtar-Donetsk/.venv/lib/python3.11/site-packages/soccerdata/_config.py\u001b\\\u001b[2m_config.py\u001b[0m\u001b]8;;\u001b\\\u001b[2m:\u001b[0m\u001b]8;id=32388;file:///Users/okariuk/Shakhtar-Donetsk/.venv/lib/python3.11/site-packages/soccerdata/_config.py#87\u001b\\\u001b[2m87\u001b[0m\u001b]8;;\u001b\\\n",
       "\u001b[2;36m                    \u001b[0m         ..\u001b[35m/soccerdata/config/\u001b[0m\u001b[95mteamname_replacements.json.\u001b[0m                         \u001b[2m             \u001b[0m\n"
      ]
     },
     "metadata": {},
     "output_type": "display_data"
    },
    {
     "data": {
      "text/html": [
       "<pre style=\"white-space:pre;overflow-x:auto;line-height:normal;font-family:Menlo,'DejaVu Sans Mono',consolas,'Courier New',monospace\"><span style=\"color: #7fbfbf; text-decoration-color: #7fbfbf\">                    </span><span style=\"color: #000080; text-decoration-color: #000080\">INFO    </span> Custom league dict loaded from ..<span style=\"color: #800080; text-decoration-color: #800080\">/soccerdata/config/</span><span style=\"color: #ff00ff; text-decoration-color: #ff00ff\">league_dict.json.</span>   <a href=\"file:///Users/okariuk/Shakhtar-Donetsk/.venv/lib/python3.11/site-packages/soccerdata/_config.py\" target=\"_blank\"><span style=\"color: #7f7f7f; text-decoration-color: #7f7f7f\">_config.py</span></a><span style=\"color: #7f7f7f; text-decoration-color: #7f7f7f\">:</span><a href=\"file:///Users/okariuk/Shakhtar-Donetsk/.venv/lib/python3.11/site-packages/soccerdata/_config.py#163\" target=\"_blank\"><span style=\"color: #7f7f7f; text-decoration-color: #7f7f7f\">163</span></a>\n",
       "</pre>\n"
      ],
      "text/plain": [
       "\u001b[2;36m                   \u001b[0m\u001b[2;36m \u001b[0m\u001b[34mINFO    \u001b[0m Custom league dict loaded from ..\u001b[35m/soccerdata/config/\u001b[0m\u001b[95mleague_dict.json.\u001b[0m   \u001b]8;id=240585;file:///Users/okariuk/Shakhtar-Donetsk/.venv/lib/python3.11/site-packages/soccerdata/_config.py\u001b\\\u001b[2m_config.py\u001b[0m\u001b]8;;\u001b\\\u001b[2m:\u001b[0m\u001b]8;id=933892;file:///Users/okariuk/Shakhtar-Donetsk/.venv/lib/python3.11/site-packages/soccerdata/_config.py#163\u001b\\\u001b[2m163\u001b[0m\u001b]8;;\u001b\\\n"
      ]
     },
     "metadata": {},
     "output_type": "display_data"
    }
   ],
   "source": [
    "import soccerdata as sd"
   ]
  },
  {
   "cell_type": "markdown",
   "id": "8b8104a1-b35c-4b1c-b691-0df71925e253",
   "metadata": {},
   "source": [
    "### FBref (https://github.com/probberechts/soccerdata/blob/master/soccerdata/fbref.py)"
   ]
  },
  {
   "cell_type": "code",
   "execution_count": 7,
   "id": "bc90986c-1259-424c-90be-18c78a7d50ef",
   "metadata": {},
   "outputs": [
    {
     "data": {
      "text/html": [
       "<pre style=\"white-space:pre;overflow-x:auto;line-height:normal;font-family:Menlo,'DejaVu Sans Mono',consolas,'Courier New',monospace\"><span style=\"color: #7fbfbf; text-decoration-color: #7fbfbf\">[01/04/24 19:11:20] </span><span style=\"color: #000080; text-decoration-color: #000080\">INFO    </span> Saving cached data to ..<span style=\"color: #800080; text-decoration-color: #800080\">/soccerdata/data/</span><span style=\"color: #ff00ff; text-decoration-color: #ff00ff\">FBref</span>                           <a href=\"file:///Users/okariuk/Shakhtar-Donetsk/.venv/lib/python3.11/site-packages/soccerdata/_common.py\" target=\"_blank\"><span style=\"color: #7f7f7f; text-decoration-color: #7f7f7f\">_common.py</span></a><span style=\"color: #7f7f7f; text-decoration-color: #7f7f7f\">:</span><a href=\"file:///Users/okariuk/Shakhtar-Donetsk/.venv/lib/python3.11/site-packages/soccerdata/_common.py#91\" target=\"_blank\"><span style=\"color: #7f7f7f; text-decoration-color: #7f7f7f\">91</span></a>\n",
       "</pre>\n"
      ],
      "text/plain": [
       "\u001b[2;36m[01/04/24 19:11:20]\u001b[0m\u001b[2;36m \u001b[0m\u001b[34mINFO    \u001b[0m Saving cached data to ..\u001b[35m/soccerdata/data/\u001b[0m\u001b[95mFBref\u001b[0m                           \u001b]8;id=963267;file:///Users/okariuk/Shakhtar-Donetsk/.venv/lib/python3.11/site-packages/soccerdata/_common.py\u001b\\\u001b[2m_common.py\u001b[0m\u001b]8;;\u001b\\\u001b[2m:\u001b[0m\u001b]8;id=345485;file:///Users/okariuk/Shakhtar-Donetsk/.venv/lib/python3.11/site-packages/soccerdata/_common.py#91\u001b\\\u001b[2m91\u001b[0m\u001b]8;;\u001b\\\n"
      ]
     },
     "metadata": {},
     "output_type": "display_data"
    },
    {
     "data": {
      "text/html": [
       "<pre style=\"white-space:pre;overflow-x:auto;line-height:normal;font-family:Menlo,'DejaVu Sans Mono',consolas,'Courier New',monospace\"><span style=\"color: #7fbfbf; text-decoration-color: #7fbfbf\">                    </span><span style=\"color: #000080; text-decoration-color: #000080\">INFO    </span> No seasons provided. Will retrieve data for the last <span style=\"color: #008080; text-decoration-color: #008080; font-weight: bold\">5</span> seasons.         <a href=\"file:///Users/okariuk/Shakhtar-Donetsk/.venv/lib/python3.11/site-packages/soccerdata/_common.py\" target=\"_blank\"><span style=\"color: #7f7f7f; text-decoration-color: #7f7f7f\">_common.py</span></a><span style=\"color: #7f7f7f; text-decoration-color: #7f7f7f\">:</span><a href=\"file:///Users/okariuk/Shakhtar-Donetsk/.venv/lib/python3.11/site-packages/soccerdata/_common.py#290\" target=\"_blank\"><span style=\"color: #7f7f7f; text-decoration-color: #7f7f7f\">290</span></a>\n",
       "</pre>\n"
      ],
      "text/plain": [
       "\u001b[2;36m                   \u001b[0m\u001b[2;36m \u001b[0m\u001b[34mINFO    \u001b[0m No seasons provided. Will retrieve data for the last \u001b[1;36m5\u001b[0m seasons.         \u001b]8;id=883498;file:///Users/okariuk/Shakhtar-Donetsk/.venv/lib/python3.11/site-packages/soccerdata/_common.py\u001b\\\u001b[2m_common.py\u001b[0m\u001b]8;;\u001b\\\u001b[2m:\u001b[0m\u001b]8;id=532890;file:///Users/okariuk/Shakhtar-Donetsk/.venv/lib/python3.11/site-packages/soccerdata/_common.py#290\u001b\\\u001b[2m290\u001b[0m\u001b]8;;\u001b\\\n"
      ]
     },
     "metadata": {},
     "output_type": "display_data"
    },
    {
     "data": {
      "text/html": [
       "<div>\n",
       "<style scoped>\n",
       "    .dataframe tbody tr th:only-of-type {\n",
       "        vertical-align: middle;\n",
       "    }\n",
       "\n",
       "    .dataframe tbody tr th {\n",
       "        vertical-align: top;\n",
       "    }\n",
       "\n",
       "    .dataframe thead th {\n",
       "        text-align: right;\n",
       "    }\n",
       "</style>\n",
       "<table border=\"1\" class=\"dataframe\">\n",
       "  <thead>\n",
       "    <tr style=\"text-align: right;\">\n",
       "      <th></th>\n",
       "      <th>gender</th>\n",
       "      <th>governing_body</th>\n",
       "      <th>first_season</th>\n",
       "      <th>last_season</th>\n",
       "      <th>tier</th>\n",
       "      <th>url</th>\n",
       "      <th>country</th>\n",
       "    </tr>\n",
       "    <tr>\n",
       "      <th>league</th>\n",
       "      <th></th>\n",
       "      <th></th>\n",
       "      <th></th>\n",
       "      <th></th>\n",
       "      <th></th>\n",
       "      <th></th>\n",
       "      <th></th>\n",
       "    </tr>\n",
       "  </thead>\n",
       "  <tbody>\n",
       "    <tr>\n",
       "      <th>Big 5 European Leagues Combined</th>\n",
       "      <td>M</td>\n",
       "      <td>&lt;NA&gt;</td>\n",
       "      <td>9596</td>\n",
       "      <td>2324</td>\n",
       "      <td>1st</td>\n",
       "      <td>/en/comps/Big5/history/Big-5-European-Leagues-...</td>\n",
       "      <td>&lt;NA&gt;</td>\n",
       "    </tr>\n",
       "    <tr>\n",
       "      <th>ENG-Premier League</th>\n",
       "      <td>M</td>\n",
       "      <td>&lt;NA&gt;</td>\n",
       "      <td>8889</td>\n",
       "      <td>2324</td>\n",
       "      <td>1st</td>\n",
       "      <td>/en/comps/9/history/Premier-League-Seasons</td>\n",
       "      <td>ENG</td>\n",
       "    </tr>\n",
       "    <tr>\n",
       "      <th>ESP-La Liga</th>\n",
       "      <td>M</td>\n",
       "      <td>&lt;NA&gt;</td>\n",
       "      <td>8889</td>\n",
       "      <td>2324</td>\n",
       "      <td>1st</td>\n",
       "      <td>/en/comps/12/history/La-Liga-Seasons</td>\n",
       "      <td>ESP</td>\n",
       "    </tr>\n",
       "    <tr>\n",
       "      <th>FRA-Ligue 1</th>\n",
       "      <td>M</td>\n",
       "      <td>&lt;NA&gt;</td>\n",
       "      <td>9596</td>\n",
       "      <td>2324</td>\n",
       "      <td>1st</td>\n",
       "      <td>/en/comps/13/history/Ligue-1-Seasons</td>\n",
       "      <td>FRA</td>\n",
       "    </tr>\n",
       "    <tr>\n",
       "      <th>GER-Bundesliga</th>\n",
       "      <td>M</td>\n",
       "      <td>&lt;NA&gt;</td>\n",
       "      <td>8889</td>\n",
       "      <td>2324</td>\n",
       "      <td>1st</td>\n",
       "      <td>/en/comps/20/history/Bundesliga-Seasons</td>\n",
       "      <td>GER</td>\n",
       "    </tr>\n",
       "    <tr>\n",
       "      <th>INT-Women's World Cup</th>\n",
       "      <td>F</td>\n",
       "      <td>FIFA</td>\n",
       "      <td>9192</td>\n",
       "      <td>2324</td>\n",
       "      <td>1st</td>\n",
       "      <td>/en/comps/106/history/Womens-World-Cup-Seasons</td>\n",
       "      <td>&lt;NA&gt;</td>\n",
       "    </tr>\n",
       "    <tr>\n",
       "      <th>INT-World Cup</th>\n",
       "      <td>M</td>\n",
       "      <td>FIFA</td>\n",
       "      <td>3031</td>\n",
       "      <td>2223</td>\n",
       "      <td>1st</td>\n",
       "      <td>/en/comps/1/history/World-Cup-Seasons</td>\n",
       "      <td>&lt;NA&gt;</td>\n",
       "    </tr>\n",
       "    <tr>\n",
       "      <th>ITA-Serie A</th>\n",
       "      <td>M</td>\n",
       "      <td>&lt;NA&gt;</td>\n",
       "      <td>8889</td>\n",
       "      <td>2324</td>\n",
       "      <td>1st</td>\n",
       "      <td>/en/comps/11/history/Serie-A-Seasons</td>\n",
       "      <td>ITA</td>\n",
       "    </tr>\n",
       "    <tr>\n",
       "      <th>UEFA Champions League</th>\n",
       "      <td>M</td>\n",
       "      <td>UEFA</td>\n",
       "      <td>9091</td>\n",
       "      <td>2324</td>\n",
       "      <td>1st</td>\n",
       "      <td>/en/comps/8/history/Champions-League-Seasons</td>\n",
       "      <td>&lt;NA&gt;</td>\n",
       "    </tr>\n",
       "  </tbody>\n",
       "</table>\n",
       "</div>"
      ],
      "text/plain": [
       "                                gender governing_body first_season  \\\n",
       "league                                                               \n",
       "Big 5 European Leagues Combined      M           <NA>         9596   \n",
       "ENG-Premier League                   M           <NA>         8889   \n",
       "ESP-La Liga                          M           <NA>         8889   \n",
       "FRA-Ligue 1                          M           <NA>         9596   \n",
       "GER-Bundesliga                       M           <NA>         8889   \n",
       "INT-Women's World Cup                F           FIFA         9192   \n",
       "INT-World Cup                        M           FIFA         3031   \n",
       "ITA-Serie A                          M           <NA>         8889   \n",
       "UEFA Champions League                M           UEFA         9091   \n",
       "\n",
       "                                last_season tier  \\\n",
       "league                                             \n",
       "Big 5 European Leagues Combined        2324  1st   \n",
       "ENG-Premier League                     2324  1st   \n",
       "ESP-La Liga                            2324  1st   \n",
       "FRA-Ligue 1                            2324  1st   \n",
       "GER-Bundesliga                         2324  1st   \n",
       "INT-Women's World Cup                  2324  1st   \n",
       "INT-World Cup                          2223  1st   \n",
       "ITA-Serie A                            2324  1st   \n",
       "UEFA Champions League                  2324  1st   \n",
       "\n",
       "                                                                               url  \\\n",
       "league                                                                               \n",
       "Big 5 European Leagues Combined  /en/comps/Big5/history/Big-5-European-Leagues-...   \n",
       "ENG-Premier League                      /en/comps/9/history/Premier-League-Seasons   \n",
       "ESP-La Liga                                   /en/comps/12/history/La-Liga-Seasons   \n",
       "FRA-Ligue 1                                   /en/comps/13/history/Ligue-1-Seasons   \n",
       "GER-Bundesliga                             /en/comps/20/history/Bundesliga-Seasons   \n",
       "INT-Women's World Cup               /en/comps/106/history/Womens-World-Cup-Seasons   \n",
       "INT-World Cup                                /en/comps/1/history/World-Cup-Seasons   \n",
       "ITA-Serie A                                   /en/comps/11/history/Serie-A-Seasons   \n",
       "UEFA Champions League                 /en/comps/8/history/Champions-League-Seasons   \n",
       "\n",
       "                                country  \n",
       "league                                   \n",
       "Big 5 European Leagues Combined    <NA>  \n",
       "ENG-Premier League                  ENG  \n",
       "ESP-La Liga                         ESP  \n",
       "FRA-Ligue 1                         FRA  \n",
       "GER-Bundesliga                      GER  \n",
       "INT-Women's World Cup              <NA>  \n",
       "INT-World Cup                      <NA>  \n",
       "ITA-Serie A                         ITA  \n",
       "UEFA Champions League              <NA>  "
      ]
     },
     "execution_count": 7,
     "metadata": {},
     "output_type": "execute_result"
    }
   ],
   "source": [
    "sd.FBref().read_leagues()"
   ]
  },
  {
   "cell_type": "markdown",
   "id": "885f964c-3e78-47e9-8216-a1fed8dc51b9",
   "metadata": {},
   "source": [
    "### ESPN (https://github.com/probberechts/soccerdata/blob/master/soccerdata/espn.py)"
   ]
  },
  {
   "cell_type": "code",
   "execution_count": null,
   "id": "f25d2481-0f5a-475e-ab31-e16d97240dd1",
   "metadata": {},
   "outputs": [
    {
     "data": {
      "text/html": [
       "<pre style=\"white-space:pre;overflow-x:auto;line-height:normal;font-family:Menlo,'DejaVu Sans Mono',consolas,'Courier New',monospace\"><span style=\"color: #7fbfbf; text-decoration-color: #7fbfbf\">[01/04/24 19:14:22] </span><span style=\"color: #000080; text-decoration-color: #000080\">INFO    </span> Saving cached data to ..<span style=\"color: #800080; text-decoration-color: #800080\">/soccerdata/data/</span><span style=\"color: #ff00ff; text-decoration-color: #ff00ff\">ESPN</span>                            <a href=\"file:///Users/okariuk/Shakhtar-Donetsk/.venv/lib/python3.11/site-packages/soccerdata/_common.py\" target=\"_blank\"><span style=\"color: #7f7f7f; text-decoration-color: #7f7f7f\">_common.py</span></a><span style=\"color: #7f7f7f; text-decoration-color: #7f7f7f\">:</span><a href=\"file:///Users/okariuk/Shakhtar-Donetsk/.venv/lib/python3.11/site-packages/soccerdata/_common.py#91\" target=\"_blank\"><span style=\"color: #7f7f7f; text-decoration-color: #7f7f7f\">91</span></a>\n",
       "</pre>\n"
      ],
      "text/plain": [
       "\u001b[2;36m[01/04/24 19:14:22]\u001b[0m\u001b[2;36m \u001b[0m\u001b[34mINFO    \u001b[0m Saving cached data to ..\u001b[35m/soccerdata/data/\u001b[0m\u001b[95mESPN\u001b[0m                            \u001b]8;id=431120;file:///Users/okariuk/Shakhtar-Donetsk/.venv/lib/python3.11/site-packages/soccerdata/_common.py\u001b\\\u001b[2m_common.py\u001b[0m\u001b]8;;\u001b\\\u001b[2m:\u001b[0m\u001b]8;id=918094;file:///Users/okariuk/Shakhtar-Donetsk/.venv/lib/python3.11/site-packages/soccerdata/_common.py#91\u001b\\\u001b[2m91\u001b[0m\u001b]8;;\u001b\\\n"
      ]
     },
     "metadata": {},
     "output_type": "display_data"
    },
    {
     "data": {
      "text/html": [
       "<pre style=\"white-space:pre;overflow-x:auto;line-height:normal;font-family:Menlo,'DejaVu Sans Mono',consolas,'Courier New',monospace\"><span style=\"color: #7fbfbf; text-decoration-color: #7fbfbf\">                    </span><span style=\"color: #000080; text-decoration-color: #000080\">INFO    </span> No seasons provided. Will retrieve data for the last <span style=\"color: #008080; text-decoration-color: #008080; font-weight: bold\">5</span> seasons.         <a href=\"file:///Users/okariuk/Shakhtar-Donetsk/.venv/lib/python3.11/site-packages/soccerdata/_common.py\" target=\"_blank\"><span style=\"color: #7f7f7f; text-decoration-color: #7f7f7f\">_common.py</span></a><span style=\"color: #7f7f7f; text-decoration-color: #7f7f7f\">:</span><a href=\"file:///Users/okariuk/Shakhtar-Donetsk/.venv/lib/python3.11/site-packages/soccerdata/_common.py#290\" target=\"_blank\"><span style=\"color: #7f7f7f; text-decoration-color: #7f7f7f\">290</span></a>\n",
       "</pre>\n"
      ],
      "text/plain": [
       "\u001b[2;36m                   \u001b[0m\u001b[2;36m \u001b[0m\u001b[34mINFO    \u001b[0m No seasons provided. Will retrieve data for the last \u001b[1;36m5\u001b[0m seasons.         \u001b]8;id=447384;file:///Users/okariuk/Shakhtar-Donetsk/.venv/lib/python3.11/site-packages/soccerdata/_common.py\u001b\\\u001b[2m_common.py\u001b[0m\u001b]8;;\u001b\\\u001b[2m:\u001b[0m\u001b]8;id=310714;file:///Users/okariuk/Shakhtar-Donetsk/.venv/lib/python3.11/site-packages/soccerdata/_common.py#290\u001b\\\u001b[2m290\u001b[0m\u001b]8;;\u001b\\\n"
      ]
     },
     "metadata": {},
     "output_type": "display_data"
    }
   ],
   "source": [
    "sd.ESPN().read_schedule()"
   ]
  },
  {
   "cell_type": "markdown",
   "id": "5a0fc911-158f-4ab9-a6da-640a25c24379",
   "metadata": {},
   "source": [
    "### FiveThirtyEight (https://github.com/probberechts/soccerdata/blob/master/soccerdata/fivethirtyeight.py)"
   ]
  },
  {
   "cell_type": "code",
   "execution_count": 4,
   "id": "e94ed852-63a5-4d0a-b268-41f33a841859",
   "metadata": {},
   "outputs": [
    {
     "data": {
      "text/html": [
       "<pre style=\"white-space:pre;overflow-x:auto;line-height:normal;font-family:Menlo,'DejaVu Sans Mono',consolas,'Courier New',monospace\"><span style=\"color: #7fbfbf; text-decoration-color: #7fbfbf\">[01/04/24 19:09:16] </span><span style=\"color: #000080; text-decoration-color: #000080\">INFO    </span> Saving cached data to ..<span style=\"color: #800080; text-decoration-color: #800080\">/soccerdata/data/</span><span style=\"color: #ff00ff; text-decoration-color: #ff00ff\">FiveThirtyEight</span>                 <a href=\"file:///Users/okariuk/Shakhtar-Donetsk/.venv/lib/python3.11/site-packages/soccerdata/_common.py\" target=\"_blank\"><span style=\"color: #7f7f7f; text-decoration-color: #7f7f7f\">_common.py</span></a><span style=\"color: #7f7f7f; text-decoration-color: #7f7f7f\">:</span><a href=\"file:///Users/okariuk/Shakhtar-Donetsk/.venv/lib/python3.11/site-packages/soccerdata/_common.py#91\" target=\"_blank\"><span style=\"color: #7f7f7f; text-decoration-color: #7f7f7f\">91</span></a>\n",
       "</pre>\n"
      ],
      "text/plain": [
       "\u001b[2;36m[01/04/24 19:09:16]\u001b[0m\u001b[2;36m \u001b[0m\u001b[34mINFO    \u001b[0m Saving cached data to ..\u001b[35m/soccerdata/data/\u001b[0m\u001b[95mFiveThirtyEight\u001b[0m                 \u001b]8;id=771272;file:///Users/okariuk/Shakhtar-Donetsk/.venv/lib/python3.11/site-packages/soccerdata/_common.py\u001b\\\u001b[2m_common.py\u001b[0m\u001b]8;;\u001b\\\u001b[2m:\u001b[0m\u001b]8;id=195104;file:///Users/okariuk/Shakhtar-Donetsk/.venv/lib/python3.11/site-packages/soccerdata/_common.py#91\u001b\\\u001b[2m91\u001b[0m\u001b]8;;\u001b\\\n"
      ]
     },
     "metadata": {},
     "output_type": "display_data"
    },
    {
     "data": {
      "text/html": [
       "<pre style=\"white-space:pre;overflow-x:auto;line-height:normal;font-family:Menlo,'DejaVu Sans Mono',consolas,'Courier New',monospace\"><span style=\"color: #7fbfbf; text-decoration-color: #7fbfbf\">                    </span><span style=\"color: #000080; text-decoration-color: #000080\">INFO    </span> No seasons provided. Will retrieve data for the last <span style=\"color: #008080; text-decoration-color: #008080; font-weight: bold\">5</span> seasons.         <a href=\"file:///Users/okariuk/Shakhtar-Donetsk/.venv/lib/python3.11/site-packages/soccerdata/_common.py\" target=\"_blank\"><span style=\"color: #7f7f7f; text-decoration-color: #7f7f7f\">_common.py</span></a><span style=\"color: #7f7f7f; text-decoration-color: #7f7f7f\">:</span><a href=\"file:///Users/okariuk/Shakhtar-Donetsk/.venv/lib/python3.11/site-packages/soccerdata/_common.py#290\" target=\"_blank\"><span style=\"color: #7f7f7f; text-decoration-color: #7f7f7f\">290</span></a>\n",
       "</pre>\n"
      ],
      "text/plain": [
       "\u001b[2;36m                   \u001b[0m\u001b[2;36m \u001b[0m\u001b[34mINFO    \u001b[0m No seasons provided. Will retrieve data for the last \u001b[1;36m5\u001b[0m seasons.         \u001b]8;id=577272;file:///Users/okariuk/Shakhtar-Donetsk/.venv/lib/python3.11/site-packages/soccerdata/_common.py\u001b\\\u001b[2m_common.py\u001b[0m\u001b]8;;\u001b\\\u001b[2m:\u001b[0m\u001b]8;id=381892;file:///Users/okariuk/Shakhtar-Donetsk/.venv/lib/python3.11/site-packages/soccerdata/_common.py#290\u001b\\\u001b[2m290\u001b[0m\u001b]8;;\u001b\\\n"
      ]
     },
     "metadata": {},
     "output_type": "display_data"
    },
    {
     "data": {
      "text/html": [
       "<div>\n",
       "<style scoped>\n",
       "    .dataframe tbody tr th:only-of-type {\n",
       "        vertical-align: middle;\n",
       "    }\n",
       "\n",
       "    .dataframe tbody tr th {\n",
       "        vertical-align: top;\n",
       "    }\n",
       "\n",
       "    .dataframe thead th {\n",
       "        text-align: right;\n",
       "    }\n",
       "</style>\n",
       "<table border=\"1\" class=\"dataframe\">\n",
       "  <thead>\n",
       "    <tr style=\"text-align: right;\">\n",
       "      <th></th>\n",
       "      <th>long_name</th>\n",
       "      <th>region</th>\n",
       "      <th>country</th>\n",
       "      <th>league_id</th>\n",
       "      <th>seasons</th>\n",
       "      <th>champions</th>\n",
       "      <th>relegated</th>\n",
       "      <th>tier</th>\n",
       "      <th>promoted</th>\n",
       "    </tr>\n",
       "    <tr>\n",
       "      <th>league</th>\n",
       "      <th></th>\n",
       "      <th></th>\n",
       "      <th></th>\n",
       "      <th></th>\n",
       "      <th></th>\n",
       "      <th></th>\n",
       "      <th></th>\n",
       "      <th></th>\n",
       "      <th></th>\n",
       "    </tr>\n",
       "  </thead>\n",
       "  <tbody>\n",
       "    <tr>\n",
       "      <th>ENG-Premier League</th>\n",
       "      <td>Premier League</td>\n",
       "      <td>Europe</td>\n",
       "      <td>England</td>\n",
       "      <td>2411</td>\n",
       "      <td>[{'name': '2022-23', 'slug': '2022'}, {'name':...</td>\n",
       "      <td>4.0</td>\n",
       "      <td>3.0</td>\n",
       "      <td>NaN</td>\n",
       "      <td>NaN</td>\n",
       "    </tr>\n",
       "    <tr>\n",
       "      <th>ESP-La Liga</th>\n",
       "      <td>La Liga</td>\n",
       "      <td>Europe</td>\n",
       "      <td>Spain</td>\n",
       "      <td>1869</td>\n",
       "      <td>[{'name': '2022-23', 'slug': '2022'}, {'name':...</td>\n",
       "      <td>4.0</td>\n",
       "      <td>3.0</td>\n",
       "      <td>NaN</td>\n",
       "      <td>NaN</td>\n",
       "    </tr>\n",
       "    <tr>\n",
       "      <th>FRA-Ligue 1</th>\n",
       "      <td>Ligue 1</td>\n",
       "      <td>Europe</td>\n",
       "      <td>France</td>\n",
       "      <td>1843</td>\n",
       "      <td>[{'name': '2022-23', 'slug': '2022'}, {'name':...</td>\n",
       "      <td>3.0</td>\n",
       "      <td>4.0</td>\n",
       "      <td>NaN</td>\n",
       "      <td>NaN</td>\n",
       "    </tr>\n",
       "    <tr>\n",
       "      <th>GER-Bundesliga</th>\n",
       "      <td>Bundesliga</td>\n",
       "      <td>Europe</td>\n",
       "      <td>Germany</td>\n",
       "      <td>1845</td>\n",
       "      <td>[{'name': '2022-23', 'slug': '2022'}, {'name':...</td>\n",
       "      <td>4.0</td>\n",
       "      <td>2.5</td>\n",
       "      <td>NaN</td>\n",
       "      <td>NaN</td>\n",
       "    </tr>\n",
       "    <tr>\n",
       "      <th>ITA-Serie A</th>\n",
       "      <td>Serie A</td>\n",
       "      <td>Europe</td>\n",
       "      <td>Italy</td>\n",
       "      <td>1854</td>\n",
       "      <td>[{'name': '2022-23', 'slug': '2022'}, {'name':...</td>\n",
       "      <td>4.0</td>\n",
       "      <td>3.0</td>\n",
       "      <td>NaN</td>\n",
       "      <td>NaN</td>\n",
       "    </tr>\n",
       "    <tr>\n",
       "      <th>UEFA Champions League</th>\n",
       "      <td>UEFA Champions League</td>\n",
       "      <td>Europe</td>\n",
       "      <td></td>\n",
       "      <td>1818</td>\n",
       "      <td>[{'name': '2022-23', 'slug': '2022', 'playoffC...</td>\n",
       "      <td>NaN</td>\n",
       "      <td>NaN</td>\n",
       "      <td>NaN</td>\n",
       "      <td>NaN</td>\n",
       "    </tr>\n",
       "  </tbody>\n",
       "</table>\n",
       "</div>"
      ],
      "text/plain": [
       "                                   long_name  region  country  league_id  \\\n",
       "league                                                                     \n",
       "ENG-Premier League            Premier League  Europe  England       2411   \n",
       "ESP-La Liga                          La Liga  Europe    Spain       1869   \n",
       "FRA-Ligue 1                          Ligue 1  Europe   France       1843   \n",
       "GER-Bundesliga                    Bundesliga  Europe  Germany       1845   \n",
       "ITA-Serie A                          Serie A  Europe    Italy       1854   \n",
       "UEFA Champions League  UEFA Champions League  Europe                1818   \n",
       "\n",
       "                                                                 seasons  \\\n",
       "league                                                                     \n",
       "ENG-Premier League     [{'name': '2022-23', 'slug': '2022'}, {'name':...   \n",
       "ESP-La Liga            [{'name': '2022-23', 'slug': '2022'}, {'name':...   \n",
       "FRA-Ligue 1            [{'name': '2022-23', 'slug': '2022'}, {'name':...   \n",
       "GER-Bundesliga         [{'name': '2022-23', 'slug': '2022'}, {'name':...   \n",
       "ITA-Serie A            [{'name': '2022-23', 'slug': '2022'}, {'name':...   \n",
       "UEFA Champions League  [{'name': '2022-23', 'slug': '2022', 'playoffC...   \n",
       "\n",
       "                       champions  relegated  tier  promoted  \n",
       "league                                                       \n",
       "ENG-Premier League           4.0        3.0   NaN       NaN  \n",
       "ESP-La Liga                  4.0        3.0   NaN       NaN  \n",
       "FRA-Ligue 1                  3.0        4.0   NaN       NaN  \n",
       "GER-Bundesliga               4.0        2.5   NaN       NaN  \n",
       "ITA-Serie A                  4.0        3.0   NaN       NaN  \n",
       "UEFA Champions League        NaN        NaN   NaN       NaN  "
      ]
     },
     "execution_count": 4,
     "metadata": {},
     "output_type": "execute_result"
    }
   ],
   "source": [
    "sd.FiveThirtyEight().read_leagues()"
   ]
  },
  {
   "cell_type": "markdown",
   "id": "38d49296-0cfb-4062-8153-0198d2cc2075",
   "metadata": {},
   "source": [
    "### WhoScored (https://github.com/probberechts/soccerdata/blob/master/soccerdata/whoscored.py)"
   ]
  },
  {
   "cell_type": "code",
   "execution_count": 6,
   "id": "0a2699b5-e878-445d-b6c0-5b9491701eae",
   "metadata": {},
   "outputs": [
    {
     "data": {
      "text/html": [
       "<pre style=\"white-space:pre;overflow-x:auto;line-height:normal;font-family:Menlo,'DejaVu Sans Mono',consolas,'Courier New',monospace\"><span style=\"color: #7fbfbf; text-decoration-color: #7fbfbf\">[01/04/24 19:09:43] </span><span style=\"color: #000080; text-decoration-color: #000080\">INFO    </span> Saving cached data to ..<span style=\"color: #800080; text-decoration-color: #800080\">/soccerdata/data/</span><span style=\"color: #ff00ff; text-decoration-color: #ff00ff\">MatchHistory</span>                    <a href=\"file:///Users/okariuk/Shakhtar-Donetsk/.venv/lib/python3.11/site-packages/soccerdata/_common.py\" target=\"_blank\"><span style=\"color: #7f7f7f; text-decoration-color: #7f7f7f\">_common.py</span></a><span style=\"color: #7f7f7f; text-decoration-color: #7f7f7f\">:</span><a href=\"file:///Users/okariuk/Shakhtar-Donetsk/.venv/lib/python3.11/site-packages/soccerdata/_common.py#91\" target=\"_blank\"><span style=\"color: #7f7f7f; text-decoration-color: #7f7f7f\">91</span></a>\n",
       "</pre>\n"
      ],
      "text/plain": [
       "\u001b[2;36m[01/04/24 19:09:43]\u001b[0m\u001b[2;36m \u001b[0m\u001b[34mINFO    \u001b[0m Saving cached data to ..\u001b[35m/soccerdata/data/\u001b[0m\u001b[95mMatchHistory\u001b[0m                    \u001b]8;id=42991;file:///Users/okariuk/Shakhtar-Donetsk/.venv/lib/python3.11/site-packages/soccerdata/_common.py\u001b\\\u001b[2m_common.py\u001b[0m\u001b]8;;\u001b\\\u001b[2m:\u001b[0m\u001b]8;id=781961;file:///Users/okariuk/Shakhtar-Donetsk/.venv/lib/python3.11/site-packages/soccerdata/_common.py#91\u001b\\\u001b[2m91\u001b[0m\u001b]8;;\u001b\\\n"
      ]
     },
     "metadata": {},
     "output_type": "display_data"
    },
    {
     "data": {
      "text/html": [
       "<pre style=\"white-space:pre;overflow-x:auto;line-height:normal;font-family:Menlo,'DejaVu Sans Mono',consolas,'Courier New',monospace\"><span style=\"color: #7fbfbf; text-decoration-color: #7fbfbf\">                    </span><span style=\"color: #000080; text-decoration-color: #000080\">INFO    </span> No seasons provided. Will retrieve data for the last <span style=\"color: #008080; text-decoration-color: #008080; font-weight: bold\">5</span> seasons.         <a href=\"file:///Users/okariuk/Shakhtar-Donetsk/.venv/lib/python3.11/site-packages/soccerdata/_common.py\" target=\"_blank\"><span style=\"color: #7f7f7f; text-decoration-color: #7f7f7f\">_common.py</span></a><span style=\"color: #7f7f7f; text-decoration-color: #7f7f7f\">:</span><a href=\"file:///Users/okariuk/Shakhtar-Donetsk/.venv/lib/python3.11/site-packages/soccerdata/_common.py#290\" target=\"_blank\"><span style=\"color: #7f7f7f; text-decoration-color: #7f7f7f\">290</span></a>\n",
       "</pre>\n"
      ],
      "text/plain": [
       "\u001b[2;36m                   \u001b[0m\u001b[2;36m \u001b[0m\u001b[34mINFO    \u001b[0m No seasons provided. Will retrieve data for the last \u001b[1;36m5\u001b[0m seasons.         \u001b]8;id=454254;file:///Users/okariuk/Shakhtar-Donetsk/.venv/lib/python3.11/site-packages/soccerdata/_common.py\u001b\\\u001b[2m_common.py\u001b[0m\u001b]8;;\u001b\\\u001b[2m:\u001b[0m\u001b]8;id=66658;file:///Users/okariuk/Shakhtar-Donetsk/.venv/lib/python3.11/site-packages/soccerdata/_common.py#290\u001b\\\u001b[2m290\u001b[0m\u001b]8;;\u001b\\\n"
      ]
     },
     "metadata": {},
     "output_type": "display_data"
    },
    {
     "data": {
      "text/plain": [
       "['ENG-Premier League',\n",
       " 'ESP-La Liga',\n",
       " 'FRA-Ligue 1',\n",
       " 'GER-Bundesliga',\n",
       " 'ITA-Serie A']"
      ]
     },
     "execution_count": 6,
     "metadata": {},
     "output_type": "execute_result"
    }
   ],
   "source": [
    "sd.WhoScored().read_leagues()"
   ]
  },
  {
   "cell_type": "code",
   "execution_count": null,
   "id": "c2400b03-024a-4814-8af3-b37e345e60da",
   "metadata": {},
   "outputs": [],
   "source": []
  }
 ],
 "metadata": {
  "kernelspec": {
   "display_name": "Python 3 (ipykernel)",
   "language": "python",
   "name": "python3"
  },
  "language_info": {
   "codemirror_mode": {
    "name": "ipython",
    "version": 3
   },
   "file_extension": ".py",
   "mimetype": "text/x-python",
   "name": "python",
   "nbconvert_exporter": "python",
   "pygments_lexer": "ipython3",
   "version": "3.11.6"
  }
 },
 "nbformat": 4,
 "nbformat_minor": 5
}
