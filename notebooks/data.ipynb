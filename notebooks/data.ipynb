{
 "cells": [
  {
   "cell_type": "code",
   "execution_count": 11,
   "id": "46c19615-1640-423b-9d35-b4756345cb33",
   "metadata": {},
   "outputs": [],
   "source": [
    "import os"
   ]
  },
  {
   "cell_type": "markdown",
   "id": "0fdb1a12-b7de-46dc-b1ae-3931ba692159",
   "metadata": {},
   "source": [
    "# [Soccerdata](https://github.com/probberechts/soccerdata)"
   ]
  },
  {
   "cell_type": "code",
   "execution_count": 12,
   "id": "c4b49616-3da5-4999-8445-fed731a4c952",
   "metadata": {},
   "outputs": [],
   "source": [
    "os.environ[\"SOCCERDATA_DIR\"] = \"../soccerdata\""
   ]
  },
  {
   "cell_type": "code",
   "execution_count": 13,
   "id": "043bbdb8",
   "metadata": {},
   "outputs": [
    {
     "data": {
      "text/html": [
       "<pre style=\"white-space:pre;overflow-x:auto;line-height:normal;font-family:Menlo,'DejaVu Sans Mono',consolas,'Courier New',monospace\"><span style=\"color: #7fbfbf; text-decoration-color: #7fbfbf\">[01/26/24 16:03:53] </span><span style=\"color: #000080; text-decoration-color: #000080\">INFO    </span> No custom team name replacements found. You can configure these in       <a href=\"file:///Users/okariuk/Shakhtar-Donetsk/.venv/lib/python3.11/site-packages/soccerdata/_config.py\" target=\"_blank\"><span style=\"color: #7f7f7f; text-decoration-color: #7f7f7f\">_config.py</span></a><span style=\"color: #7f7f7f; text-decoration-color: #7f7f7f\">:</span><a href=\"file:///Users/okariuk/Shakhtar-Donetsk/.venv/lib/python3.11/site-packages/soccerdata/_config.py#87\" target=\"_blank\"><span style=\"color: #7f7f7f; text-decoration-color: #7f7f7f\">87</span></a>\n",
       "<span style=\"color: #7fbfbf; text-decoration-color: #7fbfbf\">                    </span>         ..<span style=\"color: #800080; text-decoration-color: #800080\">/soccerdata/config/</span><span style=\"color: #ff00ff; text-decoration-color: #ff00ff\">teamname_replacements.json.</span>                         <span style=\"color: #7f7f7f; text-decoration-color: #7f7f7f\">             </span>\n",
       "</pre>\n"
      ],
      "text/plain": [
       "\u001b[2;36m[01/26/24 16:03:53]\u001b[0m\u001b[2;36m \u001b[0m\u001b[34mINFO    \u001b[0m No custom team name replacements found. You can configure these in       \u001b]8;id=92518;file:///Users/okariuk/Shakhtar-Donetsk/.venv/lib/python3.11/site-packages/soccerdata/_config.py\u001b\\\u001b[2m_config.py\u001b[0m\u001b]8;;\u001b\\\u001b[2m:\u001b[0m\u001b]8;id=453511;file:///Users/okariuk/Shakhtar-Donetsk/.venv/lib/python3.11/site-packages/soccerdata/_config.py#87\u001b\\\u001b[2m87\u001b[0m\u001b]8;;\u001b\\\n",
       "\u001b[2;36m                    \u001b[0m         ..\u001b[35m/soccerdata/config/\u001b[0m\u001b[95mteamname_replacements.json.\u001b[0m                         \u001b[2m             \u001b[0m\n"
      ]
     },
     "metadata": {},
     "output_type": "display_data"
    },
    {
     "data": {
      "text/html": [
       "<pre style=\"white-space:pre;overflow-x:auto;line-height:normal;font-family:Menlo,'DejaVu Sans Mono',consolas,'Courier New',monospace\"><span style=\"color: #7fbfbf; text-decoration-color: #7fbfbf\">                    </span><span style=\"color: #000080; text-decoration-color: #000080\">INFO    </span> Custom league dict loaded from ..<span style=\"color: #800080; text-decoration-color: #800080\">/soccerdata/config/</span><span style=\"color: #ff00ff; text-decoration-color: #ff00ff\">league_dict.json.</span>   <a href=\"file:///Users/okariuk/Shakhtar-Donetsk/.venv/lib/python3.11/site-packages/soccerdata/_config.py\" target=\"_blank\"><span style=\"color: #7f7f7f; text-decoration-color: #7f7f7f\">_config.py</span></a><span style=\"color: #7f7f7f; text-decoration-color: #7f7f7f\">:</span><a href=\"file:///Users/okariuk/Shakhtar-Donetsk/.venv/lib/python3.11/site-packages/soccerdata/_config.py#163\" target=\"_blank\"><span style=\"color: #7f7f7f; text-decoration-color: #7f7f7f\">163</span></a>\n",
       "</pre>\n"
      ],
      "text/plain": [
       "\u001b[2;36m                   \u001b[0m\u001b[2;36m \u001b[0m\u001b[34mINFO    \u001b[0m Custom league dict loaded from ..\u001b[35m/soccerdata/config/\u001b[0m\u001b[95mleague_dict.json.\u001b[0m   \u001b]8;id=307644;file:///Users/okariuk/Shakhtar-Donetsk/.venv/lib/python3.11/site-packages/soccerdata/_config.py\u001b\\\u001b[2m_config.py\u001b[0m\u001b]8;;\u001b\\\u001b[2m:\u001b[0m\u001b]8;id=297928;file:///Users/okariuk/Shakhtar-Donetsk/.venv/lib/python3.11/site-packages/soccerdata/_config.py#163\u001b\\\u001b[2m163\u001b[0m\u001b]8;;\u001b\\\n"
      ]
     },
     "metadata": {},
     "output_type": "display_data"
    }
   ],
   "source": [
    "import soccerdata as sd"
   ]
  },
  {
   "cell_type": "markdown",
   "id": "8b8104a1-b35c-4b1c-b691-0df71925e253",
   "metadata": {},
   "source": [
    "### [FBref](https://github.com/probberechts/soccerdata/blob/master/soccerdata/fbref.py)"
   ]
  },
  {
   "cell_type": "code",
   "execution_count": 4,
   "id": "bc90986c-1259-424c-90be-18c78a7d50ef",
   "metadata": {},
   "outputs": [
    {
     "data": {
      "text/plain": [
       "['Big 5 European Leagues Combined',\n",
       " 'ENG-Premier League',\n",
       " 'ESP-La Liga',\n",
       " 'FRA-Ligue 1',\n",
       " 'GER-Bundesliga',\n",
       " \"INT-Women's World Cup\",\n",
       " 'INT-World Cup',\n",
       " 'ITA-Serie A',\n",
       " 'UEFA Champions League']"
      ]
     },
     "execution_count": 4,
     "metadata": {},
     "output_type": "execute_result"
    }
   ],
   "source": [
    "sd.FBref.available_leagues()"
   ]
  },
  {
   "cell_type": "code",
   "execution_count": 15,
   "id": "78e5e4d7-2afd-43ec-a619-81c1ad51f723",
   "metadata": {},
   "outputs": [
    {
     "data": {
      "text/html": [
       "<pre style=\"white-space:pre;overflow-x:auto;line-height:normal;font-family:Menlo,'DejaVu Sans Mono',consolas,'Courier New',monospace\"><span style=\"color: #7fbfbf; text-decoration-color: #7fbfbf\">[01/05/24 17:46:09] </span><span style=\"color: #000080; text-decoration-color: #000080\">INFO    </span> Saving cached data to ..<span style=\"color: #800080; text-decoration-color: #800080\">/soccerdata/data/</span><span style=\"color: #ff00ff; text-decoration-color: #ff00ff\">FBref</span>                           <a href=\"file:///Users/okariuk/Shakhtar-Donetsk/.venv/lib/python3.11/site-packages/soccerdata/_common.py\" target=\"_blank\"><span style=\"color: #7f7f7f; text-decoration-color: #7f7f7f\">_common.py</span></a><span style=\"color: #7f7f7f; text-decoration-color: #7f7f7f\">:</span><a href=\"file:///Users/okariuk/Shakhtar-Donetsk/.venv/lib/python3.11/site-packages/soccerdata/_common.py#91\" target=\"_blank\"><span style=\"color: #7f7f7f; text-decoration-color: #7f7f7f\">91</span></a>\n",
       "</pre>\n"
      ],
      "text/plain": [
       "\u001b[2;36m[01/05/24 17:46:09]\u001b[0m\u001b[2;36m \u001b[0m\u001b[34mINFO    \u001b[0m Saving cached data to ..\u001b[35m/soccerdata/data/\u001b[0m\u001b[95mFBref\u001b[0m                           \u001b]8;id=19798;file:///Users/okariuk/Shakhtar-Donetsk/.venv/lib/python3.11/site-packages/soccerdata/_common.py\u001b\\\u001b[2m_common.py\u001b[0m\u001b]8;;\u001b\\\u001b[2m:\u001b[0m\u001b]8;id=825883;file:///Users/okariuk/Shakhtar-Donetsk/.venv/lib/python3.11/site-packages/soccerdata/_common.py#91\u001b\\\u001b[2m91\u001b[0m\u001b]8;;\u001b\\\n"
      ]
     },
     "metadata": {},
     "output_type": "display_data"
    }
   ],
   "source": [
    "fb_ref = sd.FBref(leagues=\"UEFA Champions League\", seasons=\"23-24\")"
   ]
  },
  {
   "cell_type": "markdown",
   "id": "c02b60ab-633a-4832-95de-fcd61d62740a",
   "metadata": {},
   "source": [
    "#### Match stats"
   ]
  },
  {
   "cell_type": "code",
   "execution_count": 18,
   "id": "4b21101c-d837-4aba-b3ba-1f177e935024",
   "metadata": {},
   "outputs": [
    {
     "data": {
      "text/html": [
       "<div>\n",
       "<style scoped>\n",
       "    .dataframe tbody tr th:only-of-type {\n",
       "        vertical-align: middle;\n",
       "    }\n",
       "\n",
       "    .dataframe tbody tr th {\n",
       "        vertical-align: top;\n",
       "    }\n",
       "\n",
       "    .dataframe thead th {\n",
       "        text-align: right;\n",
       "    }\n",
       "</style>\n",
       "<table border=\"1\" class=\"dataframe\">\n",
       "  <thead>\n",
       "    <tr style=\"text-align: right;\">\n",
       "      <th></th>\n",
       "      <th></th>\n",
       "      <th></th>\n",
       "      <th></th>\n",
       "      <th>date</th>\n",
       "      <th>time</th>\n",
       "      <th>round</th>\n",
       "      <th>day</th>\n",
       "      <th>venue</th>\n",
       "      <th>result</th>\n",
       "      <th>GF</th>\n",
       "      <th>GA</th>\n",
       "      <th>opponent</th>\n",
       "      <th>xG</th>\n",
       "      <th>xGA</th>\n",
       "      <th>Poss</th>\n",
       "      <th>Attendance</th>\n",
       "      <th>Captain</th>\n",
       "      <th>Formation</th>\n",
       "      <th>Referee</th>\n",
       "      <th>match_report</th>\n",
       "      <th>Notes</th>\n",
       "    </tr>\n",
       "    <tr>\n",
       "      <th>league</th>\n",
       "      <th>season</th>\n",
       "      <th>team</th>\n",
       "      <th>game</th>\n",
       "      <th></th>\n",
       "      <th></th>\n",
       "      <th></th>\n",
       "      <th></th>\n",
       "      <th></th>\n",
       "      <th></th>\n",
       "      <th></th>\n",
       "      <th></th>\n",
       "      <th></th>\n",
       "      <th></th>\n",
       "      <th></th>\n",
       "      <th></th>\n",
       "      <th></th>\n",
       "      <th></th>\n",
       "      <th></th>\n",
       "      <th></th>\n",
       "      <th></th>\n",
       "      <th></th>\n",
       "    </tr>\n",
       "  </thead>\n",
       "  <tbody>\n",
       "    <tr>\n",
       "      <th rowspan=\"8\" valign=\"top\">&lt;NA&gt;</th>\n",
       "      <th rowspan=\"8\" valign=\"top\">2324</th>\n",
       "      <th rowspan=\"8\" valign=\"top\">Shakhtar</th>\n",
       "      <th>2023-09-19 Shakhtar-Porto</th>\n",
       "      <td>2023-09-19</td>\n",
       "      <td>22:00:00</td>\n",
       "      <td>Group stage</td>\n",
       "      <td>Tue</td>\n",
       "      <td>Home</td>\n",
       "      <td>L</td>\n",
       "      <td>1</td>\n",
       "      <td>3</td>\n",
       "      <td>Porto</td>\n",
       "      <td>0.5</td>\n",
       "      <td>1.8</td>\n",
       "      <td>46</td>\n",
       "      <td>46729</td>\n",
       "      <td>Taras Stepanenko</td>\n",
       "      <td>4-3-3</td>\n",
       "      <td>Davide Massa</td>\n",
       "      <td>/en/matches/13992d54/Shakhtar-Donetsk-Porto-Se...</td>\n",
       "      <td>&lt;NA&gt;</td>\n",
       "    </tr>\n",
       "    <tr>\n",
       "      <th>2023-10-04 Antwerp-Shakhtar</th>\n",
       "      <td>2023-10-04</td>\n",
       "      <td>18:45:00</td>\n",
       "      <td>Group stage</td>\n",
       "      <td>Wed</td>\n",
       "      <td>Away</td>\n",
       "      <td>W</td>\n",
       "      <td>3</td>\n",
       "      <td>2</td>\n",
       "      <td>Antwerp</td>\n",
       "      <td>2.3</td>\n",
       "      <td>1.8</td>\n",
       "      <td>47</td>\n",
       "      <td>13509</td>\n",
       "      <td>Taras Stepanenko</td>\n",
       "      <td>4-2-3-1</td>\n",
       "      <td>Rade Obrenović</td>\n",
       "      <td>/en/matches/89850a68/Antwerp-Shakhtar-Donetsk-...</td>\n",
       "      <td>&lt;NA&gt;</td>\n",
       "    </tr>\n",
       "    <tr>\n",
       "      <th>2023-10-25 Barcelona-Shakhtar</th>\n",
       "      <td>2023-10-25</td>\n",
       "      <td>18:45:00</td>\n",
       "      <td>Group stage</td>\n",
       "      <td>Wed</td>\n",
       "      <td>Away</td>\n",
       "      <td>L</td>\n",
       "      <td>1</td>\n",
       "      <td>2</td>\n",
       "      <td>Barcelona</td>\n",
       "      <td>0.9</td>\n",
       "      <td>2.6</td>\n",
       "      <td>46</td>\n",
       "      <td>41409</td>\n",
       "      <td>Taras Stepanenko</td>\n",
       "      <td>4-2-3-1</td>\n",
       "      <td>Ivan Kružliak</td>\n",
       "      <td>/en/matches/0eff6ab7/Barcelona-Shakhtar-Donets...</td>\n",
       "      <td>&lt;NA&gt;</td>\n",
       "    </tr>\n",
       "    <tr>\n",
       "      <th>2023-11-07 Shakhtar-Barcelona</th>\n",
       "      <td>2023-11-07</td>\n",
       "      <td>19:45:00</td>\n",
       "      <td>Group stage</td>\n",
       "      <td>Tue</td>\n",
       "      <td>Home</td>\n",
       "      <td>W</td>\n",
       "      <td>1</td>\n",
       "      <td>0</td>\n",
       "      <td>Barcelona</td>\n",
       "      <td>0.9</td>\n",
       "      <td>0.9</td>\n",
       "      <td>33</td>\n",
       "      <td>49147</td>\n",
       "      <td>Taras Stepanenko</td>\n",
       "      <td>4-1-4-1</td>\n",
       "      <td>Irfan Peljto</td>\n",
       "      <td>/en/matches/66e789bc/Shakhtar-Donetsk-Barcelon...</td>\n",
       "      <td>&lt;NA&gt;</td>\n",
       "    </tr>\n",
       "    <tr>\n",
       "      <th>2023-11-28 Shakhtar-Antwerp</th>\n",
       "      <td>2023-11-28</td>\n",
       "      <td>19:45:00</td>\n",
       "      <td>Group stage</td>\n",
       "      <td>Tue</td>\n",
       "      <td>Home</td>\n",
       "      <td>W</td>\n",
       "      <td>1</td>\n",
       "      <td>0</td>\n",
       "      <td>Antwerp</td>\n",
       "      <td>1.3</td>\n",
       "      <td>1.1</td>\n",
       "      <td>43</td>\n",
       "      <td>47209</td>\n",
       "      <td>Taras Stepanenko</td>\n",
       "      <td>4-1-4-1</td>\n",
       "      <td>Bartosz Frankowski</td>\n",
       "      <td>/en/matches/7aaaa33a/Shakhtar-Donetsk-Antwerp-...</td>\n",
       "      <td>&lt;NA&gt;</td>\n",
       "    </tr>\n",
       "    <tr>\n",
       "      <th>2023-12-13 Porto-Shakhtar</th>\n",
       "      <td>2023-12-13</td>\n",
       "      <td>20:00:00</td>\n",
       "      <td>Group stage</td>\n",
       "      <td>Wed</td>\n",
       "      <td>Away</td>\n",
       "      <td>L</td>\n",
       "      <td>3</td>\n",
       "      <td>5</td>\n",
       "      <td>Porto</td>\n",
       "      <td>1.5</td>\n",
       "      <td>2.7</td>\n",
       "      <td>51</td>\n",
       "      <td>48113</td>\n",
       "      <td>Taras Stepanenko</td>\n",
       "      <td>4-1-4-1</td>\n",
       "      <td>István Kovács</td>\n",
       "      <td>/en/matches/55099f47/Porto-Shakhtar-Donetsk-De...</td>\n",
       "      <td>&lt;NA&gt;</td>\n",
       "    </tr>\n",
       "    <tr>\n",
       "      <th>2024-02-15 Shakhtar-Marseille</th>\n",
       "      <td>2024-02-15</td>\n",
       "      <td>19:45:00</td>\n",
       "      <td>Knockout round play-offs</td>\n",
       "      <td>Thu</td>\n",
       "      <td>Home</td>\n",
       "      <td>&lt;NA&gt;</td>\n",
       "      <td>&lt;NA&gt;</td>\n",
       "      <td>&lt;NA&gt;</td>\n",
       "      <td>Marseille</td>\n",
       "      <td>&lt;NA&gt;</td>\n",
       "      <td>&lt;NA&gt;</td>\n",
       "      <td>&lt;NA&gt;</td>\n",
       "      <td>&lt;NA&gt;</td>\n",
       "      <td>&lt;NA&gt;</td>\n",
       "      <td>&lt;NA&gt;</td>\n",
       "      <td>&lt;NA&gt;</td>\n",
       "      <td>None</td>\n",
       "      <td>Leg 1 of 2</td>\n",
       "    </tr>\n",
       "    <tr>\n",
       "      <th>2024-02-22 Marseille-Shakhtar</th>\n",
       "      <td>2024-02-22</td>\n",
       "      <td>21:00:00</td>\n",
       "      <td>Knockout round play-offs</td>\n",
       "      <td>Thu</td>\n",
       "      <td>Away</td>\n",
       "      <td>&lt;NA&gt;</td>\n",
       "      <td>&lt;NA&gt;</td>\n",
       "      <td>&lt;NA&gt;</td>\n",
       "      <td>Marseille</td>\n",
       "      <td>&lt;NA&gt;</td>\n",
       "      <td>&lt;NA&gt;</td>\n",
       "      <td>&lt;NA&gt;</td>\n",
       "      <td>&lt;NA&gt;</td>\n",
       "      <td>&lt;NA&gt;</td>\n",
       "      <td>&lt;NA&gt;</td>\n",
       "      <td>&lt;NA&gt;</td>\n",
       "      <td>None</td>\n",
       "      <td>Leg 2 of 2</td>\n",
       "    </tr>\n",
       "  </tbody>\n",
       "</table>\n",
       "</div>"
      ],
      "text/plain": [
       "                                                           date      time  \\\n",
       "league season team     game                                                 \n",
       "<NA>   2324   Shakhtar 2023-09-19 Shakhtar-Porto     2023-09-19  22:00:00   \n",
       "                       2023-10-04 Antwerp-Shakhtar   2023-10-04  18:45:00   \n",
       "                       2023-10-25 Barcelona-Shakhtar 2023-10-25  18:45:00   \n",
       "                       2023-11-07 Shakhtar-Barcelona 2023-11-07  19:45:00   \n",
       "                       2023-11-28 Shakhtar-Antwerp   2023-11-28  19:45:00   \n",
       "                       2023-12-13 Porto-Shakhtar     2023-12-13  20:00:00   \n",
       "                       2024-02-15 Shakhtar-Marseille 2024-02-15  19:45:00   \n",
       "                       2024-02-22 Marseille-Shakhtar 2024-02-22  21:00:00   \n",
       "\n",
       "                                                                         round  \\\n",
       "league season team     game                                                      \n",
       "<NA>   2324   Shakhtar 2023-09-19 Shakhtar-Porto                   Group stage   \n",
       "                       2023-10-04 Antwerp-Shakhtar                 Group stage   \n",
       "                       2023-10-25 Barcelona-Shakhtar               Group stage   \n",
       "                       2023-11-07 Shakhtar-Barcelona               Group stage   \n",
       "                       2023-11-28 Shakhtar-Antwerp                 Group stage   \n",
       "                       2023-12-13 Porto-Shakhtar                   Group stage   \n",
       "                       2024-02-15 Shakhtar-Marseille  Knockout round play-offs   \n",
       "                       2024-02-22 Marseille-Shakhtar  Knockout round play-offs   \n",
       "\n",
       "                                                      day venue result    GF  \\\n",
       "league season team     game                                                    \n",
       "<NA>   2324   Shakhtar 2023-09-19 Shakhtar-Porto      Tue  Home      L     1   \n",
       "                       2023-10-04 Antwerp-Shakhtar    Wed  Away      W     3   \n",
       "                       2023-10-25 Barcelona-Shakhtar  Wed  Away      L     1   \n",
       "                       2023-11-07 Shakhtar-Barcelona  Tue  Home      W     1   \n",
       "                       2023-11-28 Shakhtar-Antwerp    Tue  Home      W     1   \n",
       "                       2023-12-13 Porto-Shakhtar      Wed  Away      L     3   \n",
       "                       2024-02-15 Shakhtar-Marseille  Thu  Home   <NA>  <NA>   \n",
       "                       2024-02-22 Marseille-Shakhtar  Thu  Away   <NA>  <NA>   \n",
       "\n",
       "                                                        GA   opponent    xG  \\\n",
       "league season team     game                                                   \n",
       "<NA>   2324   Shakhtar 2023-09-19 Shakhtar-Porto         3      Porto   0.5   \n",
       "                       2023-10-04 Antwerp-Shakhtar       2    Antwerp   2.3   \n",
       "                       2023-10-25 Barcelona-Shakhtar     2  Barcelona   0.9   \n",
       "                       2023-11-07 Shakhtar-Barcelona     0  Barcelona   0.9   \n",
       "                       2023-11-28 Shakhtar-Antwerp       0    Antwerp   1.3   \n",
       "                       2023-12-13 Porto-Shakhtar         5      Porto   1.5   \n",
       "                       2024-02-15 Shakhtar-Marseille  <NA>  Marseille  <NA>   \n",
       "                       2024-02-22 Marseille-Shakhtar  <NA>  Marseille  <NA>   \n",
       "\n",
       "                                                       xGA  Poss  Attendance  \\\n",
       "league season team     game                                                    \n",
       "<NA>   2324   Shakhtar 2023-09-19 Shakhtar-Porto       1.8    46       46729   \n",
       "                       2023-10-04 Antwerp-Shakhtar     1.8    47       13509   \n",
       "                       2023-10-25 Barcelona-Shakhtar   2.6    46       41409   \n",
       "                       2023-11-07 Shakhtar-Barcelona   0.9    33       49147   \n",
       "                       2023-11-28 Shakhtar-Antwerp     1.1    43       47209   \n",
       "                       2023-12-13 Porto-Shakhtar       2.7    51       48113   \n",
       "                       2024-02-15 Shakhtar-Marseille  <NA>  <NA>        <NA>   \n",
       "                       2024-02-22 Marseille-Shakhtar  <NA>  <NA>        <NA>   \n",
       "\n",
       "                                                               Captain  \\\n",
       "league season team     game                                              \n",
       "<NA>   2324   Shakhtar 2023-09-19 Shakhtar-Porto      Taras Stepanenko   \n",
       "                       2023-10-04 Antwerp-Shakhtar    Taras Stepanenko   \n",
       "                       2023-10-25 Barcelona-Shakhtar  Taras Stepanenko   \n",
       "                       2023-11-07 Shakhtar-Barcelona  Taras Stepanenko   \n",
       "                       2023-11-28 Shakhtar-Antwerp    Taras Stepanenko   \n",
       "                       2023-12-13 Porto-Shakhtar      Taras Stepanenko   \n",
       "                       2024-02-15 Shakhtar-Marseille              <NA>   \n",
       "                       2024-02-22 Marseille-Shakhtar              <NA>   \n",
       "\n",
       "                                                     Formation  \\\n",
       "league season team     game                                      \n",
       "<NA>   2324   Shakhtar 2023-09-19 Shakhtar-Porto         4-3-3   \n",
       "                       2023-10-04 Antwerp-Shakhtar     4-2-3-1   \n",
       "                       2023-10-25 Barcelona-Shakhtar   4-2-3-1   \n",
       "                       2023-11-07 Shakhtar-Barcelona   4-1-4-1   \n",
       "                       2023-11-28 Shakhtar-Antwerp     4-1-4-1   \n",
       "                       2023-12-13 Porto-Shakhtar       4-1-4-1   \n",
       "                       2024-02-15 Shakhtar-Marseille      <NA>   \n",
       "                       2024-02-22 Marseille-Shakhtar      <NA>   \n",
       "\n",
       "                                                                 Referee  \\\n",
       "league season team     game                                                \n",
       "<NA>   2324   Shakhtar 2023-09-19 Shakhtar-Porto            Davide Massa   \n",
       "                       2023-10-04 Antwerp-Shakhtar        Rade Obrenović   \n",
       "                       2023-10-25 Barcelona-Shakhtar       Ivan Kružliak   \n",
       "                       2023-11-07 Shakhtar-Barcelona        Irfan Peljto   \n",
       "                       2023-11-28 Shakhtar-Antwerp    Bartosz Frankowski   \n",
       "                       2023-12-13 Porto-Shakhtar           István Kovács   \n",
       "                       2024-02-15 Shakhtar-Marseille                <NA>   \n",
       "                       2024-02-22 Marseille-Shakhtar                <NA>   \n",
       "\n",
       "                                                                                           match_report  \\\n",
       "league season team     game                                                                               \n",
       "<NA>   2324   Shakhtar 2023-09-19 Shakhtar-Porto      /en/matches/13992d54/Shakhtar-Donetsk-Porto-Se...   \n",
       "                       2023-10-04 Antwerp-Shakhtar    /en/matches/89850a68/Antwerp-Shakhtar-Donetsk-...   \n",
       "                       2023-10-25 Barcelona-Shakhtar  /en/matches/0eff6ab7/Barcelona-Shakhtar-Donets...   \n",
       "                       2023-11-07 Shakhtar-Barcelona  /en/matches/66e789bc/Shakhtar-Donetsk-Barcelon...   \n",
       "                       2023-11-28 Shakhtar-Antwerp    /en/matches/7aaaa33a/Shakhtar-Donetsk-Antwerp-...   \n",
       "                       2023-12-13 Porto-Shakhtar      /en/matches/55099f47/Porto-Shakhtar-Donetsk-De...   \n",
       "                       2024-02-15 Shakhtar-Marseille                                               None   \n",
       "                       2024-02-22 Marseille-Shakhtar                                               None   \n",
       "\n",
       "                                                           Notes  \n",
       "league season team     game                                       \n",
       "<NA>   2324   Shakhtar 2023-09-19 Shakhtar-Porto            <NA>  \n",
       "                       2023-10-04 Antwerp-Shakhtar          <NA>  \n",
       "                       2023-10-25 Barcelona-Shakhtar        <NA>  \n",
       "                       2023-11-07 Shakhtar-Barcelona        <NA>  \n",
       "                       2023-11-28 Shakhtar-Antwerp          <NA>  \n",
       "                       2023-12-13 Porto-Shakhtar            <NA>  \n",
       "                       2024-02-15 Shakhtar-Marseille  Leg 1 of 2  \n",
       "                       2024-02-22 Marseille-Shakhtar  Leg 2 of 2  "
      ]
     },
     "execution_count": 18,
     "metadata": {},
     "output_type": "execute_result"
    }
   ],
   "source": [
    "fb_ref.read_team_match_stats(team=\"Shakhtar\")"
   ]
  },
  {
   "cell_type": "markdown",
   "id": "b9845c2c-4dfe-48a4-ad93-7e1db4d99432",
   "metadata": {},
   "source": [
    "#### Schedule"
   ]
  },
  {
   "cell_type": "code",
   "execution_count": 56,
   "id": "70c1607d-5ba2-4afb-bb9a-73b478431d50",
   "metadata": {},
   "outputs": [
    {
     "data": {
      "text/html": [
       "<div>\n",
       "<style scoped>\n",
       "    .dataframe tbody tr th:only-of-type {\n",
       "        vertical-align: middle;\n",
       "    }\n",
       "\n",
       "    .dataframe tbody tr th {\n",
       "        vertical-align: top;\n",
       "    }\n",
       "\n",
       "    .dataframe thead th {\n",
       "        text-align: right;\n",
       "    }\n",
       "</style>\n",
       "<table border=\"1\" class=\"dataframe\">\n",
       "  <thead>\n",
       "    <tr style=\"text-align: right;\">\n",
       "      <th></th>\n",
       "      <th></th>\n",
       "      <th></th>\n",
       "      <th>round</th>\n",
       "      <th>week</th>\n",
       "      <th>day</th>\n",
       "      <th>date</th>\n",
       "      <th>time</th>\n",
       "      <th>home_team</th>\n",
       "      <th>home_xg</th>\n",
       "      <th>score</th>\n",
       "      <th>away_xg</th>\n",
       "      <th>away_team</th>\n",
       "      <th>attendance</th>\n",
       "      <th>venue</th>\n",
       "      <th>referee</th>\n",
       "      <th>match_report</th>\n",
       "      <th>notes</th>\n",
       "      <th>game_id</th>\n",
       "    </tr>\n",
       "    <tr>\n",
       "      <th>league</th>\n",
       "      <th>season</th>\n",
       "      <th>game</th>\n",
       "      <th></th>\n",
       "      <th></th>\n",
       "      <th></th>\n",
       "      <th></th>\n",
       "      <th></th>\n",
       "      <th></th>\n",
       "      <th></th>\n",
       "      <th></th>\n",
       "      <th></th>\n",
       "      <th></th>\n",
       "      <th></th>\n",
       "      <th></th>\n",
       "      <th></th>\n",
       "      <th></th>\n",
       "      <th></th>\n",
       "      <th></th>\n",
       "    </tr>\n",
       "  </thead>\n",
       "  <tbody>\n",
       "    <tr>\n",
       "      <th rowspan=\"5\" valign=\"top\">UEFA Champions League</th>\n",
       "      <th rowspan=\"5\" valign=\"top\">2324</th>\n",
       "      <th>2023-09-19 Barcelona-Antwerp</th>\n",
       "      <td>Group stage</td>\n",
       "      <td>1</td>\n",
       "      <td>Tue</td>\n",
       "      <td>2023-09-19</td>\n",
       "      <td>21:00</td>\n",
       "      <td>Barcelona</td>\n",
       "      <td>2.8</td>\n",
       "      <td>5–0</td>\n",
       "      <td>0.3</td>\n",
       "      <td>Antwerp</td>\n",
       "      <td>40989</td>\n",
       "      <td>Estadi Olímpic Lluís Companys</td>\n",
       "      <td>Radu Petrescu</td>\n",
       "      <td>/en/matches/c9d2ec0f/Barcelona-Antwerp-Septemb...</td>\n",
       "      <td>&lt;NA&gt;</td>\n",
       "      <td>c9d2ec0f</td>\n",
       "    </tr>\n",
       "    <tr>\n",
       "      <th>2023-09-19 Feyenoord-Celtic</th>\n",
       "      <td>Group stage</td>\n",
       "      <td>1</td>\n",
       "      <td>Tue</td>\n",
       "      <td>2023-09-19</td>\n",
       "      <td>21:00</td>\n",
       "      <td>Feyenoord</td>\n",
       "      <td>1.6</td>\n",
       "      <td>2–0</td>\n",
       "      <td>0.3</td>\n",
       "      <td>Celtic</td>\n",
       "      <td>44008</td>\n",
       "      <td>Stadion Feijenoord</td>\n",
       "      <td>Irfan Peljto</td>\n",
       "      <td>/en/matches/92fc6a26/Feyenoord-Celtic-Septembe...</td>\n",
       "      <td>&lt;NA&gt;</td>\n",
       "      <td>92fc6a26</td>\n",
       "    </tr>\n",
       "    <tr>\n",
       "      <th>2023-09-19 Lazio-Atlético Madrid</th>\n",
       "      <td>Group stage</td>\n",
       "      <td>1</td>\n",
       "      <td>Tue</td>\n",
       "      <td>2023-09-19</td>\n",
       "      <td>21:00</td>\n",
       "      <td>Lazio</td>\n",
       "      <td>1.2</td>\n",
       "      <td>1–1</td>\n",
       "      <td>0.9</td>\n",
       "      <td>Atlético Madrid</td>\n",
       "      <td>46168</td>\n",
       "      <td>Stadio Olimpico</td>\n",
       "      <td>Slavko Vinčič</td>\n",
       "      <td>/en/matches/3488c6c3/Lazio-Atletico-Madrid-Sep...</td>\n",
       "      <td>&lt;NA&gt;</td>\n",
       "      <td>3488c6c3</td>\n",
       "    </tr>\n",
       "    <tr>\n",
       "      <th>2023-09-19 Manchester City-Red Star</th>\n",
       "      <td>Group stage</td>\n",
       "      <td>1</td>\n",
       "      <td>Tue</td>\n",
       "      <td>2023-09-19</td>\n",
       "      <td>20:00</td>\n",
       "      <td>Manchester City</td>\n",
       "      <td>4.1</td>\n",
       "      <td>3–1</td>\n",
       "      <td>0.8</td>\n",
       "      <td>Red Star</td>\n",
       "      <td>50204</td>\n",
       "      <td>Etihad Stadium</td>\n",
       "      <td>João Pinheiro</td>\n",
       "      <td>/en/matches/3d87750d/Manchester-City-Red-Star-...</td>\n",
       "      <td>&lt;NA&gt;</td>\n",
       "      <td>3d87750d</td>\n",
       "    </tr>\n",
       "    <tr>\n",
       "      <th>2023-09-19 Milan-Newcastle Utd</th>\n",
       "      <td>Group stage</td>\n",
       "      <td>1</td>\n",
       "      <td>Tue</td>\n",
       "      <td>2023-09-19</td>\n",
       "      <td>18:45</td>\n",
       "      <td>Milan</td>\n",
       "      <td>1.9</td>\n",
       "      <td>0–0</td>\n",
       "      <td>0.3</td>\n",
       "      <td>Newcastle Utd</td>\n",
       "      <td>65695</td>\n",
       "      <td>Stadio Giuseppe Meazza</td>\n",
       "      <td>José Sánchez</td>\n",
       "      <td>/en/matches/19789895/Milan-Newcastle-United-Se...</td>\n",
       "      <td>&lt;NA&gt;</td>\n",
       "      <td>19789895</td>\n",
       "    </tr>\n",
       "  </tbody>\n",
       "</table>\n",
       "</div>"
      ],
      "text/plain": [
       "                                                                        round  \\\n",
       "league                season game                                               \n",
       "UEFA Champions League 2324   2023-09-19 Barcelona-Antwerp         Group stage   \n",
       "                             2023-09-19 Feyenoord-Celtic          Group stage   \n",
       "                             2023-09-19 Lazio-Atlético Madrid     Group stage   \n",
       "                             2023-09-19 Manchester City-Red Star  Group stage   \n",
       "                             2023-09-19 Milan-Newcastle Utd       Group stage   \n",
       "\n",
       "                                                                  week  day  \\\n",
       "league                season game                                             \n",
       "UEFA Champions League 2324   2023-09-19 Barcelona-Antwerp            1  Tue   \n",
       "                             2023-09-19 Feyenoord-Celtic             1  Tue   \n",
       "                             2023-09-19 Lazio-Atlético Madrid        1  Tue   \n",
       "                             2023-09-19 Manchester City-Red Star     1  Tue   \n",
       "                             2023-09-19 Milan-Newcastle Utd          1  Tue   \n",
       "\n",
       "                                                                       date  \\\n",
       "league                season game                                             \n",
       "UEFA Champions League 2324   2023-09-19 Barcelona-Antwerp        2023-09-19   \n",
       "                             2023-09-19 Feyenoord-Celtic         2023-09-19   \n",
       "                             2023-09-19 Lazio-Atlético Madrid    2023-09-19   \n",
       "                             2023-09-19 Manchester City-Red Star 2023-09-19   \n",
       "                             2023-09-19 Milan-Newcastle Utd      2023-09-19   \n",
       "\n",
       "                                                                   time  \\\n",
       "league                season game                                         \n",
       "UEFA Champions League 2324   2023-09-19 Barcelona-Antwerp         21:00   \n",
       "                             2023-09-19 Feyenoord-Celtic          21:00   \n",
       "                             2023-09-19 Lazio-Atlético Madrid     21:00   \n",
       "                             2023-09-19 Manchester City-Red Star  20:00   \n",
       "                             2023-09-19 Milan-Newcastle Utd       18:45   \n",
       "\n",
       "                                                                        home_team  \\\n",
       "league                season game                                                   \n",
       "UEFA Champions League 2324   2023-09-19 Barcelona-Antwerp               Barcelona   \n",
       "                             2023-09-19 Feyenoord-Celtic                Feyenoord   \n",
       "                             2023-09-19 Lazio-Atlético Madrid               Lazio   \n",
       "                             2023-09-19 Manchester City-Red Star  Manchester City   \n",
       "                             2023-09-19 Milan-Newcastle Utd                 Milan   \n",
       "\n",
       "                                                                  home_xg  \\\n",
       "league                season game                                           \n",
       "UEFA Champions League 2324   2023-09-19 Barcelona-Antwerp             2.8   \n",
       "                             2023-09-19 Feyenoord-Celtic              1.6   \n",
       "                             2023-09-19 Lazio-Atlético Madrid         1.2   \n",
       "                             2023-09-19 Manchester City-Red Star      4.1   \n",
       "                             2023-09-19 Milan-Newcastle Utd           1.9   \n",
       "\n",
       "                                                                 score  \\\n",
       "league                season game                                        \n",
       "UEFA Champions League 2324   2023-09-19 Barcelona-Antwerp          5–0   \n",
       "                             2023-09-19 Feyenoord-Celtic           2–0   \n",
       "                             2023-09-19 Lazio-Atlético Madrid      1–1   \n",
       "                             2023-09-19 Manchester City-Red Star   3–1   \n",
       "                             2023-09-19 Milan-Newcastle Utd        0–0   \n",
       "\n",
       "                                                                  away_xg  \\\n",
       "league                season game                                           \n",
       "UEFA Champions League 2324   2023-09-19 Barcelona-Antwerp             0.3   \n",
       "                             2023-09-19 Feyenoord-Celtic              0.3   \n",
       "                             2023-09-19 Lazio-Atlético Madrid         0.9   \n",
       "                             2023-09-19 Manchester City-Red Star      0.8   \n",
       "                             2023-09-19 Milan-Newcastle Utd           0.3   \n",
       "\n",
       "                                                                        away_team  \\\n",
       "league                season game                                                   \n",
       "UEFA Champions League 2324   2023-09-19 Barcelona-Antwerp                 Antwerp   \n",
       "                             2023-09-19 Feyenoord-Celtic                   Celtic   \n",
       "                             2023-09-19 Lazio-Atlético Madrid     Atlético Madrid   \n",
       "                             2023-09-19 Manchester City-Red Star         Red Star   \n",
       "                             2023-09-19 Milan-Newcastle Utd         Newcastle Utd   \n",
       "\n",
       "                                                                  attendance  \\\n",
       "league                season game                                              \n",
       "UEFA Champions League 2324   2023-09-19 Barcelona-Antwerp              40989   \n",
       "                             2023-09-19 Feyenoord-Celtic               44008   \n",
       "                             2023-09-19 Lazio-Atlético Madrid          46168   \n",
       "                             2023-09-19 Manchester City-Red Star       50204   \n",
       "                             2023-09-19 Milan-Newcastle Utd            65695   \n",
       "\n",
       "                                                                                          venue  \\\n",
       "league                season game                                                                 \n",
       "UEFA Champions League 2324   2023-09-19 Barcelona-Antwerp         Estadi Olímpic Lluís Companys   \n",
       "                             2023-09-19 Feyenoord-Celtic                     Stadion Feijenoord   \n",
       "                             2023-09-19 Lazio-Atlético Madrid                   Stadio Olimpico   \n",
       "                             2023-09-19 Manchester City-Red Star                 Etihad Stadium   \n",
       "                             2023-09-19 Milan-Newcastle Utd              Stadio Giuseppe Meazza   \n",
       "\n",
       "                                                                        referee  \\\n",
       "league                season game                                                 \n",
       "UEFA Champions League 2324   2023-09-19 Barcelona-Antwerp         Radu Petrescu   \n",
       "                             2023-09-19 Feyenoord-Celtic           Irfan Peljto   \n",
       "                             2023-09-19 Lazio-Atlético Madrid     Slavko Vinčič   \n",
       "                             2023-09-19 Manchester City-Red Star  João Pinheiro   \n",
       "                             2023-09-19 Milan-Newcastle Utd        José Sánchez   \n",
       "\n",
       "                                                                                                       match_report  \\\n",
       "league                season game                                                                                     \n",
       "UEFA Champions League 2324   2023-09-19 Barcelona-Antwerp         /en/matches/c9d2ec0f/Barcelona-Antwerp-Septemb...   \n",
       "                             2023-09-19 Feyenoord-Celtic          /en/matches/92fc6a26/Feyenoord-Celtic-Septembe...   \n",
       "                             2023-09-19 Lazio-Atlético Madrid     /en/matches/3488c6c3/Lazio-Atletico-Madrid-Sep...   \n",
       "                             2023-09-19 Manchester City-Red Star  /en/matches/3d87750d/Manchester-City-Red-Star-...   \n",
       "                             2023-09-19 Milan-Newcastle Utd       /en/matches/19789895/Milan-Newcastle-United-Se...   \n",
       "\n",
       "                                                                 notes  \\\n",
       "league                season game                                        \n",
       "UEFA Champions League 2324   2023-09-19 Barcelona-Antwerp         <NA>   \n",
       "                             2023-09-19 Feyenoord-Celtic          <NA>   \n",
       "                             2023-09-19 Lazio-Atlético Madrid     <NA>   \n",
       "                             2023-09-19 Manchester City-Red Star  <NA>   \n",
       "                             2023-09-19 Milan-Newcastle Utd       <NA>   \n",
       "\n",
       "                                                                   game_id  \n",
       "league                season game                                           \n",
       "UEFA Champions League 2324   2023-09-19 Barcelona-Antwerp         c9d2ec0f  \n",
       "                             2023-09-19 Feyenoord-Celtic          92fc6a26  \n",
       "                             2023-09-19 Lazio-Atlético Madrid     3488c6c3  \n",
       "                             2023-09-19 Manchester City-Red Star  3d87750d  \n",
       "                             2023-09-19 Milan-Newcastle Utd       19789895  "
      ]
     },
     "execution_count": 56,
     "metadata": {},
     "output_type": "execute_result"
    }
   ],
   "source": [
    "schedule = fb_ref.read_schedule()\n",
    "schedule.head()"
   ]
  },
  {
   "cell_type": "markdown",
   "id": "559e083b-6928-47f0-85f2-66119228b422",
   "metadata": {},
   "source": [
    "#### Antwerp 2:3 Shakhtar"
   ]
  },
  {
   "cell_type": "code",
   "execution_count": 57,
   "id": "a239bf24-ee07-4901-b1a3-cedfb888bf4d",
   "metadata": {},
   "outputs": [
    {
     "data": {
      "text/plain": [
       "round                                                 Group stage\n",
       "week                                                            2\n",
       "day                                                           Wed\n",
       "date                                          2023-10-04 00:00:00\n",
       "time                                                        18:45\n",
       "home_team                                                 Antwerp\n",
       "home_xg                                                       1.8\n",
       "score                                                         2–3\n",
       "away_xg                                                       2.3\n",
       "away_team                                                Shakhtar\n",
       "attendance                                                  13509\n",
       "venue                                               Bosuilstadion\n",
       "referee                                            Rade Obrenović\n",
       "match_report    /en/matches/89850a68/Antwerp-Shakhtar-Donetsk-...\n",
       "notes                                                        <NA>\n",
       "game_id                                                  89850a68\n",
       "Name: (UEFA Champions League, 2324, 2023-10-04 Antwerp-Shakhtar), dtype: object"
      ]
     },
     "execution_count": 57,
     "metadata": {},
     "output_type": "execute_result"
    }
   ],
   "source": [
    "game = schedule.loc[\"UEFA Champions League\", \"2324\", \"2023-10-04 Antwerp-Shakhtar\"]\n",
    "game"
   ]
  },
  {
   "cell_type": "code",
   "execution_count": 58,
   "id": "d2668c53-bee1-424b-93c1-7db78fa9445a",
   "metadata": {},
   "outputs": [
    {
     "data": {
      "text/html": [
       "<pre style=\"white-space:pre;overflow-x:auto;line-height:normal;font-family:Menlo,'DejaVu Sans Mono',consolas,'Courier New',monospace\"><span style=\"color: #7fbfbf; text-decoration-color: #7fbfbf\">[01/05/24 18:45:51] </span><span style=\"color: #000080; text-decoration-color: #000080\">INFO    </span> <span style=\"font-weight: bold\">[</span><span style=\"color: #008080; text-decoration-color: #008080; font-weight: bold\">1</span>/<span style=\"color: #008080; text-decoration-color: #008080; font-weight: bold\">1</span><span style=\"font-weight: bold\">]</span> Retrieving game with <span style=\"color: #808000; text-decoration-color: #808000\">id</span>=<span style=\"color: #800080; text-decoration-color: #800080\">89850a68</span>                                    <a href=\"file:///Users/okariuk/Shakhtar-Donetsk/.venv/lib/python3.11/site-packages/soccerdata/fbref.py\" target=\"_blank\"><span style=\"color: #7f7f7f; text-decoration-color: #7f7f7f\">fbref.py</span></a><span style=\"color: #7f7f7f; text-decoration-color: #7f7f7f\">:</span><a href=\"file:///Users/okariuk/Shakhtar-Donetsk/.venv/lib/python3.11/site-packages/soccerdata/fbref.py#964\" target=\"_blank\"><span style=\"color: #7f7f7f; text-decoration-color: #7f7f7f\">964</span></a>\n",
       "</pre>\n"
      ],
      "text/plain": [
       "\u001b[2;36m[01/05/24 18:45:51]\u001b[0m\u001b[2;36m \u001b[0m\u001b[34mINFO    \u001b[0m \u001b[1m[\u001b[0m\u001b[1;36m1\u001b[0m/\u001b[1;36m1\u001b[0m\u001b[1m]\u001b[0m Retrieving game with \u001b[33mid\u001b[0m=\u001b[35m89850a68\u001b[0m                                    \u001b]8;id=20443;file:///Users/okariuk/Shakhtar-Donetsk/.venv/lib/python3.11/site-packages/soccerdata/fbref.py\u001b\\\u001b[2mfbref.py\u001b[0m\u001b]8;;\u001b\\\u001b[2m:\u001b[0m\u001b]8;id=214526;file:///Users/okariuk/Shakhtar-Donetsk/.venv/lib/python3.11/site-packages/soccerdata/fbref.py#964\u001b\\\u001b[2m964\u001b[0m\u001b]8;;\u001b\\\n"
      ]
     },
     "metadata": {},
     "output_type": "display_data"
    },
    {
     "data": {
      "text/html": [
       "<div>\n",
       "<style scoped>\n",
       "    .dataframe tbody tr th:only-of-type {\n",
       "        vertical-align: middle;\n",
       "    }\n",
       "\n",
       "    .dataframe tbody tr th {\n",
       "        vertical-align: top;\n",
       "    }\n",
       "\n",
       "    .dataframe thead th {\n",
       "        text-align: right;\n",
       "    }\n",
       "</style>\n",
       "<table border=\"1\" class=\"dataframe\">\n",
       "  <thead>\n",
       "    <tr style=\"text-align: right;\">\n",
       "      <th></th>\n",
       "      <th></th>\n",
       "      <th></th>\n",
       "      <th>team</th>\n",
       "      <th>minute</th>\n",
       "      <th>score</th>\n",
       "      <th>player1</th>\n",
       "      <th>player2</th>\n",
       "      <th>event_type</th>\n",
       "    </tr>\n",
       "    <tr>\n",
       "      <th>league</th>\n",
       "      <th>season</th>\n",
       "      <th>game</th>\n",
       "      <th></th>\n",
       "      <th></th>\n",
       "      <th></th>\n",
       "      <th></th>\n",
       "      <th></th>\n",
       "      <th></th>\n",
       "    </tr>\n",
       "  </thead>\n",
       "  <tbody>\n",
       "    <tr>\n",
       "      <th rowspan=\"17\" valign=\"top\">UEFA Champions League</th>\n",
       "      <th rowspan=\"17\" valign=\"top\">2324</th>\n",
       "      <th>2023-10-04 Antwerp-Shakhtar</th>\n",
       "      <td>Antwerp</td>\n",
       "      <td>12</td>\n",
       "      <td>1:0</td>\n",
       "      <td>Mandela Keita</td>\n",
       "      <td>None</td>\n",
       "      <td>yellow_card</td>\n",
       "    </tr>\n",
       "    <tr>\n",
       "      <th>2023-10-04 Antwerp-Shakhtar</th>\n",
       "      <td>Antwerp</td>\n",
       "      <td>3</td>\n",
       "      <td>1:0</td>\n",
       "      <td>Arbnor Muja</td>\n",
       "      <td>Arthur Vermeeren</td>\n",
       "      <td>goal</td>\n",
       "    </tr>\n",
       "    <tr>\n",
       "      <th>2023-10-04 Antwerp-Shakhtar</th>\n",
       "      <td>Antwerp</td>\n",
       "      <td>33</td>\n",
       "      <td>2:0</td>\n",
       "      <td>Michel-Ange Balikwisha</td>\n",
       "      <td>Arthur Vermeeren</td>\n",
       "      <td>goal</td>\n",
       "    </tr>\n",
       "    <tr>\n",
       "      <th>2023-10-04 Antwerp-Shakhtar</th>\n",
       "      <td>Shakhtar Donetsk</td>\n",
       "      <td>36</td>\n",
       "      <td>2:0</td>\n",
       "      <td>Yukhym Konoplia</td>\n",
       "      <td>None</td>\n",
       "      <td>yellow_card</td>\n",
       "    </tr>\n",
       "    <tr>\n",
       "      <th>2023-10-04 Antwerp-Shakhtar</th>\n",
       "      <td>Antwerp</td>\n",
       "      <td>37</td>\n",
       "      <td>2:0</td>\n",
       "      <td>Vincent Janssen</td>\n",
       "      <td>None</td>\n",
       "      <td>yellow_card</td>\n",
       "    </tr>\n",
       "    <tr>\n",
       "      <th>2023-10-04 Antwerp-Shakhtar</th>\n",
       "      <td>Shakhtar Donetsk</td>\n",
       "      <td>48</td>\n",
       "      <td>2:1</td>\n",
       "      <td>Danylo Sikan</td>\n",
       "      <td>None</td>\n",
       "      <td>goal</td>\n",
       "    </tr>\n",
       "    <tr>\n",
       "      <th>2023-10-04 Antwerp-Shakhtar</th>\n",
       "      <td>Shakhtar Donetsk</td>\n",
       "      <td>66</td>\n",
       "      <td>2:1</td>\n",
       "      <td>Yaroslav Rakitskiy</td>\n",
       "      <td>None</td>\n",
       "      <td>yellow_card</td>\n",
       "    </tr>\n",
       "    <tr>\n",
       "      <th>2023-10-04 Antwerp-Shakhtar</th>\n",
       "      <td>Shakhtar Donetsk</td>\n",
       "      <td>71</td>\n",
       "      <td>2:2</td>\n",
       "      <td>Yaroslav Rakitskiy</td>\n",
       "      <td>None</td>\n",
       "      <td>goal</td>\n",
       "    </tr>\n",
       "    <tr>\n",
       "      <th>2023-10-04 Antwerp-Shakhtar</th>\n",
       "      <td>Antwerp</td>\n",
       "      <td>74</td>\n",
       "      <td>2:2</td>\n",
       "      <td>Anthony Valencia</td>\n",
       "      <td>Jurgen Ekkelenkamp</td>\n",
       "      <td>substitute_in</td>\n",
       "    </tr>\n",
       "    <tr>\n",
       "      <th>2023-10-04 Antwerp-Shakhtar</th>\n",
       "      <td>Shakhtar Donetsk</td>\n",
       "      <td>76</td>\n",
       "      <td>2:3</td>\n",
       "      <td>Danylo Sikan</td>\n",
       "      <td>Yehor Nazaryna</td>\n",
       "      <td>goal</td>\n",
       "    </tr>\n",
       "    <tr>\n",
       "      <th>2023-10-04 Antwerp-Shakhtar</th>\n",
       "      <td>Shakhtar Donetsk</td>\n",
       "      <td>82</td>\n",
       "      <td>2:3</td>\n",
       "      <td>Danylo Sikan</td>\n",
       "      <td>None</td>\n",
       "      <td>yellow_card</td>\n",
       "    </tr>\n",
       "    <tr>\n",
       "      <th>2023-10-04 Antwerp-Shakhtar</th>\n",
       "      <td>Antwerp</td>\n",
       "      <td>83</td>\n",
       "      <td>2:3</td>\n",
       "      <td>George Ilenikhena</td>\n",
       "      <td>Owen Wijndal</td>\n",
       "      <td>substitute_in</td>\n",
       "    </tr>\n",
       "    <tr>\n",
       "      <th>2023-10-04 Antwerp-Shakhtar</th>\n",
       "      <td>Antwerp</td>\n",
       "      <td>83</td>\n",
       "      <td>2:3</td>\n",
       "      <td>Alhassan Yusuf</td>\n",
       "      <td>Mandela Keita</td>\n",
       "      <td>substitute_in</td>\n",
       "    </tr>\n",
       "    <tr>\n",
       "      <th>2023-10-04 Antwerp-Shakhtar</th>\n",
       "      <td>Shakhtar Donetsk</td>\n",
       "      <td>87</td>\n",
       "      <td>2:3</td>\n",
       "      <td>Maryan Shved</td>\n",
       "      <td>Danylo Sikan</td>\n",
       "      <td>substitute_in</td>\n",
       "    </tr>\n",
       "    <tr>\n",
       "      <th>2023-10-04 Antwerp-Shakhtar</th>\n",
       "      <td>Antwerp</td>\n",
       "      <td>88</td>\n",
       "      <td>2:3</td>\n",
       "      <td>Zeno Van den Bosch</td>\n",
       "      <td>Arbnor Muja</td>\n",
       "      <td>substitute_in</td>\n",
       "    </tr>\n",
       "    <tr>\n",
       "      <th>2023-10-04 Antwerp-Shakhtar</th>\n",
       "      <td>Antwerp</td>\n",
       "      <td>90+1</td>\n",
       "      <td>2:3</td>\n",
       "      <td>Toby Alderweireld</td>\n",
       "      <td>None</td>\n",
       "      <td>yellow_card</td>\n",
       "    </tr>\n",
       "    <tr>\n",
       "      <th>2023-10-04 Antwerp-Shakhtar</th>\n",
       "      <td>Antwerp</td>\n",
       "      <td>90+7</td>\n",
       "      <td>2:3</td>\n",
       "      <td>Toby Alderweireld</td>\n",
       "      <td>None</td>\n",
       "      <td>penalty_miss</td>\n",
       "    </tr>\n",
       "  </tbody>\n",
       "</table>\n",
       "</div>"
      ],
      "text/plain": [
       "                                                                      team  \\\n",
       "league                season game                                            \n",
       "UEFA Champions League 2324   2023-10-04 Antwerp-Shakhtar           Antwerp   \n",
       "                             2023-10-04 Antwerp-Shakhtar           Antwerp   \n",
       "                             2023-10-04 Antwerp-Shakhtar           Antwerp   \n",
       "                             2023-10-04 Antwerp-Shakhtar  Shakhtar Donetsk   \n",
       "                             2023-10-04 Antwerp-Shakhtar           Antwerp   \n",
       "                             2023-10-04 Antwerp-Shakhtar  Shakhtar Donetsk   \n",
       "                             2023-10-04 Antwerp-Shakhtar  Shakhtar Donetsk   \n",
       "                             2023-10-04 Antwerp-Shakhtar  Shakhtar Donetsk   \n",
       "                             2023-10-04 Antwerp-Shakhtar           Antwerp   \n",
       "                             2023-10-04 Antwerp-Shakhtar  Shakhtar Donetsk   \n",
       "                             2023-10-04 Antwerp-Shakhtar  Shakhtar Donetsk   \n",
       "                             2023-10-04 Antwerp-Shakhtar           Antwerp   \n",
       "                             2023-10-04 Antwerp-Shakhtar           Antwerp   \n",
       "                             2023-10-04 Antwerp-Shakhtar  Shakhtar Donetsk   \n",
       "                             2023-10-04 Antwerp-Shakhtar           Antwerp   \n",
       "                             2023-10-04 Antwerp-Shakhtar           Antwerp   \n",
       "                             2023-10-04 Antwerp-Shakhtar           Antwerp   \n",
       "\n",
       "                                                         minute score  \\\n",
       "league                season game                                       \n",
       "UEFA Champions League 2324   2023-10-04 Antwerp-Shakhtar     12   1:0   \n",
       "                             2023-10-04 Antwerp-Shakhtar      3   1:0   \n",
       "                             2023-10-04 Antwerp-Shakhtar     33   2:0   \n",
       "                             2023-10-04 Antwerp-Shakhtar     36   2:0   \n",
       "                             2023-10-04 Antwerp-Shakhtar     37   2:0   \n",
       "                             2023-10-04 Antwerp-Shakhtar     48   2:1   \n",
       "                             2023-10-04 Antwerp-Shakhtar     66   2:1   \n",
       "                             2023-10-04 Antwerp-Shakhtar     71   2:2   \n",
       "                             2023-10-04 Antwerp-Shakhtar     74   2:2   \n",
       "                             2023-10-04 Antwerp-Shakhtar     76   2:3   \n",
       "                             2023-10-04 Antwerp-Shakhtar     82   2:3   \n",
       "                             2023-10-04 Antwerp-Shakhtar     83   2:3   \n",
       "                             2023-10-04 Antwerp-Shakhtar     83   2:3   \n",
       "                             2023-10-04 Antwerp-Shakhtar     87   2:3   \n",
       "                             2023-10-04 Antwerp-Shakhtar     88   2:3   \n",
       "                             2023-10-04 Antwerp-Shakhtar   90+1   2:3   \n",
       "                             2023-10-04 Antwerp-Shakhtar   90+7   2:3   \n",
       "\n",
       "                                                                         player1  \\\n",
       "league                season game                                                  \n",
       "UEFA Champions League 2324   2023-10-04 Antwerp-Shakhtar           Mandela Keita   \n",
       "                             2023-10-04 Antwerp-Shakhtar             Arbnor Muja   \n",
       "                             2023-10-04 Antwerp-Shakhtar  Michel-Ange Balikwisha   \n",
       "                             2023-10-04 Antwerp-Shakhtar         Yukhym Konoplia   \n",
       "                             2023-10-04 Antwerp-Shakhtar         Vincent Janssen   \n",
       "                             2023-10-04 Antwerp-Shakhtar            Danylo Sikan   \n",
       "                             2023-10-04 Antwerp-Shakhtar      Yaroslav Rakitskiy   \n",
       "                             2023-10-04 Antwerp-Shakhtar      Yaroslav Rakitskiy   \n",
       "                             2023-10-04 Antwerp-Shakhtar        Anthony Valencia   \n",
       "                             2023-10-04 Antwerp-Shakhtar            Danylo Sikan   \n",
       "                             2023-10-04 Antwerp-Shakhtar            Danylo Sikan   \n",
       "                             2023-10-04 Antwerp-Shakhtar       George Ilenikhena   \n",
       "                             2023-10-04 Antwerp-Shakhtar          Alhassan Yusuf   \n",
       "                             2023-10-04 Antwerp-Shakhtar            Maryan Shved   \n",
       "                             2023-10-04 Antwerp-Shakhtar      Zeno Van den Bosch   \n",
       "                             2023-10-04 Antwerp-Shakhtar       Toby Alderweireld   \n",
       "                             2023-10-04 Antwerp-Shakhtar       Toby Alderweireld   \n",
       "\n",
       "                                                                     player2  \\\n",
       "league                season game                                              \n",
       "UEFA Champions League 2324   2023-10-04 Antwerp-Shakhtar                None   \n",
       "                             2023-10-04 Antwerp-Shakhtar    Arthur Vermeeren   \n",
       "                             2023-10-04 Antwerp-Shakhtar    Arthur Vermeeren   \n",
       "                             2023-10-04 Antwerp-Shakhtar                None   \n",
       "                             2023-10-04 Antwerp-Shakhtar                None   \n",
       "                             2023-10-04 Antwerp-Shakhtar                None   \n",
       "                             2023-10-04 Antwerp-Shakhtar                None   \n",
       "                             2023-10-04 Antwerp-Shakhtar                None   \n",
       "                             2023-10-04 Antwerp-Shakhtar  Jurgen Ekkelenkamp   \n",
       "                             2023-10-04 Antwerp-Shakhtar      Yehor Nazaryna   \n",
       "                             2023-10-04 Antwerp-Shakhtar                None   \n",
       "                             2023-10-04 Antwerp-Shakhtar        Owen Wijndal   \n",
       "                             2023-10-04 Antwerp-Shakhtar       Mandela Keita   \n",
       "                             2023-10-04 Antwerp-Shakhtar        Danylo Sikan   \n",
       "                             2023-10-04 Antwerp-Shakhtar         Arbnor Muja   \n",
       "                             2023-10-04 Antwerp-Shakhtar                None   \n",
       "                             2023-10-04 Antwerp-Shakhtar                None   \n",
       "\n",
       "                                                             event_type  \n",
       "league                season game                                        \n",
       "UEFA Champions League 2324   2023-10-04 Antwerp-Shakhtar    yellow_card  \n",
       "                             2023-10-04 Antwerp-Shakhtar           goal  \n",
       "                             2023-10-04 Antwerp-Shakhtar           goal  \n",
       "                             2023-10-04 Antwerp-Shakhtar    yellow_card  \n",
       "                             2023-10-04 Antwerp-Shakhtar    yellow_card  \n",
       "                             2023-10-04 Antwerp-Shakhtar           goal  \n",
       "                             2023-10-04 Antwerp-Shakhtar    yellow_card  \n",
       "                             2023-10-04 Antwerp-Shakhtar           goal  \n",
       "                             2023-10-04 Antwerp-Shakhtar  substitute_in  \n",
       "                             2023-10-04 Antwerp-Shakhtar           goal  \n",
       "                             2023-10-04 Antwerp-Shakhtar    yellow_card  \n",
       "                             2023-10-04 Antwerp-Shakhtar  substitute_in  \n",
       "                             2023-10-04 Antwerp-Shakhtar  substitute_in  \n",
       "                             2023-10-04 Antwerp-Shakhtar  substitute_in  \n",
       "                             2023-10-04 Antwerp-Shakhtar  substitute_in  \n",
       "                             2023-10-04 Antwerp-Shakhtar    yellow_card  \n",
       "                             2023-10-04 Antwerp-Shakhtar   penalty_miss  "
      ]
     },
     "execution_count": 58,
     "metadata": {},
     "output_type": "execute_result"
    }
   ],
   "source": [
    "fb_ref.read_events(match_id=game.game_id)"
   ]
  },
  {
   "cell_type": "markdown",
   "id": "4e617da0-402b-46ff-b9bd-8213dd2a3163",
   "metadata": {},
   "source": [
    "#### Shot events"
   ]
  },
  {
   "cell_type": "code",
   "execution_count": 33,
   "id": "a3b990ae-91e2-4f7c-8e72-bd80115727ee",
   "metadata": {},
   "outputs": [
    {
     "data": {
      "text/html": [
       "<pre style=\"white-space:pre;overflow-x:auto;line-height:normal;font-family:Menlo,'DejaVu Sans Mono',consolas,'Courier New',monospace\"><span style=\"color: #7fbfbf; text-decoration-color: #7fbfbf\">[01/05/24 18:07:46] </span><span style=\"color: #000080; text-decoration-color: #000080\">INFO    </span> <span style=\"font-weight: bold\">[</span><span style=\"color: #008080; text-decoration-color: #008080; font-weight: bold\">1</span>/<span style=\"color: #008080; text-decoration-color: #008080; font-weight: bold\">1</span><span style=\"font-weight: bold\">]</span> Retrieving game with <span style=\"color: #808000; text-decoration-color: #808000\">id</span>=<span style=\"color: #800080; text-decoration-color: #800080\">89850a68</span>                                   <a href=\"file:///Users/okariuk/Shakhtar-Donetsk/.venv/lib/python3.11/site-packages/soccerdata/fbref.py\" target=\"_blank\"><span style=\"color: #7f7f7f; text-decoration-color: #7f7f7f\">fbref.py</span></a><span style=\"color: #7f7f7f; text-decoration-color: #7f7f7f\">:</span><a href=\"file:///Users/okariuk/Shakhtar-Donetsk/.venv/lib/python3.11/site-packages/soccerdata/fbref.py#1057\" target=\"_blank\"><span style=\"color: #7f7f7f; text-decoration-color: #7f7f7f\">1057</span></a>\n",
       "</pre>\n"
      ],
      "text/plain": [
       "\u001b[2;36m[01/05/24 18:07:46]\u001b[0m\u001b[2;36m \u001b[0m\u001b[34mINFO    \u001b[0m \u001b[1m[\u001b[0m\u001b[1;36m1\u001b[0m/\u001b[1;36m1\u001b[0m\u001b[1m]\u001b[0m Retrieving game with \u001b[33mid\u001b[0m=\u001b[35m89850a68\u001b[0m                                   \u001b]8;id=949152;file:///Users/okariuk/Shakhtar-Donetsk/.venv/lib/python3.11/site-packages/soccerdata/fbref.py\u001b\\\u001b[2mfbref.py\u001b[0m\u001b]8;;\u001b\\\u001b[2m:\u001b[0m\u001b]8;id=845282;file:///Users/okariuk/Shakhtar-Donetsk/.venv/lib/python3.11/site-packages/soccerdata/fbref.py#1057\u001b\\\u001b[2m1057\u001b[0m\u001b]8;;\u001b\\\n"
      ]
     },
     "metadata": {},
     "output_type": "display_data"
    },
    {
     "data": {
      "text/html": [
       "<div>\n",
       "<style scoped>\n",
       "    .dataframe tbody tr th:only-of-type {\n",
       "        vertical-align: middle;\n",
       "    }\n",
       "\n",
       "    .dataframe tbody tr th {\n",
       "        vertical-align: top;\n",
       "    }\n",
       "\n",
       "    .dataframe thead tr th {\n",
       "        text-align: left;\n",
       "    }\n",
       "\n",
       "    .dataframe thead tr:last-of-type th {\n",
       "        text-align: right;\n",
       "    }\n",
       "</style>\n",
       "<table border=\"1\" class=\"dataframe\">\n",
       "  <thead>\n",
       "    <tr>\n",
       "      <th></th>\n",
       "      <th></th>\n",
       "      <th></th>\n",
       "      <th>minute</th>\n",
       "      <th>player</th>\n",
       "      <th>team</th>\n",
       "      <th>xG</th>\n",
       "      <th>PSxG</th>\n",
       "      <th>outcome</th>\n",
       "      <th>distance</th>\n",
       "      <th>body_part</th>\n",
       "      <th>notes</th>\n",
       "      <th colspan=\"2\" halign=\"left\">SCA 1</th>\n",
       "      <th colspan=\"2\" halign=\"left\">SCA 2</th>\n",
       "    </tr>\n",
       "    <tr>\n",
       "      <th></th>\n",
       "      <th></th>\n",
       "      <th></th>\n",
       "      <th></th>\n",
       "      <th></th>\n",
       "      <th></th>\n",
       "      <th></th>\n",
       "      <th></th>\n",
       "      <th></th>\n",
       "      <th></th>\n",
       "      <th></th>\n",
       "      <th></th>\n",
       "      <th>player</th>\n",
       "      <th>event</th>\n",
       "      <th>player</th>\n",
       "      <th>event</th>\n",
       "    </tr>\n",
       "    <tr>\n",
       "      <th>league</th>\n",
       "      <th>season</th>\n",
       "      <th>game</th>\n",
       "      <th></th>\n",
       "      <th></th>\n",
       "      <th></th>\n",
       "      <th></th>\n",
       "      <th></th>\n",
       "      <th></th>\n",
       "      <th></th>\n",
       "      <th></th>\n",
       "      <th></th>\n",
       "      <th></th>\n",
       "      <th></th>\n",
       "      <th></th>\n",
       "      <th></th>\n",
       "    </tr>\n",
       "  </thead>\n",
       "  <tbody>\n",
       "    <tr>\n",
       "      <th rowspan=\"29\" valign=\"top\">UEFA Champions League</th>\n",
       "      <th rowspan=\"29\" valign=\"top\">2324</th>\n",
       "      <th>2023-10-04 Antwerp-Shakhtar</th>\n",
       "      <td>1</td>\n",
       "      <td>Taras Stepanenko</td>\n",
       "      <td>Shakhtar</td>\n",
       "      <td>0.02</td>\n",
       "      <td>0.15</td>\n",
       "      <td>Saved</td>\n",
       "      <td>34</td>\n",
       "      <td>Left Foot</td>\n",
       "      <td>&lt;NA&gt;</td>\n",
       "      <td>Danylo Sikan</td>\n",
       "      <td>Pass (Live)</td>\n",
       "      <td>&lt;NA&gt;</td>\n",
       "      <td>&lt;NA&gt;</td>\n",
       "    </tr>\n",
       "    <tr>\n",
       "      <th>2023-10-04 Antwerp-Shakhtar</th>\n",
       "      <td>3</td>\n",
       "      <td>Arbnor Muja</td>\n",
       "      <td>Antwerp</td>\n",
       "      <td>0.13</td>\n",
       "      <td>0.53</td>\n",
       "      <td>Goal</td>\n",
       "      <td>12</td>\n",
       "      <td>Left Foot</td>\n",
       "      <td>&lt;NA&gt;</td>\n",
       "      <td>Arbnor Muja</td>\n",
       "      <td>Take-On</td>\n",
       "      <td>Arthur Vermeeren</td>\n",
       "      <td>Pass (Live)</td>\n",
       "    </tr>\n",
       "    <tr>\n",
       "      <th>2023-10-04 Antwerp-Shakhtar</th>\n",
       "      <td>7</td>\n",
       "      <td>Arbnor Muja</td>\n",
       "      <td>Antwerp</td>\n",
       "      <td>0.05</td>\n",
       "      <td>&lt;NA&gt;</td>\n",
       "      <td>Off Target</td>\n",
       "      <td>21</td>\n",
       "      <td>Right Foot</td>\n",
       "      <td>Volley</td>\n",
       "      <td>Mandela Keita</td>\n",
       "      <td>Pass (Live)</td>\n",
       "      <td>Jelle Bataille</td>\n",
       "      <td>Pass (Live)</td>\n",
       "    </tr>\n",
       "    <tr>\n",
       "      <th>2023-10-04 Antwerp-Shakhtar</th>\n",
       "      <td>15</td>\n",
       "      <td>Vincent Janssen</td>\n",
       "      <td>Antwerp</td>\n",
       "      <td>0.03</td>\n",
       "      <td>&lt;NA&gt;</td>\n",
       "      <td>Woodwork</td>\n",
       "      <td>29</td>\n",
       "      <td>Right Foot</td>\n",
       "      <td>&lt;NA&gt;</td>\n",
       "      <td>Jurgen Ekkelenkamp</td>\n",
       "      <td>Pass (Live)</td>\n",
       "      <td>Mandela Keita</td>\n",
       "      <td>Pass (Live)</td>\n",
       "    </tr>\n",
       "    <tr>\n",
       "      <th>2023-10-04 Antwerp-Shakhtar</th>\n",
       "      <td>22</td>\n",
       "      <td>Arbnor Muja</td>\n",
       "      <td>Antwerp</td>\n",
       "      <td>0.03</td>\n",
       "      <td>0.09</td>\n",
       "      <td>Saved</td>\n",
       "      <td>25</td>\n",
       "      <td>Right Foot</td>\n",
       "      <td>Deflected</td>\n",
       "      <td>Arbnor Muja</td>\n",
       "      <td>Take-On</td>\n",
       "      <td>Toby Alderweireld</td>\n",
       "      <td>Pass (Live)</td>\n",
       "    </tr>\n",
       "    <tr>\n",
       "      <th>2023-10-04 Antwerp-Shakhtar</th>\n",
       "      <td>22</td>\n",
       "      <td>Danylo Sikan</td>\n",
       "      <td>Shakhtar</td>\n",
       "      <td>0.13</td>\n",
       "      <td>&lt;NA&gt;</td>\n",
       "      <td>Blocked</td>\n",
       "      <td>11</td>\n",
       "      <td>Left Foot</td>\n",
       "      <td>&lt;NA&gt;</td>\n",
       "      <td>Dmytro Kryskiv</td>\n",
       "      <td>Pass (Live)</td>\n",
       "      <td>Heorhii Sudakov</td>\n",
       "      <td>Pass (Live)</td>\n",
       "    </tr>\n",
       "    <tr>\n",
       "      <th>2023-10-04 Antwerp-Shakhtar</th>\n",
       "      <td>22</td>\n",
       "      <td>Taras Stepanenko</td>\n",
       "      <td>Shakhtar</td>\n",
       "      <td>0.04</td>\n",
       "      <td>&lt;NA&gt;</td>\n",
       "      <td>Blocked</td>\n",
       "      <td>20</td>\n",
       "      <td>Right Foot</td>\n",
       "      <td>Deflected</td>\n",
       "      <td>Danylo Sikan</td>\n",
       "      <td>Shot</td>\n",
       "      <td>&lt;NA&gt;</td>\n",
       "      <td>&lt;NA&gt;</td>\n",
       "    </tr>\n",
       "    <tr>\n",
       "      <th>2023-10-04 Antwerp-Shakhtar</th>\n",
       "      <td>23</td>\n",
       "      <td>Mykola Matviyenko</td>\n",
       "      <td>Shakhtar</td>\n",
       "      <td>0.2</td>\n",
       "      <td>&lt;NA&gt;</td>\n",
       "      <td>Off Target</td>\n",
       "      <td>4</td>\n",
       "      <td>Left Foot</td>\n",
       "      <td>&lt;NA&gt;</td>\n",
       "      <td>Yaroslav Rakitskiy</td>\n",
       "      <td>Pass (Live)</td>\n",
       "      <td>Heorhii Sudakov</td>\n",
       "      <td>Pass (Dead)</td>\n",
       "    </tr>\n",
       "    <tr>\n",
       "      <th>2023-10-04 Antwerp-Shakhtar</th>\n",
       "      <td>24</td>\n",
       "      <td>Oleksandr Zubkov</td>\n",
       "      <td>Shakhtar</td>\n",
       "      <td>0.03</td>\n",
       "      <td>&lt;NA&gt;</td>\n",
       "      <td>Blocked</td>\n",
       "      <td>25</td>\n",
       "      <td>Left Foot</td>\n",
       "      <td>&lt;NA&gt;</td>\n",
       "      <td>Danylo Sikan</td>\n",
       "      <td>Pass (Live)</td>\n",
       "      <td>Yukhym Konoplia</td>\n",
       "      <td>Pass (Live)</td>\n",
       "    </tr>\n",
       "    <tr>\n",
       "      <th>2023-10-04 Antwerp-Shakhtar</th>\n",
       "      <td>33</td>\n",
       "      <td>Dmytro Kryskiv</td>\n",
       "      <td>Shakhtar</td>\n",
       "      <td>0.02</td>\n",
       "      <td>0.04</td>\n",
       "      <td>Saved</td>\n",
       "      <td>18</td>\n",
       "      <td>Right Foot</td>\n",
       "      <td>&lt;NA&gt;</td>\n",
       "      <td>Heorhii Sudakov</td>\n",
       "      <td>Pass (Live)</td>\n",
       "      <td>Dmytro Kryskiv</td>\n",
       "      <td>Pass (Live)</td>\n",
       "    </tr>\n",
       "    <tr>\n",
       "      <th>2023-10-04 Antwerp-Shakhtar</th>\n",
       "      <td>34</td>\n",
       "      <td>Michel-Ange Balikwisha</td>\n",
       "      <td>Antwerp</td>\n",
       "      <td>0.31</td>\n",
       "      <td>0.58</td>\n",
       "      <td>Goal</td>\n",
       "      <td>22</td>\n",
       "      <td>Right Foot</td>\n",
       "      <td>&lt;NA&gt;</td>\n",
       "      <td>Arthur Vermeeren</td>\n",
       "      <td>Pass (Live)</td>\n",
       "      <td>Jean Butez</td>\n",
       "      <td>Pass (Live)</td>\n",
       "    </tr>\n",
       "    <tr>\n",
       "      <th>2023-10-04 Antwerp-Shakhtar</th>\n",
       "      <td>48</td>\n",
       "      <td>Heorhii Sudakov</td>\n",
       "      <td>Shakhtar</td>\n",
       "      <td>0.02</td>\n",
       "      <td>&lt;NA&gt;</td>\n",
       "      <td>Woodwork</td>\n",
       "      <td>23</td>\n",
       "      <td>Right Foot</td>\n",
       "      <td>&lt;NA&gt;</td>\n",
       "      <td>Dmytro Kryskiv</td>\n",
       "      <td>Pass (Live)</td>\n",
       "      <td>Yukhym Konoplia</td>\n",
       "      <td>Pass (Live)</td>\n",
       "    </tr>\n",
       "    <tr>\n",
       "      <th>2023-10-04 Antwerp-Shakhtar</th>\n",
       "      <td>48</td>\n",
       "      <td>Yehor Nazaryna</td>\n",
       "      <td>Shakhtar</td>\n",
       "      <td>0.16</td>\n",
       "      <td>0.41</td>\n",
       "      <td>Saved</td>\n",
       "      <td>10</td>\n",
       "      <td>Left Foot</td>\n",
       "      <td>Deflected</td>\n",
       "      <td>Irakli Azarov</td>\n",
       "      <td>Pass (Live)</td>\n",
       "      <td>Danylo Sikan</td>\n",
       "      <td>Pass (Live)</td>\n",
       "    </tr>\n",
       "    <tr>\n",
       "      <th>2023-10-04 Antwerp-Shakhtar</th>\n",
       "      <td>48</td>\n",
       "      <td>Danylo Sikan</td>\n",
       "      <td>Shakhtar</td>\n",
       "      <td>0.46</td>\n",
       "      <td>0.98</td>\n",
       "      <td>Goal</td>\n",
       "      <td>4</td>\n",
       "      <td>Head</td>\n",
       "      <td>&lt;NA&gt;</td>\n",
       "      <td>Yehor Nazaryna</td>\n",
       "      <td>Shot</td>\n",
       "      <td>&lt;NA&gt;</td>\n",
       "      <td>&lt;NA&gt;</td>\n",
       "    </tr>\n",
       "    <tr>\n",
       "      <th>2023-10-04 Antwerp-Shakhtar</th>\n",
       "      <td>55</td>\n",
       "      <td>Yukhym Konoplia</td>\n",
       "      <td>Shakhtar</td>\n",
       "      <td>0.06</td>\n",
       "      <td>&lt;NA&gt;</td>\n",
       "      <td>Blocked</td>\n",
       "      <td>13</td>\n",
       "      <td>Left Foot</td>\n",
       "      <td>&lt;NA&gt;</td>\n",
       "      <td>Danylo Sikan</td>\n",
       "      <td>Pass (Live)</td>\n",
       "      <td>Heorhii Sudakov</td>\n",
       "      <td>Pass (Live)</td>\n",
       "    </tr>\n",
       "    <tr>\n",
       "      <th>2023-10-04 Antwerp-Shakhtar</th>\n",
       "      <td>57</td>\n",
       "      <td>Yehor Nazaryna</td>\n",
       "      <td>Shakhtar</td>\n",
       "      <td>0.02</td>\n",
       "      <td>&lt;NA&gt;</td>\n",
       "      <td>Off Target</td>\n",
       "      <td>28</td>\n",
       "      <td>Right Foot</td>\n",
       "      <td>&lt;NA&gt;</td>\n",
       "      <td>Irakli Azarov</td>\n",
       "      <td>Pass (Live)</td>\n",
       "      <td>Taras Stepanenko</td>\n",
       "      <td>Pass (Live)</td>\n",
       "    </tr>\n",
       "    <tr>\n",
       "      <th>2023-10-04 Antwerp-Shakhtar</th>\n",
       "      <td>57</td>\n",
       "      <td>Arthur Vermeeren</td>\n",
       "      <td>Antwerp</td>\n",
       "      <td>0.03</td>\n",
       "      <td>0.17</td>\n",
       "      <td>Saved</td>\n",
       "      <td>19</td>\n",
       "      <td>Right Foot</td>\n",
       "      <td>&lt;NA&gt;</td>\n",
       "      <td>Arthur Vermeeren</td>\n",
       "      <td>Pass (Live)</td>\n",
       "      <td>Arthur Vermeeren</td>\n",
       "      <td>Take-On</td>\n",
       "    </tr>\n",
       "    <tr>\n",
       "      <th>2023-10-04 Antwerp-Shakhtar</th>\n",
       "      <td>64</td>\n",
       "      <td>Danylo Sikan</td>\n",
       "      <td>Shakhtar</td>\n",
       "      <td>0.03</td>\n",
       "      <td>&lt;NA&gt;</td>\n",
       "      <td>Blocked</td>\n",
       "      <td>18</td>\n",
       "      <td>Right Foot</td>\n",
       "      <td>Volley</td>\n",
       "      <td>Oleksandr Zubkov</td>\n",
       "      <td>Pass (Live)</td>\n",
       "      <td>Irakli Azarov</td>\n",
       "      <td>Pass (Live)</td>\n",
       "    </tr>\n",
       "    <tr>\n",
       "      <th>2023-10-04 Antwerp-Shakhtar</th>\n",
       "      <td>66</td>\n",
       "      <td>Oleksandr Zubkov</td>\n",
       "      <td>Shakhtar</td>\n",
       "      <td>0.09</td>\n",
       "      <td>&lt;NA&gt;</td>\n",
       "      <td>Off Target</td>\n",
       "      <td>11</td>\n",
       "      <td>Right Foot</td>\n",
       "      <td>Volley</td>\n",
       "      <td>Irakli Azarov</td>\n",
       "      <td>Pass (Live)</td>\n",
       "      <td>Dmytro Kryskiv</td>\n",
       "      <td>Pass (Live)</td>\n",
       "    </tr>\n",
       "    <tr>\n",
       "      <th>2023-10-04 Antwerp-Shakhtar</th>\n",
       "      <td>67</td>\n",
       "      <td>Vincent Janssen</td>\n",
       "      <td>Antwerp</td>\n",
       "      <td>0.17</td>\n",
       "      <td>&lt;NA&gt;</td>\n",
       "      <td>Blocked</td>\n",
       "      <td>12</td>\n",
       "      <td>Left Foot</td>\n",
       "      <td>&lt;NA&gt;</td>\n",
       "      <td>Jurgen Ekkelenkamp</td>\n",
       "      <td>Pass (Live)</td>\n",
       "      <td>&lt;NA&gt;</td>\n",
       "      <td>&lt;NA&gt;</td>\n",
       "    </tr>\n",
       "    <tr>\n",
       "      <th>2023-10-04 Antwerp-Shakhtar</th>\n",
       "      <td>67</td>\n",
       "      <td>Arthur Vermeeren</td>\n",
       "      <td>Antwerp</td>\n",
       "      <td>0.17</td>\n",
       "      <td>&lt;NA&gt;</td>\n",
       "      <td>Off Target</td>\n",
       "      <td>20</td>\n",
       "      <td>Right Foot</td>\n",
       "      <td>&lt;NA&gt;</td>\n",
       "      <td>Vincent Janssen</td>\n",
       "      <td>Shot</td>\n",
       "      <td>&lt;NA&gt;</td>\n",
       "      <td>&lt;NA&gt;</td>\n",
       "    </tr>\n",
       "    <tr>\n",
       "      <th>2023-10-04 Antwerp-Shakhtar</th>\n",
       "      <td>71</td>\n",
       "      <td>Yaroslav Rakitskiy</td>\n",
       "      <td>Shakhtar</td>\n",
       "      <td>0.05</td>\n",
       "      <td>0.12</td>\n",
       "      <td>Goal</td>\n",
       "      <td>23</td>\n",
       "      <td>Left Foot</td>\n",
       "      <td>Free kick, Deflected</td>\n",
       "      <td>Danylo Sikan</td>\n",
       "      <td>Fouled</td>\n",
       "      <td>Yukhym Konoplia</td>\n",
       "      <td>Pass (Live)</td>\n",
       "    </tr>\n",
       "    <tr>\n",
       "      <th>2023-10-04 Antwerp-Shakhtar</th>\n",
       "      <td>76</td>\n",
       "      <td>Danylo Sikan</td>\n",
       "      <td>Shakhtar</td>\n",
       "      <td>0.03</td>\n",
       "      <td>&lt;NA&gt;</td>\n",
       "      <td>Off Target</td>\n",
       "      <td>18</td>\n",
       "      <td>Left Foot</td>\n",
       "      <td>&lt;NA&gt;</td>\n",
       "      <td>&lt;NA&gt;</td>\n",
       "      <td>&lt;NA&gt;</td>\n",
       "      <td>&lt;NA&gt;</td>\n",
       "      <td>&lt;NA&gt;</td>\n",
       "    </tr>\n",
       "    <tr>\n",
       "      <th>2023-10-04 Antwerp-Shakhtar</th>\n",
       "      <td>76</td>\n",
       "      <td>Danylo Sikan</td>\n",
       "      <td>Shakhtar</td>\n",
       "      <td>0.98</td>\n",
       "      <td>0.88</td>\n",
       "      <td>Goal</td>\n",
       "      <td>7</td>\n",
       "      <td>Right Foot</td>\n",
       "      <td>&lt;NA&gt;</td>\n",
       "      <td>Yehor Nazaryna</td>\n",
       "      <td>Pass (Live)</td>\n",
       "      <td>Yehor Nazaryna</td>\n",
       "      <td>Pass (Live)</td>\n",
       "    </tr>\n",
       "    <tr>\n",
       "      <th>2023-10-04 Antwerp-Shakhtar</th>\n",
       "      <td>84</td>\n",
       "      <td>Toby Alderweireld</td>\n",
       "      <td>Antwerp</td>\n",
       "      <td>0.05</td>\n",
       "      <td>0.25</td>\n",
       "      <td>Saved</td>\n",
       "      <td>30</td>\n",
       "      <td>Right Foot</td>\n",
       "      <td>Free kick</td>\n",
       "      <td>Arthur Vermeeren</td>\n",
       "      <td>Fouled</td>\n",
       "      <td>Toby Alderweireld</td>\n",
       "      <td>Pass (Live)</td>\n",
       "    </tr>\n",
       "    <tr>\n",
       "      <th>2023-10-04 Antwerp-Shakhtar</th>\n",
       "      <td>86</td>\n",
       "      <td>Alhassan Yusuf</td>\n",
       "      <td>Antwerp</td>\n",
       "      <td>0.03</td>\n",
       "      <td>&lt;NA&gt;</td>\n",
       "      <td>Off Target</td>\n",
       "      <td>26</td>\n",
       "      <td>Right Foot</td>\n",
       "      <td>&lt;NA&gt;</td>\n",
       "      <td>Arbnor Muja</td>\n",
       "      <td>Pass (Live)</td>\n",
       "      <td>Alhassan Yusuf</td>\n",
       "      <td>Pass (Live)</td>\n",
       "    </tr>\n",
       "    <tr>\n",
       "      <th>2023-10-04 Antwerp-Shakhtar</th>\n",
       "      <td>90</td>\n",
       "      <td>Toby Alderweireld</td>\n",
       "      <td>Antwerp</td>\n",
       "      <td>0.06</td>\n",
       "      <td>0.11</td>\n",
       "      <td>Saved</td>\n",
       "      <td>10</td>\n",
       "      <td>Head</td>\n",
       "      <td>&lt;NA&gt;</td>\n",
       "      <td>Michel-Ange Balikwisha</td>\n",
       "      <td>Pass (Live)</td>\n",
       "      <td>Zeno Van den Bosch</td>\n",
       "      <td>Pass (Live)</td>\n",
       "    </tr>\n",
       "    <tr>\n",
       "      <th>2023-10-04 Antwerp-Shakhtar</th>\n",
       "      <td>90+6</td>\n",
       "      <td>Toby Alderweireld</td>\n",
       "      <td>Antwerp</td>\n",
       "      <td>0.04</td>\n",
       "      <td>&lt;NA&gt;</td>\n",
       "      <td>Blocked</td>\n",
       "      <td>22</td>\n",
       "      <td>Right Foot</td>\n",
       "      <td>&lt;NA&gt;</td>\n",
       "      <td>George Ilenikhena</td>\n",
       "      <td>Pass (Live)</td>\n",
       "      <td>Soumaïla Coulibaly</td>\n",
       "      <td>Pass (Live)</td>\n",
       "    </tr>\n",
       "    <tr>\n",
       "      <th>2023-10-04 Antwerp-Shakhtar</th>\n",
       "      <td>90+7</td>\n",
       "      <td>Toby Alderweireld (pen)</td>\n",
       "      <td>Antwerp</td>\n",
       "      <td>0.79</td>\n",
       "      <td>&lt;NA&gt;</td>\n",
       "      <td>Off Target</td>\n",
       "      <td>13</td>\n",
       "      <td>Right Foot</td>\n",
       "      <td>&lt;NA&gt;</td>\n",
       "      <td>&lt;NA&gt;</td>\n",
       "      <td>Fouled</td>\n",
       "      <td>Toby Alderweireld</td>\n",
       "      <td>Shot</td>\n",
       "    </tr>\n",
       "  </tbody>\n",
       "</table>\n",
       "</div>"
      ],
      "text/plain": [
       "                                                         minute  \\\n",
       "                                                                  \n",
       "league                season game                                 \n",
       "UEFA Champions League 2324   2023-10-04 Antwerp-Shakhtar      1   \n",
       "                             2023-10-04 Antwerp-Shakhtar      3   \n",
       "                             2023-10-04 Antwerp-Shakhtar      7   \n",
       "                             2023-10-04 Antwerp-Shakhtar     15   \n",
       "                             2023-10-04 Antwerp-Shakhtar     22   \n",
       "                             2023-10-04 Antwerp-Shakhtar     22   \n",
       "                             2023-10-04 Antwerp-Shakhtar     22   \n",
       "                             2023-10-04 Antwerp-Shakhtar     23   \n",
       "                             2023-10-04 Antwerp-Shakhtar     24   \n",
       "                             2023-10-04 Antwerp-Shakhtar     33   \n",
       "                             2023-10-04 Antwerp-Shakhtar     34   \n",
       "                             2023-10-04 Antwerp-Shakhtar     48   \n",
       "                             2023-10-04 Antwerp-Shakhtar     48   \n",
       "                             2023-10-04 Antwerp-Shakhtar     48   \n",
       "                             2023-10-04 Antwerp-Shakhtar     55   \n",
       "                             2023-10-04 Antwerp-Shakhtar     57   \n",
       "                             2023-10-04 Antwerp-Shakhtar     57   \n",
       "                             2023-10-04 Antwerp-Shakhtar     64   \n",
       "                             2023-10-04 Antwerp-Shakhtar     66   \n",
       "                             2023-10-04 Antwerp-Shakhtar     67   \n",
       "                             2023-10-04 Antwerp-Shakhtar     67   \n",
       "                             2023-10-04 Antwerp-Shakhtar     71   \n",
       "                             2023-10-04 Antwerp-Shakhtar     76   \n",
       "                             2023-10-04 Antwerp-Shakhtar     76   \n",
       "                             2023-10-04 Antwerp-Shakhtar     84   \n",
       "                             2023-10-04 Antwerp-Shakhtar     86   \n",
       "                             2023-10-04 Antwerp-Shakhtar     90   \n",
       "                             2023-10-04 Antwerp-Shakhtar   90+6   \n",
       "                             2023-10-04 Antwerp-Shakhtar   90+7   \n",
       "\n",
       "                                                                           player  \\\n",
       "                                                                                    \n",
       "league                season game                                                   \n",
       "UEFA Champions League 2324   2023-10-04 Antwerp-Shakhtar         Taras Stepanenko   \n",
       "                             2023-10-04 Antwerp-Shakhtar              Arbnor Muja   \n",
       "                             2023-10-04 Antwerp-Shakhtar              Arbnor Muja   \n",
       "                             2023-10-04 Antwerp-Shakhtar          Vincent Janssen   \n",
       "                             2023-10-04 Antwerp-Shakhtar              Arbnor Muja   \n",
       "                             2023-10-04 Antwerp-Shakhtar             Danylo Sikan   \n",
       "                             2023-10-04 Antwerp-Shakhtar         Taras Stepanenko   \n",
       "                             2023-10-04 Antwerp-Shakhtar        Mykola Matviyenko   \n",
       "                             2023-10-04 Antwerp-Shakhtar         Oleksandr Zubkov   \n",
       "                             2023-10-04 Antwerp-Shakhtar           Dmytro Kryskiv   \n",
       "                             2023-10-04 Antwerp-Shakhtar   Michel-Ange Balikwisha   \n",
       "                             2023-10-04 Antwerp-Shakhtar          Heorhii Sudakov   \n",
       "                             2023-10-04 Antwerp-Shakhtar           Yehor Nazaryna   \n",
       "                             2023-10-04 Antwerp-Shakhtar             Danylo Sikan   \n",
       "                             2023-10-04 Antwerp-Shakhtar          Yukhym Konoplia   \n",
       "                             2023-10-04 Antwerp-Shakhtar           Yehor Nazaryna   \n",
       "                             2023-10-04 Antwerp-Shakhtar         Arthur Vermeeren   \n",
       "                             2023-10-04 Antwerp-Shakhtar             Danylo Sikan   \n",
       "                             2023-10-04 Antwerp-Shakhtar         Oleksandr Zubkov   \n",
       "                             2023-10-04 Antwerp-Shakhtar          Vincent Janssen   \n",
       "                             2023-10-04 Antwerp-Shakhtar         Arthur Vermeeren   \n",
       "                             2023-10-04 Antwerp-Shakhtar       Yaroslav Rakitskiy   \n",
       "                             2023-10-04 Antwerp-Shakhtar             Danylo Sikan   \n",
       "                             2023-10-04 Antwerp-Shakhtar             Danylo Sikan   \n",
       "                             2023-10-04 Antwerp-Shakhtar        Toby Alderweireld   \n",
       "                             2023-10-04 Antwerp-Shakhtar           Alhassan Yusuf   \n",
       "                             2023-10-04 Antwerp-Shakhtar        Toby Alderweireld   \n",
       "                             2023-10-04 Antwerp-Shakhtar        Toby Alderweireld   \n",
       "                             2023-10-04 Antwerp-Shakhtar  Toby Alderweireld (pen)   \n",
       "\n",
       "                                                              team    xG  \\\n",
       "                                                                           \n",
       "league                season game                                          \n",
       "UEFA Champions League 2324   2023-10-04 Antwerp-Shakhtar  Shakhtar  0.02   \n",
       "                             2023-10-04 Antwerp-Shakhtar   Antwerp  0.13   \n",
       "                             2023-10-04 Antwerp-Shakhtar   Antwerp  0.05   \n",
       "                             2023-10-04 Antwerp-Shakhtar   Antwerp  0.03   \n",
       "                             2023-10-04 Antwerp-Shakhtar   Antwerp  0.03   \n",
       "                             2023-10-04 Antwerp-Shakhtar  Shakhtar  0.13   \n",
       "                             2023-10-04 Antwerp-Shakhtar  Shakhtar  0.04   \n",
       "                             2023-10-04 Antwerp-Shakhtar  Shakhtar   0.2   \n",
       "                             2023-10-04 Antwerp-Shakhtar  Shakhtar  0.03   \n",
       "                             2023-10-04 Antwerp-Shakhtar  Shakhtar  0.02   \n",
       "                             2023-10-04 Antwerp-Shakhtar   Antwerp  0.31   \n",
       "                             2023-10-04 Antwerp-Shakhtar  Shakhtar  0.02   \n",
       "                             2023-10-04 Antwerp-Shakhtar  Shakhtar  0.16   \n",
       "                             2023-10-04 Antwerp-Shakhtar  Shakhtar  0.46   \n",
       "                             2023-10-04 Antwerp-Shakhtar  Shakhtar  0.06   \n",
       "                             2023-10-04 Antwerp-Shakhtar  Shakhtar  0.02   \n",
       "                             2023-10-04 Antwerp-Shakhtar   Antwerp  0.03   \n",
       "                             2023-10-04 Antwerp-Shakhtar  Shakhtar  0.03   \n",
       "                             2023-10-04 Antwerp-Shakhtar  Shakhtar  0.09   \n",
       "                             2023-10-04 Antwerp-Shakhtar   Antwerp  0.17   \n",
       "                             2023-10-04 Antwerp-Shakhtar   Antwerp  0.17   \n",
       "                             2023-10-04 Antwerp-Shakhtar  Shakhtar  0.05   \n",
       "                             2023-10-04 Antwerp-Shakhtar  Shakhtar  0.03   \n",
       "                             2023-10-04 Antwerp-Shakhtar  Shakhtar  0.98   \n",
       "                             2023-10-04 Antwerp-Shakhtar   Antwerp  0.05   \n",
       "                             2023-10-04 Antwerp-Shakhtar   Antwerp  0.03   \n",
       "                             2023-10-04 Antwerp-Shakhtar   Antwerp  0.06   \n",
       "                             2023-10-04 Antwerp-Shakhtar   Antwerp  0.04   \n",
       "                             2023-10-04 Antwerp-Shakhtar   Antwerp  0.79   \n",
       "\n",
       "                                                          PSxG     outcome  \\\n",
       "                                                                             \n",
       "league                season game                                            \n",
       "UEFA Champions League 2324   2023-10-04 Antwerp-Shakhtar  0.15       Saved   \n",
       "                             2023-10-04 Antwerp-Shakhtar  0.53        Goal   \n",
       "                             2023-10-04 Antwerp-Shakhtar  <NA>  Off Target   \n",
       "                             2023-10-04 Antwerp-Shakhtar  <NA>    Woodwork   \n",
       "                             2023-10-04 Antwerp-Shakhtar  0.09       Saved   \n",
       "                             2023-10-04 Antwerp-Shakhtar  <NA>     Blocked   \n",
       "                             2023-10-04 Antwerp-Shakhtar  <NA>     Blocked   \n",
       "                             2023-10-04 Antwerp-Shakhtar  <NA>  Off Target   \n",
       "                             2023-10-04 Antwerp-Shakhtar  <NA>     Blocked   \n",
       "                             2023-10-04 Antwerp-Shakhtar  0.04       Saved   \n",
       "                             2023-10-04 Antwerp-Shakhtar  0.58        Goal   \n",
       "                             2023-10-04 Antwerp-Shakhtar  <NA>    Woodwork   \n",
       "                             2023-10-04 Antwerp-Shakhtar  0.41       Saved   \n",
       "                             2023-10-04 Antwerp-Shakhtar  0.98        Goal   \n",
       "                             2023-10-04 Antwerp-Shakhtar  <NA>     Blocked   \n",
       "                             2023-10-04 Antwerp-Shakhtar  <NA>  Off Target   \n",
       "                             2023-10-04 Antwerp-Shakhtar  0.17       Saved   \n",
       "                             2023-10-04 Antwerp-Shakhtar  <NA>     Blocked   \n",
       "                             2023-10-04 Antwerp-Shakhtar  <NA>  Off Target   \n",
       "                             2023-10-04 Antwerp-Shakhtar  <NA>     Blocked   \n",
       "                             2023-10-04 Antwerp-Shakhtar  <NA>  Off Target   \n",
       "                             2023-10-04 Antwerp-Shakhtar  0.12        Goal   \n",
       "                             2023-10-04 Antwerp-Shakhtar  <NA>  Off Target   \n",
       "                             2023-10-04 Antwerp-Shakhtar  0.88        Goal   \n",
       "                             2023-10-04 Antwerp-Shakhtar  0.25       Saved   \n",
       "                             2023-10-04 Antwerp-Shakhtar  <NA>  Off Target   \n",
       "                             2023-10-04 Antwerp-Shakhtar  0.11       Saved   \n",
       "                             2023-10-04 Antwerp-Shakhtar  <NA>     Blocked   \n",
       "                             2023-10-04 Antwerp-Shakhtar  <NA>  Off Target   \n",
       "\n",
       "                                                         distance   body_part  \\\n",
       "                                                                                \n",
       "league                season game                                               \n",
       "UEFA Champions League 2324   2023-10-04 Antwerp-Shakhtar       34   Left Foot   \n",
       "                             2023-10-04 Antwerp-Shakhtar       12   Left Foot   \n",
       "                             2023-10-04 Antwerp-Shakhtar       21  Right Foot   \n",
       "                             2023-10-04 Antwerp-Shakhtar       29  Right Foot   \n",
       "                             2023-10-04 Antwerp-Shakhtar       25  Right Foot   \n",
       "                             2023-10-04 Antwerp-Shakhtar       11   Left Foot   \n",
       "                             2023-10-04 Antwerp-Shakhtar       20  Right Foot   \n",
       "                             2023-10-04 Antwerp-Shakhtar        4   Left Foot   \n",
       "                             2023-10-04 Antwerp-Shakhtar       25   Left Foot   \n",
       "                             2023-10-04 Antwerp-Shakhtar       18  Right Foot   \n",
       "                             2023-10-04 Antwerp-Shakhtar       22  Right Foot   \n",
       "                             2023-10-04 Antwerp-Shakhtar       23  Right Foot   \n",
       "                             2023-10-04 Antwerp-Shakhtar       10   Left Foot   \n",
       "                             2023-10-04 Antwerp-Shakhtar        4        Head   \n",
       "                             2023-10-04 Antwerp-Shakhtar       13   Left Foot   \n",
       "                             2023-10-04 Antwerp-Shakhtar       28  Right Foot   \n",
       "                             2023-10-04 Antwerp-Shakhtar       19  Right Foot   \n",
       "                             2023-10-04 Antwerp-Shakhtar       18  Right Foot   \n",
       "                             2023-10-04 Antwerp-Shakhtar       11  Right Foot   \n",
       "                             2023-10-04 Antwerp-Shakhtar       12   Left Foot   \n",
       "                             2023-10-04 Antwerp-Shakhtar       20  Right Foot   \n",
       "                             2023-10-04 Antwerp-Shakhtar       23   Left Foot   \n",
       "                             2023-10-04 Antwerp-Shakhtar       18   Left Foot   \n",
       "                             2023-10-04 Antwerp-Shakhtar        7  Right Foot   \n",
       "                             2023-10-04 Antwerp-Shakhtar       30  Right Foot   \n",
       "                             2023-10-04 Antwerp-Shakhtar       26  Right Foot   \n",
       "                             2023-10-04 Antwerp-Shakhtar       10        Head   \n",
       "                             2023-10-04 Antwerp-Shakhtar       22  Right Foot   \n",
       "                             2023-10-04 Antwerp-Shakhtar       13  Right Foot   \n",
       "\n",
       "                                                                         notes  \\\n",
       "                                                                                 \n",
       "league                season game                                                \n",
       "UEFA Champions League 2324   2023-10-04 Antwerp-Shakhtar                  <NA>   \n",
       "                             2023-10-04 Antwerp-Shakhtar                  <NA>   \n",
       "                             2023-10-04 Antwerp-Shakhtar                Volley   \n",
       "                             2023-10-04 Antwerp-Shakhtar                  <NA>   \n",
       "                             2023-10-04 Antwerp-Shakhtar             Deflected   \n",
       "                             2023-10-04 Antwerp-Shakhtar                  <NA>   \n",
       "                             2023-10-04 Antwerp-Shakhtar             Deflected   \n",
       "                             2023-10-04 Antwerp-Shakhtar                  <NA>   \n",
       "                             2023-10-04 Antwerp-Shakhtar                  <NA>   \n",
       "                             2023-10-04 Antwerp-Shakhtar                  <NA>   \n",
       "                             2023-10-04 Antwerp-Shakhtar                  <NA>   \n",
       "                             2023-10-04 Antwerp-Shakhtar                  <NA>   \n",
       "                             2023-10-04 Antwerp-Shakhtar             Deflected   \n",
       "                             2023-10-04 Antwerp-Shakhtar                  <NA>   \n",
       "                             2023-10-04 Antwerp-Shakhtar                  <NA>   \n",
       "                             2023-10-04 Antwerp-Shakhtar                  <NA>   \n",
       "                             2023-10-04 Antwerp-Shakhtar                  <NA>   \n",
       "                             2023-10-04 Antwerp-Shakhtar                Volley   \n",
       "                             2023-10-04 Antwerp-Shakhtar                Volley   \n",
       "                             2023-10-04 Antwerp-Shakhtar                  <NA>   \n",
       "                             2023-10-04 Antwerp-Shakhtar                  <NA>   \n",
       "                             2023-10-04 Antwerp-Shakhtar  Free kick, Deflected   \n",
       "                             2023-10-04 Antwerp-Shakhtar                  <NA>   \n",
       "                             2023-10-04 Antwerp-Shakhtar                  <NA>   \n",
       "                             2023-10-04 Antwerp-Shakhtar             Free kick   \n",
       "                             2023-10-04 Antwerp-Shakhtar                  <NA>   \n",
       "                             2023-10-04 Antwerp-Shakhtar                  <NA>   \n",
       "                             2023-10-04 Antwerp-Shakhtar                  <NA>   \n",
       "                             2023-10-04 Antwerp-Shakhtar                  <NA>   \n",
       "\n",
       "                                                                           SCA 1  \\\n",
       "                                                                          player   \n",
       "league                season game                                                  \n",
       "UEFA Champions League 2324   2023-10-04 Antwerp-Shakhtar            Danylo Sikan   \n",
       "                             2023-10-04 Antwerp-Shakhtar             Arbnor Muja   \n",
       "                             2023-10-04 Antwerp-Shakhtar           Mandela Keita   \n",
       "                             2023-10-04 Antwerp-Shakhtar      Jurgen Ekkelenkamp   \n",
       "                             2023-10-04 Antwerp-Shakhtar             Arbnor Muja   \n",
       "                             2023-10-04 Antwerp-Shakhtar          Dmytro Kryskiv   \n",
       "                             2023-10-04 Antwerp-Shakhtar            Danylo Sikan   \n",
       "                             2023-10-04 Antwerp-Shakhtar      Yaroslav Rakitskiy   \n",
       "                             2023-10-04 Antwerp-Shakhtar            Danylo Sikan   \n",
       "                             2023-10-04 Antwerp-Shakhtar         Heorhii Sudakov   \n",
       "                             2023-10-04 Antwerp-Shakhtar        Arthur Vermeeren   \n",
       "                             2023-10-04 Antwerp-Shakhtar          Dmytro Kryskiv   \n",
       "                             2023-10-04 Antwerp-Shakhtar           Irakli Azarov   \n",
       "                             2023-10-04 Antwerp-Shakhtar          Yehor Nazaryna   \n",
       "                             2023-10-04 Antwerp-Shakhtar            Danylo Sikan   \n",
       "                             2023-10-04 Antwerp-Shakhtar           Irakli Azarov   \n",
       "                             2023-10-04 Antwerp-Shakhtar        Arthur Vermeeren   \n",
       "                             2023-10-04 Antwerp-Shakhtar        Oleksandr Zubkov   \n",
       "                             2023-10-04 Antwerp-Shakhtar           Irakli Azarov   \n",
       "                             2023-10-04 Antwerp-Shakhtar      Jurgen Ekkelenkamp   \n",
       "                             2023-10-04 Antwerp-Shakhtar         Vincent Janssen   \n",
       "                             2023-10-04 Antwerp-Shakhtar            Danylo Sikan   \n",
       "                             2023-10-04 Antwerp-Shakhtar                    <NA>   \n",
       "                             2023-10-04 Antwerp-Shakhtar          Yehor Nazaryna   \n",
       "                             2023-10-04 Antwerp-Shakhtar        Arthur Vermeeren   \n",
       "                             2023-10-04 Antwerp-Shakhtar             Arbnor Muja   \n",
       "                             2023-10-04 Antwerp-Shakhtar  Michel-Ange Balikwisha   \n",
       "                             2023-10-04 Antwerp-Shakhtar       George Ilenikhena   \n",
       "                             2023-10-04 Antwerp-Shakhtar                    <NA>   \n",
       "\n",
       "                                                                       \\\n",
       "                                                                event   \n",
       "league                season game                                       \n",
       "UEFA Champions League 2324   2023-10-04 Antwerp-Shakhtar  Pass (Live)   \n",
       "                             2023-10-04 Antwerp-Shakhtar      Take-On   \n",
       "                             2023-10-04 Antwerp-Shakhtar  Pass (Live)   \n",
       "                             2023-10-04 Antwerp-Shakhtar  Pass (Live)   \n",
       "                             2023-10-04 Antwerp-Shakhtar      Take-On   \n",
       "                             2023-10-04 Antwerp-Shakhtar  Pass (Live)   \n",
       "                             2023-10-04 Antwerp-Shakhtar         Shot   \n",
       "                             2023-10-04 Antwerp-Shakhtar  Pass (Live)   \n",
       "                             2023-10-04 Antwerp-Shakhtar  Pass (Live)   \n",
       "                             2023-10-04 Antwerp-Shakhtar  Pass (Live)   \n",
       "                             2023-10-04 Antwerp-Shakhtar  Pass (Live)   \n",
       "                             2023-10-04 Antwerp-Shakhtar  Pass (Live)   \n",
       "                             2023-10-04 Antwerp-Shakhtar  Pass (Live)   \n",
       "                             2023-10-04 Antwerp-Shakhtar         Shot   \n",
       "                             2023-10-04 Antwerp-Shakhtar  Pass (Live)   \n",
       "                             2023-10-04 Antwerp-Shakhtar  Pass (Live)   \n",
       "                             2023-10-04 Antwerp-Shakhtar  Pass (Live)   \n",
       "                             2023-10-04 Antwerp-Shakhtar  Pass (Live)   \n",
       "                             2023-10-04 Antwerp-Shakhtar  Pass (Live)   \n",
       "                             2023-10-04 Antwerp-Shakhtar  Pass (Live)   \n",
       "                             2023-10-04 Antwerp-Shakhtar         Shot   \n",
       "                             2023-10-04 Antwerp-Shakhtar       Fouled   \n",
       "                             2023-10-04 Antwerp-Shakhtar         <NA>   \n",
       "                             2023-10-04 Antwerp-Shakhtar  Pass (Live)   \n",
       "                             2023-10-04 Antwerp-Shakhtar       Fouled   \n",
       "                             2023-10-04 Antwerp-Shakhtar  Pass (Live)   \n",
       "                             2023-10-04 Antwerp-Shakhtar  Pass (Live)   \n",
       "                             2023-10-04 Antwerp-Shakhtar  Pass (Live)   \n",
       "                             2023-10-04 Antwerp-Shakhtar       Fouled   \n",
       "\n",
       "                                                                       SCA 2  \\\n",
       "                                                                      player   \n",
       "league                season game                                              \n",
       "UEFA Champions League 2324   2023-10-04 Antwerp-Shakhtar                <NA>   \n",
       "                             2023-10-04 Antwerp-Shakhtar    Arthur Vermeeren   \n",
       "                             2023-10-04 Antwerp-Shakhtar      Jelle Bataille   \n",
       "                             2023-10-04 Antwerp-Shakhtar       Mandela Keita   \n",
       "                             2023-10-04 Antwerp-Shakhtar   Toby Alderweireld   \n",
       "                             2023-10-04 Antwerp-Shakhtar     Heorhii Sudakov   \n",
       "                             2023-10-04 Antwerp-Shakhtar                <NA>   \n",
       "                             2023-10-04 Antwerp-Shakhtar     Heorhii Sudakov   \n",
       "                             2023-10-04 Antwerp-Shakhtar     Yukhym Konoplia   \n",
       "                             2023-10-04 Antwerp-Shakhtar      Dmytro Kryskiv   \n",
       "                             2023-10-04 Antwerp-Shakhtar          Jean Butez   \n",
       "                             2023-10-04 Antwerp-Shakhtar     Yukhym Konoplia   \n",
       "                             2023-10-04 Antwerp-Shakhtar        Danylo Sikan   \n",
       "                             2023-10-04 Antwerp-Shakhtar                <NA>   \n",
       "                             2023-10-04 Antwerp-Shakhtar     Heorhii Sudakov   \n",
       "                             2023-10-04 Antwerp-Shakhtar    Taras Stepanenko   \n",
       "                             2023-10-04 Antwerp-Shakhtar    Arthur Vermeeren   \n",
       "                             2023-10-04 Antwerp-Shakhtar       Irakli Azarov   \n",
       "                             2023-10-04 Antwerp-Shakhtar      Dmytro Kryskiv   \n",
       "                             2023-10-04 Antwerp-Shakhtar                <NA>   \n",
       "                             2023-10-04 Antwerp-Shakhtar                <NA>   \n",
       "                             2023-10-04 Antwerp-Shakhtar     Yukhym Konoplia   \n",
       "                             2023-10-04 Antwerp-Shakhtar                <NA>   \n",
       "                             2023-10-04 Antwerp-Shakhtar      Yehor Nazaryna   \n",
       "                             2023-10-04 Antwerp-Shakhtar   Toby Alderweireld   \n",
       "                             2023-10-04 Antwerp-Shakhtar      Alhassan Yusuf   \n",
       "                             2023-10-04 Antwerp-Shakhtar  Zeno Van den Bosch   \n",
       "                             2023-10-04 Antwerp-Shakhtar  Soumaïla Coulibaly   \n",
       "                             2023-10-04 Antwerp-Shakhtar   Toby Alderweireld   \n",
       "\n",
       "                                                                       \n",
       "                                                                event  \n",
       "league                season game                                      \n",
       "UEFA Champions League 2324   2023-10-04 Antwerp-Shakhtar         <NA>  \n",
       "                             2023-10-04 Antwerp-Shakhtar  Pass (Live)  \n",
       "                             2023-10-04 Antwerp-Shakhtar  Pass (Live)  \n",
       "                             2023-10-04 Antwerp-Shakhtar  Pass (Live)  \n",
       "                             2023-10-04 Antwerp-Shakhtar  Pass (Live)  \n",
       "                             2023-10-04 Antwerp-Shakhtar  Pass (Live)  \n",
       "                             2023-10-04 Antwerp-Shakhtar         <NA>  \n",
       "                             2023-10-04 Antwerp-Shakhtar  Pass (Dead)  \n",
       "                             2023-10-04 Antwerp-Shakhtar  Pass (Live)  \n",
       "                             2023-10-04 Antwerp-Shakhtar  Pass (Live)  \n",
       "                             2023-10-04 Antwerp-Shakhtar  Pass (Live)  \n",
       "                             2023-10-04 Antwerp-Shakhtar  Pass (Live)  \n",
       "                             2023-10-04 Antwerp-Shakhtar  Pass (Live)  \n",
       "                             2023-10-04 Antwerp-Shakhtar         <NA>  \n",
       "                             2023-10-04 Antwerp-Shakhtar  Pass (Live)  \n",
       "                             2023-10-04 Antwerp-Shakhtar  Pass (Live)  \n",
       "                             2023-10-04 Antwerp-Shakhtar      Take-On  \n",
       "                             2023-10-04 Antwerp-Shakhtar  Pass (Live)  \n",
       "                             2023-10-04 Antwerp-Shakhtar  Pass (Live)  \n",
       "                             2023-10-04 Antwerp-Shakhtar         <NA>  \n",
       "                             2023-10-04 Antwerp-Shakhtar         <NA>  \n",
       "                             2023-10-04 Antwerp-Shakhtar  Pass (Live)  \n",
       "                             2023-10-04 Antwerp-Shakhtar         <NA>  \n",
       "                             2023-10-04 Antwerp-Shakhtar  Pass (Live)  \n",
       "                             2023-10-04 Antwerp-Shakhtar  Pass (Live)  \n",
       "                             2023-10-04 Antwerp-Shakhtar  Pass (Live)  \n",
       "                             2023-10-04 Antwerp-Shakhtar  Pass (Live)  \n",
       "                             2023-10-04 Antwerp-Shakhtar  Pass (Live)  \n",
       "                             2023-10-04 Antwerp-Shakhtar         Shot  "
      ]
     },
     "execution_count": 33,
     "metadata": {},
     "output_type": "execute_result"
    }
   ],
   "source": [
    "fb_ref.read_shot_events(match_id=game.game_id)"
   ]
  },
  {
   "cell_type": "markdown",
   "id": "885f964c-3e78-47e9-8216-a1fed8dc51b9",
   "metadata": {},
   "source": [
    "### [ESPN](https://github.com/probberechts/soccerdata/blob/master/soccerdata/espn.py)"
   ]
  },
  {
   "cell_type": "code",
   "execution_count": 10,
   "id": "f25d2481-0f5a-475e-ab31-e16d97240dd1",
   "metadata": {},
   "outputs": [
    {
     "data": {
      "text/plain": [
       "['ENG-Premier League',\n",
       " 'ESP-La Liga',\n",
       " 'FRA-Ligue 1',\n",
       " 'GER-Bundesliga',\n",
       " 'ITA-Serie A',\n",
       " 'UEFA Champions League']"
      ]
     },
     "execution_count": 10,
     "metadata": {},
     "output_type": "execute_result"
    }
   ],
   "source": [
    "sd.ESPN.available_leagues()"
   ]
  },
  {
   "cell_type": "markdown",
   "id": "5a0fc911-158f-4ab9-a6da-640a25c24379",
   "metadata": {},
   "source": [
    "### [FiveThirtyEight](https://github.com/probberechts/soccerdata/blob/master/soccerdata/fivethirtyeight.py)"
   ]
  },
  {
   "cell_type": "code",
   "execution_count": 12,
   "id": "e94ed852-63a5-4d0a-b268-41f33a841859",
   "metadata": {},
   "outputs": [
    {
     "data": {
      "text/plain": [
       "['ENG-Premier League',\n",
       " 'ESP-La Liga',\n",
       " 'FRA-Ligue 1',\n",
       " 'GER-Bundesliga',\n",
       " 'ITA-Serie A',\n",
       " 'UEFA Champions League']"
      ]
     },
     "execution_count": 12,
     "metadata": {},
     "output_type": "execute_result"
    }
   ],
   "source": [
    "sd.FiveThirtyEight.available_leagues()"
   ]
  },
  {
   "cell_type": "markdown",
   "id": "38d49296-0cfb-4062-8153-0198d2cc2075",
   "metadata": {},
   "source": [
    "### [WhoScored](https://github.com/probberechts/soccerdata/blob/master/soccerdata/whoscored.py)"
   ]
  },
  {
   "cell_type": "code",
   "execution_count": 14,
   "id": "0a2699b5-e878-445d-b6c0-5b9491701eae",
   "metadata": {},
   "outputs": [
    {
     "data": {
      "text/plain": [
       "['ENG-Premier League',\n",
       " 'ESP-La Liga',\n",
       " 'FRA-Ligue 1',\n",
       " 'GER-Bundesliga',\n",
       " \"INT-Women's World Cup\",\n",
       " 'INT-World Cup',\n",
       " 'ITA-Serie A',\n",
       " 'UEFA Champions League']"
      ]
     },
     "execution_count": 14,
     "metadata": {},
     "output_type": "execute_result"
    }
   ],
   "source": [
    "sd.WhoScored.available_leagues()"
   ]
  },
  {
   "cell_type": "code",
   "execution_count": 16,
   "id": "c2400b03-024a-4814-8af3-b37e345e60da",
   "metadata": {},
   "outputs": [
    {
     "data": {
      "text/html": [
       "<pre style=\"white-space:pre;overflow-x:auto;line-height:normal;font-family:Menlo,'DejaVu Sans Mono',consolas,'Courier New',monospace\"><span style=\"color: #7fbfbf; text-decoration-color: #7fbfbf\">[01/26/24 16:05:38] </span><span style=\"color: #000080; text-decoration-color: #000080\">INFO    </span> Saving cached data to ..<span style=\"color: #800080; text-decoration-color: #800080\">/soccerdata/data/</span><span style=\"color: #ff00ff; text-decoration-color: #ff00ff\">WhoScored</span>                       <a href=\"file:///Users/okariuk/Shakhtar-Donetsk/.venv/lib/python3.11/site-packages/soccerdata/_common.py\" target=\"_blank\"><span style=\"color: #7f7f7f; text-decoration-color: #7f7f7f\">_common.py</span></a><span style=\"color: #7f7f7f; text-decoration-color: #7f7f7f\">:</span><a href=\"file:///Users/okariuk/Shakhtar-Donetsk/.venv/lib/python3.11/site-packages/soccerdata/_common.py#91\" target=\"_blank\"><span style=\"color: #7f7f7f; text-decoration-color: #7f7f7f\">91</span></a>\n",
       "</pre>\n"
      ],
      "text/plain": [
       "\u001b[2;36m[01/26/24 16:05:38]\u001b[0m\u001b[2;36m \u001b[0m\u001b[34mINFO    \u001b[0m Saving cached data to ..\u001b[35m/soccerdata/data/\u001b[0m\u001b[95mWhoScored\u001b[0m                       \u001b]8;id=362787;file:///Users/okariuk/Shakhtar-Donetsk/.venv/lib/python3.11/site-packages/soccerdata/_common.py\u001b\\\u001b[2m_common.py\u001b[0m\u001b]8;;\u001b\\\u001b[2m:\u001b[0m\u001b]8;id=114381;file:///Users/okariuk/Shakhtar-Donetsk/.venv/lib/python3.11/site-packages/soccerdata/_common.py#91\u001b\\\u001b[2m91\u001b[0m\u001b]8;;\u001b\\\n"
      ]
     },
     "metadata": {},
     "output_type": "display_data"
    },
    {
     "data": {
      "text/html": [
       "<pre style=\"white-space:pre;overflow-x:auto;line-height:normal;font-family:Menlo,'DejaVu Sans Mono',consolas,'Courier New',monospace\"><span style=\"color: #7fbfbf; text-decoration-color: #7fbfbf\">[01/26/24 16:05:40] </span><span style=\"color: #000080; text-decoration-color: #000080\">INFO    </span> patching driver executable <span style=\"color: #800080; text-decoration-color: #800080\">/Users/okariuk/Library/</span><span style=\"color: #ff00ff; text-decoration-color: #ff00ff\">Application</span>           <a href=\"file:///Users/okariuk/Shakhtar-Donetsk/.venv/lib/python3.11/site-packages/undetected_chromedriver/patcher.py\" target=\"_blank\"><span style=\"color: #7f7f7f; text-decoration-color: #7f7f7f\">patcher.py</span></a><span style=\"color: #7f7f7f; text-decoration-color: #7f7f7f\">:</span><a href=\"file:///Users/okariuk/Shakhtar-Donetsk/.venv/lib/python3.11/site-packages/undetected_chromedriver/patcher.py#346\" target=\"_blank\"><span style=\"color: #7f7f7f; text-decoration-color: #7f7f7f\">346</span></a>\n",
       "<span style=\"color: #7fbfbf; text-decoration-color: #7fbfbf\">                    </span>         Support/undetected_chromedriver/undetected_chromedriver                 <span style=\"color: #7f7f7f; text-decoration-color: #7f7f7f\">              </span>\n",
       "</pre>\n"
      ],
      "text/plain": [
       "\u001b[2;36m[01/26/24 16:05:40]\u001b[0m\u001b[2;36m \u001b[0m\u001b[34mINFO    \u001b[0m patching driver executable \u001b[35m/Users/okariuk/Library/\u001b[0m\u001b[95mApplication\u001b[0m           \u001b]8;id=626629;file:///Users/okariuk/Shakhtar-Donetsk/.venv/lib/python3.11/site-packages/undetected_chromedriver/patcher.py\u001b\\\u001b[2mpatcher.py\u001b[0m\u001b]8;;\u001b\\\u001b[2m:\u001b[0m\u001b]8;id=870984;file:///Users/okariuk/Shakhtar-Donetsk/.venv/lib/python3.11/site-packages/undetected_chromedriver/patcher.py#346\u001b\\\u001b[2m346\u001b[0m\u001b]8;;\u001b\\\n",
       "\u001b[2;36m                    \u001b[0m         Support/undetected_chromedriver/undetected_chromedriver                 \u001b[2m              \u001b[0m\n"
      ]
     },
     "metadata": {},
     "output_type": "display_data"
    }
   ],
   "source": [
    "ws = sd.WhoScored(leagues=\"UEFA Champions League\", seasons=\"23-24\")"
   ]
  },
  {
   "cell_type": "code",
   "execution_count": 17,
   "id": "19bb9279-6a99-47e2-820e-3076d9eaa015",
   "metadata": {},
   "outputs": [
    {
     "data": {
      "text/html": [
       "<pre style=\"white-space:pre;overflow-x:auto;line-height:normal;font-family:Menlo,'DejaVu Sans Mono',consolas,'Courier New',monospace\"><span style=\"color: #7fbfbf; text-decoration-color: #7fbfbf\">[01/26/24 16:07:30] </span><span style=\"color: #000080; text-decoration-color: #000080\">INFO    </span> Scraping game schedule with <span style=\"color: #808000; text-decoration-color: #808000\">stage</span>=<span style=\"font-weight: bold\">{</span><span style=\"color: #008000; text-decoration-color: #008000\">'url'</span>:                             <a href=\"file:///Users/okariuk/Shakhtar-Donetsk/.venv/lib/python3.11/site-packages/soccerdata/whoscored.py\" target=\"_blank\"><span style=\"color: #7f7f7f; text-decoration-color: #7f7f7f\">whoscored.py</span></a><span style=\"color: #7f7f7f; text-decoration-color: #7f7f7f\">:</span><a href=\"file:///Users/okariuk/Shakhtar-Donetsk/.venv/lib/python3.11/site-packages/soccerdata/whoscored.py#407\" target=\"_blank\"><span style=\"color: #7f7f7f; text-decoration-color: #7f7f7f\">407</span></a>\n",
       "<span style=\"color: #7fbfbf; text-decoration-color: #7fbfbf\">                    </span>         <span style=\"color: #008000; text-decoration-color: #008000\">'/Regions/250/Tournaments/12/Seasons/9664/Stages/22538/Show/Europe-Ch</span> <span style=\"color: #7f7f7f; text-decoration-color: #7f7f7f\">                </span>\n",
       "<span style=\"color: #7fbfbf; text-decoration-color: #7fbfbf\">                    </span>         <span style=\"color: #008000; text-decoration-color: #008000\">ampions-League-2023-2024'</span>, <span style=\"color: #008000; text-decoration-color: #008000\">'name'</span>: <span style=\"color: #008000; text-decoration-color: #008000\">'Champions League Group Stages'</span><span style=\"font-weight: bold\">}</span>   <span style=\"color: #7f7f7f; text-decoration-color: #7f7f7f\">                </span>\n",
       "<span style=\"color: #7fbfbf; text-decoration-color: #7fbfbf\">                    </span>         from                                                                  <span style=\"color: #7f7f7f; text-decoration-color: #7f7f7f\">                </span>\n",
       "<span style=\"color: #7fbfbf; text-decoration-color: #7fbfbf\">                    </span>         <span style=\"color: #0000ff; text-decoration-color: #0000ff; text-decoration: underline\">https://www.whoscored.com/Regions/250/Tournaments/12/Seasons/9664/Sta</span> <span style=\"color: #7f7f7f; text-decoration-color: #7f7f7f\">                </span>\n",
       "<span style=\"color: #7fbfbf; text-decoration-color: #7fbfbf\">                    </span>         <span style=\"color: #0000ff; text-decoration-color: #0000ff; text-decoration: underline\">ges/22538/Fixtures/Europe-Champions-League-2023-2024</span>                  <span style=\"color: #7f7f7f; text-decoration-color: #7f7f7f\">                </span>\n",
       "</pre>\n"
      ],
      "text/plain": [
       "\u001b[2;36m[01/26/24 16:07:30]\u001b[0m\u001b[2;36m \u001b[0m\u001b[34mINFO    \u001b[0m Scraping game schedule with \u001b[33mstage\u001b[0m=\u001b[1m{\u001b[0m\u001b[32m'url'\u001b[0m:                             \u001b]8;id=807546;file:///Users/okariuk/Shakhtar-Donetsk/.venv/lib/python3.11/site-packages/soccerdata/whoscored.py\u001b\\\u001b[2mwhoscored.py\u001b[0m\u001b]8;;\u001b\\\u001b[2m:\u001b[0m\u001b]8;id=693857;file:///Users/okariuk/Shakhtar-Donetsk/.venv/lib/python3.11/site-packages/soccerdata/whoscored.py#407\u001b\\\u001b[2m407\u001b[0m\u001b]8;;\u001b\\\n",
       "\u001b[2;36m                    \u001b[0m         \u001b[32m'/Regions/250/Tournaments/12/Seasons/9664/Stages/22538/Show/Europe-Ch\u001b[0m \u001b[2m                \u001b[0m\n",
       "\u001b[2;36m                    \u001b[0m         \u001b[32mampions-League-2023-2024'\u001b[0m, \u001b[32m'name'\u001b[0m: \u001b[32m'Champions League Group Stages'\u001b[0m\u001b[1m}\u001b[0m   \u001b[2m                \u001b[0m\n",
       "\u001b[2;36m                    \u001b[0m         from                                                                  \u001b[2m                \u001b[0m\n",
       "\u001b[2;36m                    \u001b[0m         \u001b[4;94mhttps://www.whoscored.com/Regions/250/Tournaments/12/Seasons/9664/Sta\u001b[0m \u001b[2m                \u001b[0m\n",
       "\u001b[2;36m                    \u001b[0m         \u001b[4;94mges/22538/Fixtures/Europe-Champions-League-2023-2024\u001b[0m                  \u001b[2m                \u001b[0m\n"
      ]
     },
     "metadata": {},
     "output_type": "display_data"
    },
    {
     "data": {
      "text/html": [
       "<pre style=\"white-space:pre;overflow-x:auto;line-height:normal;font-family:Menlo,'DejaVu Sans Mono',consolas,'Courier New',monospace\"><span style=\"color: #7fbfbf; text-decoration-color: #7fbfbf\">                    </span><span style=\"color: #000080; text-decoration-color: #000080\">INFO    </span> Scraping game schedule for Tuesday, Sep <span style=\"color: #008080; text-decoration-color: #008080; font-weight: bold\">19</span> <span style=\"color: #008080; text-decoration-color: #008080; font-weight: bold\">2023</span>                       <a href=\"file:///Users/okariuk/Shakhtar-Donetsk/.venv/lib/python3.11/site-packages/soccerdata/whoscored.py\" target=\"_blank\"><span style=\"color: #7f7f7f; text-decoration-color: #7f7f7f\">whoscored.py</span></a><span style=\"color: #7f7f7f; text-decoration-color: #7f7f7f\">:</span><a href=\"file:///Users/okariuk/Shakhtar-Donetsk/.venv/lib/python3.11/site-packages/soccerdata/whoscored.py#327\" target=\"_blank\"><span style=\"color: #7f7f7f; text-decoration-color: #7f7f7f\">327</span></a>\n",
       "</pre>\n"
      ],
      "text/plain": [
       "\u001b[2;36m                   \u001b[0m\u001b[2;36m \u001b[0m\u001b[34mINFO    \u001b[0m Scraping game schedule for Tuesday, Sep \u001b[1;36m19\u001b[0m \u001b[1;36m2023\u001b[0m                       \u001b]8;id=207441;file:///Users/okariuk/Shakhtar-Donetsk/.venv/lib/python3.11/site-packages/soccerdata/whoscored.py\u001b\\\u001b[2mwhoscored.py\u001b[0m\u001b]8;;\u001b\\\u001b[2m:\u001b[0m\u001b]8;id=384482;file:///Users/okariuk/Shakhtar-Donetsk/.venv/lib/python3.11/site-packages/soccerdata/whoscored.py#327\u001b\\\u001b[2m327\u001b[0m\u001b]8;;\u001b\\\n"
      ]
     },
     "metadata": {},
     "output_type": "display_data"
    },
    {
     "data": {
      "text/html": [
       "<pre style=\"white-space:pre;overflow-x:auto;line-height:normal;font-family:Menlo,'DejaVu Sans Mono',consolas,'Courier New',monospace\"><span style=\"color: #7fbfbf; text-decoration-color: #7fbfbf\">                    </span><span style=\"color: #000080; text-decoration-color: #000080\">INFO    </span> Scraping game schedule for Wednesday, Sep <span style=\"color: #008080; text-decoration-color: #008080; font-weight: bold\">20</span> <span style=\"color: #008080; text-decoration-color: #008080; font-weight: bold\">2023</span>                     <a href=\"file:///Users/okariuk/Shakhtar-Donetsk/.venv/lib/python3.11/site-packages/soccerdata/whoscored.py\" target=\"_blank\"><span style=\"color: #7f7f7f; text-decoration-color: #7f7f7f\">whoscored.py</span></a><span style=\"color: #7f7f7f; text-decoration-color: #7f7f7f\">:</span><a href=\"file:///Users/okariuk/Shakhtar-Donetsk/.venv/lib/python3.11/site-packages/soccerdata/whoscored.py#327\" target=\"_blank\"><span style=\"color: #7f7f7f; text-decoration-color: #7f7f7f\">327</span></a>\n",
       "</pre>\n"
      ],
      "text/plain": [
       "\u001b[2;36m                   \u001b[0m\u001b[2;36m \u001b[0m\u001b[34mINFO    \u001b[0m Scraping game schedule for Wednesday, Sep \u001b[1;36m20\u001b[0m \u001b[1;36m2023\u001b[0m                     \u001b]8;id=677472;file:///Users/okariuk/Shakhtar-Donetsk/.venv/lib/python3.11/site-packages/soccerdata/whoscored.py\u001b\\\u001b[2mwhoscored.py\u001b[0m\u001b]8;;\u001b\\\u001b[2m:\u001b[0m\u001b]8;id=156665;file:///Users/okariuk/Shakhtar-Donetsk/.venv/lib/python3.11/site-packages/soccerdata/whoscored.py#327\u001b\\\u001b[2m327\u001b[0m\u001b]8;;\u001b\\\n"
      ]
     },
     "metadata": {},
     "output_type": "display_data"
    },
    {
     "data": {
      "text/html": [
       "<pre style=\"white-space:pre;overflow-x:auto;line-height:normal;font-family:Menlo,'DejaVu Sans Mono',consolas,'Courier New',monospace\"><span style=\"color: #7fbfbf; text-decoration-color: #7fbfbf\">                    </span><span style=\"color: #000080; text-decoration-color: #000080\">INFO    </span> Scraping game schedule for Tuesday, Oct <span style=\"color: #008080; text-decoration-color: #008080; font-weight: bold\">3</span> <span style=\"color: #008080; text-decoration-color: #008080; font-weight: bold\">2023</span>                        <a href=\"file:///Users/okariuk/Shakhtar-Donetsk/.venv/lib/python3.11/site-packages/soccerdata/whoscored.py\" target=\"_blank\"><span style=\"color: #7f7f7f; text-decoration-color: #7f7f7f\">whoscored.py</span></a><span style=\"color: #7f7f7f; text-decoration-color: #7f7f7f\">:</span><a href=\"file:///Users/okariuk/Shakhtar-Donetsk/.venv/lib/python3.11/site-packages/soccerdata/whoscored.py#327\" target=\"_blank\"><span style=\"color: #7f7f7f; text-decoration-color: #7f7f7f\">327</span></a>\n",
       "</pre>\n"
      ],
      "text/plain": [
       "\u001b[2;36m                   \u001b[0m\u001b[2;36m \u001b[0m\u001b[34mINFO    \u001b[0m Scraping game schedule for Tuesday, Oct \u001b[1;36m3\u001b[0m \u001b[1;36m2023\u001b[0m                        \u001b]8;id=301875;file:///Users/okariuk/Shakhtar-Donetsk/.venv/lib/python3.11/site-packages/soccerdata/whoscored.py\u001b\\\u001b[2mwhoscored.py\u001b[0m\u001b]8;;\u001b\\\u001b[2m:\u001b[0m\u001b]8;id=937264;file:///Users/okariuk/Shakhtar-Donetsk/.venv/lib/python3.11/site-packages/soccerdata/whoscored.py#327\u001b\\\u001b[2m327\u001b[0m\u001b]8;;\u001b\\\n"
      ]
     },
     "metadata": {},
     "output_type": "display_data"
    },
    {
     "data": {
      "text/html": [
       "<pre style=\"white-space:pre;overflow-x:auto;line-height:normal;font-family:Menlo,'DejaVu Sans Mono',consolas,'Courier New',monospace\"><span style=\"color: #7fbfbf; text-decoration-color: #7fbfbf\">[01/26/24 16:07:31] </span><span style=\"color: #000080; text-decoration-color: #000080\">INFO    </span> Scraping game schedule for Wednesday, Oct <span style=\"color: #008080; text-decoration-color: #008080; font-weight: bold\">4</span> <span style=\"color: #008080; text-decoration-color: #008080; font-weight: bold\">2023</span>                      <a href=\"file:///Users/okariuk/Shakhtar-Donetsk/.venv/lib/python3.11/site-packages/soccerdata/whoscored.py\" target=\"_blank\"><span style=\"color: #7f7f7f; text-decoration-color: #7f7f7f\">whoscored.py</span></a><span style=\"color: #7f7f7f; text-decoration-color: #7f7f7f\">:</span><a href=\"file:///Users/okariuk/Shakhtar-Donetsk/.venv/lib/python3.11/site-packages/soccerdata/whoscored.py#327\" target=\"_blank\"><span style=\"color: #7f7f7f; text-decoration-color: #7f7f7f\">327</span></a>\n",
       "</pre>\n"
      ],
      "text/plain": [
       "\u001b[2;36m[01/26/24 16:07:31]\u001b[0m\u001b[2;36m \u001b[0m\u001b[34mINFO    \u001b[0m Scraping game schedule for Wednesday, Oct \u001b[1;36m4\u001b[0m \u001b[1;36m2023\u001b[0m                      \u001b]8;id=325646;file:///Users/okariuk/Shakhtar-Donetsk/.venv/lib/python3.11/site-packages/soccerdata/whoscored.py\u001b\\\u001b[2mwhoscored.py\u001b[0m\u001b]8;;\u001b\\\u001b[2m:\u001b[0m\u001b]8;id=433697;file:///Users/okariuk/Shakhtar-Donetsk/.venv/lib/python3.11/site-packages/soccerdata/whoscored.py#327\u001b\\\u001b[2m327\u001b[0m\u001b]8;;\u001b\\\n"
      ]
     },
     "metadata": {},
     "output_type": "display_data"
    },
    {
     "data": {
      "text/html": [
       "<pre style=\"white-space:pre;overflow-x:auto;line-height:normal;font-family:Menlo,'DejaVu Sans Mono',consolas,'Courier New',monospace\"><span style=\"color: #7fbfbf; text-decoration-color: #7fbfbf\">                    </span><span style=\"color: #000080; text-decoration-color: #000080\">INFO    </span> Scraping game schedule for Tuesday, Oct <span style=\"color: #008080; text-decoration-color: #008080; font-weight: bold\">24</span> <span style=\"color: #008080; text-decoration-color: #008080; font-weight: bold\">2023</span>                       <a href=\"file:///Users/okariuk/Shakhtar-Donetsk/.venv/lib/python3.11/site-packages/soccerdata/whoscored.py\" target=\"_blank\"><span style=\"color: #7f7f7f; text-decoration-color: #7f7f7f\">whoscored.py</span></a><span style=\"color: #7f7f7f; text-decoration-color: #7f7f7f\">:</span><a href=\"file:///Users/okariuk/Shakhtar-Donetsk/.venv/lib/python3.11/site-packages/soccerdata/whoscored.py#327\" target=\"_blank\"><span style=\"color: #7f7f7f; text-decoration-color: #7f7f7f\">327</span></a>\n",
       "</pre>\n"
      ],
      "text/plain": [
       "\u001b[2;36m                   \u001b[0m\u001b[2;36m \u001b[0m\u001b[34mINFO    \u001b[0m Scraping game schedule for Tuesday, Oct \u001b[1;36m24\u001b[0m \u001b[1;36m2023\u001b[0m                       \u001b]8;id=957062;file:///Users/okariuk/Shakhtar-Donetsk/.venv/lib/python3.11/site-packages/soccerdata/whoscored.py\u001b\\\u001b[2mwhoscored.py\u001b[0m\u001b]8;;\u001b\\\u001b[2m:\u001b[0m\u001b]8;id=342411;file:///Users/okariuk/Shakhtar-Donetsk/.venv/lib/python3.11/site-packages/soccerdata/whoscored.py#327\u001b\\\u001b[2m327\u001b[0m\u001b]8;;\u001b\\\n"
      ]
     },
     "metadata": {},
     "output_type": "display_data"
    },
    {
     "data": {
      "text/html": [
       "<pre style=\"white-space:pre;overflow-x:auto;line-height:normal;font-family:Menlo,'DejaVu Sans Mono',consolas,'Courier New',monospace\"><span style=\"color: #7fbfbf; text-decoration-color: #7fbfbf\">                    </span><span style=\"color: #000080; text-decoration-color: #000080\">INFO    </span> Scraping game schedule for Wednesday, Oct <span style=\"color: #008080; text-decoration-color: #008080; font-weight: bold\">25</span> <span style=\"color: #008080; text-decoration-color: #008080; font-weight: bold\">2023</span>                     <a href=\"file:///Users/okariuk/Shakhtar-Donetsk/.venv/lib/python3.11/site-packages/soccerdata/whoscored.py\" target=\"_blank\"><span style=\"color: #7f7f7f; text-decoration-color: #7f7f7f\">whoscored.py</span></a><span style=\"color: #7f7f7f; text-decoration-color: #7f7f7f\">:</span><a href=\"file:///Users/okariuk/Shakhtar-Donetsk/.venv/lib/python3.11/site-packages/soccerdata/whoscored.py#327\" target=\"_blank\"><span style=\"color: #7f7f7f; text-decoration-color: #7f7f7f\">327</span></a>\n",
       "</pre>\n"
      ],
      "text/plain": [
       "\u001b[2;36m                   \u001b[0m\u001b[2;36m \u001b[0m\u001b[34mINFO    \u001b[0m Scraping game schedule for Wednesday, Oct \u001b[1;36m25\u001b[0m \u001b[1;36m2023\u001b[0m                     \u001b]8;id=835252;file:///Users/okariuk/Shakhtar-Donetsk/.venv/lib/python3.11/site-packages/soccerdata/whoscored.py\u001b\\\u001b[2mwhoscored.py\u001b[0m\u001b]8;;\u001b\\\u001b[2m:\u001b[0m\u001b]8;id=90623;file:///Users/okariuk/Shakhtar-Donetsk/.venv/lib/python3.11/site-packages/soccerdata/whoscored.py#327\u001b\\\u001b[2m327\u001b[0m\u001b]8;;\u001b\\\n"
      ]
     },
     "metadata": {},
     "output_type": "display_data"
    },
    {
     "data": {
      "text/html": [
       "<pre style=\"white-space:pre;overflow-x:auto;line-height:normal;font-family:Menlo,'DejaVu Sans Mono',consolas,'Courier New',monospace\"><span style=\"color: #7fbfbf; text-decoration-color: #7fbfbf\">                    </span><span style=\"color: #000080; text-decoration-color: #000080\">INFO    </span> Scraping game schedule for Tuesday, Nov <span style=\"color: #008080; text-decoration-color: #008080; font-weight: bold\">7</span> <span style=\"color: #008080; text-decoration-color: #008080; font-weight: bold\">2023</span>                        <a href=\"file:///Users/okariuk/Shakhtar-Donetsk/.venv/lib/python3.11/site-packages/soccerdata/whoscored.py\" target=\"_blank\"><span style=\"color: #7f7f7f; text-decoration-color: #7f7f7f\">whoscored.py</span></a><span style=\"color: #7f7f7f; text-decoration-color: #7f7f7f\">:</span><a href=\"file:///Users/okariuk/Shakhtar-Donetsk/.venv/lib/python3.11/site-packages/soccerdata/whoscored.py#327\" target=\"_blank\"><span style=\"color: #7f7f7f; text-decoration-color: #7f7f7f\">327</span></a>\n",
       "</pre>\n"
      ],
      "text/plain": [
       "\u001b[2;36m                   \u001b[0m\u001b[2;36m \u001b[0m\u001b[34mINFO    \u001b[0m Scraping game schedule for Tuesday, Nov \u001b[1;36m7\u001b[0m \u001b[1;36m2023\u001b[0m                        \u001b]8;id=901674;file:///Users/okariuk/Shakhtar-Donetsk/.venv/lib/python3.11/site-packages/soccerdata/whoscored.py\u001b\\\u001b[2mwhoscored.py\u001b[0m\u001b]8;;\u001b\\\u001b[2m:\u001b[0m\u001b]8;id=293428;file:///Users/okariuk/Shakhtar-Donetsk/.venv/lib/python3.11/site-packages/soccerdata/whoscored.py#327\u001b\\\u001b[2m327\u001b[0m\u001b]8;;\u001b\\\n"
      ]
     },
     "metadata": {},
     "output_type": "display_data"
    },
    {
     "data": {
      "text/html": [
       "<pre style=\"white-space:pre;overflow-x:auto;line-height:normal;font-family:Menlo,'DejaVu Sans Mono',consolas,'Courier New',monospace\"><span style=\"color: #7fbfbf; text-decoration-color: #7fbfbf\">[01/26/24 16:07:33] </span><span style=\"color: #000080; text-decoration-color: #000080\">INFO    </span> Scraping game schedule for Wednesday, Nov <span style=\"color: #008080; text-decoration-color: #008080; font-weight: bold\">8</span> <span style=\"color: #008080; text-decoration-color: #008080; font-weight: bold\">2023</span>                      <a href=\"file:///Users/okariuk/Shakhtar-Donetsk/.venv/lib/python3.11/site-packages/soccerdata/whoscored.py\" target=\"_blank\"><span style=\"color: #7f7f7f; text-decoration-color: #7f7f7f\">whoscored.py</span></a><span style=\"color: #7f7f7f; text-decoration-color: #7f7f7f\">:</span><a href=\"file:///Users/okariuk/Shakhtar-Donetsk/.venv/lib/python3.11/site-packages/soccerdata/whoscored.py#327\" target=\"_blank\"><span style=\"color: #7f7f7f; text-decoration-color: #7f7f7f\">327</span></a>\n",
       "</pre>\n"
      ],
      "text/plain": [
       "\u001b[2;36m[01/26/24 16:07:33]\u001b[0m\u001b[2;36m \u001b[0m\u001b[34mINFO    \u001b[0m Scraping game schedule for Wednesday, Nov \u001b[1;36m8\u001b[0m \u001b[1;36m2023\u001b[0m                      \u001b]8;id=545265;file:///Users/okariuk/Shakhtar-Donetsk/.venv/lib/python3.11/site-packages/soccerdata/whoscored.py\u001b\\\u001b[2mwhoscored.py\u001b[0m\u001b]8;;\u001b\\\u001b[2m:\u001b[0m\u001b]8;id=372887;file:///Users/okariuk/Shakhtar-Donetsk/.venv/lib/python3.11/site-packages/soccerdata/whoscored.py#327\u001b\\\u001b[2m327\u001b[0m\u001b]8;;\u001b\\\n"
      ]
     },
     "metadata": {},
     "output_type": "display_data"
    },
    {
     "data": {
      "text/html": [
       "<pre style=\"white-space:pre;overflow-x:auto;line-height:normal;font-family:Menlo,'DejaVu Sans Mono',consolas,'Courier New',monospace\"><span style=\"color: #7fbfbf; text-decoration-color: #7fbfbf\">                    </span><span style=\"color: #000080; text-decoration-color: #000080\">INFO    </span> Scraping game schedule for Tuesday, Nov <span style=\"color: #008080; text-decoration-color: #008080; font-weight: bold\">28</span> <span style=\"color: #008080; text-decoration-color: #008080; font-weight: bold\">2023</span>                       <a href=\"file:///Users/okariuk/Shakhtar-Donetsk/.venv/lib/python3.11/site-packages/soccerdata/whoscored.py\" target=\"_blank\"><span style=\"color: #7f7f7f; text-decoration-color: #7f7f7f\">whoscored.py</span></a><span style=\"color: #7f7f7f; text-decoration-color: #7f7f7f\">:</span><a href=\"file:///Users/okariuk/Shakhtar-Donetsk/.venv/lib/python3.11/site-packages/soccerdata/whoscored.py#327\" target=\"_blank\"><span style=\"color: #7f7f7f; text-decoration-color: #7f7f7f\">327</span></a>\n",
       "</pre>\n"
      ],
      "text/plain": [
       "\u001b[2;36m                   \u001b[0m\u001b[2;36m \u001b[0m\u001b[34mINFO    \u001b[0m Scraping game schedule for Tuesday, Nov \u001b[1;36m28\u001b[0m \u001b[1;36m2023\u001b[0m                       \u001b]8;id=248321;file:///Users/okariuk/Shakhtar-Donetsk/.venv/lib/python3.11/site-packages/soccerdata/whoscored.py\u001b\\\u001b[2mwhoscored.py\u001b[0m\u001b]8;;\u001b\\\u001b[2m:\u001b[0m\u001b]8;id=530900;file:///Users/okariuk/Shakhtar-Donetsk/.venv/lib/python3.11/site-packages/soccerdata/whoscored.py#327\u001b\\\u001b[2m327\u001b[0m\u001b]8;;\u001b\\\n"
      ]
     },
     "metadata": {},
     "output_type": "display_data"
    },
    {
     "data": {
      "text/html": [
       "<pre style=\"white-space:pre;overflow-x:auto;line-height:normal;font-family:Menlo,'DejaVu Sans Mono',consolas,'Courier New',monospace\"><span style=\"color: #7fbfbf; text-decoration-color: #7fbfbf\">                    </span><span style=\"color: #000080; text-decoration-color: #000080\">INFO    </span> Scraping game schedule for Wednesday, Nov <span style=\"color: #008080; text-decoration-color: #008080; font-weight: bold\">29</span> <span style=\"color: #008080; text-decoration-color: #008080; font-weight: bold\">2023</span>                     <a href=\"file:///Users/okariuk/Shakhtar-Donetsk/.venv/lib/python3.11/site-packages/soccerdata/whoscored.py\" target=\"_blank\"><span style=\"color: #7f7f7f; text-decoration-color: #7f7f7f\">whoscored.py</span></a><span style=\"color: #7f7f7f; text-decoration-color: #7f7f7f\">:</span><a href=\"file:///Users/okariuk/Shakhtar-Donetsk/.venv/lib/python3.11/site-packages/soccerdata/whoscored.py#327\" target=\"_blank\"><span style=\"color: #7f7f7f; text-decoration-color: #7f7f7f\">327</span></a>\n",
       "</pre>\n"
      ],
      "text/plain": [
       "\u001b[2;36m                   \u001b[0m\u001b[2;36m \u001b[0m\u001b[34mINFO    \u001b[0m Scraping game schedule for Wednesday, Nov \u001b[1;36m29\u001b[0m \u001b[1;36m2023\u001b[0m                     \u001b]8;id=754051;file:///Users/okariuk/Shakhtar-Donetsk/.venv/lib/python3.11/site-packages/soccerdata/whoscored.py\u001b\\\u001b[2mwhoscored.py\u001b[0m\u001b]8;;\u001b\\\u001b[2m:\u001b[0m\u001b]8;id=779462;file:///Users/okariuk/Shakhtar-Donetsk/.venv/lib/python3.11/site-packages/soccerdata/whoscored.py#327\u001b\\\u001b[2m327\u001b[0m\u001b]8;;\u001b\\\n"
      ]
     },
     "metadata": {},
     "output_type": "display_data"
    },
    {
     "data": {
      "text/html": [
       "<pre style=\"white-space:pre;overflow-x:auto;line-height:normal;font-family:Menlo,'DejaVu Sans Mono',consolas,'Courier New',monospace\"><span style=\"color: #7fbfbf; text-decoration-color: #7fbfbf\">                    </span><span style=\"color: #000080; text-decoration-color: #000080\">INFO    </span> Scraping game schedule for Tuesday, Dec <span style=\"color: #008080; text-decoration-color: #008080; font-weight: bold\">12</span> <span style=\"color: #008080; text-decoration-color: #008080; font-weight: bold\">2023</span>                       <a href=\"file:///Users/okariuk/Shakhtar-Donetsk/.venv/lib/python3.11/site-packages/soccerdata/whoscored.py\" target=\"_blank\"><span style=\"color: #7f7f7f; text-decoration-color: #7f7f7f\">whoscored.py</span></a><span style=\"color: #7f7f7f; text-decoration-color: #7f7f7f\">:</span><a href=\"file:///Users/okariuk/Shakhtar-Donetsk/.venv/lib/python3.11/site-packages/soccerdata/whoscored.py#327\" target=\"_blank\"><span style=\"color: #7f7f7f; text-decoration-color: #7f7f7f\">327</span></a>\n",
       "</pre>\n"
      ],
      "text/plain": [
       "\u001b[2;36m                   \u001b[0m\u001b[2;36m \u001b[0m\u001b[34mINFO    \u001b[0m Scraping game schedule for Tuesday, Dec \u001b[1;36m12\u001b[0m \u001b[1;36m2023\u001b[0m                       \u001b]8;id=742545;file:///Users/okariuk/Shakhtar-Donetsk/.venv/lib/python3.11/site-packages/soccerdata/whoscored.py\u001b\\\u001b[2mwhoscored.py\u001b[0m\u001b]8;;\u001b\\\u001b[2m:\u001b[0m\u001b]8;id=53820;file:///Users/okariuk/Shakhtar-Donetsk/.venv/lib/python3.11/site-packages/soccerdata/whoscored.py#327\u001b\\\u001b[2m327\u001b[0m\u001b]8;;\u001b\\\n"
      ]
     },
     "metadata": {},
     "output_type": "display_data"
    },
    {
     "data": {
      "text/html": [
       "<pre style=\"white-space:pre;overflow-x:auto;line-height:normal;font-family:Menlo,'DejaVu Sans Mono',consolas,'Courier New',monospace\"><span style=\"color: #7fbfbf; text-decoration-color: #7fbfbf\">[01/26/24 16:07:36] </span><span style=\"color: #000080; text-decoration-color: #000080\">INFO    </span> Scraping game schedule for Wednesday, Dec <span style=\"color: #008080; text-decoration-color: #008080; font-weight: bold\">13</span> <span style=\"color: #008080; text-decoration-color: #008080; font-weight: bold\">2023</span>                     <a href=\"file:///Users/okariuk/Shakhtar-Donetsk/.venv/lib/python3.11/site-packages/soccerdata/whoscored.py\" target=\"_blank\"><span style=\"color: #7f7f7f; text-decoration-color: #7f7f7f\">whoscored.py</span></a><span style=\"color: #7f7f7f; text-decoration-color: #7f7f7f\">:</span><a href=\"file:///Users/okariuk/Shakhtar-Donetsk/.venv/lib/python3.11/site-packages/soccerdata/whoscored.py#327\" target=\"_blank\"><span style=\"color: #7f7f7f; text-decoration-color: #7f7f7f\">327</span></a>\n",
       "</pre>\n"
      ],
      "text/plain": [
       "\u001b[2;36m[01/26/24 16:07:36]\u001b[0m\u001b[2;36m \u001b[0m\u001b[34mINFO    \u001b[0m Scraping game schedule for Wednesday, Dec \u001b[1;36m13\u001b[0m \u001b[1;36m2023\u001b[0m                     \u001b]8;id=507605;file:///Users/okariuk/Shakhtar-Donetsk/.venv/lib/python3.11/site-packages/soccerdata/whoscored.py\u001b\\\u001b[2mwhoscored.py\u001b[0m\u001b]8;;\u001b\\\u001b[2m:\u001b[0m\u001b]8;id=384414;file:///Users/okariuk/Shakhtar-Donetsk/.venv/lib/python3.11/site-packages/soccerdata/whoscored.py#327\u001b\\\u001b[2m327\u001b[0m\u001b]8;;\u001b\\\n"
      ]
     },
     "metadata": {},
     "output_type": "display_data"
    },
    {
     "data": {
      "text/html": [
       "<pre style=\"white-space:pre;overflow-x:auto;line-height:normal;font-family:Menlo,'DejaVu Sans Mono',consolas,'Courier New',monospace\"><span style=\"color: #7fbfbf; text-decoration-color: #7fbfbf\">[01/26/24 16:07:46] </span><span style=\"color: #000080; text-decoration-color: #000080\">INFO    </span> Scraping game schedule with <span style=\"color: #808000; text-decoration-color: #808000\">stage</span>=<span style=\"font-weight: bold\">{</span><span style=\"color: #008000; text-decoration-color: #008000\">'url'</span>:                             <a href=\"file:///Users/okariuk/Shakhtar-Donetsk/.venv/lib/python3.11/site-packages/soccerdata/whoscored.py\" target=\"_blank\"><span style=\"color: #7f7f7f; text-decoration-color: #7f7f7f\">whoscored.py</span></a><span style=\"color: #7f7f7f; text-decoration-color: #7f7f7f\">:</span><a href=\"file:///Users/okariuk/Shakhtar-Donetsk/.venv/lib/python3.11/site-packages/soccerdata/whoscored.py#407\" target=\"_blank\"><span style=\"color: #7f7f7f; text-decoration-color: #7f7f7f\">407</span></a>\n",
       "<span style=\"color: #7fbfbf; text-decoration-color: #7fbfbf\">                    </span>         <span style=\"color: #008000; text-decoration-color: #008000\">'/Regions/250/Tournaments/12/Seasons/9664/Stages/22150/Show/Europe-Ch</span> <span style=\"color: #7f7f7f; text-decoration-color: #7f7f7f\">                </span>\n",
       "<span style=\"color: #7fbfbf; text-decoration-color: #7fbfbf\">                    </span>         <span style=\"color: #008000; text-decoration-color: #008000\">ampions-League-2023-2024'</span>, <span style=\"color: #008000; text-decoration-color: #008000\">'name'</span>: <span style=\"color: #008000; text-decoration-color: #008000\">'Champions League Qualification </span>   <span style=\"color: #7f7f7f; text-decoration-color: #7f7f7f\">                </span>\n",
       "<span style=\"color: #7fbfbf; text-decoration-color: #7fbfbf\">                    </span>         <span style=\"color: #008000; text-decoration-color: #008000\">Preliminary Round'</span><span style=\"font-weight: bold\">}</span> from                                              <span style=\"color: #7f7f7f; text-decoration-color: #7f7f7f\">                </span>\n",
       "<span style=\"color: #7fbfbf; text-decoration-color: #7fbfbf\">                    </span>         <span style=\"color: #0000ff; text-decoration-color: #0000ff; text-decoration: underline\">https://www.whoscored.com/Regions/250/Tournaments/12/Seasons/9664/Sta</span> <span style=\"color: #7f7f7f; text-decoration-color: #7f7f7f\">                </span>\n",
       "<span style=\"color: #7fbfbf; text-decoration-color: #7fbfbf\">                    </span>         <span style=\"color: #0000ff; text-decoration-color: #0000ff; text-decoration: underline\">ges/22150/Fixtures/Europe-Champions-League-2023-2024</span>                  <span style=\"color: #7f7f7f; text-decoration-color: #7f7f7f\">                </span>\n",
       "</pre>\n"
      ],
      "text/plain": [
       "\u001b[2;36m[01/26/24 16:07:46]\u001b[0m\u001b[2;36m \u001b[0m\u001b[34mINFO    \u001b[0m Scraping game schedule with \u001b[33mstage\u001b[0m=\u001b[1m{\u001b[0m\u001b[32m'url'\u001b[0m:                             \u001b]8;id=439722;file:///Users/okariuk/Shakhtar-Donetsk/.venv/lib/python3.11/site-packages/soccerdata/whoscored.py\u001b\\\u001b[2mwhoscored.py\u001b[0m\u001b]8;;\u001b\\\u001b[2m:\u001b[0m\u001b]8;id=129075;file:///Users/okariuk/Shakhtar-Donetsk/.venv/lib/python3.11/site-packages/soccerdata/whoscored.py#407\u001b\\\u001b[2m407\u001b[0m\u001b]8;;\u001b\\\n",
       "\u001b[2;36m                    \u001b[0m         \u001b[32m'/Regions/250/Tournaments/12/Seasons/9664/Stages/22150/Show/Europe-Ch\u001b[0m \u001b[2m                \u001b[0m\n",
       "\u001b[2;36m                    \u001b[0m         \u001b[32mampions-League-2023-2024'\u001b[0m, \u001b[32m'name'\u001b[0m: \u001b[32m'Champions League Qualification \u001b[0m   \u001b[2m                \u001b[0m\n",
       "\u001b[2;36m                    \u001b[0m         \u001b[32mPreliminary Round'\u001b[0m\u001b[1m}\u001b[0m from                                              \u001b[2m                \u001b[0m\n",
       "\u001b[2;36m                    \u001b[0m         \u001b[4;94mhttps://www.whoscored.com/Regions/250/Tournaments/12/Seasons/9664/Sta\u001b[0m \u001b[2m                \u001b[0m\n",
       "\u001b[2;36m                    \u001b[0m         \u001b[4;94mges/22150/Fixtures/Europe-Champions-League-2023-2024\u001b[0m                  \u001b[2m                \u001b[0m\n"
      ]
     },
     "metadata": {},
     "output_type": "display_data"
    },
    {
     "data": {
      "text/html": [
       "<pre style=\"white-space:pre;overflow-x:auto;line-height:normal;font-family:Menlo,'DejaVu Sans Mono',consolas,'Courier New',monospace\"><span style=\"color: #7fbfbf; text-decoration-color: #7fbfbf\">                    </span><span style=\"color: #000080; text-decoration-color: #000080\">INFO    </span> Scraping game schedule for Tuesday, Jun <span style=\"color: #008080; text-decoration-color: #008080; font-weight: bold\">27</span> <span style=\"color: #008080; text-decoration-color: #008080; font-weight: bold\">2023</span>                       <a href=\"file:///Users/okariuk/Shakhtar-Donetsk/.venv/lib/python3.11/site-packages/soccerdata/whoscored.py\" target=\"_blank\"><span style=\"color: #7f7f7f; text-decoration-color: #7f7f7f\">whoscored.py</span></a><span style=\"color: #7f7f7f; text-decoration-color: #7f7f7f\">:</span><a href=\"file:///Users/okariuk/Shakhtar-Donetsk/.venv/lib/python3.11/site-packages/soccerdata/whoscored.py#327\" target=\"_blank\"><span style=\"color: #7f7f7f; text-decoration-color: #7f7f7f\">327</span></a>\n",
       "</pre>\n"
      ],
      "text/plain": [
       "\u001b[2;36m                   \u001b[0m\u001b[2;36m \u001b[0m\u001b[34mINFO    \u001b[0m Scraping game schedule for Tuesday, Jun \u001b[1;36m27\u001b[0m \u001b[1;36m2023\u001b[0m                       \u001b]8;id=702989;file:///Users/okariuk/Shakhtar-Donetsk/.venv/lib/python3.11/site-packages/soccerdata/whoscored.py\u001b\\\u001b[2mwhoscored.py\u001b[0m\u001b]8;;\u001b\\\u001b[2m:\u001b[0m\u001b]8;id=258880;file:///Users/okariuk/Shakhtar-Donetsk/.venv/lib/python3.11/site-packages/soccerdata/whoscored.py#327\u001b\\\u001b[2m327\u001b[0m\u001b]8;;\u001b\\\n"
      ]
     },
     "metadata": {},
     "output_type": "display_data"
    },
    {
     "data": {
      "text/html": [
       "<pre style=\"white-space:pre;overflow-x:auto;line-height:normal;font-family:Menlo,'DejaVu Sans Mono',consolas,'Courier New',monospace\"><span style=\"color: #7fbfbf; text-decoration-color: #7fbfbf\">                    </span><span style=\"color: #000080; text-decoration-color: #000080\">INFO    </span> Scraping game schedule for Friday, Jun <span style=\"color: #008080; text-decoration-color: #008080; font-weight: bold\">30</span> <span style=\"color: #008080; text-decoration-color: #008080; font-weight: bold\">2023</span>                        <a href=\"file:///Users/okariuk/Shakhtar-Donetsk/.venv/lib/python3.11/site-packages/soccerdata/whoscored.py\" target=\"_blank\"><span style=\"color: #7f7f7f; text-decoration-color: #7f7f7f\">whoscored.py</span></a><span style=\"color: #7f7f7f; text-decoration-color: #7f7f7f\">:</span><a href=\"file:///Users/okariuk/Shakhtar-Donetsk/.venv/lib/python3.11/site-packages/soccerdata/whoscored.py#327\" target=\"_blank\"><span style=\"color: #7f7f7f; text-decoration-color: #7f7f7f\">327</span></a>\n",
       "</pre>\n"
      ],
      "text/plain": [
       "\u001b[2;36m                   \u001b[0m\u001b[2;36m \u001b[0m\u001b[34mINFO    \u001b[0m Scraping game schedule for Friday, Jun \u001b[1;36m30\u001b[0m \u001b[1;36m2023\u001b[0m                        \u001b]8;id=589789;file:///Users/okariuk/Shakhtar-Donetsk/.venv/lib/python3.11/site-packages/soccerdata/whoscored.py\u001b\\\u001b[2mwhoscored.py\u001b[0m\u001b]8;;\u001b\\\u001b[2m:\u001b[0m\u001b]8;id=981773;file:///Users/okariuk/Shakhtar-Donetsk/.venv/lib/python3.11/site-packages/soccerdata/whoscored.py#327\u001b\\\u001b[2m327\u001b[0m\u001b]8;;\u001b\\\n"
      ]
     },
     "metadata": {},
     "output_type": "display_data"
    },
    {
     "data": {
      "text/html": [
       "<pre style=\"white-space:pre;overflow-x:auto;line-height:normal;font-family:Menlo,'DejaVu Sans Mono',consolas,'Courier New',monospace\"><span style=\"color: #7fbfbf; text-decoration-color: #7fbfbf\">[01/26/24 16:07:49] </span><span style=\"color: #000080; text-decoration-color: #000080\">INFO    </span> Scraping game schedule with <span style=\"color: #808000; text-decoration-color: #808000\">stage</span>=<span style=\"font-weight: bold\">{</span><span style=\"color: #008000; text-decoration-color: #008000\">'url'</span>:                             <a href=\"file:///Users/okariuk/Shakhtar-Donetsk/.venv/lib/python3.11/site-packages/soccerdata/whoscored.py\" target=\"_blank\"><span style=\"color: #7f7f7f; text-decoration-color: #7f7f7f\">whoscored.py</span></a><span style=\"color: #7f7f7f; text-decoration-color: #7f7f7f\">:</span><a href=\"file:///Users/okariuk/Shakhtar-Donetsk/.venv/lib/python3.11/site-packages/soccerdata/whoscored.py#407\" target=\"_blank\"><span style=\"color: #7f7f7f; text-decoration-color: #7f7f7f\">407</span></a>\n",
       "<span style=\"color: #7fbfbf; text-decoration-color: #7fbfbf\">                    </span>         <span style=\"color: #008000; text-decoration-color: #008000\">'/Regions/250/Tournaments/12/Seasons/9664/Stages/22165/Show/Europe-Ch</span> <span style=\"color: #7f7f7f; text-decoration-color: #7f7f7f\">                </span>\n",
       "<span style=\"color: #7fbfbf; text-decoration-color: #7fbfbf\">                    </span>         <span style=\"color: #008000; text-decoration-color: #008000\">ampions-League-2023-2024'</span>, <span style=\"color: #008000; text-decoration-color: #008000\">'name'</span>: <span style=\"color: #008000; text-decoration-color: #008000\">'Champions League Qualification'</span><span style=\"font-weight: bold\">}</span>  <span style=\"color: #7f7f7f; text-decoration-color: #7f7f7f\">                </span>\n",
       "<span style=\"color: #7fbfbf; text-decoration-color: #7fbfbf\">                    </span>         from                                                                  <span style=\"color: #7f7f7f; text-decoration-color: #7f7f7f\">                </span>\n",
       "<span style=\"color: #7fbfbf; text-decoration-color: #7fbfbf\">                    </span>         <span style=\"color: #0000ff; text-decoration-color: #0000ff; text-decoration: underline\">https://www.whoscored.com/Regions/250/Tournaments/12/Seasons/9664/Sta</span> <span style=\"color: #7f7f7f; text-decoration-color: #7f7f7f\">                </span>\n",
       "<span style=\"color: #7fbfbf; text-decoration-color: #7fbfbf\">                    </span>         <span style=\"color: #0000ff; text-decoration-color: #0000ff; text-decoration: underline\">ges/22165/Fixtures/Europe-Champions-League-2023-2024</span>                  <span style=\"color: #7f7f7f; text-decoration-color: #7f7f7f\">                </span>\n",
       "</pre>\n"
      ],
      "text/plain": [
       "\u001b[2;36m[01/26/24 16:07:49]\u001b[0m\u001b[2;36m \u001b[0m\u001b[34mINFO    \u001b[0m Scraping game schedule with \u001b[33mstage\u001b[0m=\u001b[1m{\u001b[0m\u001b[32m'url'\u001b[0m:                             \u001b]8;id=720181;file:///Users/okariuk/Shakhtar-Donetsk/.venv/lib/python3.11/site-packages/soccerdata/whoscored.py\u001b\\\u001b[2mwhoscored.py\u001b[0m\u001b]8;;\u001b\\\u001b[2m:\u001b[0m\u001b]8;id=9266;file:///Users/okariuk/Shakhtar-Donetsk/.venv/lib/python3.11/site-packages/soccerdata/whoscored.py#407\u001b\\\u001b[2m407\u001b[0m\u001b]8;;\u001b\\\n",
       "\u001b[2;36m                    \u001b[0m         \u001b[32m'/Regions/250/Tournaments/12/Seasons/9664/Stages/22165/Show/Europe-Ch\u001b[0m \u001b[2m                \u001b[0m\n",
       "\u001b[2;36m                    \u001b[0m         \u001b[32mampions-League-2023-2024'\u001b[0m, \u001b[32m'name'\u001b[0m: \u001b[32m'Champions League Qualification'\u001b[0m\u001b[1m}\u001b[0m  \u001b[2m                \u001b[0m\n",
       "\u001b[2;36m                    \u001b[0m         from                                                                  \u001b[2m                \u001b[0m\n",
       "\u001b[2;36m                    \u001b[0m         \u001b[4;94mhttps://www.whoscored.com/Regions/250/Tournaments/12/Seasons/9664/Sta\u001b[0m \u001b[2m                \u001b[0m\n",
       "\u001b[2;36m                    \u001b[0m         \u001b[4;94mges/22165/Fixtures/Europe-Champions-League-2023-2024\u001b[0m                  \u001b[2m                \u001b[0m\n"
      ]
     },
     "metadata": {},
     "output_type": "display_data"
    },
    {
     "data": {
      "text/html": [
       "<pre style=\"white-space:pre;overflow-x:auto;line-height:normal;font-family:Menlo,'DejaVu Sans Mono',consolas,'Courier New',monospace\"><span style=\"color: #7fbfbf; text-decoration-color: #7fbfbf\">                    </span><span style=\"color: #000080; text-decoration-color: #000080\">INFO    </span> Scraping game schedule for Tuesday, Jul <span style=\"color: #008080; text-decoration-color: #008080; font-weight: bold\">11</span> <span style=\"color: #008080; text-decoration-color: #008080; font-weight: bold\">2023</span>                       <a href=\"file:///Users/okariuk/Shakhtar-Donetsk/.venv/lib/python3.11/site-packages/soccerdata/whoscored.py\" target=\"_blank\"><span style=\"color: #7f7f7f; text-decoration-color: #7f7f7f\">whoscored.py</span></a><span style=\"color: #7f7f7f; text-decoration-color: #7f7f7f\">:</span><a href=\"file:///Users/okariuk/Shakhtar-Donetsk/.venv/lib/python3.11/site-packages/soccerdata/whoscored.py#327\" target=\"_blank\"><span style=\"color: #7f7f7f; text-decoration-color: #7f7f7f\">327</span></a>\n",
       "</pre>\n"
      ],
      "text/plain": [
       "\u001b[2;36m                   \u001b[0m\u001b[2;36m \u001b[0m\u001b[34mINFO    \u001b[0m Scraping game schedule for Tuesday, Jul \u001b[1;36m11\u001b[0m \u001b[1;36m2023\u001b[0m                       \u001b]8;id=69709;file:///Users/okariuk/Shakhtar-Donetsk/.venv/lib/python3.11/site-packages/soccerdata/whoscored.py\u001b\\\u001b[2mwhoscored.py\u001b[0m\u001b]8;;\u001b\\\u001b[2m:\u001b[0m\u001b]8;id=910365;file:///Users/okariuk/Shakhtar-Donetsk/.venv/lib/python3.11/site-packages/soccerdata/whoscored.py#327\u001b\\\u001b[2m327\u001b[0m\u001b]8;;\u001b\\\n"
      ]
     },
     "metadata": {},
     "output_type": "display_data"
    },
    {
     "data": {
      "text/html": [
       "<pre style=\"white-space:pre;overflow-x:auto;line-height:normal;font-family:Menlo,'DejaVu Sans Mono',consolas,'Courier New',monospace\"><span style=\"color: #7fbfbf; text-decoration-color: #7fbfbf\">[01/26/24 16:07:50] </span><span style=\"color: #000080; text-decoration-color: #000080\">INFO    </span> Scraping game schedule for Wednesday, Jul <span style=\"color: #008080; text-decoration-color: #008080; font-weight: bold\">12</span> <span style=\"color: #008080; text-decoration-color: #008080; font-weight: bold\">2023</span>                     <a href=\"file:///Users/okariuk/Shakhtar-Donetsk/.venv/lib/python3.11/site-packages/soccerdata/whoscored.py\" target=\"_blank\"><span style=\"color: #7f7f7f; text-decoration-color: #7f7f7f\">whoscored.py</span></a><span style=\"color: #7f7f7f; text-decoration-color: #7f7f7f\">:</span><a href=\"file:///Users/okariuk/Shakhtar-Donetsk/.venv/lib/python3.11/site-packages/soccerdata/whoscored.py#327\" target=\"_blank\"><span style=\"color: #7f7f7f; text-decoration-color: #7f7f7f\">327</span></a>\n",
       "</pre>\n"
      ],
      "text/plain": [
       "\u001b[2;36m[01/26/24 16:07:50]\u001b[0m\u001b[2;36m \u001b[0m\u001b[34mINFO    \u001b[0m Scraping game schedule for Wednesday, Jul \u001b[1;36m12\u001b[0m \u001b[1;36m2023\u001b[0m                     \u001b]8;id=488577;file:///Users/okariuk/Shakhtar-Donetsk/.venv/lib/python3.11/site-packages/soccerdata/whoscored.py\u001b\\\u001b[2mwhoscored.py\u001b[0m\u001b]8;;\u001b\\\u001b[2m:\u001b[0m\u001b]8;id=41692;file:///Users/okariuk/Shakhtar-Donetsk/.venv/lib/python3.11/site-packages/soccerdata/whoscored.py#327\u001b\\\u001b[2m327\u001b[0m\u001b]8;;\u001b\\\n"
      ]
     },
     "metadata": {},
     "output_type": "display_data"
    },
    {
     "data": {
      "text/html": [
       "<pre style=\"white-space:pre;overflow-x:auto;line-height:normal;font-family:Menlo,'DejaVu Sans Mono',consolas,'Courier New',monospace\"><span style=\"color: #7fbfbf; text-decoration-color: #7fbfbf\">                    </span><span style=\"color: #000080; text-decoration-color: #000080\">INFO    </span> Scraping game schedule for Tuesday, Jul <span style=\"color: #008080; text-decoration-color: #008080; font-weight: bold\">18</span> <span style=\"color: #008080; text-decoration-color: #008080; font-weight: bold\">2023</span>                       <a href=\"file:///Users/okariuk/Shakhtar-Donetsk/.venv/lib/python3.11/site-packages/soccerdata/whoscored.py\" target=\"_blank\"><span style=\"color: #7f7f7f; text-decoration-color: #7f7f7f\">whoscored.py</span></a><span style=\"color: #7f7f7f; text-decoration-color: #7f7f7f\">:</span><a href=\"file:///Users/okariuk/Shakhtar-Donetsk/.venv/lib/python3.11/site-packages/soccerdata/whoscored.py#327\" target=\"_blank\"><span style=\"color: #7f7f7f; text-decoration-color: #7f7f7f\">327</span></a>\n",
       "</pre>\n"
      ],
      "text/plain": [
       "\u001b[2;36m                   \u001b[0m\u001b[2;36m \u001b[0m\u001b[34mINFO    \u001b[0m Scraping game schedule for Tuesday, Jul \u001b[1;36m18\u001b[0m \u001b[1;36m2023\u001b[0m                       \u001b]8;id=141718;file:///Users/okariuk/Shakhtar-Donetsk/.venv/lib/python3.11/site-packages/soccerdata/whoscored.py\u001b\\\u001b[2mwhoscored.py\u001b[0m\u001b]8;;\u001b\\\u001b[2m:\u001b[0m\u001b]8;id=757899;file:///Users/okariuk/Shakhtar-Donetsk/.venv/lib/python3.11/site-packages/soccerdata/whoscored.py#327\u001b\\\u001b[2m327\u001b[0m\u001b]8;;\u001b\\\n"
      ]
     },
     "metadata": {},
     "output_type": "display_data"
    },
    {
     "data": {
      "text/html": [
       "<pre style=\"white-space:pre;overflow-x:auto;line-height:normal;font-family:Menlo,'DejaVu Sans Mono',consolas,'Courier New',monospace\"><span style=\"color: #7fbfbf; text-decoration-color: #7fbfbf\">                    </span><span style=\"color: #000080; text-decoration-color: #000080\">INFO    </span> Scraping game schedule for Wednesday, Jul <span style=\"color: #008080; text-decoration-color: #008080; font-weight: bold\">19</span> <span style=\"color: #008080; text-decoration-color: #008080; font-weight: bold\">2023</span>                     <a href=\"file:///Users/okariuk/Shakhtar-Donetsk/.venv/lib/python3.11/site-packages/soccerdata/whoscored.py\" target=\"_blank\"><span style=\"color: #7f7f7f; text-decoration-color: #7f7f7f\">whoscored.py</span></a><span style=\"color: #7f7f7f; text-decoration-color: #7f7f7f\">:</span><a href=\"file:///Users/okariuk/Shakhtar-Donetsk/.venv/lib/python3.11/site-packages/soccerdata/whoscored.py#327\" target=\"_blank\"><span style=\"color: #7f7f7f; text-decoration-color: #7f7f7f\">327</span></a>\n",
       "</pre>\n"
      ],
      "text/plain": [
       "\u001b[2;36m                   \u001b[0m\u001b[2;36m \u001b[0m\u001b[34mINFO    \u001b[0m Scraping game schedule for Wednesday, Jul \u001b[1;36m19\u001b[0m \u001b[1;36m2023\u001b[0m                     \u001b]8;id=769295;file:///Users/okariuk/Shakhtar-Donetsk/.venv/lib/python3.11/site-packages/soccerdata/whoscored.py\u001b\\\u001b[2mwhoscored.py\u001b[0m\u001b]8;;\u001b\\\u001b[2m:\u001b[0m\u001b]8;id=681877;file:///Users/okariuk/Shakhtar-Donetsk/.venv/lib/python3.11/site-packages/soccerdata/whoscored.py#327\u001b\\\u001b[2m327\u001b[0m\u001b]8;;\u001b\\\n"
      ]
     },
     "metadata": {},
     "output_type": "display_data"
    },
    {
     "data": {
      "text/html": [
       "<pre style=\"white-space:pre;overflow-x:auto;line-height:normal;font-family:Menlo,'DejaVu Sans Mono',consolas,'Courier New',monospace\"><span style=\"color: #7fbfbf; text-decoration-color: #7fbfbf\">                    </span><span style=\"color: #000080; text-decoration-color: #000080\">INFO    </span> Scraping game schedule for Tuesday, Jul <span style=\"color: #008080; text-decoration-color: #008080; font-weight: bold\">25</span> <span style=\"color: #008080; text-decoration-color: #008080; font-weight: bold\">2023</span>                       <a href=\"file:///Users/okariuk/Shakhtar-Donetsk/.venv/lib/python3.11/site-packages/soccerdata/whoscored.py\" target=\"_blank\"><span style=\"color: #7f7f7f; text-decoration-color: #7f7f7f\">whoscored.py</span></a><span style=\"color: #7f7f7f; text-decoration-color: #7f7f7f\">:</span><a href=\"file:///Users/okariuk/Shakhtar-Donetsk/.venv/lib/python3.11/site-packages/soccerdata/whoscored.py#327\" target=\"_blank\"><span style=\"color: #7f7f7f; text-decoration-color: #7f7f7f\">327</span></a>\n",
       "</pre>\n"
      ],
      "text/plain": [
       "\u001b[2;36m                   \u001b[0m\u001b[2;36m \u001b[0m\u001b[34mINFO    \u001b[0m Scraping game schedule for Tuesday, Jul \u001b[1;36m25\u001b[0m \u001b[1;36m2023\u001b[0m                       \u001b]8;id=404894;file:///Users/okariuk/Shakhtar-Donetsk/.venv/lib/python3.11/site-packages/soccerdata/whoscored.py\u001b\\\u001b[2mwhoscored.py\u001b[0m\u001b]8;;\u001b\\\u001b[2m:\u001b[0m\u001b]8;id=642497;file:///Users/okariuk/Shakhtar-Donetsk/.venv/lib/python3.11/site-packages/soccerdata/whoscored.py#327\u001b\\\u001b[2m327\u001b[0m\u001b]8;;\u001b\\\n"
      ]
     },
     "metadata": {},
     "output_type": "display_data"
    },
    {
     "data": {
      "text/html": [
       "<pre style=\"white-space:pre;overflow-x:auto;line-height:normal;font-family:Menlo,'DejaVu Sans Mono',consolas,'Courier New',monospace\"><span style=\"color: #7fbfbf; text-decoration-color: #7fbfbf\">[01/26/24 16:07:51] </span><span style=\"color: #000080; text-decoration-color: #000080\">INFO    </span> Scraping game schedule for Wednesday, Jul <span style=\"color: #008080; text-decoration-color: #008080; font-weight: bold\">26</span> <span style=\"color: #008080; text-decoration-color: #008080; font-weight: bold\">2023</span>                     <a href=\"file:///Users/okariuk/Shakhtar-Donetsk/.venv/lib/python3.11/site-packages/soccerdata/whoscored.py\" target=\"_blank\"><span style=\"color: #7f7f7f; text-decoration-color: #7f7f7f\">whoscored.py</span></a><span style=\"color: #7f7f7f; text-decoration-color: #7f7f7f\">:</span><a href=\"file:///Users/okariuk/Shakhtar-Donetsk/.venv/lib/python3.11/site-packages/soccerdata/whoscored.py#327\" target=\"_blank\"><span style=\"color: #7f7f7f; text-decoration-color: #7f7f7f\">327</span></a>\n",
       "</pre>\n"
      ],
      "text/plain": [
       "\u001b[2;36m[01/26/24 16:07:51]\u001b[0m\u001b[2;36m \u001b[0m\u001b[34mINFO    \u001b[0m Scraping game schedule for Wednesday, Jul \u001b[1;36m26\u001b[0m \u001b[1;36m2023\u001b[0m                     \u001b]8;id=55530;file:///Users/okariuk/Shakhtar-Donetsk/.venv/lib/python3.11/site-packages/soccerdata/whoscored.py\u001b\\\u001b[2mwhoscored.py\u001b[0m\u001b]8;;\u001b\\\u001b[2m:\u001b[0m\u001b]8;id=260108;file:///Users/okariuk/Shakhtar-Donetsk/.venv/lib/python3.11/site-packages/soccerdata/whoscored.py#327\u001b\\\u001b[2m327\u001b[0m\u001b]8;;\u001b\\\n"
      ]
     },
     "metadata": {},
     "output_type": "display_data"
    },
    {
     "data": {
      "text/html": [
       "<pre style=\"white-space:pre;overflow-x:auto;line-height:normal;font-family:Menlo,'DejaVu Sans Mono',consolas,'Courier New',monospace\"><span style=\"color: #7fbfbf; text-decoration-color: #7fbfbf\">                    </span><span style=\"color: #000080; text-decoration-color: #000080\">INFO    </span> Scraping game schedule for Tuesday, Aug <span style=\"color: #008080; text-decoration-color: #008080; font-weight: bold\">1</span> <span style=\"color: #008080; text-decoration-color: #008080; font-weight: bold\">2023</span>                        <a href=\"file:///Users/okariuk/Shakhtar-Donetsk/.venv/lib/python3.11/site-packages/soccerdata/whoscored.py\" target=\"_blank\"><span style=\"color: #7f7f7f; text-decoration-color: #7f7f7f\">whoscored.py</span></a><span style=\"color: #7f7f7f; text-decoration-color: #7f7f7f\">:</span><a href=\"file:///Users/okariuk/Shakhtar-Donetsk/.venv/lib/python3.11/site-packages/soccerdata/whoscored.py#327\" target=\"_blank\"><span style=\"color: #7f7f7f; text-decoration-color: #7f7f7f\">327</span></a>\n",
       "</pre>\n"
      ],
      "text/plain": [
       "\u001b[2;36m                   \u001b[0m\u001b[2;36m \u001b[0m\u001b[34mINFO    \u001b[0m Scraping game schedule for Tuesday, Aug \u001b[1;36m1\u001b[0m \u001b[1;36m2023\u001b[0m                        \u001b]8;id=209620;file:///Users/okariuk/Shakhtar-Donetsk/.venv/lib/python3.11/site-packages/soccerdata/whoscored.py\u001b\\\u001b[2mwhoscored.py\u001b[0m\u001b]8;;\u001b\\\u001b[2m:\u001b[0m\u001b]8;id=141972;file:///Users/okariuk/Shakhtar-Donetsk/.venv/lib/python3.11/site-packages/soccerdata/whoscored.py#327\u001b\\\u001b[2m327\u001b[0m\u001b]8;;\u001b\\\n"
      ]
     },
     "metadata": {},
     "output_type": "display_data"
    },
    {
     "data": {
      "text/html": [
       "<pre style=\"white-space:pre;overflow-x:auto;line-height:normal;font-family:Menlo,'DejaVu Sans Mono',consolas,'Courier New',monospace\"><span style=\"color: #7fbfbf; text-decoration-color: #7fbfbf\">                    </span><span style=\"color: #000080; text-decoration-color: #000080\">INFO    </span> Scraping game schedule for Wednesday, Aug <span style=\"color: #008080; text-decoration-color: #008080; font-weight: bold\">2</span> <span style=\"color: #008080; text-decoration-color: #008080; font-weight: bold\">2023</span>                      <a href=\"file:///Users/okariuk/Shakhtar-Donetsk/.venv/lib/python3.11/site-packages/soccerdata/whoscored.py\" target=\"_blank\"><span style=\"color: #7f7f7f; text-decoration-color: #7f7f7f\">whoscored.py</span></a><span style=\"color: #7f7f7f; text-decoration-color: #7f7f7f\">:</span><a href=\"file:///Users/okariuk/Shakhtar-Donetsk/.venv/lib/python3.11/site-packages/soccerdata/whoscored.py#327\" target=\"_blank\"><span style=\"color: #7f7f7f; text-decoration-color: #7f7f7f\">327</span></a>\n",
       "</pre>\n"
      ],
      "text/plain": [
       "\u001b[2;36m                   \u001b[0m\u001b[2;36m \u001b[0m\u001b[34mINFO    \u001b[0m Scraping game schedule for Wednesday, Aug \u001b[1;36m2\u001b[0m \u001b[1;36m2023\u001b[0m                      \u001b]8;id=741836;file:///Users/okariuk/Shakhtar-Donetsk/.venv/lib/python3.11/site-packages/soccerdata/whoscored.py\u001b\\\u001b[2mwhoscored.py\u001b[0m\u001b]8;;\u001b\\\u001b[2m:\u001b[0m\u001b]8;id=26832;file:///Users/okariuk/Shakhtar-Donetsk/.venv/lib/python3.11/site-packages/soccerdata/whoscored.py#327\u001b\\\u001b[2m327\u001b[0m\u001b]8;;\u001b\\\n"
      ]
     },
     "metadata": {},
     "output_type": "display_data"
    },
    {
     "data": {
      "text/html": [
       "<pre style=\"white-space:pre;overflow-x:auto;line-height:normal;font-family:Menlo,'DejaVu Sans Mono',consolas,'Courier New',monospace\"><span style=\"color: #7fbfbf; text-decoration-color: #7fbfbf\">[01/26/24 16:07:53] </span><span style=\"color: #000080; text-decoration-color: #000080\">INFO    </span> Scraping game schedule for Tuesday, Aug <span style=\"color: #008080; text-decoration-color: #008080; font-weight: bold\">8</span> <span style=\"color: #008080; text-decoration-color: #008080; font-weight: bold\">2023</span>                        <a href=\"file:///Users/okariuk/Shakhtar-Donetsk/.venv/lib/python3.11/site-packages/soccerdata/whoscored.py\" target=\"_blank\"><span style=\"color: #7f7f7f; text-decoration-color: #7f7f7f\">whoscored.py</span></a><span style=\"color: #7f7f7f; text-decoration-color: #7f7f7f\">:</span><a href=\"file:///Users/okariuk/Shakhtar-Donetsk/.venv/lib/python3.11/site-packages/soccerdata/whoscored.py#327\" target=\"_blank\"><span style=\"color: #7f7f7f; text-decoration-color: #7f7f7f\">327</span></a>\n",
       "</pre>\n"
      ],
      "text/plain": [
       "\u001b[2;36m[01/26/24 16:07:53]\u001b[0m\u001b[2;36m \u001b[0m\u001b[34mINFO    \u001b[0m Scraping game schedule for Tuesday, Aug \u001b[1;36m8\u001b[0m \u001b[1;36m2023\u001b[0m                        \u001b]8;id=232599;file:///Users/okariuk/Shakhtar-Donetsk/.venv/lib/python3.11/site-packages/soccerdata/whoscored.py\u001b\\\u001b[2mwhoscored.py\u001b[0m\u001b]8;;\u001b\\\u001b[2m:\u001b[0m\u001b]8;id=577388;file:///Users/okariuk/Shakhtar-Donetsk/.venv/lib/python3.11/site-packages/soccerdata/whoscored.py#327\u001b\\\u001b[2m327\u001b[0m\u001b]8;;\u001b\\\n"
      ]
     },
     "metadata": {},
     "output_type": "display_data"
    },
    {
     "data": {
      "text/html": [
       "<pre style=\"white-space:pre;overflow-x:auto;line-height:normal;font-family:Menlo,'DejaVu Sans Mono',consolas,'Courier New',monospace\"><span style=\"color: #7fbfbf; text-decoration-color: #7fbfbf\">                    </span><span style=\"color: #000080; text-decoration-color: #000080\">INFO    </span> Scraping game schedule for Wednesday, Aug <span style=\"color: #008080; text-decoration-color: #008080; font-weight: bold\">9</span> <span style=\"color: #008080; text-decoration-color: #008080; font-weight: bold\">2023</span>                      <a href=\"file:///Users/okariuk/Shakhtar-Donetsk/.venv/lib/python3.11/site-packages/soccerdata/whoscored.py\" target=\"_blank\"><span style=\"color: #7f7f7f; text-decoration-color: #7f7f7f\">whoscored.py</span></a><span style=\"color: #7f7f7f; text-decoration-color: #7f7f7f\">:</span><a href=\"file:///Users/okariuk/Shakhtar-Donetsk/.venv/lib/python3.11/site-packages/soccerdata/whoscored.py#327\" target=\"_blank\"><span style=\"color: #7f7f7f; text-decoration-color: #7f7f7f\">327</span></a>\n",
       "</pre>\n"
      ],
      "text/plain": [
       "\u001b[2;36m                   \u001b[0m\u001b[2;36m \u001b[0m\u001b[34mINFO    \u001b[0m Scraping game schedule for Wednesday, Aug \u001b[1;36m9\u001b[0m \u001b[1;36m2023\u001b[0m                      \u001b]8;id=339189;file:///Users/okariuk/Shakhtar-Donetsk/.venv/lib/python3.11/site-packages/soccerdata/whoscored.py\u001b\\\u001b[2mwhoscored.py\u001b[0m\u001b]8;;\u001b\\\u001b[2m:\u001b[0m\u001b]8;id=188062;file:///Users/okariuk/Shakhtar-Donetsk/.venv/lib/python3.11/site-packages/soccerdata/whoscored.py#327\u001b\\\u001b[2m327\u001b[0m\u001b]8;;\u001b\\\n"
      ]
     },
     "metadata": {},
     "output_type": "display_data"
    },
    {
     "data": {
      "text/html": [
       "<pre style=\"white-space:pre;overflow-x:auto;line-height:normal;font-family:Menlo,'DejaVu Sans Mono',consolas,'Courier New',monospace\"><span style=\"color: #7fbfbf; text-decoration-color: #7fbfbf\">[01/26/24 16:07:55] </span><span style=\"color: #000080; text-decoration-color: #000080\">INFO    </span> Scraping game schedule for Tuesday, Aug <span style=\"color: #008080; text-decoration-color: #008080; font-weight: bold\">15</span> <span style=\"color: #008080; text-decoration-color: #008080; font-weight: bold\">2023</span>                       <a href=\"file:///Users/okariuk/Shakhtar-Donetsk/.venv/lib/python3.11/site-packages/soccerdata/whoscored.py\" target=\"_blank\"><span style=\"color: #7f7f7f; text-decoration-color: #7f7f7f\">whoscored.py</span></a><span style=\"color: #7f7f7f; text-decoration-color: #7f7f7f\">:</span><a href=\"file:///Users/okariuk/Shakhtar-Donetsk/.venv/lib/python3.11/site-packages/soccerdata/whoscored.py#327\" target=\"_blank\"><span style=\"color: #7f7f7f; text-decoration-color: #7f7f7f\">327</span></a>\n",
       "</pre>\n"
      ],
      "text/plain": [
       "\u001b[2;36m[01/26/24 16:07:55]\u001b[0m\u001b[2;36m \u001b[0m\u001b[34mINFO    \u001b[0m Scraping game schedule for Tuesday, Aug \u001b[1;36m15\u001b[0m \u001b[1;36m2023\u001b[0m                       \u001b]8;id=718310;file:///Users/okariuk/Shakhtar-Donetsk/.venv/lib/python3.11/site-packages/soccerdata/whoscored.py\u001b\\\u001b[2mwhoscored.py\u001b[0m\u001b]8;;\u001b\\\u001b[2m:\u001b[0m\u001b]8;id=599;file:///Users/okariuk/Shakhtar-Donetsk/.venv/lib/python3.11/site-packages/soccerdata/whoscored.py#327\u001b\\\u001b[2m327\u001b[0m\u001b]8;;\u001b\\\n"
      ]
     },
     "metadata": {},
     "output_type": "display_data"
    },
    {
     "data": {
      "text/html": [
       "<pre style=\"white-space:pre;overflow-x:auto;line-height:normal;font-family:Menlo,'DejaVu Sans Mono',consolas,'Courier New',monospace\"><span style=\"color: #7fbfbf; text-decoration-color: #7fbfbf\">[01/26/24 16:07:56] </span><span style=\"color: #000080; text-decoration-color: #000080\">INFO    </span> Scraping game schedule for Saturday, Aug <span style=\"color: #008080; text-decoration-color: #008080; font-weight: bold\">19</span> <span style=\"color: #008080; text-decoration-color: #008080; font-weight: bold\">2023</span>                      <a href=\"file:///Users/okariuk/Shakhtar-Donetsk/.venv/lib/python3.11/site-packages/soccerdata/whoscored.py\" target=\"_blank\"><span style=\"color: #7f7f7f; text-decoration-color: #7f7f7f\">whoscored.py</span></a><span style=\"color: #7f7f7f; text-decoration-color: #7f7f7f\">:</span><a href=\"file:///Users/okariuk/Shakhtar-Donetsk/.venv/lib/python3.11/site-packages/soccerdata/whoscored.py#327\" target=\"_blank\"><span style=\"color: #7f7f7f; text-decoration-color: #7f7f7f\">327</span></a>\n",
       "</pre>\n"
      ],
      "text/plain": [
       "\u001b[2;36m[01/26/24 16:07:56]\u001b[0m\u001b[2;36m \u001b[0m\u001b[34mINFO    \u001b[0m Scraping game schedule for Saturday, Aug \u001b[1;36m19\u001b[0m \u001b[1;36m2023\u001b[0m                      \u001b]8;id=93789;file:///Users/okariuk/Shakhtar-Donetsk/.venv/lib/python3.11/site-packages/soccerdata/whoscored.py\u001b\\\u001b[2mwhoscored.py\u001b[0m\u001b]8;;\u001b\\\u001b[2m:\u001b[0m\u001b]8;id=552694;file:///Users/okariuk/Shakhtar-Donetsk/.venv/lib/python3.11/site-packages/soccerdata/whoscored.py#327\u001b\\\u001b[2m327\u001b[0m\u001b]8;;\u001b\\\n"
      ]
     },
     "metadata": {},
     "output_type": "display_data"
    },
    {
     "data": {
      "text/html": [
       "<pre style=\"white-space:pre;overflow-x:auto;line-height:normal;font-family:Menlo,'DejaVu Sans Mono',consolas,'Courier New',monospace\"><span style=\"color: #7fbfbf; text-decoration-color: #7fbfbf\">                    </span><span style=\"color: #000080; text-decoration-color: #000080\">INFO    </span> Scraping game schedule for Tuesday, Aug <span style=\"color: #008080; text-decoration-color: #008080; font-weight: bold\">22</span> <span style=\"color: #008080; text-decoration-color: #008080; font-weight: bold\">2023</span>                       <a href=\"file:///Users/okariuk/Shakhtar-Donetsk/.venv/lib/python3.11/site-packages/soccerdata/whoscored.py\" target=\"_blank\"><span style=\"color: #7f7f7f; text-decoration-color: #7f7f7f\">whoscored.py</span></a><span style=\"color: #7f7f7f; text-decoration-color: #7f7f7f\">:</span><a href=\"file:///Users/okariuk/Shakhtar-Donetsk/.venv/lib/python3.11/site-packages/soccerdata/whoscored.py#327\" target=\"_blank\"><span style=\"color: #7f7f7f; text-decoration-color: #7f7f7f\">327</span></a>\n",
       "</pre>\n"
      ],
      "text/plain": [
       "\u001b[2;36m                   \u001b[0m\u001b[2;36m \u001b[0m\u001b[34mINFO    \u001b[0m Scraping game schedule for Tuesday, Aug \u001b[1;36m22\u001b[0m \u001b[1;36m2023\u001b[0m                       \u001b]8;id=704991;file:///Users/okariuk/Shakhtar-Donetsk/.venv/lib/python3.11/site-packages/soccerdata/whoscored.py\u001b\\\u001b[2mwhoscored.py\u001b[0m\u001b]8;;\u001b\\\u001b[2m:\u001b[0m\u001b]8;id=531883;file:///Users/okariuk/Shakhtar-Donetsk/.venv/lib/python3.11/site-packages/soccerdata/whoscored.py#327\u001b\\\u001b[2m327\u001b[0m\u001b]8;;\u001b\\\n"
      ]
     },
     "metadata": {},
     "output_type": "display_data"
    },
    {
     "data": {
      "text/html": [
       "<pre style=\"white-space:pre;overflow-x:auto;line-height:normal;font-family:Menlo,'DejaVu Sans Mono',consolas,'Courier New',monospace\"><span style=\"color: #7fbfbf; text-decoration-color: #7fbfbf\">                    </span><span style=\"color: #000080; text-decoration-color: #000080\">INFO    </span> Scraping game schedule for Wednesday, Aug <span style=\"color: #008080; text-decoration-color: #008080; font-weight: bold\">23</span> <span style=\"color: #008080; text-decoration-color: #008080; font-weight: bold\">2023</span>                     <a href=\"file:///Users/okariuk/Shakhtar-Donetsk/.venv/lib/python3.11/site-packages/soccerdata/whoscored.py\" target=\"_blank\"><span style=\"color: #7f7f7f; text-decoration-color: #7f7f7f\">whoscored.py</span></a><span style=\"color: #7f7f7f; text-decoration-color: #7f7f7f\">:</span><a href=\"file:///Users/okariuk/Shakhtar-Donetsk/.venv/lib/python3.11/site-packages/soccerdata/whoscored.py#327\" target=\"_blank\"><span style=\"color: #7f7f7f; text-decoration-color: #7f7f7f\">327</span></a>\n",
       "</pre>\n"
      ],
      "text/plain": [
       "\u001b[2;36m                   \u001b[0m\u001b[2;36m \u001b[0m\u001b[34mINFO    \u001b[0m Scraping game schedule for Wednesday, Aug \u001b[1;36m23\u001b[0m \u001b[1;36m2023\u001b[0m                     \u001b]8;id=555616;file:///Users/okariuk/Shakhtar-Donetsk/.venv/lib/python3.11/site-packages/soccerdata/whoscored.py\u001b\\\u001b[2mwhoscored.py\u001b[0m\u001b]8;;\u001b\\\u001b[2m:\u001b[0m\u001b]8;id=967478;file:///Users/okariuk/Shakhtar-Donetsk/.venv/lib/python3.11/site-packages/soccerdata/whoscored.py#327\u001b\\\u001b[2m327\u001b[0m\u001b]8;;\u001b\\\n"
      ]
     },
     "metadata": {},
     "output_type": "display_data"
    },
    {
     "data": {
      "text/html": [
       "<pre style=\"white-space:pre;overflow-x:auto;line-height:normal;font-family:Menlo,'DejaVu Sans Mono',consolas,'Courier New',monospace\"><span style=\"color: #7fbfbf; text-decoration-color: #7fbfbf\">                    </span><span style=\"color: #000080; text-decoration-color: #000080\">INFO    </span> Scraping game schedule for Tuesday, Aug <span style=\"color: #008080; text-decoration-color: #008080; font-weight: bold\">29</span> <span style=\"color: #008080; text-decoration-color: #008080; font-weight: bold\">2023</span>                       <a href=\"file:///Users/okariuk/Shakhtar-Donetsk/.venv/lib/python3.11/site-packages/soccerdata/whoscored.py\" target=\"_blank\"><span style=\"color: #7f7f7f; text-decoration-color: #7f7f7f\">whoscored.py</span></a><span style=\"color: #7f7f7f; text-decoration-color: #7f7f7f\">:</span><a href=\"file:///Users/okariuk/Shakhtar-Donetsk/.venv/lib/python3.11/site-packages/soccerdata/whoscored.py#327\" target=\"_blank\"><span style=\"color: #7f7f7f; text-decoration-color: #7f7f7f\">327</span></a>\n",
       "</pre>\n"
      ],
      "text/plain": [
       "\u001b[2;36m                   \u001b[0m\u001b[2;36m \u001b[0m\u001b[34mINFO    \u001b[0m Scraping game schedule for Tuesday, Aug \u001b[1;36m29\u001b[0m \u001b[1;36m2023\u001b[0m                       \u001b]8;id=182550;file:///Users/okariuk/Shakhtar-Donetsk/.venv/lib/python3.11/site-packages/soccerdata/whoscored.py\u001b\\\u001b[2mwhoscored.py\u001b[0m\u001b]8;;\u001b\\\u001b[2m:\u001b[0m\u001b]8;id=71813;file:///Users/okariuk/Shakhtar-Donetsk/.venv/lib/python3.11/site-packages/soccerdata/whoscored.py#327\u001b\\\u001b[2m327\u001b[0m\u001b]8;;\u001b\\\n"
      ]
     },
     "metadata": {},
     "output_type": "display_data"
    },
    {
     "data": {
      "text/html": [
       "<pre style=\"white-space:pre;overflow-x:auto;line-height:normal;font-family:Menlo,'DejaVu Sans Mono',consolas,'Courier New',monospace\"><span style=\"color: #7fbfbf; text-decoration-color: #7fbfbf\">                    </span><span style=\"color: #000080; text-decoration-color: #000080\">INFO    </span> Scraping game schedule for Wednesday, Aug <span style=\"color: #008080; text-decoration-color: #008080; font-weight: bold\">30</span> <span style=\"color: #008080; text-decoration-color: #008080; font-weight: bold\">2023</span>                     <a href=\"file:///Users/okariuk/Shakhtar-Donetsk/.venv/lib/python3.11/site-packages/soccerdata/whoscored.py\" target=\"_blank\"><span style=\"color: #7f7f7f; text-decoration-color: #7f7f7f\">whoscored.py</span></a><span style=\"color: #7f7f7f; text-decoration-color: #7f7f7f\">:</span><a href=\"file:///Users/okariuk/Shakhtar-Donetsk/.venv/lib/python3.11/site-packages/soccerdata/whoscored.py#327\" target=\"_blank\"><span style=\"color: #7f7f7f; text-decoration-color: #7f7f7f\">327</span></a>\n",
       "</pre>\n"
      ],
      "text/plain": [
       "\u001b[2;36m                   \u001b[0m\u001b[2;36m \u001b[0m\u001b[34mINFO    \u001b[0m Scraping game schedule for Wednesday, Aug \u001b[1;36m30\u001b[0m \u001b[1;36m2023\u001b[0m                     \u001b]8;id=269670;file:///Users/okariuk/Shakhtar-Donetsk/.venv/lib/python3.11/site-packages/soccerdata/whoscored.py\u001b\\\u001b[2mwhoscored.py\u001b[0m\u001b]8;;\u001b\\\u001b[2m:\u001b[0m\u001b]8;id=377263;file:///Users/okariuk/Shakhtar-Donetsk/.venv/lib/python3.11/site-packages/soccerdata/whoscored.py#327\u001b\\\u001b[2m327\u001b[0m\u001b]8;;\u001b\\\n"
      ]
     },
     "metadata": {},
     "output_type": "display_data"
    },
    {
     "data": {
      "text/html": [
       "<pre style=\"white-space:pre;overflow-x:auto;line-height:normal;font-family:Menlo,'DejaVu Sans Mono',consolas,'Courier New',monospace\"><span style=\"color: #7fbfbf; text-decoration-color: #7fbfbf\">[01/26/24 16:08:01] </span><span style=\"color: #000080; text-decoration-color: #000080\">INFO    </span> Scraping game schedule with <span style=\"color: #808000; text-decoration-color: #808000\">stage</span>=<span style=\"font-weight: bold\">{</span><span style=\"color: #008000; text-decoration-color: #008000\">'url'</span>:                             <a href=\"file:///Users/okariuk/Shakhtar-Donetsk/.venv/lib/python3.11/site-packages/soccerdata/whoscored.py\" target=\"_blank\"><span style=\"color: #7f7f7f; text-decoration-color: #7f7f7f\">whoscored.py</span></a><span style=\"color: #7f7f7f; text-decoration-color: #7f7f7f\">:</span><a href=\"file:///Users/okariuk/Shakhtar-Donetsk/.venv/lib/python3.11/site-packages/soccerdata/whoscored.py#407\" target=\"_blank\"><span style=\"color: #7f7f7f; text-decoration-color: #7f7f7f\">407</span></a>\n",
       "<span style=\"color: #7fbfbf; text-decoration-color: #7fbfbf\">                    </span>         <span style=\"color: #008000; text-decoration-color: #008000\">'/Regions/250/Tournaments/12/Seasons/9664/Stages/22686/Show/Europe-Ch</span> <span style=\"color: #7f7f7f; text-decoration-color: #7f7f7f\">                </span>\n",
       "<span style=\"color: #7fbfbf; text-decoration-color: #7fbfbf\">                    </span>         <span style=\"color: #008000; text-decoration-color: #008000\">ampions-League-2023-2024'</span>, <span style=\"color: #008000; text-decoration-color: #008000\">'name'</span>: <span style=\"color: #008000; text-decoration-color: #008000\">'Champions League Final Stage'</span><span style=\"font-weight: bold\">}</span>    <span style=\"color: #7f7f7f; text-decoration-color: #7f7f7f\">                </span>\n",
       "<span style=\"color: #7fbfbf; text-decoration-color: #7fbfbf\">                    </span>         from                                                                  <span style=\"color: #7f7f7f; text-decoration-color: #7f7f7f\">                </span>\n",
       "<span style=\"color: #7fbfbf; text-decoration-color: #7fbfbf\">                    </span>         <span style=\"color: #0000ff; text-decoration-color: #0000ff; text-decoration: underline\">https://www.whoscored.com/Regions/250/Tournaments/12/Seasons/9664/Sta</span> <span style=\"color: #7f7f7f; text-decoration-color: #7f7f7f\">                </span>\n",
       "<span style=\"color: #7fbfbf; text-decoration-color: #7fbfbf\">                    </span>         <span style=\"color: #0000ff; text-decoration-color: #0000ff; text-decoration: underline\">ges/22686/Fixtures/Europe-Champions-League-2023-2024</span>                  <span style=\"color: #7f7f7f; text-decoration-color: #7f7f7f\">                </span>\n",
       "</pre>\n"
      ],
      "text/plain": [
       "\u001b[2;36m[01/26/24 16:08:01]\u001b[0m\u001b[2;36m \u001b[0m\u001b[34mINFO    \u001b[0m Scraping game schedule with \u001b[33mstage\u001b[0m=\u001b[1m{\u001b[0m\u001b[32m'url'\u001b[0m:                             \u001b]8;id=727855;file:///Users/okariuk/Shakhtar-Donetsk/.venv/lib/python3.11/site-packages/soccerdata/whoscored.py\u001b\\\u001b[2mwhoscored.py\u001b[0m\u001b]8;;\u001b\\\u001b[2m:\u001b[0m\u001b]8;id=668218;file:///Users/okariuk/Shakhtar-Donetsk/.venv/lib/python3.11/site-packages/soccerdata/whoscored.py#407\u001b\\\u001b[2m407\u001b[0m\u001b]8;;\u001b\\\n",
       "\u001b[2;36m                    \u001b[0m         \u001b[32m'/Regions/250/Tournaments/12/Seasons/9664/Stages/22686/Show/Europe-Ch\u001b[0m \u001b[2m                \u001b[0m\n",
       "\u001b[2;36m                    \u001b[0m         \u001b[32mampions-League-2023-2024'\u001b[0m, \u001b[32m'name'\u001b[0m: \u001b[32m'Champions League Final Stage'\u001b[0m\u001b[1m}\u001b[0m    \u001b[2m                \u001b[0m\n",
       "\u001b[2;36m                    \u001b[0m         from                                                                  \u001b[2m                \u001b[0m\n",
       "\u001b[2;36m                    \u001b[0m         \u001b[4;94mhttps://www.whoscored.com/Regions/250/Tournaments/12/Seasons/9664/Sta\u001b[0m \u001b[2m                \u001b[0m\n",
       "\u001b[2;36m                    \u001b[0m         \u001b[4;94mges/22686/Fixtures/Europe-Champions-League-2023-2024\u001b[0m                  \u001b[2m                \u001b[0m\n"
      ]
     },
     "metadata": {},
     "output_type": "display_data"
    },
    {
     "data": {
      "text/html": [
       "<pre style=\"white-space:pre;overflow-x:auto;line-height:normal;font-family:Menlo,'DejaVu Sans Mono',consolas,'Courier New',monospace\"><span style=\"color: #7fbfbf; text-decoration-color: #7fbfbf\">                    </span><span style=\"color: #000080; text-decoration-color: #000080\">INFO    </span> Scraping game schedule for Tuesday, Feb <span style=\"color: #008080; text-decoration-color: #008080; font-weight: bold\">13</span> <span style=\"color: #008080; text-decoration-color: #008080; font-weight: bold\">2024</span>                       <a href=\"file:///Users/okariuk/Shakhtar-Donetsk/.venv/lib/python3.11/site-packages/soccerdata/whoscored.py\" target=\"_blank\"><span style=\"color: #7f7f7f; text-decoration-color: #7f7f7f\">whoscored.py</span></a><span style=\"color: #7f7f7f; text-decoration-color: #7f7f7f\">:</span><a href=\"file:///Users/okariuk/Shakhtar-Donetsk/.venv/lib/python3.11/site-packages/soccerdata/whoscored.py#327\" target=\"_blank\"><span style=\"color: #7f7f7f; text-decoration-color: #7f7f7f\">327</span></a>\n",
       "</pre>\n"
      ],
      "text/plain": [
       "\u001b[2;36m                   \u001b[0m\u001b[2;36m \u001b[0m\u001b[34mINFO    \u001b[0m Scraping game schedule for Tuesday, Feb \u001b[1;36m13\u001b[0m \u001b[1;36m2024\u001b[0m                       \u001b]8;id=375236;file:///Users/okariuk/Shakhtar-Donetsk/.venv/lib/python3.11/site-packages/soccerdata/whoscored.py\u001b\\\u001b[2mwhoscored.py\u001b[0m\u001b]8;;\u001b\\\u001b[2m:\u001b[0m\u001b]8;id=184897;file:///Users/okariuk/Shakhtar-Donetsk/.venv/lib/python3.11/site-packages/soccerdata/whoscored.py#327\u001b\\\u001b[2m327\u001b[0m\u001b]8;;\u001b\\\n"
      ]
     },
     "metadata": {},
     "output_type": "display_data"
    },
    {
     "data": {
      "text/html": [
       "<pre style=\"white-space:pre;overflow-x:auto;line-height:normal;font-family:Menlo,'DejaVu Sans Mono',consolas,'Courier New',monospace\"><span style=\"color: #7fbfbf; text-decoration-color: #7fbfbf\">                    </span><span style=\"color: #000080; text-decoration-color: #000080\">INFO    </span> Scraping game schedule for Wednesday, Feb <span style=\"color: #008080; text-decoration-color: #008080; font-weight: bold\">14</span> <span style=\"color: #008080; text-decoration-color: #008080; font-weight: bold\">2024</span>                     <a href=\"file:///Users/okariuk/Shakhtar-Donetsk/.venv/lib/python3.11/site-packages/soccerdata/whoscored.py\" target=\"_blank\"><span style=\"color: #7f7f7f; text-decoration-color: #7f7f7f\">whoscored.py</span></a><span style=\"color: #7f7f7f; text-decoration-color: #7f7f7f\">:</span><a href=\"file:///Users/okariuk/Shakhtar-Donetsk/.venv/lib/python3.11/site-packages/soccerdata/whoscored.py#327\" target=\"_blank\"><span style=\"color: #7f7f7f; text-decoration-color: #7f7f7f\">327</span></a>\n",
       "</pre>\n"
      ],
      "text/plain": [
       "\u001b[2;36m                   \u001b[0m\u001b[2;36m \u001b[0m\u001b[34mINFO    \u001b[0m Scraping game schedule for Wednesday, Feb \u001b[1;36m14\u001b[0m \u001b[1;36m2024\u001b[0m                     \u001b]8;id=569367;file:///Users/okariuk/Shakhtar-Donetsk/.venv/lib/python3.11/site-packages/soccerdata/whoscored.py\u001b\\\u001b[2mwhoscored.py\u001b[0m\u001b]8;;\u001b\\\u001b[2m:\u001b[0m\u001b]8;id=57253;file:///Users/okariuk/Shakhtar-Donetsk/.venv/lib/python3.11/site-packages/soccerdata/whoscored.py#327\u001b\\\u001b[2m327\u001b[0m\u001b]8;;\u001b\\\n"
      ]
     },
     "metadata": {},
     "output_type": "display_data"
    },
    {
     "data": {
      "text/html": [
       "<pre style=\"white-space:pre;overflow-x:auto;line-height:normal;font-family:Menlo,'DejaVu Sans Mono',consolas,'Courier New',monospace\"><span style=\"color: #7fbfbf; text-decoration-color: #7fbfbf\">                    </span><span style=\"color: #000080; text-decoration-color: #000080\">INFO    </span> Scraping game schedule for Tuesday, Feb <span style=\"color: #008080; text-decoration-color: #008080; font-weight: bold\">20</span> <span style=\"color: #008080; text-decoration-color: #008080; font-weight: bold\">2024</span>                       <a href=\"file:///Users/okariuk/Shakhtar-Donetsk/.venv/lib/python3.11/site-packages/soccerdata/whoscored.py\" target=\"_blank\"><span style=\"color: #7f7f7f; text-decoration-color: #7f7f7f\">whoscored.py</span></a><span style=\"color: #7f7f7f; text-decoration-color: #7f7f7f\">:</span><a href=\"file:///Users/okariuk/Shakhtar-Donetsk/.venv/lib/python3.11/site-packages/soccerdata/whoscored.py#327\" target=\"_blank\"><span style=\"color: #7f7f7f; text-decoration-color: #7f7f7f\">327</span></a>\n",
       "</pre>\n"
      ],
      "text/plain": [
       "\u001b[2;36m                   \u001b[0m\u001b[2;36m \u001b[0m\u001b[34mINFO    \u001b[0m Scraping game schedule for Tuesday, Feb \u001b[1;36m20\u001b[0m \u001b[1;36m2024\u001b[0m                       \u001b]8;id=908051;file:///Users/okariuk/Shakhtar-Donetsk/.venv/lib/python3.11/site-packages/soccerdata/whoscored.py\u001b\\\u001b[2mwhoscored.py\u001b[0m\u001b]8;;\u001b\\\u001b[2m:\u001b[0m\u001b]8;id=510193;file:///Users/okariuk/Shakhtar-Donetsk/.venv/lib/python3.11/site-packages/soccerdata/whoscored.py#327\u001b\\\u001b[2m327\u001b[0m\u001b]8;;\u001b\\\n"
      ]
     },
     "metadata": {},
     "output_type": "display_data"
    },
    {
     "data": {
      "text/html": [
       "<pre style=\"white-space:pre;overflow-x:auto;line-height:normal;font-family:Menlo,'DejaVu Sans Mono',consolas,'Courier New',monospace\"><span style=\"color: #7fbfbf; text-decoration-color: #7fbfbf\">                    </span><span style=\"color: #000080; text-decoration-color: #000080\">INFO    </span> Scraping game schedule for Wednesday, Feb <span style=\"color: #008080; text-decoration-color: #008080; font-weight: bold\">21</span> <span style=\"color: #008080; text-decoration-color: #008080; font-weight: bold\">2024</span>                     <a href=\"file:///Users/okariuk/Shakhtar-Donetsk/.venv/lib/python3.11/site-packages/soccerdata/whoscored.py\" target=\"_blank\"><span style=\"color: #7f7f7f; text-decoration-color: #7f7f7f\">whoscored.py</span></a><span style=\"color: #7f7f7f; text-decoration-color: #7f7f7f\">:</span><a href=\"file:///Users/okariuk/Shakhtar-Donetsk/.venv/lib/python3.11/site-packages/soccerdata/whoscored.py#327\" target=\"_blank\"><span style=\"color: #7f7f7f; text-decoration-color: #7f7f7f\">327</span></a>\n",
       "</pre>\n"
      ],
      "text/plain": [
       "\u001b[2;36m                   \u001b[0m\u001b[2;36m \u001b[0m\u001b[34mINFO    \u001b[0m Scraping game schedule for Wednesday, Feb \u001b[1;36m21\u001b[0m \u001b[1;36m2024\u001b[0m                     \u001b]8;id=827289;file:///Users/okariuk/Shakhtar-Donetsk/.venv/lib/python3.11/site-packages/soccerdata/whoscored.py\u001b\\\u001b[2mwhoscored.py\u001b[0m\u001b]8;;\u001b\\\u001b[2m:\u001b[0m\u001b]8;id=753521;file:///Users/okariuk/Shakhtar-Donetsk/.venv/lib/python3.11/site-packages/soccerdata/whoscored.py#327\u001b\\\u001b[2m327\u001b[0m\u001b]8;;\u001b\\\n"
      ]
     },
     "metadata": {},
     "output_type": "display_data"
    },
    {
     "data": {
      "text/html": [
       "<pre style=\"white-space:pre;overflow-x:auto;line-height:normal;font-family:Menlo,'DejaVu Sans Mono',consolas,'Courier New',monospace\"><span style=\"color: #7fbfbf; text-decoration-color: #7fbfbf\">[01/26/24 16:08:02] </span><span style=\"color: #000080; text-decoration-color: #000080\">INFO    </span> Scraping game schedule for Tuesday, Mar <span style=\"color: #008080; text-decoration-color: #008080; font-weight: bold\">5</span> <span style=\"color: #008080; text-decoration-color: #008080; font-weight: bold\">2024</span>                        <a href=\"file:///Users/okariuk/Shakhtar-Donetsk/.venv/lib/python3.11/site-packages/soccerdata/whoscored.py\" target=\"_blank\"><span style=\"color: #7f7f7f; text-decoration-color: #7f7f7f\">whoscored.py</span></a><span style=\"color: #7f7f7f; text-decoration-color: #7f7f7f\">:</span><a href=\"file:///Users/okariuk/Shakhtar-Donetsk/.venv/lib/python3.11/site-packages/soccerdata/whoscored.py#327\" target=\"_blank\"><span style=\"color: #7f7f7f; text-decoration-color: #7f7f7f\">327</span></a>\n",
       "</pre>\n"
      ],
      "text/plain": [
       "\u001b[2;36m[01/26/24 16:08:02]\u001b[0m\u001b[2;36m \u001b[0m\u001b[34mINFO    \u001b[0m Scraping game schedule for Tuesday, Mar \u001b[1;36m5\u001b[0m \u001b[1;36m2024\u001b[0m                        \u001b]8;id=952646;file:///Users/okariuk/Shakhtar-Donetsk/.venv/lib/python3.11/site-packages/soccerdata/whoscored.py\u001b\\\u001b[2mwhoscored.py\u001b[0m\u001b]8;;\u001b\\\u001b[2m:\u001b[0m\u001b]8;id=269185;file:///Users/okariuk/Shakhtar-Donetsk/.venv/lib/python3.11/site-packages/soccerdata/whoscored.py#327\u001b\\\u001b[2m327\u001b[0m\u001b]8;;\u001b\\\n"
      ]
     },
     "metadata": {},
     "output_type": "display_data"
    },
    {
     "data": {
      "text/html": [
       "<pre style=\"white-space:pre;overflow-x:auto;line-height:normal;font-family:Menlo,'DejaVu Sans Mono',consolas,'Courier New',monospace\"><span style=\"color: #7fbfbf; text-decoration-color: #7fbfbf\">                    </span><span style=\"color: #000080; text-decoration-color: #000080\">INFO    </span> Scraping game schedule for Wednesday, Mar <span style=\"color: #008080; text-decoration-color: #008080; font-weight: bold\">6</span> <span style=\"color: #008080; text-decoration-color: #008080; font-weight: bold\">2024</span>                      <a href=\"file:///Users/okariuk/Shakhtar-Donetsk/.venv/lib/python3.11/site-packages/soccerdata/whoscored.py\" target=\"_blank\"><span style=\"color: #7f7f7f; text-decoration-color: #7f7f7f\">whoscored.py</span></a><span style=\"color: #7f7f7f; text-decoration-color: #7f7f7f\">:</span><a href=\"file:///Users/okariuk/Shakhtar-Donetsk/.venv/lib/python3.11/site-packages/soccerdata/whoscored.py#327\" target=\"_blank\"><span style=\"color: #7f7f7f; text-decoration-color: #7f7f7f\">327</span></a>\n",
       "</pre>\n"
      ],
      "text/plain": [
       "\u001b[2;36m                   \u001b[0m\u001b[2;36m \u001b[0m\u001b[34mINFO    \u001b[0m Scraping game schedule for Wednesday, Mar \u001b[1;36m6\u001b[0m \u001b[1;36m2024\u001b[0m                      \u001b]8;id=820835;file:///Users/okariuk/Shakhtar-Donetsk/.venv/lib/python3.11/site-packages/soccerdata/whoscored.py\u001b\\\u001b[2mwhoscored.py\u001b[0m\u001b]8;;\u001b\\\u001b[2m:\u001b[0m\u001b]8;id=611955;file:///Users/okariuk/Shakhtar-Donetsk/.venv/lib/python3.11/site-packages/soccerdata/whoscored.py#327\u001b\\\u001b[2m327\u001b[0m\u001b]8;;\u001b\\\n"
      ]
     },
     "metadata": {},
     "output_type": "display_data"
    },
    {
     "data": {
      "text/html": [
       "<pre style=\"white-space:pre;overflow-x:auto;line-height:normal;font-family:Menlo,'DejaVu Sans Mono',consolas,'Courier New',monospace\"><span style=\"color: #7fbfbf; text-decoration-color: #7fbfbf\">                    </span><span style=\"color: #000080; text-decoration-color: #000080\">INFO    </span> Scraping game schedule for Tuesday, Mar <span style=\"color: #008080; text-decoration-color: #008080; font-weight: bold\">12</span> <span style=\"color: #008080; text-decoration-color: #008080; font-weight: bold\">2024</span>                       <a href=\"file:///Users/okariuk/Shakhtar-Donetsk/.venv/lib/python3.11/site-packages/soccerdata/whoscored.py\" target=\"_blank\"><span style=\"color: #7f7f7f; text-decoration-color: #7f7f7f\">whoscored.py</span></a><span style=\"color: #7f7f7f; text-decoration-color: #7f7f7f\">:</span><a href=\"file:///Users/okariuk/Shakhtar-Donetsk/.venv/lib/python3.11/site-packages/soccerdata/whoscored.py#327\" target=\"_blank\"><span style=\"color: #7f7f7f; text-decoration-color: #7f7f7f\">327</span></a>\n",
       "</pre>\n"
      ],
      "text/plain": [
       "\u001b[2;36m                   \u001b[0m\u001b[2;36m \u001b[0m\u001b[34mINFO    \u001b[0m Scraping game schedule for Tuesday, Mar \u001b[1;36m12\u001b[0m \u001b[1;36m2024\u001b[0m                       \u001b]8;id=313777;file:///Users/okariuk/Shakhtar-Donetsk/.venv/lib/python3.11/site-packages/soccerdata/whoscored.py\u001b\\\u001b[2mwhoscored.py\u001b[0m\u001b]8;;\u001b\\\u001b[2m:\u001b[0m\u001b]8;id=701694;file:///Users/okariuk/Shakhtar-Donetsk/.venv/lib/python3.11/site-packages/soccerdata/whoscored.py#327\u001b\\\u001b[2m327\u001b[0m\u001b]8;;\u001b\\\n"
      ]
     },
     "metadata": {},
     "output_type": "display_data"
    },
    {
     "data": {
      "text/html": [
       "<pre style=\"white-space:pre;overflow-x:auto;line-height:normal;font-family:Menlo,'DejaVu Sans Mono',consolas,'Courier New',monospace\"><span style=\"color: #7fbfbf; text-decoration-color: #7fbfbf\">                    </span><span style=\"color: #000080; text-decoration-color: #000080\">INFO    </span> Scraping game schedule for Wednesday, Mar <span style=\"color: #008080; text-decoration-color: #008080; font-weight: bold\">13</span> <span style=\"color: #008080; text-decoration-color: #008080; font-weight: bold\">2024</span>                     <a href=\"file:///Users/okariuk/Shakhtar-Donetsk/.venv/lib/python3.11/site-packages/soccerdata/whoscored.py\" target=\"_blank\"><span style=\"color: #7f7f7f; text-decoration-color: #7f7f7f\">whoscored.py</span></a><span style=\"color: #7f7f7f; text-decoration-color: #7f7f7f\">:</span><a href=\"file:///Users/okariuk/Shakhtar-Donetsk/.venv/lib/python3.11/site-packages/soccerdata/whoscored.py#327\" target=\"_blank\"><span style=\"color: #7f7f7f; text-decoration-color: #7f7f7f\">327</span></a>\n",
       "</pre>\n"
      ],
      "text/plain": [
       "\u001b[2;36m                   \u001b[0m\u001b[2;36m \u001b[0m\u001b[34mINFO    \u001b[0m Scraping game schedule for Wednesday, Mar \u001b[1;36m13\u001b[0m \u001b[1;36m2024\u001b[0m                     \u001b]8;id=533821;file:///Users/okariuk/Shakhtar-Donetsk/.venv/lib/python3.11/site-packages/soccerdata/whoscored.py\u001b\\\u001b[2mwhoscored.py\u001b[0m\u001b]8;;\u001b\\\u001b[2m:\u001b[0m\u001b]8;id=242785;file:///Users/okariuk/Shakhtar-Donetsk/.venv/lib/python3.11/site-packages/soccerdata/whoscored.py#327\u001b\\\u001b[2m327\u001b[0m\u001b]8;;\u001b\\\n"
      ]
     },
     "metadata": {},
     "output_type": "display_data"
    },
    {
     "data": {
      "text/html": [
       "<div>\n",
       "<style scoped>\n",
       "    .dataframe tbody tr th:only-of-type {\n",
       "        vertical-align: middle;\n",
       "    }\n",
       "\n",
       "    .dataframe tbody tr th {\n",
       "        vertical-align: top;\n",
       "    }\n",
       "\n",
       "    .dataframe thead th {\n",
       "        text-align: right;\n",
       "    }\n",
       "</style>\n",
       "<table border=\"1\" class=\"dataframe\">\n",
       "  <thead>\n",
       "    <tr style=\"text-align: right;\">\n",
       "      <th></th>\n",
       "      <th></th>\n",
       "      <th></th>\n",
       "      <th>date</th>\n",
       "      <th>home_team</th>\n",
       "      <th>away_team</th>\n",
       "      <th>game_id</th>\n",
       "      <th>url</th>\n",
       "      <th>stage</th>\n",
       "    </tr>\n",
       "    <tr>\n",
       "      <th>league</th>\n",
       "      <th>season</th>\n",
       "      <th>game</th>\n",
       "      <th></th>\n",
       "      <th></th>\n",
       "      <th></th>\n",
       "      <th></th>\n",
       "      <th></th>\n",
       "      <th></th>\n",
       "    </tr>\n",
       "  </thead>\n",
       "  <tbody>\n",
       "    <tr>\n",
       "      <th rowspan=\"5\" valign=\"top\">UEFA Champions League</th>\n",
       "      <th rowspan=\"5\" valign=\"top\">2324</th>\n",
       "      <th>2023-06-27 Atletic Escaldes-Buducnost Podgorica</th>\n",
       "      <td>2023-06-27 14:00:00</td>\n",
       "      <td>Atletic Escaldes</td>\n",
       "      <td>Buducnost Podgorica</td>\n",
       "      <td>1728169</td>\n",
       "      <td>https://www.whoscored.com/Matches/1728169/Live...</td>\n",
       "      <td>Champions League Qualification Preliminary Round</td>\n",
       "    </tr>\n",
       "    <tr>\n",
       "      <th>2023-06-27 Tre Penne Galazzano-Breidablik</th>\n",
       "      <td>2023-06-27 20:00:00</td>\n",
       "      <td>Tre Penne Galazzano</td>\n",
       "      <td>Breidablik</td>\n",
       "      <td>1728170</td>\n",
       "      <td>https://www.whoscored.com/Matches/1728170/Live...</td>\n",
       "      <td>Champions League Qualification Preliminary Round</td>\n",
       "    </tr>\n",
       "    <tr>\n",
       "      <th>2023-06-30 Buducnost Podgorica-Breidablik</th>\n",
       "      <td>2023-06-30 20:00:00</td>\n",
       "      <td>Buducnost Podgorica</td>\n",
       "      <td>Breidablik</td>\n",
       "      <td>1739285</td>\n",
       "      <td>https://www.whoscored.com/Matches/1739285/Live...</td>\n",
       "      <td>Champions League Qualification Preliminary Round</td>\n",
       "    </tr>\n",
       "    <tr>\n",
       "      <th>2023-07-11 Ballkani-Ludogorets Razgrad</th>\n",
       "      <td>2023-07-11 19:45:00</td>\n",
       "      <td>Ballkani</td>\n",
       "      <td>Ludogorets Razgrad</td>\n",
       "      <td>1730452</td>\n",
       "      <td>https://www.whoscored.com/Matches/1730452/Live...</td>\n",
       "      <td>Champions League Qualification</td>\n",
       "    </tr>\n",
       "    <tr>\n",
       "      <th>2023-07-11 Hamrun Spartans-Maccabi Haifa</th>\n",
       "      <td>2023-07-11 19:00:00</td>\n",
       "      <td>Hamrun Spartans</td>\n",
       "      <td>Maccabi Haifa</td>\n",
       "      <td>1730461</td>\n",
       "      <td>https://www.whoscored.com/Matches/1730461/Live...</td>\n",
       "      <td>Champions League Qualification</td>\n",
       "    </tr>\n",
       "  </tbody>\n",
       "</table>\n",
       "</div>"
      ],
      "text/plain": [
       "                                                                                            date  \\\n",
       "league                season game                                                                  \n",
       "UEFA Champions League 2324   2023-06-27 Atletic Escaldes-Buducnost Podgorica 2023-06-27 14:00:00   \n",
       "                             2023-06-27 Tre Penne Galazzano-Breidablik       2023-06-27 20:00:00   \n",
       "                             2023-06-30 Buducnost Podgorica-Breidablik       2023-06-30 20:00:00   \n",
       "                             2023-07-11 Ballkani-Ludogorets Razgrad          2023-07-11 19:45:00   \n",
       "                             2023-07-11 Hamrun Spartans-Maccabi Haifa        2023-07-11 19:00:00   \n",
       "\n",
       "                                                                                        home_team  \\\n",
       "league                season game                                                                   \n",
       "UEFA Champions League 2324   2023-06-27 Atletic Escaldes-Buducnost Podgorica     Atletic Escaldes   \n",
       "                             2023-06-27 Tre Penne Galazzano-Breidablik        Tre Penne Galazzano   \n",
       "                             2023-06-30 Buducnost Podgorica-Breidablik        Buducnost Podgorica   \n",
       "                             2023-07-11 Ballkani-Ludogorets Razgrad                      Ballkani   \n",
       "                             2023-07-11 Hamrun Spartans-Maccabi Haifa             Hamrun Spartans   \n",
       "\n",
       "                                                                                        away_team  \\\n",
       "league                season game                                                                   \n",
       "UEFA Champions League 2324   2023-06-27 Atletic Escaldes-Buducnost Podgorica  Buducnost Podgorica   \n",
       "                             2023-06-27 Tre Penne Galazzano-Breidablik                 Breidablik   \n",
       "                             2023-06-30 Buducnost Podgorica-Breidablik                 Breidablik   \n",
       "                             2023-07-11 Ballkani-Ludogorets Razgrad            Ludogorets Razgrad   \n",
       "                             2023-07-11 Hamrun Spartans-Maccabi Haifa               Maccabi Haifa   \n",
       "\n",
       "                                                                              game_id  \\\n",
       "league                season game                                                       \n",
       "UEFA Champions League 2324   2023-06-27 Atletic Escaldes-Buducnost Podgorica  1728169   \n",
       "                             2023-06-27 Tre Penne Galazzano-Breidablik        1728170   \n",
       "                             2023-06-30 Buducnost Podgorica-Breidablik        1739285   \n",
       "                             2023-07-11 Ballkani-Ludogorets Razgrad           1730452   \n",
       "                             2023-07-11 Hamrun Spartans-Maccabi Haifa         1730461   \n",
       "\n",
       "                                                                                                                            url  \\\n",
       "league                season game                                                                                                 \n",
       "UEFA Champions League 2324   2023-06-27 Atletic Escaldes-Buducnost Podgorica  https://www.whoscored.com/Matches/1728169/Live...   \n",
       "                             2023-06-27 Tre Penne Galazzano-Breidablik        https://www.whoscored.com/Matches/1728170/Live...   \n",
       "                             2023-06-30 Buducnost Podgorica-Breidablik        https://www.whoscored.com/Matches/1739285/Live...   \n",
       "                             2023-07-11 Ballkani-Ludogorets Razgrad           https://www.whoscored.com/Matches/1730452/Live...   \n",
       "                             2023-07-11 Hamrun Spartans-Maccabi Haifa         https://www.whoscored.com/Matches/1730461/Live...   \n",
       "\n",
       "                                                                                                                         stage  \n",
       "league                season game                                                                                               \n",
       "UEFA Champions League 2324   2023-06-27 Atletic Escaldes-Buducnost Podgorica  Champions League Qualification Preliminary Round  \n",
       "                             2023-06-27 Tre Penne Galazzano-Breidablik        Champions League Qualification Preliminary Round  \n",
       "                             2023-06-30 Buducnost Podgorica-Breidablik        Champions League Qualification Preliminary Round  \n",
       "                             2023-07-11 Ballkani-Ludogorets Razgrad                             Champions League Qualification  \n",
       "                             2023-07-11 Hamrun Spartans-Maccabi Haifa                           Champions League Qualification  "
      ]
     },
     "execution_count": 17,
     "metadata": {},
     "output_type": "execute_result"
    }
   ],
   "source": [
    "schedule = ws.read_schedule()\n",
    "schedule.head()"
   ]
  },
  {
   "cell_type": "code",
   "execution_count": 18,
   "id": "a3752c1a-030a-45c1-912b-a8d16190f6f6",
   "metadata": {},
   "outputs": [
    {
     "data": {
      "text/plain": [
       "date                                       2023-10-04 17:45:00\n",
       "home_team                                        Royal Antwerp\n",
       "away_team                                     Shakhtar Donetsk\n",
       "game_id                                                1775622\n",
       "url          https://www.whoscored.com/Matches/1775622/Live...\n",
       "stage                            Champions League Group Stages\n",
       "Name: (UEFA Champions League, 2324, 2023-10-04 Royal Antwerp-Shakhtar Donetsk), dtype: object"
      ]
     },
     "execution_count": 18,
     "metadata": {},
     "output_type": "execute_result"
    }
   ],
   "source": [
    "game = schedule.loc[\"UEFA Champions League\", \"2324\", \"2023-10-04 Royal Antwerp-Shakhtar Donetsk\"]\n",
    "game"
   ]
  },
  {
   "cell_type": "code",
   "execution_count": 19,
   "id": "86715521-3e48-44a7-a8d4-879ac53d6c99",
   "metadata": {},
   "outputs": [
    {
     "data": {
      "text/html": [
       "<pre style=\"white-space:pre;overflow-x:auto;line-height:normal;font-family:Menlo,'DejaVu Sans Mono',consolas,'Courier New',monospace\"><span style=\"color: #7fbfbf; text-decoration-color: #7fbfbf\">[01/26/24 16:08:27] </span><span style=\"color: #000080; text-decoration-color: #000080\">INFO    </span> Scraping game schedule with <span style=\"color: #808000; text-decoration-color: #808000\">stage</span>=<span style=\"font-weight: bold\">{</span><span style=\"color: #008000; text-decoration-color: #008000\">'url'</span>:                             <a href=\"file:///Users/okariuk/Shakhtar-Donetsk/.venv/lib/python3.11/site-packages/soccerdata/whoscored.py\" target=\"_blank\"><span style=\"color: #7f7f7f; text-decoration-color: #7f7f7f\">whoscored.py</span></a><span style=\"color: #7f7f7f; text-decoration-color: #7f7f7f\">:</span><a href=\"file:///Users/okariuk/Shakhtar-Donetsk/.venv/lib/python3.11/site-packages/soccerdata/whoscored.py#407\" target=\"_blank\"><span style=\"color: #7f7f7f; text-decoration-color: #7f7f7f\">407</span></a>\n",
       "<span style=\"color: #7fbfbf; text-decoration-color: #7fbfbf\">                    </span>         <span style=\"color: #008000; text-decoration-color: #008000\">'/Regions/250/Tournaments/12/Seasons/9664/Stages/22538/Show/Europe-Ch</span> <span style=\"color: #7f7f7f; text-decoration-color: #7f7f7f\">                </span>\n",
       "<span style=\"color: #7fbfbf; text-decoration-color: #7fbfbf\">                    </span>         <span style=\"color: #008000; text-decoration-color: #008000\">ampions-League-2023-2024'</span>, <span style=\"color: #008000; text-decoration-color: #008000\">'name'</span>: <span style=\"color: #008000; text-decoration-color: #008000\">'Champions League Group Stages'</span><span style=\"font-weight: bold\">}</span>   <span style=\"color: #7f7f7f; text-decoration-color: #7f7f7f\">                </span>\n",
       "<span style=\"color: #7fbfbf; text-decoration-color: #7fbfbf\">                    </span>         from                                                                  <span style=\"color: #7f7f7f; text-decoration-color: #7f7f7f\">                </span>\n",
       "<span style=\"color: #7fbfbf; text-decoration-color: #7fbfbf\">                    </span>         <span style=\"color: #0000ff; text-decoration-color: #0000ff; text-decoration: underline\">https://www.whoscored.com/Regions/250/Tournaments/12/Seasons/9664/Sta</span> <span style=\"color: #7f7f7f; text-decoration-color: #7f7f7f\">                </span>\n",
       "<span style=\"color: #7fbfbf; text-decoration-color: #7fbfbf\">                    </span>         <span style=\"color: #0000ff; text-decoration-color: #0000ff; text-decoration: underline\">ges/22538/Fixtures/Europe-Champions-League-2023-2024</span>                  <span style=\"color: #7f7f7f; text-decoration-color: #7f7f7f\">                </span>\n",
       "</pre>\n"
      ],
      "text/plain": [
       "\u001b[2;36m[01/26/24 16:08:27]\u001b[0m\u001b[2;36m \u001b[0m\u001b[34mINFO    \u001b[0m Scraping game schedule with \u001b[33mstage\u001b[0m=\u001b[1m{\u001b[0m\u001b[32m'url'\u001b[0m:                             \u001b]8;id=693730;file:///Users/okariuk/Shakhtar-Donetsk/.venv/lib/python3.11/site-packages/soccerdata/whoscored.py\u001b\\\u001b[2mwhoscored.py\u001b[0m\u001b]8;;\u001b\\\u001b[2m:\u001b[0m\u001b]8;id=998420;file:///Users/okariuk/Shakhtar-Donetsk/.venv/lib/python3.11/site-packages/soccerdata/whoscored.py#407\u001b\\\u001b[2m407\u001b[0m\u001b]8;;\u001b\\\n",
       "\u001b[2;36m                    \u001b[0m         \u001b[32m'/Regions/250/Tournaments/12/Seasons/9664/Stages/22538/Show/Europe-Ch\u001b[0m \u001b[2m                \u001b[0m\n",
       "\u001b[2;36m                    \u001b[0m         \u001b[32mampions-League-2023-2024'\u001b[0m, \u001b[32m'name'\u001b[0m: \u001b[32m'Champions League Group Stages'\u001b[0m\u001b[1m}\u001b[0m   \u001b[2m                \u001b[0m\n",
       "\u001b[2;36m                    \u001b[0m         from                                                                  \u001b[2m                \u001b[0m\n",
       "\u001b[2;36m                    \u001b[0m         \u001b[4;94mhttps://www.whoscored.com/Regions/250/Tournaments/12/Seasons/9664/Sta\u001b[0m \u001b[2m                \u001b[0m\n",
       "\u001b[2;36m                    \u001b[0m         \u001b[4;94mges/22538/Fixtures/Europe-Champions-League-2023-2024\u001b[0m                  \u001b[2m                \u001b[0m\n"
      ]
     },
     "metadata": {},
     "output_type": "display_data"
    },
    {
     "data": {
      "text/html": [
       "<pre style=\"white-space:pre;overflow-x:auto;line-height:normal;font-family:Menlo,'DejaVu Sans Mono',consolas,'Courier New',monospace\"><span style=\"color: #7fbfbf; text-decoration-color: #7fbfbf\">                    </span><span style=\"color: #000080; text-decoration-color: #000080\">INFO    </span> Scraping game schedule for Tuesday, Sep <span style=\"color: #008080; text-decoration-color: #008080; font-weight: bold\">19</span> <span style=\"color: #008080; text-decoration-color: #008080; font-weight: bold\">2023</span>                       <a href=\"file:///Users/okariuk/Shakhtar-Donetsk/.venv/lib/python3.11/site-packages/soccerdata/whoscored.py\" target=\"_blank\"><span style=\"color: #7f7f7f; text-decoration-color: #7f7f7f\">whoscored.py</span></a><span style=\"color: #7f7f7f; text-decoration-color: #7f7f7f\">:</span><a href=\"file:///Users/okariuk/Shakhtar-Donetsk/.venv/lib/python3.11/site-packages/soccerdata/whoscored.py#327\" target=\"_blank\"><span style=\"color: #7f7f7f; text-decoration-color: #7f7f7f\">327</span></a>\n",
       "</pre>\n"
      ],
      "text/plain": [
       "\u001b[2;36m                   \u001b[0m\u001b[2;36m \u001b[0m\u001b[34mINFO    \u001b[0m Scraping game schedule for Tuesday, Sep \u001b[1;36m19\u001b[0m \u001b[1;36m2023\u001b[0m                       \u001b]8;id=832647;file:///Users/okariuk/Shakhtar-Donetsk/.venv/lib/python3.11/site-packages/soccerdata/whoscored.py\u001b\\\u001b[2mwhoscored.py\u001b[0m\u001b]8;;\u001b\\\u001b[2m:\u001b[0m\u001b]8;id=28012;file:///Users/okariuk/Shakhtar-Donetsk/.venv/lib/python3.11/site-packages/soccerdata/whoscored.py#327\u001b\\\u001b[2m327\u001b[0m\u001b]8;;\u001b\\\n"
      ]
     },
     "metadata": {},
     "output_type": "display_data"
    },
    {
     "data": {
      "text/html": [
       "<pre style=\"white-space:pre;overflow-x:auto;line-height:normal;font-family:Menlo,'DejaVu Sans Mono',consolas,'Courier New',monospace\"><span style=\"color: #7fbfbf; text-decoration-color: #7fbfbf\">                    </span><span style=\"color: #000080; text-decoration-color: #000080\">INFO    </span> Scraping game schedule for Wednesday, Sep <span style=\"color: #008080; text-decoration-color: #008080; font-weight: bold\">20</span> <span style=\"color: #008080; text-decoration-color: #008080; font-weight: bold\">2023</span>                     <a href=\"file:///Users/okariuk/Shakhtar-Donetsk/.venv/lib/python3.11/site-packages/soccerdata/whoscored.py\" target=\"_blank\"><span style=\"color: #7f7f7f; text-decoration-color: #7f7f7f\">whoscored.py</span></a><span style=\"color: #7f7f7f; text-decoration-color: #7f7f7f\">:</span><a href=\"file:///Users/okariuk/Shakhtar-Donetsk/.venv/lib/python3.11/site-packages/soccerdata/whoscored.py#327\" target=\"_blank\"><span style=\"color: #7f7f7f; text-decoration-color: #7f7f7f\">327</span></a>\n",
       "</pre>\n"
      ],
      "text/plain": [
       "\u001b[2;36m                   \u001b[0m\u001b[2;36m \u001b[0m\u001b[34mINFO    \u001b[0m Scraping game schedule for Wednesday, Sep \u001b[1;36m20\u001b[0m \u001b[1;36m2023\u001b[0m                     \u001b]8;id=4591;file:///Users/okariuk/Shakhtar-Donetsk/.venv/lib/python3.11/site-packages/soccerdata/whoscored.py\u001b\\\u001b[2mwhoscored.py\u001b[0m\u001b]8;;\u001b\\\u001b[2m:\u001b[0m\u001b]8;id=89412;file:///Users/okariuk/Shakhtar-Donetsk/.venv/lib/python3.11/site-packages/soccerdata/whoscored.py#327\u001b\\\u001b[2m327\u001b[0m\u001b]8;;\u001b\\\n"
      ]
     },
     "metadata": {},
     "output_type": "display_data"
    },
    {
     "data": {
      "text/html": [
       "<pre style=\"white-space:pre;overflow-x:auto;line-height:normal;font-family:Menlo,'DejaVu Sans Mono',consolas,'Courier New',monospace\"><span style=\"color: #7fbfbf; text-decoration-color: #7fbfbf\">                    </span><span style=\"color: #000080; text-decoration-color: #000080\">INFO    </span> Scraping game schedule for Tuesday, Oct <span style=\"color: #008080; text-decoration-color: #008080; font-weight: bold\">3</span> <span style=\"color: #008080; text-decoration-color: #008080; font-weight: bold\">2023</span>                        <a href=\"file:///Users/okariuk/Shakhtar-Donetsk/.venv/lib/python3.11/site-packages/soccerdata/whoscored.py\" target=\"_blank\"><span style=\"color: #7f7f7f; text-decoration-color: #7f7f7f\">whoscored.py</span></a><span style=\"color: #7f7f7f; text-decoration-color: #7f7f7f\">:</span><a href=\"file:///Users/okariuk/Shakhtar-Donetsk/.venv/lib/python3.11/site-packages/soccerdata/whoscored.py#327\" target=\"_blank\"><span style=\"color: #7f7f7f; text-decoration-color: #7f7f7f\">327</span></a>\n",
       "</pre>\n"
      ],
      "text/plain": [
       "\u001b[2;36m                   \u001b[0m\u001b[2;36m \u001b[0m\u001b[34mINFO    \u001b[0m Scraping game schedule for Tuesday, Oct \u001b[1;36m3\u001b[0m \u001b[1;36m2023\u001b[0m                        \u001b]8;id=440620;file:///Users/okariuk/Shakhtar-Donetsk/.venv/lib/python3.11/site-packages/soccerdata/whoscored.py\u001b\\\u001b[2mwhoscored.py\u001b[0m\u001b]8;;\u001b\\\u001b[2m:\u001b[0m\u001b]8;id=134086;file:///Users/okariuk/Shakhtar-Donetsk/.venv/lib/python3.11/site-packages/soccerdata/whoscored.py#327\u001b\\\u001b[2m327\u001b[0m\u001b]8;;\u001b\\\n"
      ]
     },
     "metadata": {},
     "output_type": "display_data"
    },
    {
     "data": {
      "text/html": [
       "<pre style=\"white-space:pre;overflow-x:auto;line-height:normal;font-family:Menlo,'DejaVu Sans Mono',consolas,'Courier New',monospace\"><span style=\"color: #7fbfbf; text-decoration-color: #7fbfbf\">                    </span><span style=\"color: #000080; text-decoration-color: #000080\">INFO    </span> Scraping game schedule for Wednesday, Oct <span style=\"color: #008080; text-decoration-color: #008080; font-weight: bold\">4</span> <span style=\"color: #008080; text-decoration-color: #008080; font-weight: bold\">2023</span>                      <a href=\"file:///Users/okariuk/Shakhtar-Donetsk/.venv/lib/python3.11/site-packages/soccerdata/whoscored.py\" target=\"_blank\"><span style=\"color: #7f7f7f; text-decoration-color: #7f7f7f\">whoscored.py</span></a><span style=\"color: #7f7f7f; text-decoration-color: #7f7f7f\">:</span><a href=\"file:///Users/okariuk/Shakhtar-Donetsk/.venv/lib/python3.11/site-packages/soccerdata/whoscored.py#327\" target=\"_blank\"><span style=\"color: #7f7f7f; text-decoration-color: #7f7f7f\">327</span></a>\n",
       "</pre>\n"
      ],
      "text/plain": [
       "\u001b[2;36m                   \u001b[0m\u001b[2;36m \u001b[0m\u001b[34mINFO    \u001b[0m Scraping game schedule for Wednesday, Oct \u001b[1;36m4\u001b[0m \u001b[1;36m2023\u001b[0m                      \u001b]8;id=866325;file:///Users/okariuk/Shakhtar-Donetsk/.venv/lib/python3.11/site-packages/soccerdata/whoscored.py\u001b\\\u001b[2mwhoscored.py\u001b[0m\u001b]8;;\u001b\\\u001b[2m:\u001b[0m\u001b]8;id=962575;file:///Users/okariuk/Shakhtar-Donetsk/.venv/lib/python3.11/site-packages/soccerdata/whoscored.py#327\u001b\\\u001b[2m327\u001b[0m\u001b]8;;\u001b\\\n"
      ]
     },
     "metadata": {},
     "output_type": "display_data"
    },
    {
     "data": {
      "text/html": [
       "<pre style=\"white-space:pre;overflow-x:auto;line-height:normal;font-family:Menlo,'DejaVu Sans Mono',consolas,'Courier New',monospace\"><span style=\"color: #7fbfbf; text-decoration-color: #7fbfbf\">[01/26/24 16:08:28] </span><span style=\"color: #000080; text-decoration-color: #000080\">INFO    </span> Scraping game schedule for Tuesday, Oct <span style=\"color: #008080; text-decoration-color: #008080; font-weight: bold\">24</span> <span style=\"color: #008080; text-decoration-color: #008080; font-weight: bold\">2023</span>                       <a href=\"file:///Users/okariuk/Shakhtar-Donetsk/.venv/lib/python3.11/site-packages/soccerdata/whoscored.py\" target=\"_blank\"><span style=\"color: #7f7f7f; text-decoration-color: #7f7f7f\">whoscored.py</span></a><span style=\"color: #7f7f7f; text-decoration-color: #7f7f7f\">:</span><a href=\"file:///Users/okariuk/Shakhtar-Donetsk/.venv/lib/python3.11/site-packages/soccerdata/whoscored.py#327\" target=\"_blank\"><span style=\"color: #7f7f7f; text-decoration-color: #7f7f7f\">327</span></a>\n",
       "</pre>\n"
      ],
      "text/plain": [
       "\u001b[2;36m[01/26/24 16:08:28]\u001b[0m\u001b[2;36m \u001b[0m\u001b[34mINFO    \u001b[0m Scraping game schedule for Tuesday, Oct \u001b[1;36m24\u001b[0m \u001b[1;36m2023\u001b[0m                       \u001b]8;id=354851;file:///Users/okariuk/Shakhtar-Donetsk/.venv/lib/python3.11/site-packages/soccerdata/whoscored.py\u001b\\\u001b[2mwhoscored.py\u001b[0m\u001b]8;;\u001b\\\u001b[2m:\u001b[0m\u001b]8;id=149679;file:///Users/okariuk/Shakhtar-Donetsk/.venv/lib/python3.11/site-packages/soccerdata/whoscored.py#327\u001b\\\u001b[2m327\u001b[0m\u001b]8;;\u001b\\\n"
      ]
     },
     "metadata": {},
     "output_type": "display_data"
    },
    {
     "data": {
      "text/html": [
       "<pre style=\"white-space:pre;overflow-x:auto;line-height:normal;font-family:Menlo,'DejaVu Sans Mono',consolas,'Courier New',monospace\"><span style=\"color: #7fbfbf; text-decoration-color: #7fbfbf\">                    </span><span style=\"color: #000080; text-decoration-color: #000080\">INFO    </span> Scraping game schedule for Wednesday, Oct <span style=\"color: #008080; text-decoration-color: #008080; font-weight: bold\">25</span> <span style=\"color: #008080; text-decoration-color: #008080; font-weight: bold\">2023</span>                     <a href=\"file:///Users/okariuk/Shakhtar-Donetsk/.venv/lib/python3.11/site-packages/soccerdata/whoscored.py\" target=\"_blank\"><span style=\"color: #7f7f7f; text-decoration-color: #7f7f7f\">whoscored.py</span></a><span style=\"color: #7f7f7f; text-decoration-color: #7f7f7f\">:</span><a href=\"file:///Users/okariuk/Shakhtar-Donetsk/.venv/lib/python3.11/site-packages/soccerdata/whoscored.py#327\" target=\"_blank\"><span style=\"color: #7f7f7f; text-decoration-color: #7f7f7f\">327</span></a>\n",
       "</pre>\n"
      ],
      "text/plain": [
       "\u001b[2;36m                   \u001b[0m\u001b[2;36m \u001b[0m\u001b[34mINFO    \u001b[0m Scraping game schedule for Wednesday, Oct \u001b[1;36m25\u001b[0m \u001b[1;36m2023\u001b[0m                     \u001b]8;id=959746;file:///Users/okariuk/Shakhtar-Donetsk/.venv/lib/python3.11/site-packages/soccerdata/whoscored.py\u001b\\\u001b[2mwhoscored.py\u001b[0m\u001b]8;;\u001b\\\u001b[2m:\u001b[0m\u001b]8;id=122722;file:///Users/okariuk/Shakhtar-Donetsk/.venv/lib/python3.11/site-packages/soccerdata/whoscored.py#327\u001b\\\u001b[2m327\u001b[0m\u001b]8;;\u001b\\\n"
      ]
     },
     "metadata": {},
     "output_type": "display_data"
    },
    {
     "data": {
      "text/html": [
       "<pre style=\"white-space:pre;overflow-x:auto;line-height:normal;font-family:Menlo,'DejaVu Sans Mono',consolas,'Courier New',monospace\"><span style=\"color: #7fbfbf; text-decoration-color: #7fbfbf\">[01/26/24 16:08:29] </span><span style=\"color: #000080; text-decoration-color: #000080\">INFO    </span> Scraping game schedule for Tuesday, Nov <span style=\"color: #008080; text-decoration-color: #008080; font-weight: bold\">7</span> <span style=\"color: #008080; text-decoration-color: #008080; font-weight: bold\">2023</span>                        <a href=\"file:///Users/okariuk/Shakhtar-Donetsk/.venv/lib/python3.11/site-packages/soccerdata/whoscored.py\" target=\"_blank\"><span style=\"color: #7f7f7f; text-decoration-color: #7f7f7f\">whoscored.py</span></a><span style=\"color: #7f7f7f; text-decoration-color: #7f7f7f\">:</span><a href=\"file:///Users/okariuk/Shakhtar-Donetsk/.venv/lib/python3.11/site-packages/soccerdata/whoscored.py#327\" target=\"_blank\"><span style=\"color: #7f7f7f; text-decoration-color: #7f7f7f\">327</span></a>\n",
       "</pre>\n"
      ],
      "text/plain": [
       "\u001b[2;36m[01/26/24 16:08:29]\u001b[0m\u001b[2;36m \u001b[0m\u001b[34mINFO    \u001b[0m Scraping game schedule for Tuesday, Nov \u001b[1;36m7\u001b[0m \u001b[1;36m2023\u001b[0m                        \u001b]8;id=70886;file:///Users/okariuk/Shakhtar-Donetsk/.venv/lib/python3.11/site-packages/soccerdata/whoscored.py\u001b\\\u001b[2mwhoscored.py\u001b[0m\u001b]8;;\u001b\\\u001b[2m:\u001b[0m\u001b]8;id=973290;file:///Users/okariuk/Shakhtar-Donetsk/.venv/lib/python3.11/site-packages/soccerdata/whoscored.py#327\u001b\\\u001b[2m327\u001b[0m\u001b]8;;\u001b\\\n"
      ]
     },
     "metadata": {},
     "output_type": "display_data"
    },
    {
     "data": {
      "text/html": [
       "<pre style=\"white-space:pre;overflow-x:auto;line-height:normal;font-family:Menlo,'DejaVu Sans Mono',consolas,'Courier New',monospace\"><span style=\"color: #7fbfbf; text-decoration-color: #7fbfbf\">                    </span><span style=\"color: #000080; text-decoration-color: #000080\">INFO    </span> Scraping game schedule for Wednesday, Nov <span style=\"color: #008080; text-decoration-color: #008080; font-weight: bold\">8</span> <span style=\"color: #008080; text-decoration-color: #008080; font-weight: bold\">2023</span>                      <a href=\"file:///Users/okariuk/Shakhtar-Donetsk/.venv/lib/python3.11/site-packages/soccerdata/whoscored.py\" target=\"_blank\"><span style=\"color: #7f7f7f; text-decoration-color: #7f7f7f\">whoscored.py</span></a><span style=\"color: #7f7f7f; text-decoration-color: #7f7f7f\">:</span><a href=\"file:///Users/okariuk/Shakhtar-Donetsk/.venv/lib/python3.11/site-packages/soccerdata/whoscored.py#327\" target=\"_blank\"><span style=\"color: #7f7f7f; text-decoration-color: #7f7f7f\">327</span></a>\n",
       "</pre>\n"
      ],
      "text/plain": [
       "\u001b[2;36m                   \u001b[0m\u001b[2;36m \u001b[0m\u001b[34mINFO    \u001b[0m Scraping game schedule for Wednesday, Nov \u001b[1;36m8\u001b[0m \u001b[1;36m2023\u001b[0m                      \u001b]8;id=949763;file:///Users/okariuk/Shakhtar-Donetsk/.venv/lib/python3.11/site-packages/soccerdata/whoscored.py\u001b\\\u001b[2mwhoscored.py\u001b[0m\u001b]8;;\u001b\\\u001b[2m:\u001b[0m\u001b]8;id=649134;file:///Users/okariuk/Shakhtar-Donetsk/.venv/lib/python3.11/site-packages/soccerdata/whoscored.py#327\u001b\\\u001b[2m327\u001b[0m\u001b]8;;\u001b\\\n"
      ]
     },
     "metadata": {},
     "output_type": "display_data"
    },
    {
     "data": {
      "text/html": [
       "<pre style=\"white-space:pre;overflow-x:auto;line-height:normal;font-family:Menlo,'DejaVu Sans Mono',consolas,'Courier New',monospace\"><span style=\"color: #7fbfbf; text-decoration-color: #7fbfbf\">                    </span><span style=\"color: #000080; text-decoration-color: #000080\">INFO    </span> Scraping game schedule for Tuesday, Nov <span style=\"color: #008080; text-decoration-color: #008080; font-weight: bold\">28</span> <span style=\"color: #008080; text-decoration-color: #008080; font-weight: bold\">2023</span>                       <a href=\"file:///Users/okariuk/Shakhtar-Donetsk/.venv/lib/python3.11/site-packages/soccerdata/whoscored.py\" target=\"_blank\"><span style=\"color: #7f7f7f; text-decoration-color: #7f7f7f\">whoscored.py</span></a><span style=\"color: #7f7f7f; text-decoration-color: #7f7f7f\">:</span><a href=\"file:///Users/okariuk/Shakhtar-Donetsk/.venv/lib/python3.11/site-packages/soccerdata/whoscored.py#327\" target=\"_blank\"><span style=\"color: #7f7f7f; text-decoration-color: #7f7f7f\">327</span></a>\n",
       "</pre>\n"
      ],
      "text/plain": [
       "\u001b[2;36m                   \u001b[0m\u001b[2;36m \u001b[0m\u001b[34mINFO    \u001b[0m Scraping game schedule for Tuesday, Nov \u001b[1;36m28\u001b[0m \u001b[1;36m2023\u001b[0m                       \u001b]8;id=400071;file:///Users/okariuk/Shakhtar-Donetsk/.venv/lib/python3.11/site-packages/soccerdata/whoscored.py\u001b\\\u001b[2mwhoscored.py\u001b[0m\u001b]8;;\u001b\\\u001b[2m:\u001b[0m\u001b]8;id=371134;file:///Users/okariuk/Shakhtar-Donetsk/.venv/lib/python3.11/site-packages/soccerdata/whoscored.py#327\u001b\\\u001b[2m327\u001b[0m\u001b]8;;\u001b\\\n"
      ]
     },
     "metadata": {},
     "output_type": "display_data"
    },
    {
     "data": {
      "text/html": [
       "<pre style=\"white-space:pre;overflow-x:auto;line-height:normal;font-family:Menlo,'DejaVu Sans Mono',consolas,'Courier New',monospace\"><span style=\"color: #7fbfbf; text-decoration-color: #7fbfbf\">[01/26/24 16:08:31] </span><span style=\"color: #000080; text-decoration-color: #000080\">INFO    </span> Scraping game schedule for Wednesday, Nov <span style=\"color: #008080; text-decoration-color: #008080; font-weight: bold\">29</span> <span style=\"color: #008080; text-decoration-color: #008080; font-weight: bold\">2023</span>                     <a href=\"file:///Users/okariuk/Shakhtar-Donetsk/.venv/lib/python3.11/site-packages/soccerdata/whoscored.py\" target=\"_blank\"><span style=\"color: #7f7f7f; text-decoration-color: #7f7f7f\">whoscored.py</span></a><span style=\"color: #7f7f7f; text-decoration-color: #7f7f7f\">:</span><a href=\"file:///Users/okariuk/Shakhtar-Donetsk/.venv/lib/python3.11/site-packages/soccerdata/whoscored.py#327\" target=\"_blank\"><span style=\"color: #7f7f7f; text-decoration-color: #7f7f7f\">327</span></a>\n",
       "</pre>\n"
      ],
      "text/plain": [
       "\u001b[2;36m[01/26/24 16:08:31]\u001b[0m\u001b[2;36m \u001b[0m\u001b[34mINFO    \u001b[0m Scraping game schedule for Wednesday, Nov \u001b[1;36m29\u001b[0m \u001b[1;36m2023\u001b[0m                     \u001b]8;id=562513;file:///Users/okariuk/Shakhtar-Donetsk/.venv/lib/python3.11/site-packages/soccerdata/whoscored.py\u001b\\\u001b[2mwhoscored.py\u001b[0m\u001b]8;;\u001b\\\u001b[2m:\u001b[0m\u001b]8;id=276458;file:///Users/okariuk/Shakhtar-Donetsk/.venv/lib/python3.11/site-packages/soccerdata/whoscored.py#327\u001b\\\u001b[2m327\u001b[0m\u001b]8;;\u001b\\\n"
      ]
     },
     "metadata": {},
     "output_type": "display_data"
    },
    {
     "data": {
      "text/html": [
       "<pre style=\"white-space:pre;overflow-x:auto;line-height:normal;font-family:Menlo,'DejaVu Sans Mono',consolas,'Courier New',monospace\"><span style=\"color: #7fbfbf; text-decoration-color: #7fbfbf\">[01/26/24 16:08:32] </span><span style=\"color: #000080; text-decoration-color: #000080\">INFO    </span> Scraping game schedule for Tuesday, Dec <span style=\"color: #008080; text-decoration-color: #008080; font-weight: bold\">12</span> <span style=\"color: #008080; text-decoration-color: #008080; font-weight: bold\">2023</span>                       <a href=\"file:///Users/okariuk/Shakhtar-Donetsk/.venv/lib/python3.11/site-packages/soccerdata/whoscored.py\" target=\"_blank\"><span style=\"color: #7f7f7f; text-decoration-color: #7f7f7f\">whoscored.py</span></a><span style=\"color: #7f7f7f; text-decoration-color: #7f7f7f\">:</span><a href=\"file:///Users/okariuk/Shakhtar-Donetsk/.venv/lib/python3.11/site-packages/soccerdata/whoscored.py#327\" target=\"_blank\"><span style=\"color: #7f7f7f; text-decoration-color: #7f7f7f\">327</span></a>\n",
       "</pre>\n"
      ],
      "text/plain": [
       "\u001b[2;36m[01/26/24 16:08:32]\u001b[0m\u001b[2;36m \u001b[0m\u001b[34mINFO    \u001b[0m Scraping game schedule for Tuesday, Dec \u001b[1;36m12\u001b[0m \u001b[1;36m2023\u001b[0m                       \u001b]8;id=498047;file:///Users/okariuk/Shakhtar-Donetsk/.venv/lib/python3.11/site-packages/soccerdata/whoscored.py\u001b\\\u001b[2mwhoscored.py\u001b[0m\u001b]8;;\u001b\\\u001b[2m:\u001b[0m\u001b]8;id=616575;file:///Users/okariuk/Shakhtar-Donetsk/.venv/lib/python3.11/site-packages/soccerdata/whoscored.py#327\u001b\\\u001b[2m327\u001b[0m\u001b]8;;\u001b\\\n"
      ]
     },
     "metadata": {},
     "output_type": "display_data"
    },
    {
     "data": {
      "text/html": [
       "<pre style=\"white-space:pre;overflow-x:auto;line-height:normal;font-family:Menlo,'DejaVu Sans Mono',consolas,'Courier New',monospace\"><span style=\"color: #7fbfbf; text-decoration-color: #7fbfbf\">                    </span><span style=\"color: #000080; text-decoration-color: #000080\">INFO    </span> Scraping game schedule for Wednesday, Dec <span style=\"color: #008080; text-decoration-color: #008080; font-weight: bold\">13</span> <span style=\"color: #008080; text-decoration-color: #008080; font-weight: bold\">2023</span>                     <a href=\"file:///Users/okariuk/Shakhtar-Donetsk/.venv/lib/python3.11/site-packages/soccerdata/whoscored.py\" target=\"_blank\"><span style=\"color: #7f7f7f; text-decoration-color: #7f7f7f\">whoscored.py</span></a><span style=\"color: #7f7f7f; text-decoration-color: #7f7f7f\">:</span><a href=\"file:///Users/okariuk/Shakhtar-Donetsk/.venv/lib/python3.11/site-packages/soccerdata/whoscored.py#327\" target=\"_blank\"><span style=\"color: #7f7f7f; text-decoration-color: #7f7f7f\">327</span></a>\n",
       "</pre>\n"
      ],
      "text/plain": [
       "\u001b[2;36m                   \u001b[0m\u001b[2;36m \u001b[0m\u001b[34mINFO    \u001b[0m Scraping game schedule for Wednesday, Dec \u001b[1;36m13\u001b[0m \u001b[1;36m2023\u001b[0m                     \u001b]8;id=9217;file:///Users/okariuk/Shakhtar-Donetsk/.venv/lib/python3.11/site-packages/soccerdata/whoscored.py\u001b\\\u001b[2mwhoscored.py\u001b[0m\u001b]8;;\u001b\\\u001b[2m:\u001b[0m\u001b]8;id=604019;file:///Users/okariuk/Shakhtar-Donetsk/.venv/lib/python3.11/site-packages/soccerdata/whoscored.py#327\u001b\\\u001b[2m327\u001b[0m\u001b]8;;\u001b\\\n"
      ]
     },
     "metadata": {},
     "output_type": "display_data"
    },
    {
     "data": {
      "text/html": [
       "<pre style=\"white-space:pre;overflow-x:auto;line-height:normal;font-family:Menlo,'DejaVu Sans Mono',consolas,'Courier New',monospace\"><span style=\"color: #7fbfbf; text-decoration-color: #7fbfbf\">[01/26/24 16:08:37] </span><span style=\"color: #000080; text-decoration-color: #000080\">INFO    </span> Scraping game schedule with <span style=\"color: #808000; text-decoration-color: #808000\">stage</span>=<span style=\"font-weight: bold\">{</span><span style=\"color: #008000; text-decoration-color: #008000\">'url'</span>:                             <a href=\"file:///Users/okariuk/Shakhtar-Donetsk/.venv/lib/python3.11/site-packages/soccerdata/whoscored.py\" target=\"_blank\"><span style=\"color: #7f7f7f; text-decoration-color: #7f7f7f\">whoscored.py</span></a><span style=\"color: #7f7f7f; text-decoration-color: #7f7f7f\">:</span><a href=\"file:///Users/okariuk/Shakhtar-Donetsk/.venv/lib/python3.11/site-packages/soccerdata/whoscored.py#407\" target=\"_blank\"><span style=\"color: #7f7f7f; text-decoration-color: #7f7f7f\">407</span></a>\n",
       "<span style=\"color: #7fbfbf; text-decoration-color: #7fbfbf\">                    </span>         <span style=\"color: #008000; text-decoration-color: #008000\">'/Regions/250/Tournaments/12/Seasons/9664/Stages/22150/Show/Europe-Ch</span> <span style=\"color: #7f7f7f; text-decoration-color: #7f7f7f\">                </span>\n",
       "<span style=\"color: #7fbfbf; text-decoration-color: #7fbfbf\">                    </span>         <span style=\"color: #008000; text-decoration-color: #008000\">ampions-League-2023-2024'</span>, <span style=\"color: #008000; text-decoration-color: #008000\">'name'</span>: <span style=\"color: #008000; text-decoration-color: #008000\">'Champions League Qualification </span>   <span style=\"color: #7f7f7f; text-decoration-color: #7f7f7f\">                </span>\n",
       "<span style=\"color: #7fbfbf; text-decoration-color: #7fbfbf\">                    </span>         <span style=\"color: #008000; text-decoration-color: #008000\">Preliminary Round'</span><span style=\"font-weight: bold\">}</span> from                                              <span style=\"color: #7f7f7f; text-decoration-color: #7f7f7f\">                </span>\n",
       "<span style=\"color: #7fbfbf; text-decoration-color: #7fbfbf\">                    </span>         <span style=\"color: #0000ff; text-decoration-color: #0000ff; text-decoration: underline\">https://www.whoscored.com/Regions/250/Tournaments/12/Seasons/9664/Sta</span> <span style=\"color: #7f7f7f; text-decoration-color: #7f7f7f\">                </span>\n",
       "<span style=\"color: #7fbfbf; text-decoration-color: #7fbfbf\">                    </span>         <span style=\"color: #0000ff; text-decoration-color: #0000ff; text-decoration: underline\">ges/22150/Fixtures/Europe-Champions-League-2023-2024</span>                  <span style=\"color: #7f7f7f; text-decoration-color: #7f7f7f\">                </span>\n",
       "</pre>\n"
      ],
      "text/plain": [
       "\u001b[2;36m[01/26/24 16:08:37]\u001b[0m\u001b[2;36m \u001b[0m\u001b[34mINFO    \u001b[0m Scraping game schedule with \u001b[33mstage\u001b[0m=\u001b[1m{\u001b[0m\u001b[32m'url'\u001b[0m:                             \u001b]8;id=614726;file:///Users/okariuk/Shakhtar-Donetsk/.venv/lib/python3.11/site-packages/soccerdata/whoscored.py\u001b\\\u001b[2mwhoscored.py\u001b[0m\u001b]8;;\u001b\\\u001b[2m:\u001b[0m\u001b]8;id=659907;file:///Users/okariuk/Shakhtar-Donetsk/.venv/lib/python3.11/site-packages/soccerdata/whoscored.py#407\u001b\\\u001b[2m407\u001b[0m\u001b]8;;\u001b\\\n",
       "\u001b[2;36m                    \u001b[0m         \u001b[32m'/Regions/250/Tournaments/12/Seasons/9664/Stages/22150/Show/Europe-Ch\u001b[0m \u001b[2m                \u001b[0m\n",
       "\u001b[2;36m                    \u001b[0m         \u001b[32mampions-League-2023-2024'\u001b[0m, \u001b[32m'name'\u001b[0m: \u001b[32m'Champions League Qualification \u001b[0m   \u001b[2m                \u001b[0m\n",
       "\u001b[2;36m                    \u001b[0m         \u001b[32mPreliminary Round'\u001b[0m\u001b[1m}\u001b[0m from                                              \u001b[2m                \u001b[0m\n",
       "\u001b[2;36m                    \u001b[0m         \u001b[4;94mhttps://www.whoscored.com/Regions/250/Tournaments/12/Seasons/9664/Sta\u001b[0m \u001b[2m                \u001b[0m\n",
       "\u001b[2;36m                    \u001b[0m         \u001b[4;94mges/22150/Fixtures/Europe-Champions-League-2023-2024\u001b[0m                  \u001b[2m                \u001b[0m\n"
      ]
     },
     "metadata": {},
     "output_type": "display_data"
    },
    {
     "data": {
      "text/html": [
       "<pre style=\"white-space:pre;overflow-x:auto;line-height:normal;font-family:Menlo,'DejaVu Sans Mono',consolas,'Courier New',monospace\"><span style=\"color: #7fbfbf; text-decoration-color: #7fbfbf\">                    </span><span style=\"color: #000080; text-decoration-color: #000080\">INFO    </span> Scraping game schedule for Tuesday, Jun <span style=\"color: #008080; text-decoration-color: #008080; font-weight: bold\">27</span> <span style=\"color: #008080; text-decoration-color: #008080; font-weight: bold\">2023</span>                       <a href=\"file:///Users/okariuk/Shakhtar-Donetsk/.venv/lib/python3.11/site-packages/soccerdata/whoscored.py\" target=\"_blank\"><span style=\"color: #7f7f7f; text-decoration-color: #7f7f7f\">whoscored.py</span></a><span style=\"color: #7f7f7f; text-decoration-color: #7f7f7f\">:</span><a href=\"file:///Users/okariuk/Shakhtar-Donetsk/.venv/lib/python3.11/site-packages/soccerdata/whoscored.py#327\" target=\"_blank\"><span style=\"color: #7f7f7f; text-decoration-color: #7f7f7f\">327</span></a>\n",
       "</pre>\n"
      ],
      "text/plain": [
       "\u001b[2;36m                   \u001b[0m\u001b[2;36m \u001b[0m\u001b[34mINFO    \u001b[0m Scraping game schedule for Tuesday, Jun \u001b[1;36m27\u001b[0m \u001b[1;36m2023\u001b[0m                       \u001b]8;id=235729;file:///Users/okariuk/Shakhtar-Donetsk/.venv/lib/python3.11/site-packages/soccerdata/whoscored.py\u001b\\\u001b[2mwhoscored.py\u001b[0m\u001b]8;;\u001b\\\u001b[2m:\u001b[0m\u001b]8;id=41544;file:///Users/okariuk/Shakhtar-Donetsk/.venv/lib/python3.11/site-packages/soccerdata/whoscored.py#327\u001b\\\u001b[2m327\u001b[0m\u001b]8;;\u001b\\\n"
      ]
     },
     "metadata": {},
     "output_type": "display_data"
    },
    {
     "data": {
      "text/html": [
       "<pre style=\"white-space:pre;overflow-x:auto;line-height:normal;font-family:Menlo,'DejaVu Sans Mono',consolas,'Courier New',monospace\"><span style=\"color: #7fbfbf; text-decoration-color: #7fbfbf\">                    </span><span style=\"color: #000080; text-decoration-color: #000080\">INFO    </span> Scraping game schedule for Friday, Jun <span style=\"color: #008080; text-decoration-color: #008080; font-weight: bold\">30</span> <span style=\"color: #008080; text-decoration-color: #008080; font-weight: bold\">2023</span>                        <a href=\"file:///Users/okariuk/Shakhtar-Donetsk/.venv/lib/python3.11/site-packages/soccerdata/whoscored.py\" target=\"_blank\"><span style=\"color: #7f7f7f; text-decoration-color: #7f7f7f\">whoscored.py</span></a><span style=\"color: #7f7f7f; text-decoration-color: #7f7f7f\">:</span><a href=\"file:///Users/okariuk/Shakhtar-Donetsk/.venv/lib/python3.11/site-packages/soccerdata/whoscored.py#327\" target=\"_blank\"><span style=\"color: #7f7f7f; text-decoration-color: #7f7f7f\">327</span></a>\n",
       "</pre>\n"
      ],
      "text/plain": [
       "\u001b[2;36m                   \u001b[0m\u001b[2;36m \u001b[0m\u001b[34mINFO    \u001b[0m Scraping game schedule for Friday, Jun \u001b[1;36m30\u001b[0m \u001b[1;36m2023\u001b[0m                        \u001b]8;id=527239;file:///Users/okariuk/Shakhtar-Donetsk/.venv/lib/python3.11/site-packages/soccerdata/whoscored.py\u001b\\\u001b[2mwhoscored.py\u001b[0m\u001b]8;;\u001b\\\u001b[2m:\u001b[0m\u001b]8;id=112385;file:///Users/okariuk/Shakhtar-Donetsk/.venv/lib/python3.11/site-packages/soccerdata/whoscored.py#327\u001b\\\u001b[2m327\u001b[0m\u001b]8;;\u001b\\\n"
      ]
     },
     "metadata": {},
     "output_type": "display_data"
    },
    {
     "data": {
      "text/html": [
       "<pre style=\"white-space:pre;overflow-x:auto;line-height:normal;font-family:Menlo,'DejaVu Sans Mono',consolas,'Courier New',monospace\"><span style=\"color: #7fbfbf; text-decoration-color: #7fbfbf\">[01/26/24 16:08:41] </span><span style=\"color: #000080; text-decoration-color: #000080\">INFO    </span> Scraping game schedule with <span style=\"color: #808000; text-decoration-color: #808000\">stage</span>=<span style=\"font-weight: bold\">{</span><span style=\"color: #008000; text-decoration-color: #008000\">'url'</span>:                             <a href=\"file:///Users/okariuk/Shakhtar-Donetsk/.venv/lib/python3.11/site-packages/soccerdata/whoscored.py\" target=\"_blank\"><span style=\"color: #7f7f7f; text-decoration-color: #7f7f7f\">whoscored.py</span></a><span style=\"color: #7f7f7f; text-decoration-color: #7f7f7f\">:</span><a href=\"file:///Users/okariuk/Shakhtar-Donetsk/.venv/lib/python3.11/site-packages/soccerdata/whoscored.py#407\" target=\"_blank\"><span style=\"color: #7f7f7f; text-decoration-color: #7f7f7f\">407</span></a>\n",
       "<span style=\"color: #7fbfbf; text-decoration-color: #7fbfbf\">                    </span>         <span style=\"color: #008000; text-decoration-color: #008000\">'/Regions/250/Tournaments/12/Seasons/9664/Stages/22165/Show/Europe-Ch</span> <span style=\"color: #7f7f7f; text-decoration-color: #7f7f7f\">                </span>\n",
       "<span style=\"color: #7fbfbf; text-decoration-color: #7fbfbf\">                    </span>         <span style=\"color: #008000; text-decoration-color: #008000\">ampions-League-2023-2024'</span>, <span style=\"color: #008000; text-decoration-color: #008000\">'name'</span>: <span style=\"color: #008000; text-decoration-color: #008000\">'Champions League Qualification'</span><span style=\"font-weight: bold\">}</span>  <span style=\"color: #7f7f7f; text-decoration-color: #7f7f7f\">                </span>\n",
       "<span style=\"color: #7fbfbf; text-decoration-color: #7fbfbf\">                    </span>         from                                                                  <span style=\"color: #7f7f7f; text-decoration-color: #7f7f7f\">                </span>\n",
       "<span style=\"color: #7fbfbf; text-decoration-color: #7fbfbf\">                    </span>         <span style=\"color: #0000ff; text-decoration-color: #0000ff; text-decoration: underline\">https://www.whoscored.com/Regions/250/Tournaments/12/Seasons/9664/Sta</span> <span style=\"color: #7f7f7f; text-decoration-color: #7f7f7f\">                </span>\n",
       "<span style=\"color: #7fbfbf; text-decoration-color: #7fbfbf\">                    </span>         <span style=\"color: #0000ff; text-decoration-color: #0000ff; text-decoration: underline\">ges/22165/Fixtures/Europe-Champions-League-2023-2024</span>                  <span style=\"color: #7f7f7f; text-decoration-color: #7f7f7f\">                </span>\n",
       "</pre>\n"
      ],
      "text/plain": [
       "\u001b[2;36m[01/26/24 16:08:41]\u001b[0m\u001b[2;36m \u001b[0m\u001b[34mINFO    \u001b[0m Scraping game schedule with \u001b[33mstage\u001b[0m=\u001b[1m{\u001b[0m\u001b[32m'url'\u001b[0m:                             \u001b]8;id=369348;file:///Users/okariuk/Shakhtar-Donetsk/.venv/lib/python3.11/site-packages/soccerdata/whoscored.py\u001b\\\u001b[2mwhoscored.py\u001b[0m\u001b]8;;\u001b\\\u001b[2m:\u001b[0m\u001b]8;id=836678;file:///Users/okariuk/Shakhtar-Donetsk/.venv/lib/python3.11/site-packages/soccerdata/whoscored.py#407\u001b\\\u001b[2m407\u001b[0m\u001b]8;;\u001b\\\n",
       "\u001b[2;36m                    \u001b[0m         \u001b[32m'/Regions/250/Tournaments/12/Seasons/9664/Stages/22165/Show/Europe-Ch\u001b[0m \u001b[2m                \u001b[0m\n",
       "\u001b[2;36m                    \u001b[0m         \u001b[32mampions-League-2023-2024'\u001b[0m, \u001b[32m'name'\u001b[0m: \u001b[32m'Champions League Qualification'\u001b[0m\u001b[1m}\u001b[0m  \u001b[2m                \u001b[0m\n",
       "\u001b[2;36m                    \u001b[0m         from                                                                  \u001b[2m                \u001b[0m\n",
       "\u001b[2;36m                    \u001b[0m         \u001b[4;94mhttps://www.whoscored.com/Regions/250/Tournaments/12/Seasons/9664/Sta\u001b[0m \u001b[2m                \u001b[0m\n",
       "\u001b[2;36m                    \u001b[0m         \u001b[4;94mges/22165/Fixtures/Europe-Champions-League-2023-2024\u001b[0m                  \u001b[2m                \u001b[0m\n"
      ]
     },
     "metadata": {},
     "output_type": "display_data"
    },
    {
     "data": {
      "text/html": [
       "<pre style=\"white-space:pre;overflow-x:auto;line-height:normal;font-family:Menlo,'DejaVu Sans Mono',consolas,'Courier New',monospace\"><span style=\"color: #7fbfbf; text-decoration-color: #7fbfbf\">                    </span><span style=\"color: #000080; text-decoration-color: #000080\">INFO    </span> Scraping game schedule for Tuesday, Jul <span style=\"color: #008080; text-decoration-color: #008080; font-weight: bold\">11</span> <span style=\"color: #008080; text-decoration-color: #008080; font-weight: bold\">2023</span>                       <a href=\"file:///Users/okariuk/Shakhtar-Donetsk/.venv/lib/python3.11/site-packages/soccerdata/whoscored.py\" target=\"_blank\"><span style=\"color: #7f7f7f; text-decoration-color: #7f7f7f\">whoscored.py</span></a><span style=\"color: #7f7f7f; text-decoration-color: #7f7f7f\">:</span><a href=\"file:///Users/okariuk/Shakhtar-Donetsk/.venv/lib/python3.11/site-packages/soccerdata/whoscored.py#327\" target=\"_blank\"><span style=\"color: #7f7f7f; text-decoration-color: #7f7f7f\">327</span></a>\n",
       "</pre>\n"
      ],
      "text/plain": [
       "\u001b[2;36m                   \u001b[0m\u001b[2;36m \u001b[0m\u001b[34mINFO    \u001b[0m Scraping game schedule for Tuesday, Jul \u001b[1;36m11\u001b[0m \u001b[1;36m2023\u001b[0m                       \u001b]8;id=780707;file:///Users/okariuk/Shakhtar-Donetsk/.venv/lib/python3.11/site-packages/soccerdata/whoscored.py\u001b\\\u001b[2mwhoscored.py\u001b[0m\u001b]8;;\u001b\\\u001b[2m:\u001b[0m\u001b]8;id=208549;file:///Users/okariuk/Shakhtar-Donetsk/.venv/lib/python3.11/site-packages/soccerdata/whoscored.py#327\u001b\\\u001b[2m327\u001b[0m\u001b]8;;\u001b\\\n"
      ]
     },
     "metadata": {},
     "output_type": "display_data"
    },
    {
     "data": {
      "text/html": [
       "<pre style=\"white-space:pre;overflow-x:auto;line-height:normal;font-family:Menlo,'DejaVu Sans Mono',consolas,'Courier New',monospace\"><span style=\"color: #7fbfbf; text-decoration-color: #7fbfbf\">[01/26/24 16:08:42] </span><span style=\"color: #000080; text-decoration-color: #000080\">INFO    </span> Scraping game schedule for Wednesday, Jul <span style=\"color: #008080; text-decoration-color: #008080; font-weight: bold\">12</span> <span style=\"color: #008080; text-decoration-color: #008080; font-weight: bold\">2023</span>                     <a href=\"file:///Users/okariuk/Shakhtar-Donetsk/.venv/lib/python3.11/site-packages/soccerdata/whoscored.py\" target=\"_blank\"><span style=\"color: #7f7f7f; text-decoration-color: #7f7f7f\">whoscored.py</span></a><span style=\"color: #7f7f7f; text-decoration-color: #7f7f7f\">:</span><a href=\"file:///Users/okariuk/Shakhtar-Donetsk/.venv/lib/python3.11/site-packages/soccerdata/whoscored.py#327\" target=\"_blank\"><span style=\"color: #7f7f7f; text-decoration-color: #7f7f7f\">327</span></a>\n",
       "</pre>\n"
      ],
      "text/plain": [
       "\u001b[2;36m[01/26/24 16:08:42]\u001b[0m\u001b[2;36m \u001b[0m\u001b[34mINFO    \u001b[0m Scraping game schedule for Wednesday, Jul \u001b[1;36m12\u001b[0m \u001b[1;36m2023\u001b[0m                     \u001b]8;id=835857;file:///Users/okariuk/Shakhtar-Donetsk/.venv/lib/python3.11/site-packages/soccerdata/whoscored.py\u001b\\\u001b[2mwhoscored.py\u001b[0m\u001b]8;;\u001b\\\u001b[2m:\u001b[0m\u001b]8;id=855733;file:///Users/okariuk/Shakhtar-Donetsk/.venv/lib/python3.11/site-packages/soccerdata/whoscored.py#327\u001b\\\u001b[2m327\u001b[0m\u001b]8;;\u001b\\\n"
      ]
     },
     "metadata": {},
     "output_type": "display_data"
    },
    {
     "data": {
      "text/html": [
       "<pre style=\"white-space:pre;overflow-x:auto;line-height:normal;font-family:Menlo,'DejaVu Sans Mono',consolas,'Courier New',monospace\"><span style=\"color: #7fbfbf; text-decoration-color: #7fbfbf\">                    </span><span style=\"color: #000080; text-decoration-color: #000080\">INFO    </span> Scraping game schedule for Tuesday, Jul <span style=\"color: #008080; text-decoration-color: #008080; font-weight: bold\">18</span> <span style=\"color: #008080; text-decoration-color: #008080; font-weight: bold\">2023</span>                       <a href=\"file:///Users/okariuk/Shakhtar-Donetsk/.venv/lib/python3.11/site-packages/soccerdata/whoscored.py\" target=\"_blank\"><span style=\"color: #7f7f7f; text-decoration-color: #7f7f7f\">whoscored.py</span></a><span style=\"color: #7f7f7f; text-decoration-color: #7f7f7f\">:</span><a href=\"file:///Users/okariuk/Shakhtar-Donetsk/.venv/lib/python3.11/site-packages/soccerdata/whoscored.py#327\" target=\"_blank\"><span style=\"color: #7f7f7f; text-decoration-color: #7f7f7f\">327</span></a>\n",
       "</pre>\n"
      ],
      "text/plain": [
       "\u001b[2;36m                   \u001b[0m\u001b[2;36m \u001b[0m\u001b[34mINFO    \u001b[0m Scraping game schedule for Tuesday, Jul \u001b[1;36m18\u001b[0m \u001b[1;36m2023\u001b[0m                       \u001b]8;id=134130;file:///Users/okariuk/Shakhtar-Donetsk/.venv/lib/python3.11/site-packages/soccerdata/whoscored.py\u001b\\\u001b[2mwhoscored.py\u001b[0m\u001b]8;;\u001b\\\u001b[2m:\u001b[0m\u001b]8;id=379436;file:///Users/okariuk/Shakhtar-Donetsk/.venv/lib/python3.11/site-packages/soccerdata/whoscored.py#327\u001b\\\u001b[2m327\u001b[0m\u001b]8;;\u001b\\\n"
      ]
     },
     "metadata": {},
     "output_type": "display_data"
    },
    {
     "data": {
      "text/html": [
       "<pre style=\"white-space:pre;overflow-x:auto;line-height:normal;font-family:Menlo,'DejaVu Sans Mono',consolas,'Courier New',monospace\"><span style=\"color: #7fbfbf; text-decoration-color: #7fbfbf\">                    </span><span style=\"color: #000080; text-decoration-color: #000080\">INFO    </span> Scraping game schedule for Wednesday, Jul <span style=\"color: #008080; text-decoration-color: #008080; font-weight: bold\">19</span> <span style=\"color: #008080; text-decoration-color: #008080; font-weight: bold\">2023</span>                     <a href=\"file:///Users/okariuk/Shakhtar-Donetsk/.venv/lib/python3.11/site-packages/soccerdata/whoscored.py\" target=\"_blank\"><span style=\"color: #7f7f7f; text-decoration-color: #7f7f7f\">whoscored.py</span></a><span style=\"color: #7f7f7f; text-decoration-color: #7f7f7f\">:</span><a href=\"file:///Users/okariuk/Shakhtar-Donetsk/.venv/lib/python3.11/site-packages/soccerdata/whoscored.py#327\" target=\"_blank\"><span style=\"color: #7f7f7f; text-decoration-color: #7f7f7f\">327</span></a>\n",
       "</pre>\n"
      ],
      "text/plain": [
       "\u001b[2;36m                   \u001b[0m\u001b[2;36m \u001b[0m\u001b[34mINFO    \u001b[0m Scraping game schedule for Wednesday, Jul \u001b[1;36m19\u001b[0m \u001b[1;36m2023\u001b[0m                     \u001b]8;id=357395;file:///Users/okariuk/Shakhtar-Donetsk/.venv/lib/python3.11/site-packages/soccerdata/whoscored.py\u001b\\\u001b[2mwhoscored.py\u001b[0m\u001b]8;;\u001b\\\u001b[2m:\u001b[0m\u001b]8;id=3132;file:///Users/okariuk/Shakhtar-Donetsk/.venv/lib/python3.11/site-packages/soccerdata/whoscored.py#327\u001b\\\u001b[2m327\u001b[0m\u001b]8;;\u001b\\\n"
      ]
     },
     "metadata": {},
     "output_type": "display_data"
    },
    {
     "data": {
      "text/html": [
       "<pre style=\"white-space:pre;overflow-x:auto;line-height:normal;font-family:Menlo,'DejaVu Sans Mono',consolas,'Courier New',monospace\"><span style=\"color: #7fbfbf; text-decoration-color: #7fbfbf\">                    </span><span style=\"color: #000080; text-decoration-color: #000080\">INFO    </span> Scraping game schedule for Tuesday, Jul <span style=\"color: #008080; text-decoration-color: #008080; font-weight: bold\">25</span> <span style=\"color: #008080; text-decoration-color: #008080; font-weight: bold\">2023</span>                       <a href=\"file:///Users/okariuk/Shakhtar-Donetsk/.venv/lib/python3.11/site-packages/soccerdata/whoscored.py\" target=\"_blank\"><span style=\"color: #7f7f7f; text-decoration-color: #7f7f7f\">whoscored.py</span></a><span style=\"color: #7f7f7f; text-decoration-color: #7f7f7f\">:</span><a href=\"file:///Users/okariuk/Shakhtar-Donetsk/.venv/lib/python3.11/site-packages/soccerdata/whoscored.py#327\" target=\"_blank\"><span style=\"color: #7f7f7f; text-decoration-color: #7f7f7f\">327</span></a>\n",
       "</pre>\n"
      ],
      "text/plain": [
       "\u001b[2;36m                   \u001b[0m\u001b[2;36m \u001b[0m\u001b[34mINFO    \u001b[0m Scraping game schedule for Tuesday, Jul \u001b[1;36m25\u001b[0m \u001b[1;36m2023\u001b[0m                       \u001b]8;id=664820;file:///Users/okariuk/Shakhtar-Donetsk/.venv/lib/python3.11/site-packages/soccerdata/whoscored.py\u001b\\\u001b[2mwhoscored.py\u001b[0m\u001b]8;;\u001b\\\u001b[2m:\u001b[0m\u001b]8;id=159513;file:///Users/okariuk/Shakhtar-Donetsk/.venv/lib/python3.11/site-packages/soccerdata/whoscored.py#327\u001b\\\u001b[2m327\u001b[0m\u001b]8;;\u001b\\\n"
      ]
     },
     "metadata": {},
     "output_type": "display_data"
    },
    {
     "data": {
      "text/html": [
       "<pre style=\"white-space:pre;overflow-x:auto;line-height:normal;font-family:Menlo,'DejaVu Sans Mono',consolas,'Courier New',monospace\"><span style=\"color: #7fbfbf; text-decoration-color: #7fbfbf\">[01/26/24 16:08:43] </span><span style=\"color: #000080; text-decoration-color: #000080\">INFO    </span> Scraping game schedule for Wednesday, Jul <span style=\"color: #008080; text-decoration-color: #008080; font-weight: bold\">26</span> <span style=\"color: #008080; text-decoration-color: #008080; font-weight: bold\">2023</span>                     <a href=\"file:///Users/okariuk/Shakhtar-Donetsk/.venv/lib/python3.11/site-packages/soccerdata/whoscored.py\" target=\"_blank\"><span style=\"color: #7f7f7f; text-decoration-color: #7f7f7f\">whoscored.py</span></a><span style=\"color: #7f7f7f; text-decoration-color: #7f7f7f\">:</span><a href=\"file:///Users/okariuk/Shakhtar-Donetsk/.venv/lib/python3.11/site-packages/soccerdata/whoscored.py#327\" target=\"_blank\"><span style=\"color: #7f7f7f; text-decoration-color: #7f7f7f\">327</span></a>\n",
       "</pre>\n"
      ],
      "text/plain": [
       "\u001b[2;36m[01/26/24 16:08:43]\u001b[0m\u001b[2;36m \u001b[0m\u001b[34mINFO    \u001b[0m Scraping game schedule for Wednesday, Jul \u001b[1;36m26\u001b[0m \u001b[1;36m2023\u001b[0m                     \u001b]8;id=541218;file:///Users/okariuk/Shakhtar-Donetsk/.venv/lib/python3.11/site-packages/soccerdata/whoscored.py\u001b\\\u001b[2mwhoscored.py\u001b[0m\u001b]8;;\u001b\\\u001b[2m:\u001b[0m\u001b]8;id=41546;file:///Users/okariuk/Shakhtar-Donetsk/.venv/lib/python3.11/site-packages/soccerdata/whoscored.py#327\u001b\\\u001b[2m327\u001b[0m\u001b]8;;\u001b\\\n"
      ]
     },
     "metadata": {},
     "output_type": "display_data"
    },
    {
     "data": {
      "text/html": [
       "<pre style=\"white-space:pre;overflow-x:auto;line-height:normal;font-family:Menlo,'DejaVu Sans Mono',consolas,'Courier New',monospace\"><span style=\"color: #7fbfbf; text-decoration-color: #7fbfbf\">                    </span><span style=\"color: #000080; text-decoration-color: #000080\">INFO    </span> Scraping game schedule for Tuesday, Aug <span style=\"color: #008080; text-decoration-color: #008080; font-weight: bold\">1</span> <span style=\"color: #008080; text-decoration-color: #008080; font-weight: bold\">2023</span>                        <a href=\"file:///Users/okariuk/Shakhtar-Donetsk/.venv/lib/python3.11/site-packages/soccerdata/whoscored.py\" target=\"_blank\"><span style=\"color: #7f7f7f; text-decoration-color: #7f7f7f\">whoscored.py</span></a><span style=\"color: #7f7f7f; text-decoration-color: #7f7f7f\">:</span><a href=\"file:///Users/okariuk/Shakhtar-Donetsk/.venv/lib/python3.11/site-packages/soccerdata/whoscored.py#327\" target=\"_blank\"><span style=\"color: #7f7f7f; text-decoration-color: #7f7f7f\">327</span></a>\n",
       "</pre>\n"
      ],
      "text/plain": [
       "\u001b[2;36m                   \u001b[0m\u001b[2;36m \u001b[0m\u001b[34mINFO    \u001b[0m Scraping game schedule for Tuesday, Aug \u001b[1;36m1\u001b[0m \u001b[1;36m2023\u001b[0m                        \u001b]8;id=105990;file:///Users/okariuk/Shakhtar-Donetsk/.venv/lib/python3.11/site-packages/soccerdata/whoscored.py\u001b\\\u001b[2mwhoscored.py\u001b[0m\u001b]8;;\u001b\\\u001b[2m:\u001b[0m\u001b]8;id=554095;file:///Users/okariuk/Shakhtar-Donetsk/.venv/lib/python3.11/site-packages/soccerdata/whoscored.py#327\u001b\\\u001b[2m327\u001b[0m\u001b]8;;\u001b\\\n"
      ]
     },
     "metadata": {},
     "output_type": "display_data"
    },
    {
     "data": {
      "text/html": [
       "<pre style=\"white-space:pre;overflow-x:auto;line-height:normal;font-family:Menlo,'DejaVu Sans Mono',consolas,'Courier New',monospace\"><span style=\"color: #7fbfbf; text-decoration-color: #7fbfbf\">                    </span><span style=\"color: #000080; text-decoration-color: #000080\">INFO    </span> Scraping game schedule for Wednesday, Aug <span style=\"color: #008080; text-decoration-color: #008080; font-weight: bold\">2</span> <span style=\"color: #008080; text-decoration-color: #008080; font-weight: bold\">2023</span>                      <a href=\"file:///Users/okariuk/Shakhtar-Donetsk/.venv/lib/python3.11/site-packages/soccerdata/whoscored.py\" target=\"_blank\"><span style=\"color: #7f7f7f; text-decoration-color: #7f7f7f\">whoscored.py</span></a><span style=\"color: #7f7f7f; text-decoration-color: #7f7f7f\">:</span><a href=\"file:///Users/okariuk/Shakhtar-Donetsk/.venv/lib/python3.11/site-packages/soccerdata/whoscored.py#327\" target=\"_blank\"><span style=\"color: #7f7f7f; text-decoration-color: #7f7f7f\">327</span></a>\n",
       "</pre>\n"
      ],
      "text/plain": [
       "\u001b[2;36m                   \u001b[0m\u001b[2;36m \u001b[0m\u001b[34mINFO    \u001b[0m Scraping game schedule for Wednesday, Aug \u001b[1;36m2\u001b[0m \u001b[1;36m2023\u001b[0m                      \u001b]8;id=339103;file:///Users/okariuk/Shakhtar-Donetsk/.venv/lib/python3.11/site-packages/soccerdata/whoscored.py\u001b\\\u001b[2mwhoscored.py\u001b[0m\u001b]8;;\u001b\\\u001b[2m:\u001b[0m\u001b]8;id=468343;file:///Users/okariuk/Shakhtar-Donetsk/.venv/lib/python3.11/site-packages/soccerdata/whoscored.py#327\u001b\\\u001b[2m327\u001b[0m\u001b]8;;\u001b\\\n"
      ]
     },
     "metadata": {},
     "output_type": "display_data"
    },
    {
     "data": {
      "text/html": [
       "<pre style=\"white-space:pre;overflow-x:auto;line-height:normal;font-family:Menlo,'DejaVu Sans Mono',consolas,'Courier New',monospace\"><span style=\"color: #7fbfbf; text-decoration-color: #7fbfbf\">[01/26/24 16:08:44] </span><span style=\"color: #000080; text-decoration-color: #000080\">INFO    </span> Scraping game schedule for Tuesday, Aug <span style=\"color: #008080; text-decoration-color: #008080; font-weight: bold\">8</span> <span style=\"color: #008080; text-decoration-color: #008080; font-weight: bold\">2023</span>                        <a href=\"file:///Users/okariuk/Shakhtar-Donetsk/.venv/lib/python3.11/site-packages/soccerdata/whoscored.py\" target=\"_blank\"><span style=\"color: #7f7f7f; text-decoration-color: #7f7f7f\">whoscored.py</span></a><span style=\"color: #7f7f7f; text-decoration-color: #7f7f7f\">:</span><a href=\"file:///Users/okariuk/Shakhtar-Donetsk/.venv/lib/python3.11/site-packages/soccerdata/whoscored.py#327\" target=\"_blank\"><span style=\"color: #7f7f7f; text-decoration-color: #7f7f7f\">327</span></a>\n",
       "</pre>\n"
      ],
      "text/plain": [
       "\u001b[2;36m[01/26/24 16:08:44]\u001b[0m\u001b[2;36m \u001b[0m\u001b[34mINFO    \u001b[0m Scraping game schedule for Tuesday, Aug \u001b[1;36m8\u001b[0m \u001b[1;36m2023\u001b[0m                        \u001b]8;id=612860;file:///Users/okariuk/Shakhtar-Donetsk/.venv/lib/python3.11/site-packages/soccerdata/whoscored.py\u001b\\\u001b[2mwhoscored.py\u001b[0m\u001b]8;;\u001b\\\u001b[2m:\u001b[0m\u001b]8;id=92058;file:///Users/okariuk/Shakhtar-Donetsk/.venv/lib/python3.11/site-packages/soccerdata/whoscored.py#327\u001b\\\u001b[2m327\u001b[0m\u001b]8;;\u001b\\\n"
      ]
     },
     "metadata": {},
     "output_type": "display_data"
    },
    {
     "data": {
      "text/html": [
       "<pre style=\"white-space:pre;overflow-x:auto;line-height:normal;font-family:Menlo,'DejaVu Sans Mono',consolas,'Courier New',monospace\"><span style=\"color: #7fbfbf; text-decoration-color: #7fbfbf\">[01/26/24 16:08:45] </span><span style=\"color: #000080; text-decoration-color: #000080\">INFO    </span> Scraping game schedule for Wednesday, Aug <span style=\"color: #008080; text-decoration-color: #008080; font-weight: bold\">9</span> <span style=\"color: #008080; text-decoration-color: #008080; font-weight: bold\">2023</span>                      <a href=\"file:///Users/okariuk/Shakhtar-Donetsk/.venv/lib/python3.11/site-packages/soccerdata/whoscored.py\" target=\"_blank\"><span style=\"color: #7f7f7f; text-decoration-color: #7f7f7f\">whoscored.py</span></a><span style=\"color: #7f7f7f; text-decoration-color: #7f7f7f\">:</span><a href=\"file:///Users/okariuk/Shakhtar-Donetsk/.venv/lib/python3.11/site-packages/soccerdata/whoscored.py#327\" target=\"_blank\"><span style=\"color: #7f7f7f; text-decoration-color: #7f7f7f\">327</span></a>\n",
       "</pre>\n"
      ],
      "text/plain": [
       "\u001b[2;36m[01/26/24 16:08:45]\u001b[0m\u001b[2;36m \u001b[0m\u001b[34mINFO    \u001b[0m Scraping game schedule for Wednesday, Aug \u001b[1;36m9\u001b[0m \u001b[1;36m2023\u001b[0m                      \u001b]8;id=755492;file:///Users/okariuk/Shakhtar-Donetsk/.venv/lib/python3.11/site-packages/soccerdata/whoscored.py\u001b\\\u001b[2mwhoscored.py\u001b[0m\u001b]8;;\u001b\\\u001b[2m:\u001b[0m\u001b]8;id=715462;file:///Users/okariuk/Shakhtar-Donetsk/.venv/lib/python3.11/site-packages/soccerdata/whoscored.py#327\u001b\\\u001b[2m327\u001b[0m\u001b]8;;\u001b\\\n"
      ]
     },
     "metadata": {},
     "output_type": "display_data"
    },
    {
     "data": {
      "text/html": [
       "<pre style=\"white-space:pre;overflow-x:auto;line-height:normal;font-family:Menlo,'DejaVu Sans Mono',consolas,'Courier New',monospace\"><span style=\"color: #7fbfbf; text-decoration-color: #7fbfbf\">                    </span><span style=\"color: #000080; text-decoration-color: #000080\">INFO    </span> Scraping game schedule for Tuesday, Aug <span style=\"color: #008080; text-decoration-color: #008080; font-weight: bold\">15</span> <span style=\"color: #008080; text-decoration-color: #008080; font-weight: bold\">2023</span>                       <a href=\"file:///Users/okariuk/Shakhtar-Donetsk/.venv/lib/python3.11/site-packages/soccerdata/whoscored.py\" target=\"_blank\"><span style=\"color: #7f7f7f; text-decoration-color: #7f7f7f\">whoscored.py</span></a><span style=\"color: #7f7f7f; text-decoration-color: #7f7f7f\">:</span><a href=\"file:///Users/okariuk/Shakhtar-Donetsk/.venv/lib/python3.11/site-packages/soccerdata/whoscored.py#327\" target=\"_blank\"><span style=\"color: #7f7f7f; text-decoration-color: #7f7f7f\">327</span></a>\n",
       "</pre>\n"
      ],
      "text/plain": [
       "\u001b[2;36m                   \u001b[0m\u001b[2;36m \u001b[0m\u001b[34mINFO    \u001b[0m Scraping game schedule for Tuesday, Aug \u001b[1;36m15\u001b[0m \u001b[1;36m2023\u001b[0m                       \u001b]8;id=793790;file:///Users/okariuk/Shakhtar-Donetsk/.venv/lib/python3.11/site-packages/soccerdata/whoscored.py\u001b\\\u001b[2mwhoscored.py\u001b[0m\u001b]8;;\u001b\\\u001b[2m:\u001b[0m\u001b]8;id=300828;file:///Users/okariuk/Shakhtar-Donetsk/.venv/lib/python3.11/site-packages/soccerdata/whoscored.py#327\u001b\\\u001b[2m327\u001b[0m\u001b]8;;\u001b\\\n"
      ]
     },
     "metadata": {},
     "output_type": "display_data"
    },
    {
     "data": {
      "text/html": [
       "<pre style=\"white-space:pre;overflow-x:auto;line-height:normal;font-family:Menlo,'DejaVu Sans Mono',consolas,'Courier New',monospace\"><span style=\"color: #7fbfbf; text-decoration-color: #7fbfbf\">                    </span><span style=\"color: #000080; text-decoration-color: #000080\">INFO    </span> Scraping game schedule for Saturday, Aug <span style=\"color: #008080; text-decoration-color: #008080; font-weight: bold\">19</span> <span style=\"color: #008080; text-decoration-color: #008080; font-weight: bold\">2023</span>                      <a href=\"file:///Users/okariuk/Shakhtar-Donetsk/.venv/lib/python3.11/site-packages/soccerdata/whoscored.py\" target=\"_blank\"><span style=\"color: #7f7f7f; text-decoration-color: #7f7f7f\">whoscored.py</span></a><span style=\"color: #7f7f7f; text-decoration-color: #7f7f7f\">:</span><a href=\"file:///Users/okariuk/Shakhtar-Donetsk/.venv/lib/python3.11/site-packages/soccerdata/whoscored.py#327\" target=\"_blank\"><span style=\"color: #7f7f7f; text-decoration-color: #7f7f7f\">327</span></a>\n",
       "</pre>\n"
      ],
      "text/plain": [
       "\u001b[2;36m                   \u001b[0m\u001b[2;36m \u001b[0m\u001b[34mINFO    \u001b[0m Scraping game schedule for Saturday, Aug \u001b[1;36m19\u001b[0m \u001b[1;36m2023\u001b[0m                      \u001b]8;id=843300;file:///Users/okariuk/Shakhtar-Donetsk/.venv/lib/python3.11/site-packages/soccerdata/whoscored.py\u001b\\\u001b[2mwhoscored.py\u001b[0m\u001b]8;;\u001b\\\u001b[2m:\u001b[0m\u001b]8;id=577744;file:///Users/okariuk/Shakhtar-Donetsk/.venv/lib/python3.11/site-packages/soccerdata/whoscored.py#327\u001b\\\u001b[2m327\u001b[0m\u001b]8;;\u001b\\\n"
      ]
     },
     "metadata": {},
     "output_type": "display_data"
    },
    {
     "data": {
      "text/html": [
       "<pre style=\"white-space:pre;overflow-x:auto;line-height:normal;font-family:Menlo,'DejaVu Sans Mono',consolas,'Courier New',monospace\"><span style=\"color: #7fbfbf; text-decoration-color: #7fbfbf\">                    </span><span style=\"color: #000080; text-decoration-color: #000080\">INFO    </span> Scraping game schedule for Tuesday, Aug <span style=\"color: #008080; text-decoration-color: #008080; font-weight: bold\">22</span> <span style=\"color: #008080; text-decoration-color: #008080; font-weight: bold\">2023</span>                       <a href=\"file:///Users/okariuk/Shakhtar-Donetsk/.venv/lib/python3.11/site-packages/soccerdata/whoscored.py\" target=\"_blank\"><span style=\"color: #7f7f7f; text-decoration-color: #7f7f7f\">whoscored.py</span></a><span style=\"color: #7f7f7f; text-decoration-color: #7f7f7f\">:</span><a href=\"file:///Users/okariuk/Shakhtar-Donetsk/.venv/lib/python3.11/site-packages/soccerdata/whoscored.py#327\" target=\"_blank\"><span style=\"color: #7f7f7f; text-decoration-color: #7f7f7f\">327</span></a>\n",
       "</pre>\n"
      ],
      "text/plain": [
       "\u001b[2;36m                   \u001b[0m\u001b[2;36m \u001b[0m\u001b[34mINFO    \u001b[0m Scraping game schedule for Tuesday, Aug \u001b[1;36m22\u001b[0m \u001b[1;36m2023\u001b[0m                       \u001b]8;id=968046;file:///Users/okariuk/Shakhtar-Donetsk/.venv/lib/python3.11/site-packages/soccerdata/whoscored.py\u001b\\\u001b[2mwhoscored.py\u001b[0m\u001b]8;;\u001b\\\u001b[2m:\u001b[0m\u001b]8;id=723136;file:///Users/okariuk/Shakhtar-Donetsk/.venv/lib/python3.11/site-packages/soccerdata/whoscored.py#327\u001b\\\u001b[2m327\u001b[0m\u001b]8;;\u001b\\\n"
      ]
     },
     "metadata": {},
     "output_type": "display_data"
    },
    {
     "data": {
      "text/html": [
       "<pre style=\"white-space:pre;overflow-x:auto;line-height:normal;font-family:Menlo,'DejaVu Sans Mono',consolas,'Courier New',monospace\"><span style=\"color: #7fbfbf; text-decoration-color: #7fbfbf\">[01/26/24 16:08:46] </span><span style=\"color: #000080; text-decoration-color: #000080\">INFO    </span> Scraping game schedule for Wednesday, Aug <span style=\"color: #008080; text-decoration-color: #008080; font-weight: bold\">23</span> <span style=\"color: #008080; text-decoration-color: #008080; font-weight: bold\">2023</span>                     <a href=\"file:///Users/okariuk/Shakhtar-Donetsk/.venv/lib/python3.11/site-packages/soccerdata/whoscored.py\" target=\"_blank\"><span style=\"color: #7f7f7f; text-decoration-color: #7f7f7f\">whoscored.py</span></a><span style=\"color: #7f7f7f; text-decoration-color: #7f7f7f\">:</span><a href=\"file:///Users/okariuk/Shakhtar-Donetsk/.venv/lib/python3.11/site-packages/soccerdata/whoscored.py#327\" target=\"_blank\"><span style=\"color: #7f7f7f; text-decoration-color: #7f7f7f\">327</span></a>\n",
       "</pre>\n"
      ],
      "text/plain": [
       "\u001b[2;36m[01/26/24 16:08:46]\u001b[0m\u001b[2;36m \u001b[0m\u001b[34mINFO    \u001b[0m Scraping game schedule for Wednesday, Aug \u001b[1;36m23\u001b[0m \u001b[1;36m2023\u001b[0m                     \u001b]8;id=457061;file:///Users/okariuk/Shakhtar-Donetsk/.venv/lib/python3.11/site-packages/soccerdata/whoscored.py\u001b\\\u001b[2mwhoscored.py\u001b[0m\u001b]8;;\u001b\\\u001b[2m:\u001b[0m\u001b]8;id=492265;file:///Users/okariuk/Shakhtar-Donetsk/.venv/lib/python3.11/site-packages/soccerdata/whoscored.py#327\u001b\\\u001b[2m327\u001b[0m\u001b]8;;\u001b\\\n"
      ]
     },
     "metadata": {},
     "output_type": "display_data"
    },
    {
     "data": {
      "text/html": [
       "<pre style=\"white-space:pre;overflow-x:auto;line-height:normal;font-family:Menlo,'DejaVu Sans Mono',consolas,'Courier New',monospace\"><span style=\"color: #7fbfbf; text-decoration-color: #7fbfbf\">                    </span><span style=\"color: #000080; text-decoration-color: #000080\">INFO    </span> Scraping game schedule for Tuesday, Aug <span style=\"color: #008080; text-decoration-color: #008080; font-weight: bold\">29</span> <span style=\"color: #008080; text-decoration-color: #008080; font-weight: bold\">2023</span>                       <a href=\"file:///Users/okariuk/Shakhtar-Donetsk/.venv/lib/python3.11/site-packages/soccerdata/whoscored.py\" target=\"_blank\"><span style=\"color: #7f7f7f; text-decoration-color: #7f7f7f\">whoscored.py</span></a><span style=\"color: #7f7f7f; text-decoration-color: #7f7f7f\">:</span><a href=\"file:///Users/okariuk/Shakhtar-Donetsk/.venv/lib/python3.11/site-packages/soccerdata/whoscored.py#327\" target=\"_blank\"><span style=\"color: #7f7f7f; text-decoration-color: #7f7f7f\">327</span></a>\n",
       "</pre>\n"
      ],
      "text/plain": [
       "\u001b[2;36m                   \u001b[0m\u001b[2;36m \u001b[0m\u001b[34mINFO    \u001b[0m Scraping game schedule for Tuesday, Aug \u001b[1;36m29\u001b[0m \u001b[1;36m2023\u001b[0m                       \u001b]8;id=320599;file:///Users/okariuk/Shakhtar-Donetsk/.venv/lib/python3.11/site-packages/soccerdata/whoscored.py\u001b\\\u001b[2mwhoscored.py\u001b[0m\u001b]8;;\u001b\\\u001b[2m:\u001b[0m\u001b]8;id=66079;file:///Users/okariuk/Shakhtar-Donetsk/.venv/lib/python3.11/site-packages/soccerdata/whoscored.py#327\u001b\\\u001b[2m327\u001b[0m\u001b]8;;\u001b\\\n"
      ]
     },
     "metadata": {},
     "output_type": "display_data"
    },
    {
     "data": {
      "text/html": [
       "<pre style=\"white-space:pre;overflow-x:auto;line-height:normal;font-family:Menlo,'DejaVu Sans Mono',consolas,'Courier New',monospace\"><span style=\"color: #7fbfbf; text-decoration-color: #7fbfbf\">                    </span><span style=\"color: #000080; text-decoration-color: #000080\">INFO    </span> Scraping game schedule for Wednesday, Aug <span style=\"color: #008080; text-decoration-color: #008080; font-weight: bold\">30</span> <span style=\"color: #008080; text-decoration-color: #008080; font-weight: bold\">2023</span>                     <a href=\"file:///Users/okariuk/Shakhtar-Donetsk/.venv/lib/python3.11/site-packages/soccerdata/whoscored.py\" target=\"_blank\"><span style=\"color: #7f7f7f; text-decoration-color: #7f7f7f\">whoscored.py</span></a><span style=\"color: #7f7f7f; text-decoration-color: #7f7f7f\">:</span><a href=\"file:///Users/okariuk/Shakhtar-Donetsk/.venv/lib/python3.11/site-packages/soccerdata/whoscored.py#327\" target=\"_blank\"><span style=\"color: #7f7f7f; text-decoration-color: #7f7f7f\">327</span></a>\n",
       "</pre>\n"
      ],
      "text/plain": [
       "\u001b[2;36m                   \u001b[0m\u001b[2;36m \u001b[0m\u001b[34mINFO    \u001b[0m Scraping game schedule for Wednesday, Aug \u001b[1;36m30\u001b[0m \u001b[1;36m2023\u001b[0m                     \u001b]8;id=684022;file:///Users/okariuk/Shakhtar-Donetsk/.venv/lib/python3.11/site-packages/soccerdata/whoscored.py\u001b\\\u001b[2mwhoscored.py\u001b[0m\u001b]8;;\u001b\\\u001b[2m:\u001b[0m\u001b]8;id=46504;file:///Users/okariuk/Shakhtar-Donetsk/.venv/lib/python3.11/site-packages/soccerdata/whoscored.py#327\u001b\\\u001b[2m327\u001b[0m\u001b]8;;\u001b\\\n"
      ]
     },
     "metadata": {},
     "output_type": "display_data"
    },
    {
     "data": {
      "text/html": [
       "<pre style=\"white-space:pre;overflow-x:auto;line-height:normal;font-family:Menlo,'DejaVu Sans Mono',consolas,'Courier New',monospace\"><span style=\"color: #7fbfbf; text-decoration-color: #7fbfbf\">[01/26/24 16:08:50] </span><span style=\"color: #000080; text-decoration-color: #000080\">INFO    </span> Scraping game schedule with <span style=\"color: #808000; text-decoration-color: #808000\">stage</span>=<span style=\"font-weight: bold\">{</span><span style=\"color: #008000; text-decoration-color: #008000\">'url'</span>:                             <a href=\"file:///Users/okariuk/Shakhtar-Donetsk/.venv/lib/python3.11/site-packages/soccerdata/whoscored.py\" target=\"_blank\"><span style=\"color: #7f7f7f; text-decoration-color: #7f7f7f\">whoscored.py</span></a><span style=\"color: #7f7f7f; text-decoration-color: #7f7f7f\">:</span><a href=\"file:///Users/okariuk/Shakhtar-Donetsk/.venv/lib/python3.11/site-packages/soccerdata/whoscored.py#407\" target=\"_blank\"><span style=\"color: #7f7f7f; text-decoration-color: #7f7f7f\">407</span></a>\n",
       "<span style=\"color: #7fbfbf; text-decoration-color: #7fbfbf\">                    </span>         <span style=\"color: #008000; text-decoration-color: #008000\">'/Regions/250/Tournaments/12/Seasons/9664/Stages/22686/Show/Europe-Ch</span> <span style=\"color: #7f7f7f; text-decoration-color: #7f7f7f\">                </span>\n",
       "<span style=\"color: #7fbfbf; text-decoration-color: #7fbfbf\">                    </span>         <span style=\"color: #008000; text-decoration-color: #008000\">ampions-League-2023-2024'</span>, <span style=\"color: #008000; text-decoration-color: #008000\">'name'</span>: <span style=\"color: #008000; text-decoration-color: #008000\">'Champions League Final Stage'</span><span style=\"font-weight: bold\">}</span>    <span style=\"color: #7f7f7f; text-decoration-color: #7f7f7f\">                </span>\n",
       "<span style=\"color: #7fbfbf; text-decoration-color: #7fbfbf\">                    </span>         from                                                                  <span style=\"color: #7f7f7f; text-decoration-color: #7f7f7f\">                </span>\n",
       "<span style=\"color: #7fbfbf; text-decoration-color: #7fbfbf\">                    </span>         <span style=\"color: #0000ff; text-decoration-color: #0000ff; text-decoration: underline\">https://www.whoscored.com/Regions/250/Tournaments/12/Seasons/9664/Sta</span> <span style=\"color: #7f7f7f; text-decoration-color: #7f7f7f\">                </span>\n",
       "<span style=\"color: #7fbfbf; text-decoration-color: #7fbfbf\">                    </span>         <span style=\"color: #0000ff; text-decoration-color: #0000ff; text-decoration: underline\">ges/22686/Fixtures/Europe-Champions-League-2023-2024</span>                  <span style=\"color: #7f7f7f; text-decoration-color: #7f7f7f\">                </span>\n",
       "</pre>\n"
      ],
      "text/plain": [
       "\u001b[2;36m[01/26/24 16:08:50]\u001b[0m\u001b[2;36m \u001b[0m\u001b[34mINFO    \u001b[0m Scraping game schedule with \u001b[33mstage\u001b[0m=\u001b[1m{\u001b[0m\u001b[32m'url'\u001b[0m:                             \u001b]8;id=219760;file:///Users/okariuk/Shakhtar-Donetsk/.venv/lib/python3.11/site-packages/soccerdata/whoscored.py\u001b\\\u001b[2mwhoscored.py\u001b[0m\u001b]8;;\u001b\\\u001b[2m:\u001b[0m\u001b]8;id=135989;file:///Users/okariuk/Shakhtar-Donetsk/.venv/lib/python3.11/site-packages/soccerdata/whoscored.py#407\u001b\\\u001b[2m407\u001b[0m\u001b]8;;\u001b\\\n",
       "\u001b[2;36m                    \u001b[0m         \u001b[32m'/Regions/250/Tournaments/12/Seasons/9664/Stages/22686/Show/Europe-Ch\u001b[0m \u001b[2m                \u001b[0m\n",
       "\u001b[2;36m                    \u001b[0m         \u001b[32mampions-League-2023-2024'\u001b[0m, \u001b[32m'name'\u001b[0m: \u001b[32m'Champions League Final Stage'\u001b[0m\u001b[1m}\u001b[0m    \u001b[2m                \u001b[0m\n",
       "\u001b[2;36m                    \u001b[0m         from                                                                  \u001b[2m                \u001b[0m\n",
       "\u001b[2;36m                    \u001b[0m         \u001b[4;94mhttps://www.whoscored.com/Regions/250/Tournaments/12/Seasons/9664/Sta\u001b[0m \u001b[2m                \u001b[0m\n",
       "\u001b[2;36m                    \u001b[0m         \u001b[4;94mges/22686/Fixtures/Europe-Champions-League-2023-2024\u001b[0m                  \u001b[2m                \u001b[0m\n"
      ]
     },
     "metadata": {},
     "output_type": "display_data"
    },
    {
     "data": {
      "text/html": [
       "<pre style=\"white-space:pre;overflow-x:auto;line-height:normal;font-family:Menlo,'DejaVu Sans Mono',consolas,'Courier New',monospace\"><span style=\"color: #7fbfbf; text-decoration-color: #7fbfbf\">                    </span><span style=\"color: #000080; text-decoration-color: #000080\">INFO    </span> Scraping game schedule for Tuesday, Feb <span style=\"color: #008080; text-decoration-color: #008080; font-weight: bold\">13</span> <span style=\"color: #008080; text-decoration-color: #008080; font-weight: bold\">2024</span>                       <a href=\"file:///Users/okariuk/Shakhtar-Donetsk/.venv/lib/python3.11/site-packages/soccerdata/whoscored.py\" target=\"_blank\"><span style=\"color: #7f7f7f; text-decoration-color: #7f7f7f\">whoscored.py</span></a><span style=\"color: #7f7f7f; text-decoration-color: #7f7f7f\">:</span><a href=\"file:///Users/okariuk/Shakhtar-Donetsk/.venv/lib/python3.11/site-packages/soccerdata/whoscored.py#327\" target=\"_blank\"><span style=\"color: #7f7f7f; text-decoration-color: #7f7f7f\">327</span></a>\n",
       "</pre>\n"
      ],
      "text/plain": [
       "\u001b[2;36m                   \u001b[0m\u001b[2;36m \u001b[0m\u001b[34mINFO    \u001b[0m Scraping game schedule for Tuesday, Feb \u001b[1;36m13\u001b[0m \u001b[1;36m2024\u001b[0m                       \u001b]8;id=851276;file:///Users/okariuk/Shakhtar-Donetsk/.venv/lib/python3.11/site-packages/soccerdata/whoscored.py\u001b\\\u001b[2mwhoscored.py\u001b[0m\u001b]8;;\u001b\\\u001b[2m:\u001b[0m\u001b]8;id=275116;file:///Users/okariuk/Shakhtar-Donetsk/.venv/lib/python3.11/site-packages/soccerdata/whoscored.py#327\u001b\\\u001b[2m327\u001b[0m\u001b]8;;\u001b\\\n"
      ]
     },
     "metadata": {},
     "output_type": "display_data"
    },
    {
     "data": {
      "text/html": [
       "<pre style=\"white-space:pre;overflow-x:auto;line-height:normal;font-family:Menlo,'DejaVu Sans Mono',consolas,'Courier New',monospace\"><span style=\"color: #7fbfbf; text-decoration-color: #7fbfbf\">                    </span><span style=\"color: #000080; text-decoration-color: #000080\">INFO    </span> Scraping game schedule for Wednesday, Feb <span style=\"color: #008080; text-decoration-color: #008080; font-weight: bold\">14</span> <span style=\"color: #008080; text-decoration-color: #008080; font-weight: bold\">2024</span>                     <a href=\"file:///Users/okariuk/Shakhtar-Donetsk/.venv/lib/python3.11/site-packages/soccerdata/whoscored.py\" target=\"_blank\"><span style=\"color: #7f7f7f; text-decoration-color: #7f7f7f\">whoscored.py</span></a><span style=\"color: #7f7f7f; text-decoration-color: #7f7f7f\">:</span><a href=\"file:///Users/okariuk/Shakhtar-Donetsk/.venv/lib/python3.11/site-packages/soccerdata/whoscored.py#327\" target=\"_blank\"><span style=\"color: #7f7f7f; text-decoration-color: #7f7f7f\">327</span></a>\n",
       "</pre>\n"
      ],
      "text/plain": [
       "\u001b[2;36m                   \u001b[0m\u001b[2;36m \u001b[0m\u001b[34mINFO    \u001b[0m Scraping game schedule for Wednesday, Feb \u001b[1;36m14\u001b[0m \u001b[1;36m2024\u001b[0m                     \u001b]8;id=793419;file:///Users/okariuk/Shakhtar-Donetsk/.venv/lib/python3.11/site-packages/soccerdata/whoscored.py\u001b\\\u001b[2mwhoscored.py\u001b[0m\u001b]8;;\u001b\\\u001b[2m:\u001b[0m\u001b]8;id=892913;file:///Users/okariuk/Shakhtar-Donetsk/.venv/lib/python3.11/site-packages/soccerdata/whoscored.py#327\u001b\\\u001b[2m327\u001b[0m\u001b]8;;\u001b\\\n"
      ]
     },
     "metadata": {},
     "output_type": "display_data"
    },
    {
     "data": {
      "text/html": [
       "<pre style=\"white-space:pre;overflow-x:auto;line-height:normal;font-family:Menlo,'DejaVu Sans Mono',consolas,'Courier New',monospace\"><span style=\"color: #7fbfbf; text-decoration-color: #7fbfbf\">                    </span><span style=\"color: #000080; text-decoration-color: #000080\">INFO    </span> Scraping game schedule for Tuesday, Feb <span style=\"color: #008080; text-decoration-color: #008080; font-weight: bold\">20</span> <span style=\"color: #008080; text-decoration-color: #008080; font-weight: bold\">2024</span>                       <a href=\"file:///Users/okariuk/Shakhtar-Donetsk/.venv/lib/python3.11/site-packages/soccerdata/whoscored.py\" target=\"_blank\"><span style=\"color: #7f7f7f; text-decoration-color: #7f7f7f\">whoscored.py</span></a><span style=\"color: #7f7f7f; text-decoration-color: #7f7f7f\">:</span><a href=\"file:///Users/okariuk/Shakhtar-Donetsk/.venv/lib/python3.11/site-packages/soccerdata/whoscored.py#327\" target=\"_blank\"><span style=\"color: #7f7f7f; text-decoration-color: #7f7f7f\">327</span></a>\n",
       "</pre>\n"
      ],
      "text/plain": [
       "\u001b[2;36m                   \u001b[0m\u001b[2;36m \u001b[0m\u001b[34mINFO    \u001b[0m Scraping game schedule for Tuesday, Feb \u001b[1;36m20\u001b[0m \u001b[1;36m2024\u001b[0m                       \u001b]8;id=842790;file:///Users/okariuk/Shakhtar-Donetsk/.venv/lib/python3.11/site-packages/soccerdata/whoscored.py\u001b\\\u001b[2mwhoscored.py\u001b[0m\u001b]8;;\u001b\\\u001b[2m:\u001b[0m\u001b]8;id=642456;file:///Users/okariuk/Shakhtar-Donetsk/.venv/lib/python3.11/site-packages/soccerdata/whoscored.py#327\u001b\\\u001b[2m327\u001b[0m\u001b]8;;\u001b\\\n"
      ]
     },
     "metadata": {},
     "output_type": "display_data"
    },
    {
     "data": {
      "text/html": [
       "<pre style=\"white-space:pre;overflow-x:auto;line-height:normal;font-family:Menlo,'DejaVu Sans Mono',consolas,'Courier New',monospace\"><span style=\"color: #7fbfbf; text-decoration-color: #7fbfbf\">                    </span><span style=\"color: #000080; text-decoration-color: #000080\">INFO    </span> Scraping game schedule for Wednesday, Feb <span style=\"color: #008080; text-decoration-color: #008080; font-weight: bold\">21</span> <span style=\"color: #008080; text-decoration-color: #008080; font-weight: bold\">2024</span>                     <a href=\"file:///Users/okariuk/Shakhtar-Donetsk/.venv/lib/python3.11/site-packages/soccerdata/whoscored.py\" target=\"_blank\"><span style=\"color: #7f7f7f; text-decoration-color: #7f7f7f\">whoscored.py</span></a><span style=\"color: #7f7f7f; text-decoration-color: #7f7f7f\">:</span><a href=\"file:///Users/okariuk/Shakhtar-Donetsk/.venv/lib/python3.11/site-packages/soccerdata/whoscored.py#327\" target=\"_blank\"><span style=\"color: #7f7f7f; text-decoration-color: #7f7f7f\">327</span></a>\n",
       "</pre>\n"
      ],
      "text/plain": [
       "\u001b[2;36m                   \u001b[0m\u001b[2;36m \u001b[0m\u001b[34mINFO    \u001b[0m Scraping game schedule for Wednesday, Feb \u001b[1;36m21\u001b[0m \u001b[1;36m2024\u001b[0m                     \u001b]8;id=386068;file:///Users/okariuk/Shakhtar-Donetsk/.venv/lib/python3.11/site-packages/soccerdata/whoscored.py\u001b\\\u001b[2mwhoscored.py\u001b[0m\u001b]8;;\u001b\\\u001b[2m:\u001b[0m\u001b]8;id=263220;file:///Users/okariuk/Shakhtar-Donetsk/.venv/lib/python3.11/site-packages/soccerdata/whoscored.py#327\u001b\\\u001b[2m327\u001b[0m\u001b]8;;\u001b\\\n"
      ]
     },
     "metadata": {},
     "output_type": "display_data"
    },
    {
     "data": {
      "text/html": [
       "<pre style=\"white-space:pre;overflow-x:auto;line-height:normal;font-family:Menlo,'DejaVu Sans Mono',consolas,'Courier New',monospace\"><span style=\"color: #7fbfbf; text-decoration-color: #7fbfbf\">                    </span><span style=\"color: #000080; text-decoration-color: #000080\">INFO    </span> Scraping game schedule for Tuesday, Mar <span style=\"color: #008080; text-decoration-color: #008080; font-weight: bold\">5</span> <span style=\"color: #008080; text-decoration-color: #008080; font-weight: bold\">2024</span>                        <a href=\"file:///Users/okariuk/Shakhtar-Donetsk/.venv/lib/python3.11/site-packages/soccerdata/whoscored.py\" target=\"_blank\"><span style=\"color: #7f7f7f; text-decoration-color: #7f7f7f\">whoscored.py</span></a><span style=\"color: #7f7f7f; text-decoration-color: #7f7f7f\">:</span><a href=\"file:///Users/okariuk/Shakhtar-Donetsk/.venv/lib/python3.11/site-packages/soccerdata/whoscored.py#327\" target=\"_blank\"><span style=\"color: #7f7f7f; text-decoration-color: #7f7f7f\">327</span></a>\n",
       "</pre>\n"
      ],
      "text/plain": [
       "\u001b[2;36m                   \u001b[0m\u001b[2;36m \u001b[0m\u001b[34mINFO    \u001b[0m Scraping game schedule for Tuesday, Mar \u001b[1;36m5\u001b[0m \u001b[1;36m2024\u001b[0m                        \u001b]8;id=240758;file:///Users/okariuk/Shakhtar-Donetsk/.venv/lib/python3.11/site-packages/soccerdata/whoscored.py\u001b\\\u001b[2mwhoscored.py\u001b[0m\u001b]8;;\u001b\\\u001b[2m:\u001b[0m\u001b]8;id=187702;file:///Users/okariuk/Shakhtar-Donetsk/.venv/lib/python3.11/site-packages/soccerdata/whoscored.py#327\u001b\\\u001b[2m327\u001b[0m\u001b]8;;\u001b\\\n"
      ]
     },
     "metadata": {},
     "output_type": "display_data"
    },
    {
     "data": {
      "text/html": [
       "<pre style=\"white-space:pre;overflow-x:auto;line-height:normal;font-family:Menlo,'DejaVu Sans Mono',consolas,'Courier New',monospace\"><span style=\"color: #7fbfbf; text-decoration-color: #7fbfbf\">                    </span><span style=\"color: #000080; text-decoration-color: #000080\">INFO    </span> Scraping game schedule for Wednesday, Mar <span style=\"color: #008080; text-decoration-color: #008080; font-weight: bold\">6</span> <span style=\"color: #008080; text-decoration-color: #008080; font-weight: bold\">2024</span>                      <a href=\"file:///Users/okariuk/Shakhtar-Donetsk/.venv/lib/python3.11/site-packages/soccerdata/whoscored.py\" target=\"_blank\"><span style=\"color: #7f7f7f; text-decoration-color: #7f7f7f\">whoscored.py</span></a><span style=\"color: #7f7f7f; text-decoration-color: #7f7f7f\">:</span><a href=\"file:///Users/okariuk/Shakhtar-Donetsk/.venv/lib/python3.11/site-packages/soccerdata/whoscored.py#327\" target=\"_blank\"><span style=\"color: #7f7f7f; text-decoration-color: #7f7f7f\">327</span></a>\n",
       "</pre>\n"
      ],
      "text/plain": [
       "\u001b[2;36m                   \u001b[0m\u001b[2;36m \u001b[0m\u001b[34mINFO    \u001b[0m Scraping game schedule for Wednesday, Mar \u001b[1;36m6\u001b[0m \u001b[1;36m2024\u001b[0m                      \u001b]8;id=739237;file:///Users/okariuk/Shakhtar-Donetsk/.venv/lib/python3.11/site-packages/soccerdata/whoscored.py\u001b\\\u001b[2mwhoscored.py\u001b[0m\u001b]8;;\u001b\\\u001b[2m:\u001b[0m\u001b]8;id=567325;file:///Users/okariuk/Shakhtar-Donetsk/.venv/lib/python3.11/site-packages/soccerdata/whoscored.py#327\u001b\\\u001b[2m327\u001b[0m\u001b]8;;\u001b\\\n"
      ]
     },
     "metadata": {},
     "output_type": "display_data"
    },
    {
     "data": {
      "text/html": [
       "<pre style=\"white-space:pre;overflow-x:auto;line-height:normal;font-family:Menlo,'DejaVu Sans Mono',consolas,'Courier New',monospace\"><span style=\"color: #7fbfbf; text-decoration-color: #7fbfbf\">                    </span><span style=\"color: #000080; text-decoration-color: #000080\">INFO    </span> Scraping game schedule for Tuesday, Mar <span style=\"color: #008080; text-decoration-color: #008080; font-weight: bold\">12</span> <span style=\"color: #008080; text-decoration-color: #008080; font-weight: bold\">2024</span>                       <a href=\"file:///Users/okariuk/Shakhtar-Donetsk/.venv/lib/python3.11/site-packages/soccerdata/whoscored.py\" target=\"_blank\"><span style=\"color: #7f7f7f; text-decoration-color: #7f7f7f\">whoscored.py</span></a><span style=\"color: #7f7f7f; text-decoration-color: #7f7f7f\">:</span><a href=\"file:///Users/okariuk/Shakhtar-Donetsk/.venv/lib/python3.11/site-packages/soccerdata/whoscored.py#327\" target=\"_blank\"><span style=\"color: #7f7f7f; text-decoration-color: #7f7f7f\">327</span></a>\n",
       "</pre>\n"
      ],
      "text/plain": [
       "\u001b[2;36m                   \u001b[0m\u001b[2;36m \u001b[0m\u001b[34mINFO    \u001b[0m Scraping game schedule for Tuesday, Mar \u001b[1;36m12\u001b[0m \u001b[1;36m2024\u001b[0m                       \u001b]8;id=564690;file:///Users/okariuk/Shakhtar-Donetsk/.venv/lib/python3.11/site-packages/soccerdata/whoscored.py\u001b\\\u001b[2mwhoscored.py\u001b[0m\u001b]8;;\u001b\\\u001b[2m:\u001b[0m\u001b]8;id=225385;file:///Users/okariuk/Shakhtar-Donetsk/.venv/lib/python3.11/site-packages/soccerdata/whoscored.py#327\u001b\\\u001b[2m327\u001b[0m\u001b]8;;\u001b\\\n"
      ]
     },
     "metadata": {},
     "output_type": "display_data"
    },
    {
     "data": {
      "text/html": [
       "<pre style=\"white-space:pre;overflow-x:auto;line-height:normal;font-family:Menlo,'DejaVu Sans Mono',consolas,'Courier New',monospace\"><span style=\"color: #7fbfbf; text-decoration-color: #7fbfbf\">                    </span><span style=\"color: #000080; text-decoration-color: #000080\">INFO    </span> Scraping game schedule for Wednesday, Mar <span style=\"color: #008080; text-decoration-color: #008080; font-weight: bold\">13</span> <span style=\"color: #008080; text-decoration-color: #008080; font-weight: bold\">2024</span>                     <a href=\"file:///Users/okariuk/Shakhtar-Donetsk/.venv/lib/python3.11/site-packages/soccerdata/whoscored.py\" target=\"_blank\"><span style=\"color: #7f7f7f; text-decoration-color: #7f7f7f\">whoscored.py</span></a><span style=\"color: #7f7f7f; text-decoration-color: #7f7f7f\">:</span><a href=\"file:///Users/okariuk/Shakhtar-Donetsk/.venv/lib/python3.11/site-packages/soccerdata/whoscored.py#327\" target=\"_blank\"><span style=\"color: #7f7f7f; text-decoration-color: #7f7f7f\">327</span></a>\n",
       "</pre>\n"
      ],
      "text/plain": [
       "\u001b[2;36m                   \u001b[0m\u001b[2;36m \u001b[0m\u001b[34mINFO    \u001b[0m Scraping game schedule for Wednesday, Mar \u001b[1;36m13\u001b[0m \u001b[1;36m2024\u001b[0m                     \u001b]8;id=61678;file:///Users/okariuk/Shakhtar-Donetsk/.venv/lib/python3.11/site-packages/soccerdata/whoscored.py\u001b\\\u001b[2mwhoscored.py\u001b[0m\u001b]8;;\u001b\\\u001b[2m:\u001b[0m\u001b]8;id=566542;file:///Users/okariuk/Shakhtar-Donetsk/.venv/lib/python3.11/site-packages/soccerdata/whoscored.py#327\u001b\\\u001b[2m327\u001b[0m\u001b]8;;\u001b\\\n"
      ]
     },
     "metadata": {},
     "output_type": "display_data"
    },
    {
     "data": {
      "text/html": [
       "<pre style=\"white-space:pre;overflow-x:auto;line-height:normal;font-family:Menlo,'DejaVu Sans Mono',consolas,'Courier New',monospace\"><span style=\"color: #7fbfbf; text-decoration-color: #7fbfbf\">[01/26/24 16:08:51] </span><span style=\"color: #000080; text-decoration-color: #000080\">INFO    </span> <span style=\"font-weight: bold\">[</span><span style=\"color: #008080; text-decoration-color: #008080; font-weight: bold\">1</span>/<span style=\"color: #008080; text-decoration-color: #008080; font-weight: bold\">1</span><span style=\"font-weight: bold\">]</span> Retrieving game with <span style=\"color: #808000; text-decoration-color: #808000\">id</span>=<span style=\"color: #008080; text-decoration-color: #008080; font-weight: bold\">1775622</span>                                 <a href=\"file:///Users/okariuk/Shakhtar-Donetsk/.venv/lib/python3.11/site-packages/soccerdata/whoscored.py\" target=\"_blank\"><span style=\"color: #7f7f7f; text-decoration-color: #7f7f7f\">whoscored.py</span></a><span style=\"color: #7f7f7f; text-decoration-color: #7f7f7f\">:</span><a href=\"file:///Users/okariuk/Shakhtar-Donetsk/.venv/lib/python3.11/site-packages/soccerdata/whoscored.py#693\" target=\"_blank\"><span style=\"color: #7f7f7f; text-decoration-color: #7f7f7f\">693</span></a>\n",
       "</pre>\n"
      ],
      "text/plain": [
       "\u001b[2;36m[01/26/24 16:08:51]\u001b[0m\u001b[2;36m \u001b[0m\u001b[34mINFO    \u001b[0m \u001b[1m[\u001b[0m\u001b[1;36m1\u001b[0m/\u001b[1;36m1\u001b[0m\u001b[1m]\u001b[0m Retrieving game with \u001b[33mid\u001b[0m=\u001b[1;36m1775622\u001b[0m                                 \u001b]8;id=831081;file:///Users/okariuk/Shakhtar-Donetsk/.venv/lib/python3.11/site-packages/soccerdata/whoscored.py\u001b\\\u001b[2mwhoscored.py\u001b[0m\u001b]8;;\u001b\\\u001b[2m:\u001b[0m\u001b]8;id=794638;file:///Users/okariuk/Shakhtar-Donetsk/.venv/lib/python3.11/site-packages/soccerdata/whoscored.py#693\u001b\\\u001b[2m693\u001b[0m\u001b]8;;\u001b\\\n"
      ]
     },
     "metadata": {},
     "output_type": "display_data"
    }
   ],
   "source": [
    "events = ws.read_events(match_id=[game.game_id])"
   ]
  },
  {
   "cell_type": "code",
   "execution_count": 20,
   "id": "da2efb5a-94b6-4f79-8117-cca240eee3ae",
   "metadata": {},
   "outputs": [
    {
     "data": {
      "text/html": [
       "<div>\n",
       "<style scoped>\n",
       "    .dataframe tbody tr th:only-of-type {\n",
       "        vertical-align: middle;\n",
       "    }\n",
       "\n",
       "    .dataframe tbody tr th {\n",
       "        vertical-align: top;\n",
       "    }\n",
       "\n",
       "    .dataframe thead th {\n",
       "        text-align: right;\n",
       "    }\n",
       "</style>\n",
       "<table border=\"1\" class=\"dataframe\">\n",
       "  <thead>\n",
       "    <tr style=\"text-align: right;\">\n",
       "      <th></th>\n",
       "      <th></th>\n",
       "      <th></th>\n",
       "      <th></th>\n",
       "      <th>game_id</th>\n",
       "      <th>period</th>\n",
       "      <th>minute</th>\n",
       "      <th>second</th>\n",
       "      <th>expanded_minute</th>\n",
       "      <th>type</th>\n",
       "      <th>outcome_type</th>\n",
       "      <th>team_id</th>\n",
       "      <th>team</th>\n",
       "      <th>player_id</th>\n",
       "      <th>...</th>\n",
       "      <th>goal_mouth_z</th>\n",
       "      <th>blocked_x</th>\n",
       "      <th>blocked_y</th>\n",
       "      <th>qualifiers</th>\n",
       "      <th>is_touch</th>\n",
       "      <th>is_shot</th>\n",
       "      <th>is_goal</th>\n",
       "      <th>card_type</th>\n",
       "      <th>related_event_id</th>\n",
       "      <th>related_player_id</th>\n",
       "    </tr>\n",
       "    <tr>\n",
       "      <th>league</th>\n",
       "      <th>season</th>\n",
       "      <th>game</th>\n",
       "      <th>id</th>\n",
       "      <th></th>\n",
       "      <th></th>\n",
       "      <th></th>\n",
       "      <th></th>\n",
       "      <th></th>\n",
       "      <th></th>\n",
       "      <th></th>\n",
       "      <th></th>\n",
       "      <th></th>\n",
       "      <th></th>\n",
       "      <th></th>\n",
       "      <th></th>\n",
       "      <th></th>\n",
       "      <th></th>\n",
       "      <th></th>\n",
       "      <th></th>\n",
       "      <th></th>\n",
       "      <th></th>\n",
       "      <th></th>\n",
       "      <th></th>\n",
       "      <th></th>\n",
       "    </tr>\n",
       "  </thead>\n",
       "  <tbody>\n",
       "    <tr>\n",
       "      <th rowspan=\"11\" valign=\"top\">UEFA Champions League</th>\n",
       "      <th rowspan=\"11\" valign=\"top\">2324</th>\n",
       "      <th rowspan=\"11\" valign=\"top\">2023-10-04 Royal Antwerp-Shakhtar Donetsk</th>\n",
       "      <th>2599781237</th>\n",
       "      <td>1775622</td>\n",
       "      <td>PreMatch</td>\n",
       "      <td>0</td>\n",
       "      <td>0.0</td>\n",
       "      <td>0</td>\n",
       "      <td>FormationSet</td>\n",
       "      <td>Successful</td>\n",
       "      <td>752</td>\n",
       "      <td>Royal Antwerp</td>\n",
       "      <td>NaN</td>\n",
       "      <td>...</td>\n",
       "      <td>NaN</td>\n",
       "      <td>NaN</td>\n",
       "      <td>NaN</td>\n",
       "      <td>[{'type': {'displayName': 'CaptainPlayerId', '...</td>\n",
       "      <td>False</td>\n",
       "      <td>NaN</td>\n",
       "      <td>NaN</td>\n",
       "      <td>NaN</td>\n",
       "      <td>NaN</td>\n",
       "      <td>NaN</td>\n",
       "    </tr>\n",
       "    <tr>\n",
       "      <th>2599781513</th>\n",
       "      <td>1775622</td>\n",
       "      <td>PreMatch</td>\n",
       "      <td>0</td>\n",
       "      <td>0.0</td>\n",
       "      <td>0</td>\n",
       "      <td>FormationSet</td>\n",
       "      <td>Successful</td>\n",
       "      <td>1706</td>\n",
       "      <td>Shakhtar</td>\n",
       "      <td>NaN</td>\n",
       "      <td>...</td>\n",
       "      <td>NaN</td>\n",
       "      <td>NaN</td>\n",
       "      <td>NaN</td>\n",
       "      <td>[{'type': {'displayName': 'CaptainPlayerId', '...</td>\n",
       "      <td>False</td>\n",
       "      <td>NaN</td>\n",
       "      <td>NaN</td>\n",
       "      <td>NaN</td>\n",
       "      <td>NaN</td>\n",
       "      <td>NaN</td>\n",
       "    </tr>\n",
       "    <tr>\n",
       "      <th>2599789197</th>\n",
       "      <td>1775622</td>\n",
       "      <td>FirstHalf</td>\n",
       "      <td>0</td>\n",
       "      <td>0.0</td>\n",
       "      <td>0</td>\n",
       "      <td>Start</td>\n",
       "      <td>Successful</td>\n",
       "      <td>1706</td>\n",
       "      <td>Shakhtar</td>\n",
       "      <td>NaN</td>\n",
       "      <td>...</td>\n",
       "      <td>NaN</td>\n",
       "      <td>NaN</td>\n",
       "      <td>NaN</td>\n",
       "      <td>[]</td>\n",
       "      <td>False</td>\n",
       "      <td>NaN</td>\n",
       "      <td>NaN</td>\n",
       "      <td>NaN</td>\n",
       "      <td>NaN</td>\n",
       "      <td>NaN</td>\n",
       "    </tr>\n",
       "    <tr>\n",
       "      <th>2599789203</th>\n",
       "      <td>1775622</td>\n",
       "      <td>FirstHalf</td>\n",
       "      <td>0</td>\n",
       "      <td>0.0</td>\n",
       "      <td>0</td>\n",
       "      <td>Start</td>\n",
       "      <td>Successful</td>\n",
       "      <td>752</td>\n",
       "      <td>Royal Antwerp</td>\n",
       "      <td>NaN</td>\n",
       "      <td>...</td>\n",
       "      <td>NaN</td>\n",
       "      <td>NaN</td>\n",
       "      <td>NaN</td>\n",
       "      <td>[]</td>\n",
       "      <td>False</td>\n",
       "      <td>NaN</td>\n",
       "      <td>NaN</td>\n",
       "      <td>NaN</td>\n",
       "      <td>NaN</td>\n",
       "      <td>NaN</td>\n",
       "    </tr>\n",
       "    <tr>\n",
       "      <th>2599789211</th>\n",
       "      <td>1775622</td>\n",
       "      <td>FirstHalf</td>\n",
       "      <td>0</td>\n",
       "      <td>0.0</td>\n",
       "      <td>0</td>\n",
       "      <td>Pass</td>\n",
       "      <td>Successful</td>\n",
       "      <td>1706</td>\n",
       "      <td>Shakhtar</td>\n",
       "      <td>387416.0</td>\n",
       "      <td>...</td>\n",
       "      <td>NaN</td>\n",
       "      <td>NaN</td>\n",
       "      <td>NaN</td>\n",
       "      <td>[{'type': {'displayName': 'StandingSave', 'val...</td>\n",
       "      <td>True</td>\n",
       "      <td>NaN</td>\n",
       "      <td>NaN</td>\n",
       "      <td>NaN</td>\n",
       "      <td>NaN</td>\n",
       "      <td>NaN</td>\n",
       "    </tr>\n",
       "    <tr>\n",
       "      <th>...</th>\n",
       "      <td>...</td>\n",
       "      <td>...</td>\n",
       "      <td>...</td>\n",
       "      <td>...</td>\n",
       "      <td>...</td>\n",
       "      <td>...</td>\n",
       "      <td>...</td>\n",
       "      <td>...</td>\n",
       "      <td>...</td>\n",
       "      <td>...</td>\n",
       "      <td>...</td>\n",
       "      <td>...</td>\n",
       "      <td>...</td>\n",
       "      <td>...</td>\n",
       "      <td>...</td>\n",
       "      <td>...</td>\n",
       "      <td>...</td>\n",
       "      <td>...</td>\n",
       "      <td>...</td>\n",
       "      <td>...</td>\n",
       "      <td>...</td>\n",
       "    </tr>\n",
       "    <tr>\n",
       "      <th>2599940731</th>\n",
       "      <td>1775622</td>\n",
       "      <td>FirstHalf</td>\n",
       "      <td>34</td>\n",
       "      <td>50.0</td>\n",
       "      <td>34</td>\n",
       "      <td>TakeOn</td>\n",
       "      <td>Unsuccessful</td>\n",
       "      <td>752</td>\n",
       "      <td>Royal Antwerp</td>\n",
       "      <td>401117.0</td>\n",
       "      <td>...</td>\n",
       "      <td>NaN</td>\n",
       "      <td>NaN</td>\n",
       "      <td>NaN</td>\n",
       "      <td>[{'type': {'displayName': 'Offensive', 'value'...</td>\n",
       "      <td>True</td>\n",
       "      <td>NaN</td>\n",
       "      <td>NaN</td>\n",
       "      <td>NaN</td>\n",
       "      <td>NaN</td>\n",
       "      <td>NaN</td>\n",
       "    </tr>\n",
       "    <tr>\n",
       "      <th>2599960275</th>\n",
       "      <td>1775622</td>\n",
       "      <td>SecondHalf</td>\n",
       "      <td>47</td>\n",
       "      <td>53.0</td>\n",
       "      <td>49</td>\n",
       "      <td>Error</td>\n",
       "      <td>Successful</td>\n",
       "      <td>752</td>\n",
       "      <td>Royal Antwerp</td>\n",
       "      <td>256536.0</td>\n",
       "      <td>...</td>\n",
       "      <td>NaN</td>\n",
       "      <td>NaN</td>\n",
       "      <td>NaN</td>\n",
       "      <td>[{'type': {'displayName': 'LeadingToGoal', 'va...</td>\n",
       "      <td>False</td>\n",
       "      <td>NaN</td>\n",
       "      <td>NaN</td>\n",
       "      <td>NaN</td>\n",
       "      <td>NaN</td>\n",
       "      <td>NaN</td>\n",
       "    </tr>\n",
       "    <tr>\n",
       "      <th>2599965295</th>\n",
       "      <td>1775622</td>\n",
       "      <td>SecondHalf</td>\n",
       "      <td>54</td>\n",
       "      <td>17.0</td>\n",
       "      <td>56</td>\n",
       "      <td>Dispossessed</td>\n",
       "      <td>Successful</td>\n",
       "      <td>1706</td>\n",
       "      <td>Shakhtar</td>\n",
       "      <td>399829.0</td>\n",
       "      <td>...</td>\n",
       "      <td>NaN</td>\n",
       "      <td>NaN</td>\n",
       "      <td>NaN</td>\n",
       "      <td>[{'type': {'displayName': 'Offensive', 'value'...</td>\n",
       "      <td>True</td>\n",
       "      <td>NaN</td>\n",
       "      <td>NaN</td>\n",
       "      <td>NaN</td>\n",
       "      <td>NaN</td>\n",
       "      <td>NaN</td>\n",
       "    </tr>\n",
       "    <tr>\n",
       "      <th>2600004431</th>\n",
       "      <td>1775622</td>\n",
       "      <td>SecondHalf</td>\n",
       "      <td>65</td>\n",
       "      <td>14.0</td>\n",
       "      <td>67</td>\n",
       "      <td>TakeOn</td>\n",
       "      <td>Unsuccessful</td>\n",
       "      <td>752</td>\n",
       "      <td>Royal Antwerp</td>\n",
       "      <td>445430.0</td>\n",
       "      <td>...</td>\n",
       "      <td>NaN</td>\n",
       "      <td>NaN</td>\n",
       "      <td>NaN</td>\n",
       "      <td>[{'type': {'displayName': 'StandingSave', 'val...</td>\n",
       "      <td>True</td>\n",
       "      <td>NaN</td>\n",
       "      <td>NaN</td>\n",
       "      <td>NaN</td>\n",
       "      <td>NaN</td>\n",
       "      <td>NaN</td>\n",
       "    </tr>\n",
       "    <tr>\n",
       "      <th>2600032183</th>\n",
       "      <td>1775622</td>\n",
       "      <td>SecondHalf</td>\n",
       "      <td>91</td>\n",
       "      <td>46.0</td>\n",
       "      <td>93</td>\n",
       "      <td>ShieldBallOpp</td>\n",
       "      <td>Successful</td>\n",
       "      <td>752</td>\n",
       "      <td>Royal Antwerp</td>\n",
       "      <td>401117.0</td>\n",
       "      <td>...</td>\n",
       "      <td>NaN</td>\n",
       "      <td>NaN</td>\n",
       "      <td>NaN</td>\n",
       "      <td>[{'type': {'displayName': 'Zone', 'value': 56}...</td>\n",
       "      <td>False</td>\n",
       "      <td>NaN</td>\n",
       "      <td>NaN</td>\n",
       "      <td>NaN</td>\n",
       "      <td>NaN</td>\n",
       "      <td>NaN</td>\n",
       "    </tr>\n",
       "  </tbody>\n",
       "</table>\n",
       "<p>1563 rows × 26 columns</p>\n",
       "</div>"
      ],
      "text/plain": [
       "                                                                                   game_id  \\\n",
       "league                season game                                      id                    \n",
       "UEFA Champions League 2324   2023-10-04 Royal Antwerp-Shakhtar Donetsk 2599781237  1775622   \n",
       "                                                                       2599781513  1775622   \n",
       "                                                                       2599789197  1775622   \n",
       "                                                                       2599789203  1775622   \n",
       "                                                                       2599789211  1775622   \n",
       "...                                                                                    ...   \n",
       "                                                                       2599940731  1775622   \n",
       "                                                                       2599960275  1775622   \n",
       "                                                                       2599965295  1775622   \n",
       "                                                                       2600004431  1775622   \n",
       "                                                                       2600032183  1775622   \n",
       "\n",
       "                                                                                       period  \\\n",
       "league                season game                                      id                       \n",
       "UEFA Champions League 2324   2023-10-04 Royal Antwerp-Shakhtar Donetsk 2599781237    PreMatch   \n",
       "                                                                       2599781513    PreMatch   \n",
       "                                                                       2599789197   FirstHalf   \n",
       "                                                                       2599789203   FirstHalf   \n",
       "                                                                       2599789211   FirstHalf   \n",
       "...                                                                                       ...   \n",
       "                                                                       2599940731   FirstHalf   \n",
       "                                                                       2599960275  SecondHalf   \n",
       "                                                                       2599965295  SecondHalf   \n",
       "                                                                       2600004431  SecondHalf   \n",
       "                                                                       2600032183  SecondHalf   \n",
       "\n",
       "                                                                                   minute  \\\n",
       "league                season game                                      id                   \n",
       "UEFA Champions League 2324   2023-10-04 Royal Antwerp-Shakhtar Donetsk 2599781237       0   \n",
       "                                                                       2599781513       0   \n",
       "                                                                       2599789197       0   \n",
       "                                                                       2599789203       0   \n",
       "                                                                       2599789211       0   \n",
       "...                                                                                   ...   \n",
       "                                                                       2599940731      34   \n",
       "                                                                       2599960275      47   \n",
       "                                                                       2599965295      54   \n",
       "                                                                       2600004431      65   \n",
       "                                                                       2600032183      91   \n",
       "\n",
       "                                                                                   second  \\\n",
       "league                season game                                      id                   \n",
       "UEFA Champions League 2324   2023-10-04 Royal Antwerp-Shakhtar Donetsk 2599781237     0.0   \n",
       "                                                                       2599781513     0.0   \n",
       "                                                                       2599789197     0.0   \n",
       "                                                                       2599789203     0.0   \n",
       "                                                                       2599789211     0.0   \n",
       "...                                                                                   ...   \n",
       "                                                                       2599940731    50.0   \n",
       "                                                                       2599960275    53.0   \n",
       "                                                                       2599965295    17.0   \n",
       "                                                                       2600004431    14.0   \n",
       "                                                                       2600032183    46.0   \n",
       "\n",
       "                                                                                   expanded_minute  \\\n",
       "league                season game                                      id                            \n",
       "UEFA Champions League 2324   2023-10-04 Royal Antwerp-Shakhtar Donetsk 2599781237                0   \n",
       "                                                                       2599781513                0   \n",
       "                                                                       2599789197                0   \n",
       "                                                                       2599789203                0   \n",
       "                                                                       2599789211                0   \n",
       "...                                                                                            ...   \n",
       "                                                                       2599940731               34   \n",
       "                                                                       2599960275               49   \n",
       "                                                                       2599965295               56   \n",
       "                                                                       2600004431               67   \n",
       "                                                                       2600032183               93   \n",
       "\n",
       "                                                                                            type  \\\n",
       "league                season game                                      id                          \n",
       "UEFA Champions League 2324   2023-10-04 Royal Antwerp-Shakhtar Donetsk 2599781237   FormationSet   \n",
       "                                                                       2599781513   FormationSet   \n",
       "                                                                       2599789197          Start   \n",
       "                                                                       2599789203          Start   \n",
       "                                                                       2599789211           Pass   \n",
       "...                                                                                          ...   \n",
       "                                                                       2599940731         TakeOn   \n",
       "                                                                       2599960275          Error   \n",
       "                                                                       2599965295   Dispossessed   \n",
       "                                                                       2600004431         TakeOn   \n",
       "                                                                       2600032183  ShieldBallOpp   \n",
       "\n",
       "                                                                                   outcome_type  \\\n",
       "league                season game                                      id                         \n",
       "UEFA Champions League 2324   2023-10-04 Royal Antwerp-Shakhtar Donetsk 2599781237    Successful   \n",
       "                                                                       2599781513    Successful   \n",
       "                                                                       2599789197    Successful   \n",
       "                                                                       2599789203    Successful   \n",
       "                                                                       2599789211    Successful   \n",
       "...                                                                                         ...   \n",
       "                                                                       2599940731  Unsuccessful   \n",
       "                                                                       2599960275    Successful   \n",
       "                                                                       2599965295    Successful   \n",
       "                                                                       2600004431  Unsuccessful   \n",
       "                                                                       2600032183    Successful   \n",
       "\n",
       "                                                                                   team_id  \\\n",
       "league                season game                                      id                    \n",
       "UEFA Champions League 2324   2023-10-04 Royal Antwerp-Shakhtar Donetsk 2599781237      752   \n",
       "                                                                       2599781513     1706   \n",
       "                                                                       2599789197     1706   \n",
       "                                                                       2599789203      752   \n",
       "                                                                       2599789211     1706   \n",
       "...                                                                                    ...   \n",
       "                                                                       2599940731      752   \n",
       "                                                                       2599960275      752   \n",
       "                                                                       2599965295     1706   \n",
       "                                                                       2600004431      752   \n",
       "                                                                       2600032183      752   \n",
       "\n",
       "                                                                                            team  \\\n",
       "league                season game                                      id                          \n",
       "UEFA Champions League 2324   2023-10-04 Royal Antwerp-Shakhtar Donetsk 2599781237  Royal Antwerp   \n",
       "                                                                       2599781513       Shakhtar   \n",
       "                                                                       2599789197       Shakhtar   \n",
       "                                                                       2599789203  Royal Antwerp   \n",
       "                                                                       2599789211       Shakhtar   \n",
       "...                                                                                          ...   \n",
       "                                                                       2599940731  Royal Antwerp   \n",
       "                                                                       2599960275  Royal Antwerp   \n",
       "                                                                       2599965295       Shakhtar   \n",
       "                                                                       2600004431  Royal Antwerp   \n",
       "                                                                       2600032183  Royal Antwerp   \n",
       "\n",
       "                                                                                   player_id  \\\n",
       "league                season game                                      id                      \n",
       "UEFA Champions League 2324   2023-10-04 Royal Antwerp-Shakhtar Donetsk 2599781237        NaN   \n",
       "                                                                       2599781513        NaN   \n",
       "                                                                       2599789197        NaN   \n",
       "                                                                       2599789203        NaN   \n",
       "                                                                       2599789211   387416.0   \n",
       "...                                                                                      ...   \n",
       "                                                                       2599940731   401117.0   \n",
       "                                                                       2599960275   256536.0   \n",
       "                                                                       2599965295   399829.0   \n",
       "                                                                       2600004431   445430.0   \n",
       "                                                                       2600032183   401117.0   \n",
       "\n",
       "                                                                                   ...  \\\n",
       "league                season game                                      id          ...   \n",
       "UEFA Champions League 2324   2023-10-04 Royal Antwerp-Shakhtar Donetsk 2599781237  ...   \n",
       "                                                                       2599781513  ...   \n",
       "                                                                       2599789197  ...   \n",
       "                                                                       2599789203  ...   \n",
       "                                                                       2599789211  ...   \n",
       "...                                                                                ...   \n",
       "                                                                       2599940731  ...   \n",
       "                                                                       2599960275  ...   \n",
       "                                                                       2599965295  ...   \n",
       "                                                                       2600004431  ...   \n",
       "                                                                       2600032183  ...   \n",
       "\n",
       "                                                                                  goal_mouth_z  \\\n",
       "league                season game                                      id                        \n",
       "UEFA Champions League 2324   2023-10-04 Royal Antwerp-Shakhtar Donetsk 2599781237          NaN   \n",
       "                                                                       2599781513          NaN   \n",
       "                                                                       2599789197          NaN   \n",
       "                                                                       2599789203          NaN   \n",
       "                                                                       2599789211          NaN   \n",
       "...                                                                                        ...   \n",
       "                                                                       2599940731          NaN   \n",
       "                                                                       2599960275          NaN   \n",
       "                                                                       2599965295          NaN   \n",
       "                                                                       2600004431          NaN   \n",
       "                                                                       2600032183          NaN   \n",
       "\n",
       "                                                                                   blocked_x  \\\n",
       "league                season game                                      id                      \n",
       "UEFA Champions League 2324   2023-10-04 Royal Antwerp-Shakhtar Donetsk 2599781237        NaN   \n",
       "                                                                       2599781513        NaN   \n",
       "                                                                       2599789197        NaN   \n",
       "                                                                       2599789203        NaN   \n",
       "                                                                       2599789211        NaN   \n",
       "...                                                                                      ...   \n",
       "                                                                       2599940731        NaN   \n",
       "                                                                       2599960275        NaN   \n",
       "                                                                       2599965295        NaN   \n",
       "                                                                       2600004431        NaN   \n",
       "                                                                       2600032183        NaN   \n",
       "\n",
       "                                                                                   blocked_y  \\\n",
       "league                season game                                      id                      \n",
       "UEFA Champions League 2324   2023-10-04 Royal Antwerp-Shakhtar Donetsk 2599781237        NaN   \n",
       "                                                                       2599781513        NaN   \n",
       "                                                                       2599789197        NaN   \n",
       "                                                                       2599789203        NaN   \n",
       "                                                                       2599789211        NaN   \n",
       "...                                                                                      ...   \n",
       "                                                                       2599940731        NaN   \n",
       "                                                                       2599960275        NaN   \n",
       "                                                                       2599965295        NaN   \n",
       "                                                                       2600004431        NaN   \n",
       "                                                                       2600032183        NaN   \n",
       "\n",
       "                                                                                                                          qualifiers  \\\n",
       "league                season game                                      id                                                              \n",
       "UEFA Champions League 2324   2023-10-04 Royal Antwerp-Shakhtar Donetsk 2599781237  [{'type': {'displayName': 'CaptainPlayerId', '...   \n",
       "                                                                       2599781513  [{'type': {'displayName': 'CaptainPlayerId', '...   \n",
       "                                                                       2599789197                                                 []   \n",
       "                                                                       2599789203                                                 []   \n",
       "                                                                       2599789211  [{'type': {'displayName': 'StandingSave', 'val...   \n",
       "...                                                                                                                              ...   \n",
       "                                                                       2599940731  [{'type': {'displayName': 'Offensive', 'value'...   \n",
       "                                                                       2599960275  [{'type': {'displayName': 'LeadingToGoal', 'va...   \n",
       "                                                                       2599965295  [{'type': {'displayName': 'Offensive', 'value'...   \n",
       "                                                                       2600004431  [{'type': {'displayName': 'StandingSave', 'val...   \n",
       "                                                                       2600032183  [{'type': {'displayName': 'Zone', 'value': 56}...   \n",
       "\n",
       "                                                                                   is_touch  \\\n",
       "league                season game                                      id                     \n",
       "UEFA Champions League 2324   2023-10-04 Royal Antwerp-Shakhtar Donetsk 2599781237     False   \n",
       "                                                                       2599781513     False   \n",
       "                                                                       2599789197     False   \n",
       "                                                                       2599789203     False   \n",
       "                                                                       2599789211      True   \n",
       "...                                                                                     ...   \n",
       "                                                                       2599940731      True   \n",
       "                                                                       2599960275     False   \n",
       "                                                                       2599965295      True   \n",
       "                                                                       2600004431      True   \n",
       "                                                                       2600032183     False   \n",
       "\n",
       "                                                                                   is_shot  \\\n",
       "league                season game                                      id                    \n",
       "UEFA Champions League 2324   2023-10-04 Royal Antwerp-Shakhtar Donetsk 2599781237      NaN   \n",
       "                                                                       2599781513      NaN   \n",
       "                                                                       2599789197      NaN   \n",
       "                                                                       2599789203      NaN   \n",
       "                                                                       2599789211      NaN   \n",
       "...                                                                                    ...   \n",
       "                                                                       2599940731      NaN   \n",
       "                                                                       2599960275      NaN   \n",
       "                                                                       2599965295      NaN   \n",
       "                                                                       2600004431      NaN   \n",
       "                                                                       2600032183      NaN   \n",
       "\n",
       "                                                                                   is_goal  \\\n",
       "league                season game                                      id                    \n",
       "UEFA Champions League 2324   2023-10-04 Royal Antwerp-Shakhtar Donetsk 2599781237      NaN   \n",
       "                                                                       2599781513      NaN   \n",
       "                                                                       2599789197      NaN   \n",
       "                                                                       2599789203      NaN   \n",
       "                                                                       2599789211      NaN   \n",
       "...                                                                                    ...   \n",
       "                                                                       2599940731      NaN   \n",
       "                                                                       2599960275      NaN   \n",
       "                                                                       2599965295      NaN   \n",
       "                                                                       2600004431      NaN   \n",
       "                                                                       2600032183      NaN   \n",
       "\n",
       "                                                                                   card_type  \\\n",
       "league                season game                                      id                      \n",
       "UEFA Champions League 2324   2023-10-04 Royal Antwerp-Shakhtar Donetsk 2599781237        NaN   \n",
       "                                                                       2599781513        NaN   \n",
       "                                                                       2599789197        NaN   \n",
       "                                                                       2599789203        NaN   \n",
       "                                                                       2599789211        NaN   \n",
       "...                                                                                      ...   \n",
       "                                                                       2599940731        NaN   \n",
       "                                                                       2599960275        NaN   \n",
       "                                                                       2599965295        NaN   \n",
       "                                                                       2600004431        NaN   \n",
       "                                                                       2600032183        NaN   \n",
       "\n",
       "                                                                                   related_event_id  \\\n",
       "league                season game                                      id                             \n",
       "UEFA Champions League 2324   2023-10-04 Royal Antwerp-Shakhtar Donetsk 2599781237               NaN   \n",
       "                                                                       2599781513               NaN   \n",
       "                                                                       2599789197               NaN   \n",
       "                                                                       2599789203               NaN   \n",
       "                                                                       2599789211               NaN   \n",
       "...                                                                                             ...   \n",
       "                                                                       2599940731               NaN   \n",
       "                                                                       2599960275               NaN   \n",
       "                                                                       2599965295               NaN   \n",
       "                                                                       2600004431               NaN   \n",
       "                                                                       2600032183               NaN   \n",
       "\n",
       "                                                                                  related_player_id  \n",
       "league                season game                                      id                            \n",
       "UEFA Champions League 2324   2023-10-04 Royal Antwerp-Shakhtar Donetsk 2599781237               NaN  \n",
       "                                                                       2599781513               NaN  \n",
       "                                                                       2599789197               NaN  \n",
       "                                                                       2599789203               NaN  \n",
       "                                                                       2599789211               NaN  \n",
       "...                                                                                             ...  \n",
       "                                                                       2599940731               NaN  \n",
       "                                                                       2599960275               NaN  \n",
       "                                                                       2599965295               NaN  \n",
       "                                                                       2600004431               NaN  \n",
       "                                                                       2600032183               NaN  \n",
       "\n",
       "[1563 rows x 26 columns]"
      ]
     },
     "execution_count": 20,
     "metadata": {},
     "output_type": "execute_result"
    }
   ],
   "source": [
    "events"
   ]
  },
  {
   "cell_type": "code",
   "execution_count": 26,
   "id": "4f830c99-fb62-4d3b-a271-9bd317d5faa7",
   "metadata": {},
   "outputs": [],
   "source": [
    "shots = events[events[\"is_shot\"] == True]"
   ]
  },
  {
   "cell_type": "code",
   "execution_count": 30,
   "id": "11d65711-ec96-4b02-b201-60c46f43edde",
   "metadata": {},
   "outputs": [
    {
     "data": {
      "text/plain": [
       "league                 season  game                                       id        \n",
       "UEFA Champions League  2324    2023-10-04 Royal Antwerp-Shakhtar Donetsk  2599789379         Shakhtar\n",
       "                                                                          2599789715    Royal Antwerp\n",
       "                                                                          2599790461    Royal Antwerp\n",
       "                                                                          2599791707    Royal Antwerp\n",
       "                                                                          2599793951    Royal Antwerp\n",
       "                                                                          2599794207         Shakhtar\n",
       "                                                                          2599794231         Shakhtar\n",
       "                                                                          2599794617         Shakhtar\n",
       "                                                                          2599794925         Shakhtar\n",
       "                                                                          2599798229         Shakhtar\n",
       "                                                                          2599798349    Royal Antwerp\n",
       "                                                                          2599809069         Shakhtar\n",
       "                                                                          2599809101         Shakhtar\n",
       "                                                                          2599809119         Shakhtar\n",
       "                                                                          2599810741         Shakhtar\n",
       "                                                                          2599811139         Shakhtar\n",
       "                                                                          2599811323    Royal Antwerp\n",
       "                                                                          2599813807         Shakhtar\n",
       "                                                                          2599814747         Shakhtar\n",
       "                                                                          2599815563    Royal Antwerp\n",
       "                                                                          2599815589    Royal Antwerp\n",
       "                                                                          2599817571         Shakhtar\n",
       "                                                                          2599820343         Shakhtar\n",
       "                                                                          2599820667         Shakhtar\n",
       "                                                                          2599823863    Royal Antwerp\n",
       "                                                                          2599824643    Royal Antwerp\n",
       "                                                                          2599826061    Royal Antwerp\n",
       "                                                                          2599828953    Royal Antwerp\n",
       "                                                                          2599829897    Royal Antwerp\n",
       "Name: team, dtype: object"
      ]
     },
     "execution_count": 30,
     "metadata": {},
     "output_type": "execute_result"
    }
   ],
   "source": [
    "shots.team"
   ]
  },
  {
   "cell_type": "markdown",
   "id": "8b165594-646c-44a9-a479-d5fa26aca2de",
   "metadata": {},
   "source": [
    "# Sofascore"
   ]
  },
  {
   "cell_type": "code",
   "execution_count": 10,
   "id": "0cde6d25-0409-4bc9-bacb-0b3ad8f0ea30",
   "metadata": {},
   "outputs": [],
   "source": [
    "import requests"
   ]
  },
  {
   "cell_type": "code",
   "execution_count": 9,
   "id": "068a1438-3b24-40a7-96d0-bb0f85280084",
   "metadata": {},
   "outputs": [
    {
     "name": "stderr",
     "output_type": "stream",
     "text": [
      "/Users/okariuk/Shakhtar-Donetsk/.venv/lib/python3.11/site-packages/urllib3/connectionpool.py:1099: InsecureRequestWarning: Unverified HTTPS request is being made to host 'api.sofascore.com'. Adding certificate verification is strongly advised. See: https://urllib3.readthedocs.io/en/latest/advanced-usage.html#tls-warnings\n",
      "  warnings.warn(\n",
      "/Users/okariuk/Shakhtar-Donetsk/.venv/lib/python3.11/site-packages/urllib3/connectionpool.py:1099: InsecureRequestWarning: Unverified HTTPS request is being made to host 'api.sofascore.com'. Adding certificate verification is strongly advised. See: https://urllib3.readthedocs.io/en/latest/advanced-usage.html#tls-warnings\n",
      "  warnings.warn(\n"
     ]
    }
   ],
   "source": [
    "game_id = \"11605890\" # 2023-10-04 Antwerp 2:3 Shakhtar https://www.sofascore.com/shakhtar-donetsk-royal-antwerp-fc/Ohbsnqb#id:11605890\n",
    "game_url = \"https://api.sofascore.com/api/v1/event/11605890\"\n",
    "\n",
    "headers = {\n",
    "    \"user-agent\": \"Mozilla/5.0 (Macintosh; Intel Mac OS X 10.15; rv:121.0) Gecko/20100101 Firefox/121.0\"\n",
    "}\n",
    "\n",
    "for endpoint in [\"shotmap\", \"statistics\"]:\n",
    "    with requests.get(f\"{game_url}/{endpoint}\", headers=headers, verify=False, stream=True) as response:\n",
    "        with open(f\"../sofascore/data/{endpoint}.json\", \"w\") as f:\n",
    "            f.write(response.text)"
   ]
  },
  {
   "cell_type": "code",
   "execution_count": null,
   "id": "be58c8ce-47cf-41ab-94fa-c2119cf6b02e",
   "metadata": {},
   "outputs": [],
   "source": []
  }
 ],
 "metadata": {
  "kernelspec": {
   "display_name": "Python 3 (ipykernel)",
   "language": "python",
   "name": "python3"
  },
  "language_info": {
   "codemirror_mode": {
    "name": "ipython",
    "version": 3
   },
   "file_extension": ".py",
   "mimetype": "text/x-python",
   "name": "python",
   "nbconvert_exporter": "python",
   "pygments_lexer": "ipython3",
   "version": "3.11.6"
  }
 },
 "nbformat": 4,
 "nbformat_minor": 5
}
