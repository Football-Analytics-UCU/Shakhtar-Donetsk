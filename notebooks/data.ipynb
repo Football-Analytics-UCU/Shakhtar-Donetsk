{
 "cells": [
  {
   "cell_type": "code",
   "execution_count": 1,
   "id": "46c19615-1640-423b-9d35-b4756345cb33",
   "metadata": {},
   "outputs": [],
   "source": [
    "import os"
   ]
  },
  {
   "cell_type": "markdown",
   "id": "0fdb1a12-b7de-46dc-b1ae-3931ba692159",
   "metadata": {},
   "source": [
    "# [Soccerdata](https://github.com/probberechts/soccerdata)"
   ]
  },
  {
   "cell_type": "code",
   "execution_count": 2,
   "id": "c4b49616-3da5-4999-8445-fed731a4c952",
   "metadata": {},
   "outputs": [],
   "source": [
    "os.environ[\"SOCCERDATA_DIR\"] = \"../soccerdata\""
   ]
  },
  {
   "cell_type": "code",
   "execution_count": 3,
   "id": "043bbdb8",
   "metadata": {},
   "outputs": [
    {
     "data": {
      "text/html": [
       "<pre style=\"white-space:pre;overflow-x:auto;line-height:normal;font-family:Menlo,'DejaVu Sans Mono',consolas,'Courier New',monospace\"><span style=\"color: #7fbfbf; text-decoration-color: #7fbfbf\">[01/04/24 19:09:11] </span><span style=\"color: #000080; text-decoration-color: #000080\">INFO    </span> No custom team name replacements found. You can configure these in       <a href=\"file:///Users/okariuk/Shakhtar-Donetsk/.venv/lib/python3.11/site-packages/soccerdata/_config.py\" target=\"_blank\"><span style=\"color: #7f7f7f; text-decoration-color: #7f7f7f\">_config.py</span></a><span style=\"color: #7f7f7f; text-decoration-color: #7f7f7f\">:</span><a href=\"file:///Users/okariuk/Shakhtar-Donetsk/.venv/lib/python3.11/site-packages/soccerdata/_config.py#87\" target=\"_blank\"><span style=\"color: #7f7f7f; text-decoration-color: #7f7f7f\">87</span></a>\n",
       "<span style=\"color: #7fbfbf; text-decoration-color: #7fbfbf\">                    </span>         ..<span style=\"color: #800080; text-decoration-color: #800080\">/soccerdata/config/</span><span style=\"color: #ff00ff; text-decoration-color: #ff00ff\">teamname_replacements.json.</span>                         <span style=\"color: #7f7f7f; text-decoration-color: #7f7f7f\">             </span>\n",
       "</pre>\n"
      ],
      "text/plain": [
       "\u001b[2;36m[01/04/24 19:09:11]\u001b[0m\u001b[2;36m \u001b[0m\u001b[34mINFO    \u001b[0m No custom team name replacements found. You can configure these in       \u001b]8;id=937562;file:///Users/okariuk/Shakhtar-Donetsk/.venv/lib/python3.11/site-packages/soccerdata/_config.py\u001b\\\u001b[2m_config.py\u001b[0m\u001b]8;;\u001b\\\u001b[2m:\u001b[0m\u001b]8;id=32388;file:///Users/okariuk/Shakhtar-Donetsk/.venv/lib/python3.11/site-packages/soccerdata/_config.py#87\u001b\\\u001b[2m87\u001b[0m\u001b]8;;\u001b\\\n",
       "\u001b[2;36m                    \u001b[0m         ..\u001b[35m/soccerdata/config/\u001b[0m\u001b[95mteamname_replacements.json.\u001b[0m                         \u001b[2m             \u001b[0m\n"
      ]
     },
     "metadata": {},
     "output_type": "display_data"
    },
    {
     "data": {
      "text/html": [
       "<pre style=\"white-space:pre;overflow-x:auto;line-height:normal;font-family:Menlo,'DejaVu Sans Mono',consolas,'Courier New',monospace\"><span style=\"color: #7fbfbf; text-decoration-color: #7fbfbf\">                    </span><span style=\"color: #000080; text-decoration-color: #000080\">INFO    </span> Custom league dict loaded from ..<span style=\"color: #800080; text-decoration-color: #800080\">/soccerdata/config/</span><span style=\"color: #ff00ff; text-decoration-color: #ff00ff\">league_dict.json.</span>   <a href=\"file:///Users/okariuk/Shakhtar-Donetsk/.venv/lib/python3.11/site-packages/soccerdata/_config.py\" target=\"_blank\"><span style=\"color: #7f7f7f; text-decoration-color: #7f7f7f\">_config.py</span></a><span style=\"color: #7f7f7f; text-decoration-color: #7f7f7f\">:</span><a href=\"file:///Users/okariuk/Shakhtar-Donetsk/.venv/lib/python3.11/site-packages/soccerdata/_config.py#163\" target=\"_blank\"><span style=\"color: #7f7f7f; text-decoration-color: #7f7f7f\">163</span></a>\n",
       "</pre>\n"
      ],
      "text/plain": [
       "\u001b[2;36m                   \u001b[0m\u001b[2;36m \u001b[0m\u001b[34mINFO    \u001b[0m Custom league dict loaded from ..\u001b[35m/soccerdata/config/\u001b[0m\u001b[95mleague_dict.json.\u001b[0m   \u001b]8;id=240585;file:///Users/okariuk/Shakhtar-Donetsk/.venv/lib/python3.11/site-packages/soccerdata/_config.py\u001b\\\u001b[2m_config.py\u001b[0m\u001b]8;;\u001b\\\u001b[2m:\u001b[0m\u001b]8;id=933892;file:///Users/okariuk/Shakhtar-Donetsk/.venv/lib/python3.11/site-packages/soccerdata/_config.py#163\u001b\\\u001b[2m163\u001b[0m\u001b]8;;\u001b\\\n"
      ]
     },
     "metadata": {},
     "output_type": "display_data"
    }
   ],
   "source": [
    "import soccerdata as sd"
   ]
  },
  {
   "cell_type": "markdown",
   "id": "8b8104a1-b35c-4b1c-b691-0df71925e253",
   "metadata": {},
   "source": [
    "### [FBref](https://github.com/probberechts/soccerdata/blob/master/soccerdata/fbref.py)"
   ]
  },
  {
   "cell_type": "code",
   "execution_count": 11,
   "id": "bc90986c-1259-424c-90be-18c78a7d50ef",
   "metadata": {},
   "outputs": [
    {
     "data": {
      "text/plain": [
       "['Big 5 European Leagues Combined',\n",
       " 'ENG-Premier League',\n",
       " 'ESP-La Liga',\n",
       " 'FRA-Ligue 1',\n",
       " 'GER-Bundesliga',\n",
       " \"INT-Women's World Cup\",\n",
       " 'INT-World Cup',\n",
       " 'ITA-Serie A',\n",
       " 'UEFA Champions League']"
      ]
     },
     "execution_count": 11,
     "metadata": {},
     "output_type": "execute_result"
    }
   ],
   "source": [
    "sd.FBref.available_leagues()"
   ]
  },
  {
   "cell_type": "markdown",
   "id": "885f964c-3e78-47e9-8216-a1fed8dc51b9",
   "metadata": {},
   "source": [
    "### [ESPN](https://github.com/probberechts/soccerdata/blob/master/soccerdata/espn.py)"
   ]
  },
  {
   "cell_type": "code",
   "execution_count": 10,
   "id": "f25d2481-0f5a-475e-ab31-e16d97240dd1",
   "metadata": {},
   "outputs": [
    {
     "data": {
      "text/plain": [
       "['ENG-Premier League',\n",
       " 'ESP-La Liga',\n",
       " 'FRA-Ligue 1',\n",
       " 'GER-Bundesliga',\n",
       " 'ITA-Serie A',\n",
       " 'UEFA Champions League']"
      ]
     },
     "execution_count": 10,
     "metadata": {},
     "output_type": "execute_result"
    }
   ],
   "source": [
    "sd.ESPN.available_leagues()"
   ]
  },
  {
   "cell_type": "markdown",
   "id": "5a0fc911-158f-4ab9-a6da-640a25c24379",
   "metadata": {},
   "source": [
    "### [FiveThirtyEight](https://github.com/probberechts/soccerdata/blob/master/soccerdata/fivethirtyeight.py)"
   ]
  },
  {
   "cell_type": "code",
   "execution_count": 12,
   "id": "e94ed852-63a5-4d0a-b268-41f33a841859",
   "metadata": {},
   "outputs": [
    {
     "data": {
      "text/plain": [
       "['ENG-Premier League',\n",
       " 'ESP-La Liga',\n",
       " 'FRA-Ligue 1',\n",
       " 'GER-Bundesliga',\n",
       " 'ITA-Serie A',\n",
       " 'UEFA Champions League']"
      ]
     },
     "execution_count": 12,
     "metadata": {},
     "output_type": "execute_result"
    }
   ],
   "source": [
    "sd.FiveThirtyEight.available_leagues()"
   ]
  },
  {
   "cell_type": "markdown",
   "id": "38d49296-0cfb-4062-8153-0198d2cc2075",
   "metadata": {},
   "source": [
    "### [WhoScored](https://github.com/probberechts/soccerdata/blob/master/soccerdata/whoscored.py)"
   ]
  },
  {
   "cell_type": "code",
   "execution_count": 13,
   "id": "0a2699b5-e878-445d-b6c0-5b9491701eae",
   "metadata": {},
   "outputs": [
    {
     "data": {
      "text/plain": [
       "['ENG-Premier League',\n",
       " 'ESP-La Liga',\n",
       " 'FRA-Ligue 1',\n",
       " 'GER-Bundesliga',\n",
       " \"INT-Women's World Cup\",\n",
       " 'INT-World Cup',\n",
       " 'ITA-Serie A',\n",
       " 'UEFA Champions League']"
      ]
     },
     "execution_count": 13,
     "metadata": {},
     "output_type": "execute_result"
    }
   ],
   "source": [
    "sd.WhoScored.available_leagues()"
   ]
  },
  {
   "cell_type": "code",
   "execution_count": null,
   "id": "c2400b03-024a-4814-8af3-b37e345e60da",
   "metadata": {},
   "outputs": [],
   "source": []
  }
 ],
 "metadata": {
  "kernelspec": {
   "display_name": "Python 3 (ipykernel)",
   "language": "python",
   "name": "python3"
  },
  "language_info": {
   "codemirror_mode": {
    "name": "ipython",
    "version": 3
   },
   "file_extension": ".py",
   "mimetype": "text/x-python",
   "name": "python",
   "nbconvert_exporter": "python",
   "pygments_lexer": "ipython3",
   "version": "3.11.6"
  }
 },
 "nbformat": 4,
 "nbformat_minor": 5
}
